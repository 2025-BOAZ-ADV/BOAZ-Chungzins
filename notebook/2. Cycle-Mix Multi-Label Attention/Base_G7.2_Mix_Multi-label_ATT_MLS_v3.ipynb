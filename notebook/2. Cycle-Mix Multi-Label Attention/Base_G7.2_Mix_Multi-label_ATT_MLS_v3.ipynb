{
  "cells": [
    {
      "cell_type": "markdown",
      "id": "ef6b52e2",
      "metadata": {
        "id": "ef6b52e2"
      },
      "source": [
        "#### 환경설정"
      ]
    },
    {
      "cell_type": "markdown",
      "id": "9dc03a42",
      "metadata": {
        "id": "9dc03a42"
      },
      "source": [
        "##### 1. Wandb"
      ]
    },
    {
      "cell_type": "code",
      "execution_count": 1,
      "id": "f04d7d6f",
      "metadata": {
        "colab": {
          "base_uri": "https://localhost:8080/"
        },
        "id": "f04d7d6f",
        "outputId": "3c57e712-a314-411b-d4cf-1a953a648946"
      },
      "outputs": [
        {
          "name": "stderr",
          "output_type": "stream",
          "text": [
            "\u001b[34m\u001b[1mwandb\u001b[0m: \u001b[33mWARNING\u001b[0m If you're specifying your api key in code, ensure this code is not shared publicly.\n",
            "\u001b[34m\u001b[1mwandb\u001b[0m: \u001b[33mWARNING\u001b[0m Consider setting the WANDB_API_KEY environment variable, or running `wandb login` from the command line.\n",
            "\u001b[34m\u001b[1mwandb\u001b[0m: Appending key for api.wandb.ai to your netrc file: /home/HyeonSeok/.netrc\n",
            "\u001b[34m\u001b[1mwandb\u001b[0m: Currently logged in as: \u001b[33mvanillahub12\u001b[0m (\u001b[33mboaz_woony-boaz\u001b[0m) to \u001b[32mhttps://api.wandb.ai\u001b[0m. Use \u001b[1m`wandb login --relogin`\u001b[0m to force relogin\n"
          ]
        },
        {
          "data": {
            "text/plain": [
              "True"
            ]
          },
          "execution_count": 1,
          "metadata": {},
          "output_type": "execute_result"
        }
      ],
      "source": [
        "import wandb\n",
        "\n",
        "# wandb 로그인\n",
        "wandb.login(key=\"2fb604788cd6eed5aafafcc8d13a6aaa7737ac71\")"
      ]
    },
    {
      "cell_type": "markdown",
      "id": "992382bf",
      "metadata": {
        "id": "992382bf"
      },
      "source": [
        "##### 2. 라이브러리 로드"
      ]
    },
    {
      "cell_type": "code",
      "execution_count": 2,
      "id": "5MISAwpScmYt",
      "metadata": {
        "id": "5MISAwpScmYt"
      },
      "outputs": [],
      "source": [
        "import torch\n",
        "\n",
        "device = torch.device(\"cuda\" if torch.cuda.is_available() else \"cpu\")"
      ]
    },
    {
      "cell_type": "code",
      "execution_count": 3,
      "id": "8ebed6c5",
      "metadata": {
        "id": "8ebed6c5"
      },
      "outputs": [],
      "source": [
        "import os\n",
        "import math\n",
        "import random\n",
        "import pickle\n",
        "import wandb\n",
        "from tqdm import tqdm\n",
        "from datetime import datetime\n",
        "from zoneinfo import ZoneInfo\n",
        "\n",
        "import numpy as np\n",
        "import pandas as pd\n",
        "import matplotlib.pyplot as plt\n",
        "import seaborn as sns\n",
        "import librosa\n",
        "import librosa.display\n",
        "\n",
        "import torch\n",
        "import torch.nn as nn\n",
        "import torch.nn.functional as F\n",
        "import torchaudio\n",
        "import torchaudio.transforms as T\n",
        "import torchvision\n",
        "import torchvision.models as models\n",
        "from torch import Tensor\n",
        "from torchsummary import summary\n",
        "from torch.hub import load_state_dict_from_url\n",
        "from torch.utils.data import Dataset, DataLoader, Subset\n",
        "from torch.optim.lr_scheduler import CosineAnnealingLR\n",
        "\n",
        "from sklearn.metrics import confusion_matrix, f1_score\n",
        "from sklearn.manifold import TSNE"
      ]
    },
    {
      "cell_type": "markdown",
      "id": "2d453e5f",
      "metadata": {
        "id": "2d453e5f"
      },
      "source": [
        "##### 3. 경로 설정"
      ]
    },
    {
      "cell_type": "code",
      "execution_count": 4,
      "id": "mSXgKx8GoItj",
      "metadata": {
        "id": "mSXgKx8GoItj"
      },
      "outputs": [],
      "source": [
        "ROOT = \"/home/HyeonSeok/BOAZ-Chungzins/data/raw\"\n",
        "CHECKPOINT_PATH = \"/home/HyeonSeok/BOAZ-Chungzins/save_path/checkpoint\"\n",
        "PICKLE_PATH = \"/home/HyeonSeok/BOAZ-Chungzins/save_path/pickle\"\n",
        "text = \"/home/HyeonSeok/BOAZ-Chungzins/data/metadata/train_test_split.txt\""
      ]
    },
    {
      "cell_type": "markdown",
      "id": "ecaaf5a1",
      "metadata": {
        "id": "ecaaf5a1"
      },
      "source": [
        "##### 4. Seed 설정"
      ]
    },
    {
      "cell_type": "code",
      "execution_count": 5,
      "id": "c9f4e372",
      "metadata": {
        "id": "c9f4e372"
      },
      "outputs": [],
      "source": [
        "def seed_everything(seed: int = 42):\n",
        "    import random, os\n",
        "    import numpy as np\n",
        "    import torch\n",
        "\n",
        "    random.seed(seed)\n",
        "    np.random.seed(seed)\n",
        "    os.environ[\"PYTHONHASHSEED\"] = str(seed)\n",
        "    torch.manual_seed(seed)\n",
        "    torch.cuda.manual_seed(seed)\n",
        "    torch.cuda.manual_seed_all(seed)  # ✅ 모든 GPU에 동일하게\n",
        "    torch.backends.cudnn.deterministic = True\n",
        "    torch.backends.cudnn.benchmark = False\n",
        "\n",
        "    # 추가: DataLoader에 worker_init_fn 활용 (아래 예시 참고)\n"
      ]
    },
    {
      "cell_type": "markdown",
      "id": "nydfgBckyPt3",
      "metadata": {
        "id": "nydfgBckyPt3"
      },
      "source": [
        "## 1. Data Load"
      ]
    },
    {
      "cell_type": "markdown",
      "id": "ce3fdcf1",
      "metadata": {
        "id": "ce3fdcf1"
      },
      "source": [
        "#### 1.1 Data Load"
      ]
    },
    {
      "cell_type": "code",
      "execution_count": 6,
      "id": "OhJa9jivcg1k",
      "metadata": {
        "colab": {
          "base_uri": "https://localhost:8080/"
        },
        "id": "OhJa9jivcg1k",
        "outputId": "a78dee02-13e0-4e6f-cce1-455b6e9da489"
      },
      "outputs": [
        {
          "name": "stdout",
          "output_type": "stream",
          "text": [
            "Train :539, Test: 381, Total: 920\n"
          ]
        }
      ],
      "source": [
        "# WAV 파일이 있는 디렉토리 경로\n",
        "data_dir = ROOT\n",
        "txt_dir = ROOT\n",
        "\n",
        "df = pd.read_csv(text, sep='\\t', header=None)\n",
        "\n",
        "# 컬럼 이름 변경\n",
        "df.columns = ['filename', 'set']\n",
        "\n",
        "# train, test split\n",
        "train_df = df[df['set'] == 'train']\n",
        "test_df = df[df['set'] == 'test']\n",
        "\n",
        "# filename list\n",
        "train_list = sorted(train_df['filename'].tolist())\n",
        "test_list = sorted(test_df['filename'].tolist())\n",
        "\n",
        "print(f'Train :{len(train_list)}, Test: {len(test_list)}, Total: {len(train_list) + len(test_list)}')"
      ]
    },
    {
      "cell_type": "markdown",
      "id": "04291977",
      "metadata": {
        "id": "04291977"
      },
      "source": [
        "#### 1.2 Pretext-Finetune Split"
      ]
    },
    {
      "cell_type": "code",
      "execution_count": 7,
      "id": "ESBIVnKej0G9",
      "metadata": {
        "colab": {
          "base_uri": "https://localhost:8080/"
        },
        "id": "ESBIVnKej0G9",
        "outputId": "849f490c-dd11-4b23-f1da-0fe6482fb71b"
      },
      "outputs": [
        {
          "name": "stdout",
          "output_type": "stream",
          "text": [
            "[Pretrain] 환자 수: 79, 샘플 수: 539\n",
            "[Finetune] 환자 수: 79, 샘플 수: 539\n"
          ]
        }
      ],
      "source": [
        "# shuffle train data\n",
        "df_shuffled = train_df.sample(frac=1, random_state=42)\n",
        "\n",
        "# split ratio\n",
        "train_size = int(len(df_shuffled))\n",
        "\n",
        "# pretrain, finetune split\n",
        "pretrain_df = df_shuffled[:train_size]\n",
        "finetune_df = pretrain_df\n",
        "\n",
        "# filename list (pretext_list -> pretrain list)\n",
        "pretrain_list = sorted(pretrain_df['filename'].tolist())\n",
        "finetune_list = sorted(finetune_df['filename'].tolist())\n",
        "\n",
        "# patient id list\n",
        "pretrain_patient_list = []\n",
        "for filename in pretrain_list:\n",
        "    number = int(filename.split('_')[0])\n",
        "    pretrain_patient_list.append(number)\n",
        "\n",
        "finetune_patient_list = []\n",
        "for filename in finetune_list:\n",
        "    number = int(filename.split('_')[0])\n",
        "    finetune_patient_list.append(number)\n",
        "\n",
        "pretrain_patient_counts = pd.Series(pretrain_patient_list).value_counts()\n",
        "finetune_patient_counts = pd.Series(finetune_patient_list).value_counts()\n",
        "\n",
        "print(f\"[Pretrain] 환자 수: {len(pretrain_patient_counts.index)}, 샘플 수: {pretrain_patient_counts.sum()}\")\n",
        "print(f\"[Finetune] 환자 수: {len(finetune_patient_counts.index)}, 샘플 수: {finetune_patient_counts.sum()}\")"
      ]
    },
    {
      "cell_type": "markdown",
      "id": "oVi6lzuPpSbk",
      "metadata": {
        "id": "oVi6lzuPpSbk"
      },
      "source": [
        "## 2. Data Preprocessing"
      ]
    },
    {
      "cell_type": "markdown",
      "id": "5e8c7719",
      "metadata": {
        "id": "5e8c7719"
      },
      "source": [
        "#### 2.1 Args"
      ]
    },
    {
      "cell_type": "markdown",
      "id": "634b232e",
      "metadata": {
        "id": "634b232e"
      },
      "source": [
        "        K: queue size; number of negative keys (default: 65536)\n",
        "        m: moco momentum of updating key encoder (default: 0.999)\n",
        "        T: softmax temperature (default: 0.07)"
      ]
    },
    {
      "cell_type": "code",
      "execution_count": 8,
      "id": "add5c69b",
      "metadata": {
        "id": "add5c69b"
      },
      "outputs": [],
      "source": [
        "class Args:\n",
        "    # Audio & Spectrogram\n",
        "    target_sr = 16000    # 4KHz\n",
        "    frame_size = 1024\n",
        "    hop_length = 512    # frame_size 절반\n",
        "    n_mels = 64\n",
        "    target_sec = 8\n",
        "\n",
        "    # Augmentation\n",
        "    time_mask_param = 0.5\n",
        "    freq_mask_param = 0.5\n",
        "\n",
        "    # Train\n",
        "    lr = 1e-3 # adamw - 0.03\n",
        "    warm = True                     # warm-up 사용 여부\n",
        "    warm_epochs = 10                # warm-up 적용할 초기 epoch 수\n",
        "    warmup_from = lr * 0.1          # warm-up 시작 learning rate (보통 lr의 10%)\n",
        "    warmup_to = lr\n",
        "\n",
        "    batch_size = 128\n",
        "    workers = 2\n",
        "    epochs = 200\n",
        "    weight_decay = 0.0\n",
        "\n",
        "    resume = None\n",
        "    schedule=[120, 160] # schedule\n",
        "\n",
        "    # MLS\n",
        "    K = 512\n",
        "    momentum = 0.999\n",
        "    T = 0.07\n",
        "    dim_prj = 128\n",
        "    top_k = 20\n",
        "    lambda_bce = 0.3\n",
        "    out_dim = 512\n",
        "\n",
        "    # Linear Evaluation\n",
        "    # ft_epochs = 3\n",
        "\n",
        "    # etc\n",
        "    gpu = 0\n",
        "    data = \"./data_path\"\n",
        "    seed=42\n",
        "    num_classes = 2\n",
        "\n",
        "    # update\n",
        "    ma_update = False\n",
        "    ma_beta = 0.5\n",
        "    target_type = 'grad_flow'\n",
        "    alpha = 1\n",
        "\n",
        "\n",
        "args = Args()"
      ]
    },
    {
      "cell_type": "markdown",
      "id": "58e1f949",
      "metadata": {
        "id": "58e1f949"
      },
      "source": [
        "#### 2.2 Utils (func)"
      ]
    },
    {
      "cell_type": "code",
      "execution_count": 9,
      "id": "8d2d1329",
      "metadata": {
        "id": "8d2d1329"
      },
      "outputs": [],
      "source": [
        "import torch.nn.functional as F\n",
        "import random\n",
        "\n",
        "# cycle의 클래스를 추출\n",
        "def get_class(cr, wh):\n",
        "    if cr == 1 and wh == 1:\n",
        "        return 3\n",
        "    elif cr == 0 and wh == 1:\n",
        "        return 2\n",
        "    elif cr == 1 and wh == 0:\n",
        "        return 1\n",
        "    elif cr == 0 and wh == 0:\n",
        "        return 0\n",
        "    else:\n",
        "        return -1\n",
        "\n",
        "# Mel Spectrogram 생성 ( sr=4KHz, frame_size=1024, hop_length=512, n_mels=128 )\n",
        "# def generate_mel_spectrogram(waveform, sample_rate, frame_size, hop_length, n_mels):\n",
        "#     if hop_length is None:\n",
        "#         hop_length = frame_size // 2\n",
        "#     mel_spec_transform = T.MelSpectrogram(\n",
        "#         sample_rate=sample_rate,\n",
        "#         n_fft=frame_size,\n",
        "#         hop_length=hop_length,\n",
        "#         n_mels=n_mels,\n",
        "#         f_min=50,       # 논문 기준 주파수 범위 하한\n",
        "#         f_max=2000      # 논문 기준 주파수 범위 상한\n",
        "#     )\n",
        "#     mel_spectrogram = mel_spec_transform(waveform)\n",
        "#     mel_db = T.AmplitudeToDB()(mel_spectrogram)\n",
        "    \n",
        "#     # dB 스케일에서 매우 낮은 값은 0으로 마스킹\n",
        "#     mel_db[mel_db <= -100.0] = 0.0\n",
        "    \n",
        "#     return mel_db\n",
        "\n",
        "# 256 맟춰주기\n",
        "def generate_mel_spectrogram(waveform, sample_rate, frame_size, hop_length, n_mels):\n",
        "    if hop_length is None:\n",
        "        hop_length = frame_size // 2\n",
        "\n",
        "    mel_spec_transform = T.MelSpectrogram(\n",
        "        sample_rate=sample_rate,\n",
        "        n_fft=frame_size,\n",
        "        hop_length=hop_length,\n",
        "        n_mels=n_mels,\n",
        "        f_min=50,\n",
        "        f_max=2000\n",
        "    )\n",
        "    mel_spectrogram = mel_spec_transform(waveform)\n",
        "    mel_db = T.AmplitudeToDB()(mel_spectrogram)\n",
        "\n",
        "    # dB 스케일에서 매우 낮은 값은 0으로 마스킹\n",
        "    mel_db[mel_db <= -100.0] = 0.0\n",
        "\n",
        "    # 🔧 가운데 padding 적용\n",
        "    target_frames = 256\n",
        "    current_frames = mel_db.shape[-1]\n",
        "    if current_frames < target_frames:\n",
        "        pad_total = target_frames - current_frames\n",
        "        pad_left = pad_total // 2\n",
        "        pad_right = pad_total - pad_left\n",
        "        mel_db = F.pad(mel_db, (pad_left, pad_right))  # center padding\n",
        "    elif current_frames > target_frames:\n",
        "        # 가운데 자르기\n",
        "        start = (current_frames - target_frames) // 2\n",
        "        mel_db = mel_db[:, :, start:start + target_frames]\n",
        "\n",
        "    return mel_db\n",
        "\n",
        "# Cycle Repeat 또는 Crop\n",
        "def repeat_or_truncate_segment(mel_segment, target_frames):\n",
        "    current_frames = mel_segment.shape[-1]\n",
        "    if current_frames >= target_frames:\n",
        "        return mel_segment[:, :, :target_frames]\n",
        "    else:\n",
        "        repeat_ratio = math.ceil(target_frames / current_frames)\n",
        "        mel_segment = mel_segment.repeat(1, 1, repeat_ratio)\n",
        "        return mel_segment[:, :, :target_frames]\n",
        "\n",
        "def preprocess_waveform_segment(waveform, unit_length):\n",
        "\n",
        "    \"\"\"unit_length 기준으로 waveform을 repeat + padding 또는 crop하여 길이 정규화\"\"\"\n",
        "    waveform = waveform.squeeze(0)  # (1, L) → (L,) 로 바꿔도 무방\n",
        "    length_adj = unit_length - len(waveform)\n",
        "\n",
        "    if length_adj > 0:\n",
        "        # waveform이 너무 짧은 경우 → repeat + zero-padding\n",
        "        half_unit = unit_length // 2\n",
        "\n",
        "        if length_adj < half_unit:\n",
        "            # 길이 차이가 작으면 단순 padding\n",
        "            half_adj = length_adj // 2\n",
        "            waveform = F.pad(waveform, (half_adj, length_adj - half_adj))\n",
        "        else:\n",
        "            # 반복 후 부족한 부분 padding\n",
        "            repeat_factor = unit_length // len(waveform)\n",
        "            waveform = waveform.repeat(repeat_factor)[:unit_length]\n",
        "            remaining = unit_length - len(waveform)\n",
        "            half_pad = remaining // 2\n",
        "            waveform = F.pad(waveform, (half_pad, remaining - half_pad))\n",
        "    else:\n",
        "        # waveform이 너무 길면 앞쪽 1/4 내에서 랜덤 crop\n",
        "        length_adj = len(waveform) - unit_length\n",
        "        start = random.randint(0, length_adj // 4)\n",
        "        waveform = waveform[start:start + unit_length]\n",
        "\n",
        "    return waveform.unsqueeze(0)  # 다시 (1, L)로\n",
        "\n",
        "# # 논문 기반: Circular padding 방식 적용\n",
        "# # - waveform이 짧은 경우: circular padding으로 8초 길이 맞춤\n",
        "# # - waveform이 긴 경우: 앞쪽 25% 범위 내에서 랜덤 crop\n",
        "# def preprocess_waveform_segment(waveform, unit_length):\n",
        "#     \"\"\"\n",
        "#     논문 기반: Circular padding 적용\n",
        "#     - waveform이 짧은 경우: circular padding으로 8초 길이 맞춤\n",
        "#     - waveform이 긴 경우: 앞쪽 25% 범위 내에서 랜덤 crop\n",
        "#     \"\"\"\n",
        "#     waveform = waveform.squeeze(0)  # (1, L) → (L,)\n",
        "#     current_len = waveform.size(0)\n",
        "\n",
        "#     if current_len < unit_length:\n",
        "#         pad_len = unit_length - current_len\n",
        "#         # ➤ shape을 (1, L)로 바꾸고 pad 적용 후 다시 (L,)로\n",
        "#         waveform = waveform.unsqueeze(0)  # (L,) → (1, L)\n",
        "#         waveform = F.pad(waveform, (0, pad_len), mode='circular')\n",
        "#         waveform = waveform.squeeze(0)    # (1, L+pad) → (L+pad,)\n",
        "#     elif current_len > unit_length:\n",
        "#         max_start = max(0, current_len - unit_length)\n",
        "#         start = random.randint(0, max_start // 4)\n",
        "#         waveform = waveform[start:start + unit_length]\n",
        "\n",
        "#     return waveform.unsqueeze(0)  # (L,) → (1, L)\n",
        "\n",
        "# 데이터 Spec Augmentation ( 0~80% Random Masking )\n",
        "def apply_spec_augment(mel_segment):\n",
        "\n",
        "    M = mel_segment.shape[-1]\n",
        "    F = mel_segment.shape[-2]\n",
        "\n",
        "    # torchaudio의 마스킹은 0부터 mask_param까지 균등분포에서 랜덤하게 길이를 선택\n",
        "    time_masking = T.TimeMasking(time_mask_param=int(M * 0.8))\n",
        "    freq_masking = T.FrequencyMasking(freq_mask_param=int(F * 0.8) )\n",
        "\n",
        "    aug1 = freq_masking(mel_segment.clone())\n",
        "    aug2 = time_masking(mel_segment.clone())\n",
        "    aug3 = freq_masking(time_masking(mel_segment.clone()))\n",
        "\n",
        "    return aug1, aug2, aug3\n",
        "\n",
        "# Waveform resample\n",
        "def resample_waveform(waveform, orig_sr, target_sr=args.target_sr):\n",
        "    if orig_sr != target_sr:\n",
        "        resampler = torchaudio.transforms.Resample(\n",
        "            orig_freq=orig_sr,\n",
        "            new_freq=target_sr\n",
        "        )\n",
        "        return resampler(waveform), target_sr\n",
        "    return waveform, orig_sr\n",
        "\n",
        "# Normalize - Mean/Std\n",
        "# def get_mean_and_std(dataset):\n",
        "#     \"\"\" 전체 mel-spectrogram에서 mean과 std 계산 \"\"\"\n",
        "#     dataloader = torch.utils.data.DataLoader(dataset, batch_size=1, shuffle=False, num_workers=4)\n",
        "\n",
        "#     cnt = 0\n",
        "#     fst_moment = torch.zeros(1)\n",
        "#     snd_moment = torch.zeros(1)\n",
        "#     for inputs, _, _ in tqdm(dataloader, desc=\"[Calculating Mean/Std]\"):\n",
        "#         b, c, h, w = inputs.shape  # inputs: [1, 1, n_mels, time]\n",
        "#         nb_pixels = b * h * w\n",
        "\n",
        "#         fst_moment += torch.sum(inputs, dim=[0, 2, 3])\n",
        "#         snd_moment += torch.sum(inputs**2, dim=[0, 2, 3])\n",
        "#         cnt += nb_pixels\n",
        "\n",
        "#     mean = fst_moment / cnt\n",
        "#     std = torch.sqrt(snd_moment / cnt - mean**2)\n",
        "#     return mean.item(), std.item()\n",
        "\n",
        "def get_mean_and_std(dataset, mask_threshold=-99.0):\n",
        "    \"\"\" 마스킹(-100 등)을 제외하고 mean/std 계산 \"\"\"\n",
        "    dataloader = torch.utils.data.DataLoader(dataset, batch_size=1, shuffle=False, num_workers=4)\n",
        "\n",
        "    cnt = 0\n",
        "    fst_moment = 0.0\n",
        "    snd_moment = 0.0\n",
        "\n",
        "    for inputs, _, _ in tqdm(dataloader, desc=\"[Calculating Mean/Std]\"):\n",
        "        # mask: 유효한 mel 값만 추출 (e.g. > -99.0)\n",
        "        valid = inputs[inputs > mask_threshold]  # 1D tensor\n",
        "\n",
        "        fst_moment += valid.sum().item()\n",
        "        snd_moment += (valid ** 2).sum().item()\n",
        "        cnt += valid.numel()\n",
        "\n",
        "    mean = fst_moment / cnt\n",
        "    std = np.sqrt(snd_moment / cnt - mean**2)\n",
        "    return mean, std"
      ]
    },
    {
      "cell_type": "code",
      "execution_count": 10,
      "id": "70af5e6b",
      "metadata": {
        "id": "70af5e6b"
      },
      "outputs": [],
      "source": [
        "# import torch\n",
        "# import torch.nn.functional as F\n",
        "# import torchaudio.transforms as T\n",
        "# import numpy as np\n",
        "# import random\n",
        "# import math\n",
        "\n",
        "# # -------------------- Augmentation functions (Torch 기반) --------------------\n",
        "\n",
        "# def spec_augment(mel, time_mask_ratio, freq_mask_ratio): # default: 0.8\n",
        "#     M = mel.shape[-1]  # 시간 축\n",
        "#     F = mel.shape[-2]  # 주파수 축\n",
        "\n",
        "#     time_masking = T.TimeMasking(time_mask_param=int(M * time_mask_ratio))\n",
        "#     freq_masking = T.FrequencyMasking(freq_mask_param=int(F * freq_mask_ratio))\n",
        "\n",
        "#     mel = freq_masking(mel.clone())\n",
        "#     mel = time_masking(mel)\n",
        "#     return mel\n",
        "\n",
        "# # def random_crop(mel, crop_size):\n",
        "# #     if mel.shape[-1] <= crop_size:\n",
        "# #         return mel\n",
        "# #     start = torch.randint(0, mel.shape[-1] - crop_size + 1, (1,)).item()\n",
        "# #     return mel[:, :, start:start + crop_size]\n",
        "\n",
        "# def add_noise(mel, noise_level=0.005):\n",
        "#     noise = torch.randn_like(mel) * noise_level\n",
        "#     return mel + noise\n",
        "\n",
        "# def pitch_shift(mel, n_steps=2):\n",
        "#     shift = random.randint(-n_steps, n_steps)\n",
        "#     if shift == 0:\n",
        "#         return mel\n",
        "#     if shift > 0:\n",
        "#         mel = torch.cat([mel[:, shift:, :], mel[:, :shift, :]], dim=1)\n",
        "#     else:\n",
        "#         shift = abs(shift)\n",
        "#         mel = torch.cat([mel[:, -shift:, :], mel[:, :-shift, :]], dim=1)\n",
        "#     return mel\n",
        "\n",
        "# def time_stretch(mel, min_rate=0.8, max_rate=1.2):\n",
        "#     rate = random.uniform(min_rate, max_rate)\n",
        "#     if rate == 1.0:\n",
        "#         return mel\n",
        "\n",
        "#     orig_size = mel.shape[-1]\n",
        "#     target_size = int(orig_size * rate)\n",
        "#     mel_stretched = F.interpolate(\n",
        "#         mel, size=(mel.shape[1], target_size),\n",
        "#         mode='bilinear', align_corners=False\n",
        "#     )\n",
        "\n",
        "#     if target_size > orig_size:\n",
        "#         return mel_stretched[:, :, :orig_size]\n",
        "#     else:\n",
        "#         padding = orig_size - target_size\n",
        "#         return F.pad(mel_stretched, (0, padding))\n",
        "\n",
        "# # -------------------- Dispatcher --------------------\n",
        "\n",
        "# AUGMENTATION_FUNCTIONS_TORCH = {\n",
        "#     \"spec_augment\": spec_augment,\n",
        "#     # \"random_crop\": random_crop,\n",
        "#     \"add_noise\": add_noise,\n",
        "#     \"pitch_shift\": pitch_shift,\n",
        "#     \"time_stretch\": time_stretch\n",
        "# }\n",
        "\n",
        "# def apply_augmentations_torch(x, methods=[], **kwargs):\n",
        "#     for method in methods:\n",
        "#         func = AUGMENTATION_FUNCTIONS_TORCH.get(method)\n",
        "#         if func is None:\n",
        "#             raise ValueError(f\"Unknown augmentation: {method}\")\n",
        "#         x = func(x, **kwargs.get(method, {}))\n",
        "#     return x\n",
        "\n",
        "\n",
        "##############################################\n",
        "import torch\n",
        "import torch.nn.functional as F\n",
        "import torchaudio.transforms as T\n",
        "import numpy as np\n",
        "import random\n",
        "\n",
        "# -------------------- Augmentation functions (ICBHI 멜스펙트로그램에 최적화) --------------------\n",
        "\n",
        "# def spec_augment(mel, time_mask_ratio=0.15, freq_mask_ratio=0.15):\n",
        "#     \"\"\"\n",
        "#     SpecAugment: 시간/주파수 영역 마스킹\n",
        "#     - 시간축 마스킹: 63 * 0.15 ≈ 9 프레임\n",
        "#     - 주파수 마스킹: 128 * 0.1 ≈ 12 채널\n",
        "#     \"\"\"\n",
        "#     M = mel.shape[-1]  # 시간 축\n",
        "#     F = mel.shape[-2]  # 주파수 축\n",
        "\n",
        "#     time_masking = T.TimeMasking(time_mask_param=max(1, int(M * time_mask_ratio)))\n",
        "#     freq_masking = T.FrequencyMasking(freq_mask_param=max(1, int(F * freq_mask_ratio)))\n",
        "\n",
        "#     mel = freq_masking(mel.clone())\n",
        "#     mel = time_masking(mel)\n",
        "#     return mel\n",
        "\n",
        "# multi-label 논문용 spec\n",
        "def spec_augment(mel, time_mask_param=20, freq_mask_param=40):\n",
        "    \"\"\"\n",
        "    논문 기준:\n",
        "    - 시간 마스킹: 최대 20 frame\n",
        "    - 주파수 마스킹: 최대 40 mel bin\n",
        "    \"\"\"\n",
        "    time_masking = T.TimeMasking(time_mask_param=time_mask_param)\n",
        "    freq_masking = T.FrequencyMasking(freq_mask_param=freq_mask_param)\n",
        "\n",
        "    mel = freq_masking(mel.clone())\n",
        "    mel = time_masking(mel)\n",
        "    return mel\n",
        "\n",
        "def add_noise(mel, noise_level=0.001):\n",
        "    \"\"\"\n",
        "    노이즈 추가: 적당한 수준의 표준 정규분포 노이즈 (너무 높으면 손실 커짐)\n",
        "    \"\"\"\n",
        "    noise = torch.randn_like(mel) * noise_level\n",
        "    return mel + noise\n",
        "\n",
        "def pitch_shift(mel, n_steps=2):\n",
        "    \"\"\"\n",
        "    주파수 축 순환 이동 (mel axis). shape은 그대로 유지됨.\n",
        "    n_steps=2면 ±2 멜 채널만 이동.\n",
        "    \"\"\"\n",
        "    shift = random.randint(-n_steps, n_steps)\n",
        "    if shift == 0:\n",
        "        return mel\n",
        "    if shift > 0:\n",
        "        mel = torch.cat([mel[:, :, shift:, :], mel[:, :, :shift, :]], dim=2)\n",
        "    else:\n",
        "        shift = abs(shift)\n",
        "        mel = torch.cat([mel[:, :, -shift:, :], mel[:, :, :-shift, :]], dim=2)\n",
        "    return mel\n",
        "\n",
        "def time_stretch(mel, min_rate=0.95, max_rate=1.05):\n",
        "    \"\"\"\n",
        "    시간 축 길이 조절. 너무 심하지 않게 ±5% 범위로만 조정.\n",
        "    - shape 유지 위해 interpolation 후 crop/pad\n",
        "    \"\"\"\n",
        "    rate = random.uniform(min_rate, max_rate)\n",
        "    if rate == 1.0:\n",
        "        return mel\n",
        "\n",
        "    orig_size = mel.shape[-1]\n",
        "    target_size = int(orig_size * rate)\n",
        "\n",
        "    mel_stretched = F.interpolate(\n",
        "        mel, size=(mel.shape[-2], target_size),  # (mel_bins, time)\n",
        "        mode='bilinear',\n",
        "        align_corners=False\n",
        "    )\n",
        "\n",
        "    if target_size > orig_size:\n",
        "        return mel_stretched[..., :orig_size]\n",
        "    else:\n",
        "        pad = orig_size - target_size\n",
        "        return F.pad(mel_stretched, (0, pad))\n",
        "\n",
        "# -------------------- Dispatcher --------------------\n",
        "\n",
        "AUGMENTATION_FUNCTIONS_TORCH = {\n",
        "    \"spec_augment\": spec_augment,\n",
        "    \"add_noise\": add_noise,\n",
        "    \"pitch_shift\": pitch_shift,\n",
        "    \"time_stretch\": time_stretch\n",
        "}\n",
        "\n",
        "def apply_augmentations_torch(x, methods=[], **kwargs):\n",
        "    for method in methods:\n",
        "        func = AUGMENTATION_FUNCTIONS_TORCH.get(method)\n",
        "        if func is None:\n",
        "            raise ValueError(f\"Unknown augmentation: {method}\")\n",
        "        x = func(x, **kwargs.get(method, {}))\n",
        "    return x\n"
      ]
    },
    {
      "cell_type": "code",
      "execution_count": 11,
      "id": "4a62aa74",
      "metadata": {
        "id": "4a62aa74"
      },
      "outputs": [],
      "source": [
        "def aug(repeat_mel):\n",
        "    # 먼저 복사본 준비\n",
        "    mel1 = repeat_mel.clone()\n",
        "    mel2 = repeat_mel.clone()\n",
        "\n",
        "    # 각각 다른 증강 A, B 적용\n",
        "    # aug1 = apply_augmentations_torch(mel1, methods=[\"add_noise\"], add_noise={\"noise_level\": 0.005})\n",
        "    # aug2 = apply_augmentations_torch(mel2, methods=[\"time_stretch\"], time_stretch={\"min_rate\": 0.8, \"max_rate\": 1.2})\n",
        "    # aug3 = apply_augmentations_torch(mel2, methods=[\"pitch_shift\"], pitch_shift={\"n_steps\": 2})\n",
        "\n",
        "    # # 각 결과에 spec_augment 추가 적용\n",
        "    # aug1_spec = spec_augment(aug1)\n",
        "    # aug2_spec = spec_augment(aug2, time_mask_ratio=0.6, freq_mask_ratio=0.4)\n",
        "    # aug3_spec = spec_augment(aug3)\n",
        "\n",
        "    ## 순수 spec_augment만 적용한 경우\n",
        "    aug_speconly = spec_augment(mel1)\n",
        "\n",
        "    return aug_speconly, None, None\n",
        "\n",
        "\n",
        "def get_timestamp():\n",
        "    \"\"\"Outputs current time in KST like 2404070830\"\"\"\n",
        "    kst_time = datetime.now(ZoneInfo(\"Asia/Seoul\"))\n",
        "    return kst_time.strftime('%y%m%d%H%M')\n",
        "\n",
        "# Origin\n",
        "# def aug(repeat_mel):\n",
        "#     aug1, aug2, aug3 = apply_spec_augment(repeat_mel)\n",
        "#     return aug1, aug2, aug3"
      ]
    },
    {
      "cell_type": "markdown",
      "id": "39e684cb",
      "metadata": {
        "id": "39e684cb"
      },
      "source": [
        "#### 2.3 CycleDataset"
      ]
    },
    {
      "cell_type": "code",
      "execution_count": 12,
      "id": "1642a79a",
      "metadata": {
        "id": "1642a79a"
      },
      "outputs": [],
      "source": [
        "import os\n",
        "import torch\n",
        "import torchaudio\n",
        "import numpy as np\n",
        "import torch.nn.functional as F\n",
        "from torch.utils.data import Dataset\n",
        "from tqdm import tqdm\n",
        "\n",
        "class CycleDataset(Dataset):\n",
        "    def __init__(self, filename_list, wav_dir, txt_dir, target_sec=args.target_sec, target_sr=args.target_sr, frame_size=args.frame_size, hop_length=args.hop_length, n_mels=args.n_mels, mean=None, std=None):\n",
        "        self.filename_list = filename_list\n",
        "        self.wav_dir = wav_dir\n",
        "        self.txt_dir = txt_dir\n",
        "        self.target_sec = target_sec\n",
        "        self.target_sr = target_sr\n",
        "        self.frame_size = frame_size\n",
        "        self.hop_length = hop_length\n",
        "        self.n_mels = n_mels\n",
        "        self.mean = mean\n",
        "        self.std = std\n",
        "\n",
        "        self.cycle_list = []\n",
        "\n",
        "        print(\"[INFO] Preprocessing cycles...\")\n",
        "        for filename in tqdm(self.filename_list):\n",
        "            txt_path = os.path.join(self.txt_dir, filename + '.txt')\n",
        "            wav_path = os.path.join(self.wav_dir, filename + '.wav')\n",
        "\n",
        "            if not os.path.exists(txt_path):\n",
        "                print(f\"[WARNING] Missing file: {txt_path}\")\n",
        "            if not os.path.exists(wav_path):\n",
        "                print(f\"[WARNING] Missing file: {wav_path}\")\n",
        "\n",
        "            # Load annotation\n",
        "            cycle_data = np.loadtxt(txt_path, usecols=(0, 1))\n",
        "            lung_label = np.loadtxt(txt_path, usecols=(2, 3))\n",
        "\n",
        "            # Load waveform\n",
        "            waveform, orig_sr = torchaudio.load(wav_path)\n",
        "            if waveform.shape[0] > 1:\n",
        "                waveform = torch.mean(waveform, dim=0, keepdim=True)  # Stereo to mono\n",
        "                print(' waveform.shape[0] > 1:')\n",
        "\n",
        "            # Resample to target sample rate (4kHz)\n",
        "            waveform, sample_rate = resample_waveform(waveform, orig_sr, self.target_sr)\n",
        "\n",
        "            for idx in range(len(cycle_data)):\n",
        "                # 호흡 주기 start, end\n",
        "                start_sample = int(cycle_data[idx, 0] * sample_rate)\n",
        "                end_sample = int(cycle_data[idx, 1] * sample_rate)\n",
        "                lung_duration = cycle_data[idx, 1] - cycle_data[idx, 0]\n",
        "\n",
        "                if end_sample <= start_sample:\n",
        "                    print('end_sample <= start_sample:')\n",
        "                    continue  # 잘못된 구간 스킵\n",
        "\n",
        "                # Waveform repeat + padding 후 Mel_db\n",
        "                cycle_wave = waveform[:, start_sample:end_sample]\n",
        "                seg_wave = preprocess_waveform_segment(cycle_wave, unit_length=int(self.target_sec * self.target_sr))\n",
        "                mel = generate_mel_spectrogram(seg_wave, sample_rate, frame_size=self.frame_size, hop_length=self.hop_length, n_mels=self.n_mels)\n",
        "\n",
        "                # 정규화\n",
        "                if self.mean is not None and self.std is not None:\n",
        "                    mask_value = -100.0 # mel db 에서 마스킹된 값\n",
        "                    mask = (mel == mask_value)\n",
        "                    mel = (mel - mean) / std\n",
        "                    mel[mask] = 0.0\n",
        "                    \n",
        "                # crackle, wheeze -> class\n",
        "                cr = int(lung_label[idx, 0])\n",
        "                wh = int(lung_label[idx, 1])\n",
        "                label = get_class(cr, wh)\n",
        "\n",
        "                multi_label = torch.tensor([\n",
        "                    float(label in [1, 3]),\n",
        "                    float(label in [2, 3])\n",
        "                ])  # 변환된 multi-label 반환\n",
        "\n",
        "                # meta_data\n",
        "                meta_data = (filename, lung_duration)\n",
        "\n",
        "                self.cycle_list.append((mel, multi_label, meta_data))\n",
        "\n",
        "        print(f\"[INFO] Total cycles collected: {len(self.cycle_list)}\")\n",
        "\n",
        "    def __len__(self):\n",
        "        return len(self.cycle_list)\n",
        "\n",
        "    def __getitem__(self, idx):\n",
        "        mel, label, meta_data = self.cycle_list[idx]\n",
        "        return mel, label, meta_data"
      ]
    },
    {
      "cell_type": "markdown",
      "id": "55d5a070",
      "metadata": {
        "id": "55d5a070"
      },
      "source": [
        "##### Pickle.dump"
      ]
    },
    {
      "cell_type": "markdown",
      "id": "752088df",
      "metadata": {
        "id": "752088df"
      },
      "source": [
        "CycleDataset 객체 생성"
      ]
    },
    {
      "cell_type": "code",
      "execution_count": 13,
      "id": "67673cde",
      "metadata": {},
      "outputs": [
        {
          "data": {
            "text/plain": [
              "539"
            ]
          },
          "execution_count": 13,
          "metadata": {},
          "output_type": "execute_result"
        }
      ],
      "source": [
        "len(train_list)"
      ]
    },
    {
      "cell_type": "code",
      "execution_count": 14,
      "id": "9d386e82",
      "metadata": {
        "id": "9d386e82"
      },
      "outputs": [],
      "source": [
        "# # # import random\n",
        "# # # import matplotlib.pyplot as plt\n",
        "# # # import librosa.display\n",
        "\n",
        "# # # wav_dir = ROOT\n",
        "# # # txt_dir = ROOT\n",
        "\n",
        "# # # # 1. Dataset 로드\n",
        "# # # train_dataset = CycleDataset(train_list, wav_dir, txt_dir)\n",
        "# # # test_dataset = CycleDataset(test_list, wav_dir, txt_dir)\n",
        "\n",
        "# # ################################################################\n",
        "\n",
        "# import random\n",
        "# import matplotlib.pyplot as plt\n",
        "# import librosa.display\n",
        "\n",
        "# wav_dir = ROOT\n",
        "# txt_dir = ROOT\n",
        "\n",
        "# # # mean, std 먼저 계산\n",
        "# # normless_dataset = CycleDataset(train_list, wav_dir, txt_dir)\n",
        "# # mean, std = get_mean_and_std(normless_dataset)\n",
        "\n",
        "# # 정규화 적용된 데이터셋 생성\n",
        "# train_dataset = CycleDataset(train_list, wav_dir, txt_dir)\n",
        "# test_dataset = CycleDataset(test_list, wav_dir, txt_dir)\n",
        "\n",
        "# pickle_dict = {\n",
        "#     'train_dataset': train_dataset,\n",
        "#     'test_dataset': test_dataset\n",
        "# }\n",
        "\n",
        "# save_path = os.path.join(PICKLE_PATH, '0721_MLS_datasets.pkl')\n",
        "# with open(save_path, 'wb') as f:\n",
        "#     pickle.dump(pickle_dict, f)\n",
        "\n"
      ]
    },
    {
      "cell_type": "markdown",
      "id": "4BQgVyGnrDbN",
      "metadata": {
        "id": "4BQgVyGnrDbN"
      },
      "source": [
        "pickle로 train_dataset, test_dataset 외부 저장"
      ]
    },
    {
      "cell_type": "code",
      "execution_count": 15,
      "id": "7a273735",
      "metadata": {
        "id": "7a273735"
      },
      "outputs": [],
      "source": [
        "# pickle_name = f'Aug_Moco_MLS_MelSpec_{args.target_sr//1000}kHz_{args.frame_size}win_{args.hop_length}hop_{args.n_mels}mel_{args.target_sec}s'"
      ]
    },
    {
      "cell_type": "code",
      "execution_count": 16,
      "id": "cd34caa0",
      "metadata": {
        "id": "cd34caa0"
      },
      "outputs": [],
      "source": [
        "# pickle_dict = {\n",
        "#     'train_dataset': train_dataset,\n",
        "#     'test_dataset': test_dataset\n",
        "# }\n",
        "\n",
        "# save_path = os.path.join(PICKLE_PATH, '3:7_saved_datasets_multilabel.pkl')\n",
        "# with open(save_path, 'wb') as f:\n",
        "#     pickle.dump(pickle_dict, f)\n",
        "\n",
        "# # #####\n",
        "\n",
        "# # 🔹 mean, std 함께 저장\n",
        "# pickle_dict = {\n",
        "#     'train_dataset': train_dataset,\n",
        "#     'test_dataset': test_dataset,\n",
        "#     'mean': mean,\n",
        "#     'std': std\n",
        "# }\n",
        "# with open(os.path.join(PICKLE_PATH, 'pad0_norm_saved_datasets_multilabel.pkl'), 'wb') as f:\n",
        "#     pickle.dump(pickle_dict, f)\n",
        "\n",
        "# print(f'mean: {mean}, std: {std}')"
      ]
    },
    {
      "cell_type": "code",
      "execution_count": 17,
      "id": "zRqSwthYTtxq",
      "metadata": {
        "id": "zRqSwthYTtxq"
      },
      "outputs": [],
      "source": [
        "# # 2. 간단 통계\n",
        "# print(f\"Total cycles: {len(train_dataset)}\")\n",
        "\n",
        "# label_counter = [0] * 4  # normal, crackle, wheeze, both\n",
        "# for _, multi_label,_ in train_dataset:\n",
        "#     if torch.equal(multi_label, torch.tensor([0., 0.])):\n",
        "#         label_counter[0] += 1\n",
        "#     elif torch.equal(multi_label, torch.tensor([1., 0.])):\n",
        "#         label_counter[1] += 1\n",
        "#     elif torch.equal(multi_label, torch.tensor([0., 1.])):\n",
        "#         label_counter[2] += 1\n",
        "#     elif torch.equal(multi_label, torch.tensor([1., 1.])):\n",
        "#         label_counter[3] += 1\n",
        "\n",
        "# for idx, count in enumerate(label_counter):\n",
        "#     print(f\"Class {idx}: {count} cycles\")"
      ]
    },
    {
      "cell_type": "markdown",
      "id": "yJPtbC3BrqAE",
      "metadata": {
        "id": "yJPtbC3BrqAE"
      },
      "source": [
        "##### Pickle.load\n",
        "저장된 train_dataset, test_dataset을 로드  \n",
        "(> Aug 는 Moco 모델에서 사용)"
      ]
    },
    {
      "cell_type": "code",
      "execution_count": 18,
      "id": "EWrjdCFSrmER",
      "metadata": {
        "colab": {
          "base_uri": "https://localhost:8080/"
        },
        "id": "EWrjdCFSrmER",
        "outputId": "ad9770b7-e29b-4c41-e83e-2d35bb552c19"
      },
      "outputs": [
        {
          "name": "stdout",
          "output_type": "stream",
          "text": [
            "[Train] Cycles: 4142\n",
            "[Test] Cycles: 2756\n"
          ]
        }
      ],
      "source": [
        "save_path = os.path.join(PICKLE_PATH, 'MLS_0722_16kHz_1024win_512hop_64mel_8s.pkl')\n",
        "with open(save_path, 'rb') as f:\n",
        "    pickle_dict = pickle.load(f)\n",
        "\n",
        "train_dataset = pickle_dict['train_dataset']\n",
        "test_dataset = pickle_dict['test_dataset']\n",
        "\n",
        "print(f\"[Train] Cycles: {len(train_dataset)}\")\n",
        "print(f\"[Test] Cycles: {len(test_dataset)}\")\n",
        "\n",
        "###################\n",
        "\n",
        "# save_path = os.path.join(PICKLE_PATH, 'pad0_norm_saved_datasets_multilabel.pkl')\n",
        "# # 🔹 load with normalization values\n",
        "# with open(save_path, 'rb') as f:\n",
        "#     pickle_dict = pickle.load(f)\n",
        "\n",
        "# train_dataset = pickle_dict['train_dataset']\n",
        "# test_dataset = pickle_dict['test_dataset']\n",
        "# mean = pickle_dict['mean']\n",
        "# std = pickle_dict['std']\n",
        "\n",
        "# print(f\"[Train] Cycles: {len(train_dataset)}\")\n",
        "# print(f\"[Test] Cycles: {len(test_dataset)}\")\n",
        "# print(f\"[INFO] Loaded mean={mean:.4f}, std={std:.4f}\")"
      ]
    },
    {
      "cell_type": "code",
      "execution_count": 19,
      "id": "bb3c24b6",
      "metadata": {},
      "outputs": [
        {
          "data": {
            "text/plain": [
              "torch.Size([1, 64, 256])"
            ]
          },
          "execution_count": 19,
          "metadata": {},
          "output_type": "execute_result"
        }
      ],
      "source": [
        "train_dataset[0][0].shape"
      ]
    },
    {
      "cell_type": "code",
      "execution_count": 20,
      "id": "93cebfa6",
      "metadata": {},
      "outputs": [
        {
          "data": {
            "image/png": "[encoded data removed]",
            "text/plain": [
              "<Figure size 800x400 with 2 Axes>"
            ]
          },
          "metadata": {},
          "output_type": "display_data"
        },
        {
          "data": {
            "image/png": "[encoded data removed]",
            "text/plain": [
              "<Figure size 800x400 with 2 Axes>"
            ]
          },
          "metadata": {},
          "output_type": "display_data"
        }
      ],
      "source": [
        "import matplotlib.pyplot as plt\n",
        "\n",
        "# 데이터 로드\n",
        "mel = train_dataset[0][0]  # (1, 64, 256)\n",
        "\n",
        "# 증강 적용\n",
        "aug_speconly, _ , _ = aug(mel)  # aug1: speconly, aug2: speconly\n",
        "\n",
        "# 시각화 함수\n",
        "def show_mel(mel_tensor, title):\n",
        "    # 텐서 shape이 (1, 64, 256) 또는 (1, 1, 64, 256)일 수 있음\n",
        "    if mel_tensor.ndim == 4:\n",
        "        mel_tensor = mel_tensor.squeeze(0)  # (1, 64, 256)\n",
        "    mel_np = mel_tensor.squeeze(0).cpu().numpy()  # (64, 256)\n",
        "    \n",
        "    plt.figure(figsize=(8, 4))\n",
        "    plt.imshow(mel_np, origin='lower', aspect='auto', cmap='magma')\n",
        "    plt.colorbar()\n",
        "    plt.title(title)\n",
        "    plt.xlabel(\"Time\")\n",
        "    plt.ylabel(\"Mel Frequency\")\n",
        "    plt.tight_layout()\n",
        "    plt.show()\n",
        "\n",
        "# 시각화\n",
        "show_mel(mel, \"Original Mel\")\n",
        "show_mel(aug_speconly, \"Augmented Mel (Spec Only)\")\n"
      ]
    },
    {
      "cell_type": "markdown",
      "id": "bcca3481",
      "metadata": {
        "id": "bcca3481"
      },
      "source": [
        "#### 2.4 DataLoader"
      ]
    },
    {
      "cell_type": "code",
      "execution_count": 21,
      "id": "44c9b5b9",
      "metadata": {},
      "outputs": [
        {
          "data": {
            "text/plain": [
              "(tensor([[[0., 0., 0.,  ..., 0., 0., 0.],\n",
              "          [0., 0., 0.,  ..., 0., 0., 0.],\n",
              "          [0., 0., 0.,  ..., 0., 0., 0.],\n",
              "          ...,\n",
              "          [0., 0., 0.,  ..., 0., 0., 0.],\n",
              "          [0., 0., 0.,  ..., 0., 0., 0.],\n",
              "          [0., 0., 0.,  ..., 0., 0., 0.]]]),\n",
              " tensor([0., 1.]),\n",
              " ('103_2b2_Ar_mc_LittC2SE', np.float64(2.886)))"
            ]
          },
          "execution_count": 21,
          "metadata": {},
          "output_type": "execute_result"
        }
      ],
      "source": [
        "train_dataset[0]"
      ]
    },
    {
      "cell_type": "code",
      "execution_count": 22,
      "id": "01e91c50",
      "metadata": {},
      "outputs": [
        {
          "data": {
            "text/plain": [
              "torch.Size([1, 64, 256])"
            ]
          },
          "execution_count": 22,
          "metadata": {},
          "output_type": "execute_result"
        }
      ],
      "source": [
        "train_dataset[9][0].shape"
      ]
    },
    {
      "cell_type": "code",
      "execution_count": 23,
      "id": "5f19b4a7",
      "metadata": {
        "colab": {
          "base_uri": "https://localhost:8080/"
        },
        "id": "5f19b4a7",
        "outputId": "c2ac9fb5-3049-4aaa-f5bb-c28a747088d8"
      },
      "outputs": [
        {
          "name": "stdout",
          "output_type": "stream",
          "text": [
            "Pretrain set size: 4142, Finetune set size: 4142\n"
          ]
        }
      ],
      "source": [
        "# ---------------- 학습 데이터 구성(seed) ----------------\n",
        "seed_everything(args.seed)\n",
        "\n",
        "# train_dataset 내에서 각 파일의 인덱스를 추출\n",
        "pretrain_idx = []\n",
        "finetune_idx = []\n",
        "\n",
        "for i in range(len(train_dataset)):\n",
        "    filename = train_dataset[i][2][0]\n",
        "\n",
        "    if filename in pretrain_list:\n",
        "        pretrain_idx.append(i)\n",
        "    # elif filename in finetune_list:\n",
        "    #     finetune_idx.append(i)\n",
        "\n",
        "    # pretrain = finetune\n",
        "    if filename in finetune_list:\n",
        "        finetune_idx.append(i)\n",
        "\n",
        "# 인덱스 순서 셔플\n",
        "random.shuffle(pretrain_idx)\n",
        "random.shuffle(finetune_idx)\n",
        "\n",
        "print(f\"Pretrain set size: {len(pretrain_idx)}, Finetune set size: {len(finetune_idx)}\")"
      ]
    },
    {
      "cell_type": "markdown",
      "id": "cce2c3c8",
      "metadata": {
        "id": "cce2c3c8"
      },
      "source": [
        "코드 실행 환경에 따라 num_workers를 적절한 값으로 지정해주세요!"
      ]
    },
    {
      "cell_type": "code",
      "execution_count": 24,
      "id": "432ae0cd",
      "metadata": {
        "id": "432ae0cd"
      },
      "outputs": [],
      "source": [
        "# Dataset 생성 (Subset)\n",
        "pretrain_dataset = Subset(train_dataset, pretrain_idx)\n",
        "finetune_dataset = Subset(train_dataset, finetune_idx)\n",
        "\n",
        "# DataLoader 생성\n",
        "# DataLoader에서 shuffle=True로 지정하면 매 epoch마다 셔플 순서가 달라짐 => 재현성 문제 발생\n",
        "# pretrain_dataset, finetune_dataset은 이미 셔플이 완료된 것으로, 이것을 DataLoader에 입력함\n",
        "pretrain_loader = DataLoader(\n",
        "    pretrain_dataset,\n",
        "    batch_size=args.batch_size,\n",
        "    num_workers=0,\n",
        "    drop_last=True,\n",
        "    pin_memory=True,\n",
        "    shuffle=False\n",
        ")\n",
        "\n",
        "finetune_loader = DataLoader(\n",
        "    finetune_dataset,\n",
        "    batch_size=args.batch_size,\n",
        "    num_workers=0,\n",
        "    drop_last=True,\n",
        "    pin_memory=True,\n",
        "    shuffle=False\n",
        ")\n",
        "\n",
        "test_loader = DataLoader(\n",
        "    test_dataset,\n",
        "    batch_size=args.batch_size,\n",
        "    num_workers=0,\n",
        "    pin_memory=True,\n",
        "    shuffle=False\n",
        ")"
      ]
    },
    {
      "cell_type": "markdown",
      "id": "b492ad67",
      "metadata": {
        "id": "b492ad67"
      },
      "source": [
        "label 분포 확인 (단순 참고용, 실제 환경에서는 pretrain set의 label 분포가 어떤지 알 수 없음)"
      ]
    },
    {
      "cell_type": "code",
      "execution_count": 25,
      "id": "fea9d290",
      "metadata": {
        "colab": {
          "base_uri": "https://localhost:8080/"
        },
        "id": "fea9d290",
        "outputId": "2066f8d9-fbc5-44a6-b3b3-0bc214f136ca"
      },
      "outputs": [
        {
          "name": "stdout",
          "output_type": "stream",
          "text": [
            "Pretrain sample: 4142\n",
            "Pretrain label distribution: Counter({0: 2063, 1: 1215, 2: 501, 3: 363})\n",
            "\n",
            "Finetune sample: 4142\n",
            "Finetune label distribution: Counter({0: 2063, 1: 1215, 2: 501, 3: 363})\n",
            "Test sample: 2756\n",
            "Test label distribution: Counter({0: 1579, 1: 649, 2: 385, 3: 143})\n"
          ]
        }
      ],
      "source": [
        "from collections import Counter\n",
        "\n",
        "# label\n",
        "labels = torch.stack([multi_label for _, multi_label, _ in train_dataset])\n",
        "\n",
        "# pretext와 finetune 데이터셋의 라벨 분포 출력\n",
        "pretrain_labels = labels[pretrain_idx]\n",
        "pretrain_labels_class = (\n",
        "    pretrain_labels[:, 0].long() * 1 +  # crackle bit → *1\n",
        "    pretrain_labels[:, 1].long() * 2    # wheeze bit  → *2\n",
        ")  # [N] shape, values in {0, 1, 2, 3}\n",
        "finetune_labels = labels[finetune_idx]\n",
        "finetune_labels_class = (\n",
        "    finetune_labels[:, 0].long() * 1 +  # crackle bit → *1\n",
        "    finetune_labels[:, 1].long() * 2    # wheeze bit  → *2\n",
        ")  # [N] shape, values in {0, 1, 2, 3}\n",
        "\n",
        "# test 데이터셋의 라벨 분포 출력\n",
        "test_labels = torch.stack([multi_label for _, multi_label, _ in test_dataset])\n",
        "test_labels_class = (\n",
        "    test_labels[:, 0].long() * 1 +  # crackle bit → *1\n",
        "    test_labels[:, 1].long() * 2    # wheeze bit  → *2\n",
        ")  # [N] shape, values in {0, 1, 2, 3}\n",
        "\n",
        "print(f\"Pretrain sample: {len(pretrain_labels_class)}\")\n",
        "print(\"Pretrain label distribution:\", Counter(pretrain_labels_class.tolist()))\n",
        "print(f\"\\nFinetune sample: {len(finetune_labels_class)}\")\n",
        "print(\"Finetune label distribution:\", Counter(finetune_labels_class.tolist()))\n",
        "print(f\"Test sample: {len(test_labels_class)}\")\n",
        "print(\"Test label distribution:\", Counter(test_labels_class.tolist()))"
      ]
    },
    {
      "cell_type": "markdown",
      "id": "ed559ff1",
      "metadata": {
        "id": "ed559ff1"
      },
      "source": [
        "## 3. Modeling"
      ]
    },
    {
      "cell_type": "markdown",
      "id": "ca710799",
      "metadata": {
        "id": "ca710799"
      },
      "source": [
        "#### 3.1 Pre-trained ResNet50"
      ]
    },
    {
      "cell_type": "code",
      "execution_count": 26,
      "id": "2caf4a6c",
      "metadata": {
        "id": "2caf4a6c"
      },
      "outputs": [],
      "source": [
        "# def backbone_resnet():\n",
        "#     # 1. 기본 ResNet50 생성 (pretrained=False로 시작)\n",
        "#     resnet = models.resnet50(pretrained=False)\n",
        "\n",
        "#     # 2. 첫 번째 conv 레이어를 1채널용으로 수정\n",
        "#     resnet.conv1 = nn.Conv2d(1, 64, kernel_size=7, stride=2, padding=3, bias=False)\n",
        "\n",
        "#     # 먼저 fc 제거\n",
        "#     resnet.fc = nn.Identity()\n",
        "\n",
        "#     # 3. ImageNet 가중치 로드 (conv1 제외)\n",
        "#     state_dict = load_state_dict_from_url(\n",
        "#         'https://download.pytorch.org/models/resnet50-19c8e357.pth',\n",
        "#         progress=True\n",
        "#     )\n",
        "#     if 'conv1.weight' in state_dict:\n",
        "#         del state_dict['conv1.weight']\n",
        "#     resnet.load_state_dict(state_dict, strict=False)\n",
        "\n",
        "#     return resnet"
      ]
    },
    {
      "cell_type": "code",
      "execution_count": 27,
      "id": "ad728509",
      "metadata": {},
      "outputs": [],
      "source": [
        "from torchvision.models import resnet50, ResNet50_Weights\n",
        "\n",
        "class ResNet50(torchvision.models.resnet.ResNet):\n",
        "    def __init__(self, track_bn=True):\n",
        "        def norm_layer(*args, **kwargs):\n",
        "            return nn.BatchNorm2d(*args, **kwargs, track_running_stats=track_bn)\n",
        "        super().__init__(torchvision.models.resnet.Bottleneck, [3, 4, 6, 3], norm_layer=norm_layer)\n",
        "        del self.fc\n",
        "        self.conv1 = nn.Conv2d(1, 64, kernel_size=7, stride=2, padding=3, bias=False)\n",
        "        self.final_feat_dim = 2048\n",
        "\n",
        "    def load_sl_official_weights(self, progress=True):\n",
        "        weights = ResNet50_Weights.DEFAULT\n",
        "        state_dict = weights.get_state_dict(progress=progress)\n",
        "\n",
        "        del state_dict['conv1.weight']\n",
        "        missing, unexpected = self.load_state_dict(state_dict, strict=False)\n",
        "        # if len(missing) > 0:\n",
        "            # raise AssertionError('Model code may be incorrect')\n",
        "\n",
        "    def load_ssl_official_weights(self, progress=True):\n",
        "        # only SimCLR is available\n",
        "        from pl_bolts.models.self_supervised import SimCLR\n",
        "        \n",
        "        weight_path = 'https://pl-bolts-weights.s3.us-east-2.amazonaws.com/simclr/bolts_simclr_imagenet/simclr_imagenet.ckpt'\n",
        "        simclr = SimCLR.load_from_checkpoint(weight_path, strict=False)\n",
        "\n",
        "        state_dict = {}\n",
        "        for k, v in simclr.state_dict().items():\n",
        "            if 'encoder.' in k:\n",
        "                k = k.replace('encoder.', '')\n",
        "            if 'fc' not in k or 'project' not in k:\n",
        "                state_dict[k] = v\n",
        "        missing, unexpected = self.load_state_dict(state_dict, strict=False)\n",
        "        # non_linear_evaluator.block_forward is a pretrained MLP classifier for SimCLR\n",
        "        # refer to https://github.com/Lightning-AI/lightning-bolts/blob/bcbbf6ab6c36430946dd8a416ddc7e697e8507fc/pl_bolts/models/self_supervised/evaluator.py#L7\n",
        "        if len(missing) > 0:\n",
        "            raise AssertionError('Model code may be incorrect')\n",
        "\n",
        "    def _forward_impl(self, x: Tensor) -> Tensor:\n",
        "        # See note [TorchScript super()]\n",
        "        x = self.conv1(x)\n",
        "        x = self.bn1(x)\n",
        "        x = self.relu(x)\n",
        "        x = self.maxpool(x)\n",
        "\n",
        "        x = self.layer1(x)\n",
        "        x = self.layer2(x)\n",
        "        x = self.layer3(x)\n",
        "        x = self.layer4(x)\n",
        "\n",
        "        x = self.avgpool(x)\n",
        "        x = torch.flatten(x, 1)\n",
        "        # x = self.fc(x)\n",
        "\n",
        "        return x"
      ]
    },
    {
      "cell_type": "code",
      "execution_count": 28,
      "id": "f76dbd0e",
      "metadata": {},
      "outputs": [],
      "source": [
        "def backbone_resnet50_patch():\n",
        "    \"\"\"\n",
        "    MoCo 구조에 사용할 CNN6 백본 정의 함수.\n",
        "    \n",
        "    주요 변경 사항:\n",
        "    - ResNet50 대신 CNN6 클래스 사용\n",
        "    - 출력 feature dim은 512로 고정됨 (MoCo에서는 dim_enc=2048 → 이 부분만 맞춰서 사용하면 문제 없음)\n",
        "    - ImageNet pretrained 사용 대신 공식 CNN6 pretrained 로딩 함수 포함 (옵션 사용 가능)\n",
        "    \"\"\"\n",
        "    model = ResNet50()\n",
        "\n",
        "    # 공식 SL pretrained weight를 사용하고자 할 경우 아래 줄을 주석 해제\n",
        "    model.load_sl_official_weights()\n",
        "\n",
        "    return model\n"
      ]
    },
    {
      "cell_type": "markdown",
      "id": "2d7776d9",
      "metadata": {},
      "source": [
        "#### 3.2 Pre-trained CNN6"
      ]
    },
    {
      "cell_type": "code",
      "execution_count": 29,
      "id": "d0de338c",
      "metadata": {},
      "outputs": [],
      "source": [
        "import torch\n",
        "import torch.nn as nn\n",
        "import torch.nn.functional as F\n",
        "\n",
        "\n",
        "def init_layer(layer):\n",
        "    \"\"\"Initialize a Linear or Convolutional layer. \"\"\"\n",
        "    nn.init.xavier_uniform_(layer.weight)\n",
        "    if hasattr(layer, 'bias'):\n",
        "        if layer.bias is not None:\n",
        "            layer.bias.data.fill_(0.)\n",
        "            \n",
        "\n",
        "def init_bn(bn):\n",
        "    \"\"\"Initialize a Batchnorm layer. \"\"\"\n",
        "    bn.bias.data.fill_(0.)\n",
        "    bn.weight.data.fill_(1.)\n",
        "\n",
        "\n",
        "class ConvBlock5x5(nn.Module): #for CNN6\n",
        "    def __init__(self, in_channels, out_channels, stride=(1,1)):\n",
        "        \n",
        "        super(ConvBlock5x5, self).__init__()\n",
        "        \n",
        "        self.conv1 = nn.Conv2d(in_channels=in_channels, \n",
        "                              out_channels=out_channels,\n",
        "                              kernel_size=(5, 5), stride=stride,\n",
        "                              padding=(2, 2), bias=False)\n",
        "                              \n",
        "        self.bn1 = nn.BatchNorm2d(out_channels)\n",
        "\n",
        "        self.init_weight()\n",
        "        \n",
        "    def init_weight(self):\n",
        "        init_layer(self.conv1)\n",
        "        init_bn(self.bn1)\n",
        "        \n",
        "    def forward(self, input, pool_size=(2, 2), pool_type='avg'):        \n",
        "        x = input\n",
        "        x = F.relu_(self.bn1(self.conv1(x)))\n",
        "        if pool_type == 'max':\n",
        "            x = F.max_pool2d(x, kernel_size=pool_size)\n",
        "        elif pool_type == 'avg':\n",
        "            x = F.avg_pool2d(x, kernel_size=pool_size)\n",
        "        elif pool_type == 'avg+max':\n",
        "            x1 = F.avg_pool2d(x, kernel_size=pool_size)\n",
        "            x2 = F.max_pool2d(x, kernel_size=pool_size)\n",
        "            x = x1 + x2\n",
        "        else:\n",
        "            raise Exception('Incorrect argument!')\n",
        "        \n",
        "        return x\n",
        "\n",
        "\n",
        "class CNN6(nn.Module):\n",
        "    def __init__(self):\n",
        "        super(CNN6, self).__init__()\n",
        "        self.final_feat_dim = 512\n",
        "\n",
        "        self.do_dropout = False\n",
        "        self.conv_block1 = ConvBlock5x5(in_channels=1, out_channels=64, stride=(1,1))\n",
        "        self.conv_block2 = ConvBlock5x5(in_channels=64, out_channels=128, stride=(1,1))\n",
        "        self.conv_block3 = ConvBlock5x5(in_channels=128, out_channels=256, stride=(1,1))\n",
        "        self.conv_block4 = ConvBlock5x5(in_channels=256, out_channels=512, stride=(1,1))\n",
        "        self.dropout = nn.Dropout(0.2)\n",
        "        # self.linear = nn.Linear(512, num_classes, bias=True)\n",
        "\n",
        "    def load_sl_official_weights(self):\n",
        "        \"\"\" download AudioSet pretrained CNN6 in https://zenodo.org/record/3960586#.Y8dz8y_kEiY\n",
        "        \"\"\"\n",
        "        weights = torch.load('/home/HyeonSeok/Cnn6_mAP=0.343.pth')['model']\n",
        "        state_dict = {k: v for k, v in weights.items() if k in self.state_dict().keys()}\n",
        "        missing, unexpected = self.load_state_dict(state_dict, strict=False)\n",
        "\n",
        "    def forward(self, x, return_feature_map=False):\n",
        "        x = self.conv_block1(x, pool_size=(2, 2), pool_type='avg')\n",
        "        if self.do_dropout:\n",
        "            x = self.dropout(x)\n",
        "        x = self.conv_block2(x, pool_size=(2, 2), pool_type='avg')\n",
        "        if self.do_dropout:\n",
        "            x = self.dropout(x)\n",
        "        x = self.conv_block3(x, pool_size=(2, 2), pool_type='avg')\n",
        "        if self.do_dropout:\n",
        "            x = self.dropout(x)\n",
        "        x = self.conv_block4(x, pool_size=(2, 2), pool_type='avg')\n",
        "        if self.do_dropout:\n",
        "            x = self.dropout(x)\n",
        "        \n",
        "        if return_feature_map:\n",
        "            return x  # shape: (B, 512, 4, 16)\n",
        "\n",
        "        x = torch.mean(x, dim=3) #mean over time dim\n",
        "        (x1, _) = torch.max(x, dim=2) #max over freq dim\n",
        "        x2 = torch.mean(x, dim=2) #mean over freq dim (after mean over time)\n",
        "        x = x1 + x2\n",
        "\n",
        "        # if self.embed_only:\n",
        "        #     return x\n",
        "        # return self.linear(x)\n",
        "        return x"
      ]
    },
    {
      "cell_type": "code",
      "execution_count": 30,
      "id": "f839c412",
      "metadata": {},
      "outputs": [],
      "source": [
        "def backbone_cnn6():\n",
        "    \"\"\"\n",
        "    MoCo 구조에 사용할 CNN6 백본 정의 함수.\n",
        "    \n",
        "    주요 변경 사항:\n",
        "    - ResNet50 대신 CNN6 클래스 사용\n",
        "    - 출력 feature dim은 512로 고정됨 (MoCo에서는 dim_enc=2048 → 이 부분만 맞춰서 사용하면 문제 없음)\n",
        "    - ImageNet pretrained 사용 대신 공식 CNN6 pretrained 로딩 함수 포함 (옵션 사용 가능)\n",
        "    \"\"\"\n",
        "    model = CNN6()\n",
        "\n",
        "    # 공식 SL pretrained weight를 사용하고자 할 경우 아래 줄을 주석 해제\n",
        "    model.load_sl_official_weights()\n",
        "\n",
        "    return model\n"
      ]
    },
    {
      "cell_type": "markdown",
      "id": "89cdc7f9",
      "metadata": {},
      "source": [
        "##### 3.3 Multilabel Attention"
      ]
    },
    {
      "cell_type": "code",
      "execution_count": 31,
      "id": "7b8f81d9",
      "metadata": {},
      "outputs": [],
      "source": [
        "# import torch\n",
        "# import torch.nn as nn\n",
        "# import torch.nn.functional as F\n",
        "\n",
        "\n",
        "# class MultilabelAttention(nn.Module):\n",
        "#     def __init__(self, backbone, num_classes=2, lambda_attn=0.5, attention_heads=[1, float('inf')]):\n",
        "#         super(MultilabelAttention, self).__init__()\n",
        "#         self.backbone = backbone()\n",
        "#         self.num_classes = num_classes\n",
        "#         self.lambda_attn = lambda_attn\n",
        "#         self.attention_heads = attention_heads  # e.g., [1, inf] for H=2\n",
        "\n",
        "#         self.class_weights = nn.Parameter(torch.randn(len(attention_heads), num_classes, 512))\n",
        "\n",
        "#         self.output_layer = nn.ModuleList([\n",
        "#             nn.Linear(512, 1) for _ in range(num_classes)\n",
        "#         ])\n",
        "\n",
        "#     def forward(self, x):\n",
        "#         # CNN6 백본 통과 → shape: (B, 512, 4, 16)\n",
        "#         feat_map = self.backbone(x, return_feature_map=True)  # (B, 512, 4, 16)\n",
        "\n",
        "#         B, C, Freq, Time = feat_map.shape\n",
        "#         flat_feat = feat_map.view(B, C, Freq * Time).permute(0, 2, 1)  # (B, 64, 512)\n",
        "\n",
        "#         # Class-specific attention a_i 계산\n",
        "#         attn_outputs = []\n",
        "#         for h, T in enumerate(self.attention_heads):\n",
        "#             Ci = self.class_weights[h]  # (num_classes, 512)\n",
        "#             logits = torch.einsum(\"bnc, kc -> bnk\", flat_feat, Ci)  # (B, 64, num_classes)\n",
        "#             logits = logits.permute(0, 2, 1)  # (B, num_classes, 64)\n",
        "#             if T == float('inf'):\n",
        "#                 attn_scores = F.one_hot(torch.argmax(logits, dim=2), num_classes=logits.shape[2]).float()\n",
        "#             else:\n",
        "#                 attn_scores = F.softmax(T * logits, dim=2)  # (B, num_classes, 64)\n",
        "\n",
        "#             attn_scores = attn_scores.unsqueeze(-1)  # (B, num_classes, 64, 1)\n",
        "#             flat_feat_exp = flat_feat.unsqueeze(1)  # (B, 1, 64, 512)\n",
        "#             attn_feat = torch.sum(attn_scores * flat_feat_exp, dim=2)  # (B, num_classes, 512)\n",
        "#             attn_outputs.append(attn_feat)\n",
        "\n",
        "#         # Class-specific global feature g_i 계산\n",
        "#         feat_avg_t = torch.mean(feat_map, dim=3)  # (B, 512, Freq)\n",
        "#         gmp = torch.max(feat_avg_t, dim=2)[0]     # (B, 512)\n",
        "#         gap = torch.mean(feat_avg_t, dim=2)       # (B, 512)\n",
        "#         g = gmp + gap                             # (B, 512)\n",
        "#         g = g.unsqueeze(1).repeat(1, self.num_classes, 1)  # (B, num_classes, 512)\n",
        "\n",
        "#         # Combine: f_i = g_i + lambda * a_i\n",
        "#         combined = g\n",
        "#         for attn in attn_outputs:\n",
        "#             combined = combined + self.lambda_attn * attn  # sum over heads\n",
        "\n",
        "#         # Output layer for each class\n",
        "#         out = []\n",
        "#         for i in range(self.num_classes):\n",
        "#             cls_feat = combined[:, i, :]  # (B, 512)\n",
        "#             logit = self.output_layer[i](cls_feat).squeeze(-1)  # (B,)\n",
        "#             out.append(logit)\n",
        "\n",
        "#         logits = torch.stack(out, dim=1)  # (B, num_classes)\n",
        "#         probs = torch.sigmoid(logits)    # (B, num_classes)\n",
        "#         return combined, logits, probs                 # 마지막 dim: (B, 2, 512) \n",
        "\n",
        "\n",
        "# def backbone_mlattention():\n",
        "#     \"\"\"\n",
        "#     Multi-label attention 기반 backbone 정의 함수\n",
        "#     CNN6 기반 특징 추출기 + CSRA 기반 attention 구조 결합\n",
        "    \n",
        "#     Returns:\n",
        "#         nn.Module: Multi-label attention 기반 분류기\n",
        "#     \"\"\"\n",
        "#     return MultilabelAttention(backbone=backbone_cnn6, num_classes=2, lambda_attn=0.5, attention_heads=[1, float('inf')])\n"
      ]
    },
    {
      "cell_type": "code",
      "execution_count": 32,
      "id": "895f8785",
      "metadata": {},
      "outputs": [],
      "source": [
        "# x = torch.randn(10, 1, 64, 256) # B=10\n",
        "# model = backbone_mlattention()\n",
        "# out = model(x)  # (B, 2, 512)\n",
        "\n",
        "# print(f\"\\ntorch.Size : {out.shape}\")  # → torch.Size([B=10, 2, 512])"
      ]
    },
    {
      "cell_type": "markdown",
      "id": "9a796d30",
      "metadata": {},
      "source": [
        "##### 3.4 Mix-MultiLabel Attention"
      ]
    },
    {
      "cell_type": "code",
      "execution_count": 33,
      "id": "8515e944",
      "metadata": {},
      "outputs": [],
      "source": [
        "import torch\n",
        "import torch.nn.functional as F\n",
        "import numpy as np\n",
        "\n",
        "def group_mix(group_spec, labels, beta=1.0):\n",
        "    \"\"\"\n",
        "    Group-wise PatchMix (spatial domain) for group_spec of shape [B, 64, 512]\n",
        "    \"\"\"\n",
        "    B, N, D = group_spec.shape  # B: 배치 크기, N: 그룹 수 (ex. 64), D: 차원 수 (ex. 512)\n",
        "                                # e.g., group_spec.shape == [B, 64, 512]\n",
        "\n",
        "    device = group_spec.device  # e.g., 'cuda:0'\n",
        "\n",
        "    # 🔹 lam: beta 분포에서 샘플링 (mix 비율)\n",
        "    lam = np.random.beta(beta, beta)  # scalar float (e.g., 0.66)\n",
        "\n",
        "    # 🔹 num_mask: 총 N 그룹 중에서 몇 개를 섞을지 결정\n",
        "    num_mask = int(N * (1. - lam))  # scalar int (e.g., 64 * 0.34 = 21)\n",
        "\n",
        "    # 🔹 mask: 섞을 group index (공통)\n",
        "    mask = torch.randperm(N)[:num_mask].to(device)  # shape: [num_mask] (e.g., [21])\n",
        "\n",
        "    # 🔹 index: 다른 sample과 섞기 위해 순서를 섞음\n",
        "    index = torch.randperm(B).to(device)  # shape: [B] (e.g., [3, 0, 1, 2])\n",
        "\n",
        "    # 🔹 mix: 같은 위치의 group들을 index 기준으로 섞기\n",
        "    mixed_group_spec = group_spec.clone()                  # shape: [B, 64, 512]\n",
        "    mixed_group_spec[:, mask, :] = group_spec[index][:, mask, :]  \n",
        "    # group_spec[index]: shape [B, 64, 512]\n",
        "    # group_spec[index][:, mask, :]: shape [B, num_mask, 512]\n",
        "    # 최종적으로 mixed_group_spec[:, mask, :]: shape [B, num_mask, 512]\n",
        "\n",
        "    # 🔹 lam_tensor: 각 sample에 대해 lam 값을 broadcasting 하기 위한 텐서\n",
        "    lam_tensor = torch.full((B,), lam, device=device)  # shape: [B] (e.g., [0.66, 0.66, 0.66, 0.66])\n",
        "\n",
        "    # 🔹 return: 섞은 group, 원래 라벨, 섞인 라벨, lam 값, 섞인 index\n",
        "    return mixed_group_spec, labels, labels[index], lam_tensor, index\n",
        "    # mixed_group_spec: shape [B, 64, 512]\n",
        "    # labels: shape [B] 또는 [B, C] (멀티클래스인지 멀티라벨인지에 따라 다름)\n",
        "    # labels[index]: shape [B] 또는 [B, C]\n",
        "    # lam_tensor: shape [B]\n",
        "    # index: shape [B]\n"
      ]
    },
    {
      "cell_type": "code",
      "execution_count": 34,
      "id": "a00d8660",
      "metadata": {},
      "outputs": [],
      "source": [
        "class GroupMixConLoss(torch.nn.Module):\n",
        "    def __init__(self, temperature=0.07):\n",
        "        super().__init__()\n",
        "        self.temperature = temperature\n",
        "\n",
        "    def forward(self, proj_orig, proj_mix, labels_a, labels_b, lam, index):\n",
        "        \"\"\"\n",
        "        proj_orig: [B, D]   # 원본 representation (e.g., global pooled feature)\n",
        "        proj_mix : [B, D]   # group-mix 적용된 representation\n",
        "        labels_a:  [B, C] or [B]   # 원래 라벨\n",
        "        labels_b:  [B, C] or [B]   # 섞인 라벨\n",
        "        lam:       [B]             # 각 샘플마다 lam 값\n",
        "        index:     [B]             # 섞인 대상 인덱스\n",
        "        \"\"\"\n",
        "        B = proj_orig.size(0)           # 배치 크기\n",
        "        device = proj_orig.device\n",
        "\n",
        "        # 🔹 L2 정규화\n",
        "        proj_orig = F.normalize(proj_orig, dim=1)   # [B, D]\n",
        "        proj_mix  = F.normalize(proj_mix, dim=1)    # [B, D]\n",
        "        # print(f\"proj_orig.shape: {proj_orig.shape}, proj_mix.shape: {proj_mix.shape}\")\n",
        "\n",
        "        # 🔹 유사도 행렬: mix vs. original 간의 내적\n",
        "        sim_matrix = torch.matmul(proj_mix, proj_orig.T) / self.temperature  \n",
        "        # [B, D] x [D, B] -> [B, B]\n",
        "\n",
        "        # 🔹 마스크 A: 원래 자기 자신이랑만 1인 마스크\n",
        "        mask_a = torch.eye(B, device=device)  # [B, B]\n",
        "\n",
        "        # 🔹 마스크 B: 각 mix가 섞인 대상과 1인 마스크\n",
        "        mask_b = torch.zeros_like(mask_a)     # [B, B]\n",
        "        mask_b[torch.arange(B), index] = 1    # 예: i-th row에서 index[i] column에 1\n",
        "\n",
        "        # 🔹 soft positive mask = lam * identity + (1 - lam) * mix_target\n",
        "        # lam: [B] -> [B, 1], broadcasting 됨\n",
        "        mask = lam.view(-1, 1) * mask_a + (1 - lam).view(-1, 1) * mask_b  # [B, B]\n",
        "\n",
        "        # 🔹 softmax log-prob 계산\n",
        "        log_prob = sim_matrix - torch.logsumexp(sim_matrix, dim=1, keepdim=True)  \n",
        "        # log_softmax(sim_matrix, dim=1)과 동일\n",
        "        # sim_matrix: [B, B], log_prob: [B, B]\n",
        "\n",
        "        # 🔹 positive log-prob만 평균냄\n",
        "        # 각 row (i)에서 soft positive에 해당하는 위치에 대해서만 log_prob * mask\n",
        "        mean_log_prob_pos = (mask * log_prob).sum(dim=1) / mask.sum(dim=1)  # [B]\n",
        "\n",
        "        # 🔹 전체 평균 loss\n",
        "        loss = -mean_log_prob_pos.mean()  # scalar\n",
        "\n",
        "        return loss\n"
      ]
    },
    {
      "cell_type": "code",
      "execution_count": 35,
      "id": "09304124",
      "metadata": {},
      "outputs": [],
      "source": [
        "import torch\n",
        "import torch.nn as nn\n",
        "import torch.nn.functional as F\n",
        "\n",
        "class MixMLATT(nn.Module):\n",
        "    def __init__(self, backbone, num_classes=2, lambda_attn=0.5, attention_heads=[1, float('inf')], projector_dim=128):\n",
        "        super(MixMLATT, self).__init__()\n",
        "        self.num_classes = num_classes\n",
        "        self.lambda_attn = lambda_attn\n",
        "        self.attention_heads = attention_heads\n",
        "\n",
        "        # CNN6 백본 (e.g., CNN6 → [B, 512, 4, 16])\n",
        "        self.backbone = backbone()\n",
        "\n",
        "        # Class-specific Attention weights: 각 head마다 [num_classes, 512]\n",
        "        self.class_weights = nn.Parameter(torch.randn(len(attention_heads), num_classes, 512))\n",
        "\n",
        "    def forward(self, x, mix_feature=False, patch_mix=False, y=None, lam=None, index=None):\n",
        "        \"\"\"\n",
        "        Args:\n",
        "            x: input spectrogram [B, 1, F, T]\n",
        "            return_mix_feature: whether to return raw mixed [B, 64, 512] for CE/classifier\n",
        "            patch_mix: whether to perform group-wise patch mix\n",
        "            y: labels (only used when patch_mix is True)\n",
        "            lam: lambda for mixup\n",
        "            index: mix index for patch selection\n",
        "        Returns:\n",
        "            attn_feat: [B, num_classes, 512]\n",
        "            logits: [B, num_classes]\n",
        "            probs: [B, num_classes]\n",
        "            raw_feat: [B, 64, 512] (for CE/classifier)\n",
        "        \"\"\"\n",
        "        B = x.size(0)\n",
        "        origin_feat = None\n",
        "\n",
        "        # 1. CNN6 Backbone → [B, 512, 4, 16]\n",
        "        feat_map = self.backbone(x, return_feature_map=True)  # (B, 512, 4, 16)\n",
        "\n",
        "        # 2. Reshape → [B, 64, 512]\n",
        "        feat_flat = feat_map.view(B, 512, -1).permute(0, 2, 1)  # (B, 64, 512)\n",
        "\n",
        "        # 3. Optional: Patch-wise Mixing\n",
        "        if patch_mix and y is not None:\n",
        "            # 1. group_mix 수행\n",
        "            # mixed_group_spec, labels, labels[index], lam_tensor, index\n",
        "            feat_flat, label_origin, label_mix, lam, index = group_mix(feat_flat, y)\n",
        "\n",
        "            # 2. origin_feat 저장\n",
        "            origin_feat = feat_flat.detach() if mix_feature else None\n",
        "\n",
        "        # 4. CSRA Attention\n",
        "        attn_outputs = []\n",
        "        for h, T in enumerate(self.attention_heads):\n",
        "            class_weight = self.class_weights[h]  # (num_classes, 512)\n",
        "            logits = torch.einsum(\"bnc,kc->bnk\", feat_flat, class_weight)  # (B, 64, num_classes)\n",
        "            logits = logits.permute(0, 2, 1)  # (B, num_classes, 64)\n",
        "\n",
        "            if T == float('inf'):\n",
        "                attn_scores = F.one_hot(torch.argmax(logits, dim=2), num_classes=logits.shape[2]).float()\n",
        "            else:\n",
        "                attn_scores = F.softmax(T * logits, dim=2)\n",
        "\n",
        "            attn_scores = attn_scores.unsqueeze(-1)           # (B, num_classes, 64, 1)\n",
        "            feat_exp = feat_flat.unsqueeze(1)                 # (B, 1, 64, 512)\n",
        "            attn_feat = torch.sum(attn_scores * feat_exp, dim=2)  # (B, num_classes, 512)\n",
        "            attn_outputs.append(attn_feat)\n",
        "\n",
        "        # 5. Global Feature Aggregation\n",
        "        feat_avg_t = torch.mean(feat_map, dim=3)  # (B, 512, Freq)\n",
        "        gmp = torch.max(feat_avg_t, dim=2)[0]     # (B, 512)\n",
        "        gap = torch.mean(feat_avg_t, dim=2)       # (B, 512)\n",
        "        g = gmp + gap                             # (B, 512)\n",
        "        g = g.unsqueeze(1).repeat(1, self.num_classes, 1)  # (B, num_classes, 512)\n",
        "\n",
        "        # 6. Combine Global + Attention Feature\n",
        "        attn_feat = g\n",
        "        for attn in attn_outputs:\n",
        "            attn_feat = attn_feat + self.lambda_attn * attn  # (B, num_classes, 512)\n",
        "\n",
        "        # 8. Return\n",
        "        if not patch_mix:\n",
        "            return attn_feat, origin_feat # [B, 2, 512], [B, 64, 512]\n",
        "        else:\n",
        "            return attn_feat, origin_feat, label_origin, label_mix, lam, index\n"
      ]
    },
    {
      "cell_type": "code",
      "execution_count": 36,
      "id": "1648eb8d",
      "metadata": {},
      "outputs": [],
      "source": [
        "def backbone_mixmlatt():\n",
        "    \"\"\"\n",
        "    Multi-label attention 기반 backbone 정의 함수\n",
        "    CNN6 기반 특징 추출기 + CSRA 기반 attention 구조 결합\n",
        "    \n",
        "    Returns:\n",
        "        nn.Module: Multi-label attention 기반 분류기\n",
        "    \"\"\"\n",
        "    return MixMLATT(backbone=backbone_cnn6, num_classes=2, lambda_attn=0.5, attention_heads=[1, float('inf')])\n"
      ]
    },
    {
      "cell_type": "code",
      "execution_count": 37,
      "id": "09f21daa",
      "metadata": {
        "colab": {
          "base_uri": "https://localhost:8080/"
        },
        "id": "09f21daa",
        "outputId": "0c812f61-67a5-474c-a91e-2ed67a2c0c78"
      },
      "outputs": [
        {
          "name": "stdout",
          "output_type": "stream",
          "text": [
            "----------------------------------------------------------------\n",
            "        Layer (type)               Output Shape         Param #\n",
            "================================================================\n",
            "            Conv2d-1          [-1, 64, 64, 256]           1,600\n",
            "       BatchNorm2d-2          [-1, 64, 64, 256]             128\n",
            "      ConvBlock5x5-3          [-1, 64, 32, 128]               0\n",
            "            Conv2d-4         [-1, 128, 32, 128]         204,800\n",
            "       BatchNorm2d-5         [-1, 128, 32, 128]             256\n",
            "      ConvBlock5x5-6          [-1, 128, 16, 64]               0\n",
            "            Conv2d-7          [-1, 256, 16, 64]         819,200\n",
            "       BatchNorm2d-8          [-1, 256, 16, 64]             512\n",
            "      ConvBlock5x5-9           [-1, 256, 8, 32]               0\n",
            "           Conv2d-10           [-1, 512, 8, 32]       3,276,800\n",
            "      BatchNorm2d-11           [-1, 512, 8, 32]           1,024\n",
            "     ConvBlock5x5-12           [-1, 512, 4, 16]               0\n",
            "             CNN6-13           [-1, 512, 4, 16]               0\n",
            "================================================================\n",
            "Total params: 4,304,320\n",
            "Trainable params: 4,304,320\n",
            "Non-trainable params: 0\n",
            "----------------------------------------------------------------\n",
            "Input size (MB): 0.06\n",
            "Forward/backward pass size (MB): 34.00\n",
            "Params size (MB): 16.42\n",
            "Estimated Total Size (MB): 50.48\n",
            "----------------------------------------------------------------\n"
          ]
        }
      ],
      "source": [
        "# summary 함수 사용: (채널, 높이, 너비) 크기를 지정\n",
        "summary(backbone_mixmlatt().to(device), input_size=(1, 64, 256))"
      ]
    },
    {
      "cell_type": "markdown",
      "id": "1cc1bf21",
      "metadata": {
        "id": "1cc1bf21"
      },
      "source": [
        "## 4. Training"
      ]
    },
    {
      "cell_type": "code",
      "execution_count": 38,
      "id": "-BkAfkqhyHrY",
      "metadata": {
        "colab": {
          "base_uri": "https://localhost:8080/"
        },
        "id": "-BkAfkqhyHrY",
        "outputId": "70fa83d7-4e71-4275-eb00-1531ed151726"
      },
      "outputs": [
        {
          "data": {
            "text/plain": [
              "torch.Size([128, 1, 64, 256])"
            ]
          },
          "execution_count": 38,
          "metadata": {},
          "output_type": "execute_result"
        }
      ],
      "source": [
        "next(iter(pretrain_loader))[0].shape"
      ]
    },
    {
      "cell_type": "code",
      "execution_count": 39,
      "id": "e5056744",
      "metadata": {},
      "outputs": [],
      "source": [
        "def validate(model, classifier, projector_0, projector_1, val_loader, criterion, device, args):\n",
        "    \"\"\"\n",
        "    Multi-label + GroupMix Contrastive 평가용 검증 함수\n",
        "    - args.target_type 에 따라 grad_block, grad_flow, etc. 처리\n",
        "    - 입력: inputs [B, 1, F, T], labels [B, 2]\n",
        "    - 출력: 평균 loss, 전체 label, 전체 예측값\n",
        "    \"\"\"\n",
        "    import numpy as np\n",
        "    model.eval()\n",
        "    classifier.eval()\n",
        "    projector_0.eval()\n",
        "    projector_1.eval()\n",
        "\n",
        "    running_loss = 0.0\n",
        "    all_preds = []\n",
        "    all_labels = []\n",
        "\n",
        "    with torch.no_grad():\n",
        "        for inputs, labels, _ in val_loader:\n",
        "            inputs = inputs.to(device)\n",
        "            labels = labels.to(device)\n",
        "\n",
        "            # 1. Original forward (patch_mix=False)\n",
        "            attn_feat, _ = model(inputs, mix_feature=True, patch_mix=False)  # [B, 2, 512]\n",
        "\n",
        "            # 2. Classification logits\n",
        "            out = []\n",
        "            for i in range(attn_feat.shape[1]):\n",
        "                cls_feat = attn_feat[:, i, :]               # [B, 512]\n",
        "                logit = classifier[i](cls_feat).squeeze(-1) # [B]\n",
        "                out.append(logit)\n",
        "            logits = torch.stack(out, dim=1)  # [B, 2]\n",
        "\n",
        "            # 3. classification loss\n",
        "            loss_ce = criterion[0](logits, labels)\n",
        "\n",
        "            # 4. Projector1 (target type 설정)\n",
        "            if args.target_type == 'grad_block':\n",
        "                proj1_0 = projector_0(attn_feat[:, 0, :].detach())\n",
        "                proj1_1 = projector_1(attn_feat[:, 1, :].detach())\n",
        "            elif args.target_type == 'grad_flow':\n",
        "                proj1_0 = projector_0(attn_feat[:, 0, :])\n",
        "                proj1_1 = projector_1(attn_feat[:, 1, :])\n",
        "            elif args.target_type == 'project_block':\n",
        "                proj1_0 = projector_0(attn_feat[:, 0, :]).detach()\n",
        "                proj1_1 = projector_1(attn_feat[:, 1, :]).detach()\n",
        "            elif args.target_type == 'project_flow':\n",
        "                proj1_0 = projector_0(attn_feat[:, 0, :])\n",
        "                proj1_1 = projector_1(attn_feat[:, 1, :])\n",
        "\n",
        "            # 5. PatchMix 적용 (mix_feature=True)\n",
        "            mix_attn_feat, origin_feat, label_origin, label_mix, lam, index = model(inputs, y=labels, patch_mix=True, mix_feature=True)\n",
        "\n",
        "            # 6. mix는 무조건 projector 통과\n",
        "            proj2_0 = projector_0(mix_attn_feat[:, 0, :])\n",
        "            proj2_1 = projector_1(mix_attn_feat[:, 1, :])\n",
        "\n",
        "            # 7. Contrastive loss\n",
        "            loss_con0 = criterion[1](proj1_0, proj2_0, label_origin, label_mix, lam, index)\n",
        "            loss_con1 = criterion[1](proj1_1, proj2_1, label_origin, label_mix, lam, index)\n",
        "\n",
        "            # 8. Total loss\n",
        "            loss = loss_ce + args.alpha * (loss_con0 + loss_con1)\n",
        "            running_loss += loss.item()\n",
        "\n",
        "            # 9. Prediction\n",
        "            preds = (torch.sigmoid(logits) > 0.5).int()\n",
        "            all_preds.append(preds.cpu())\n",
        "            all_labels.append(labels.cpu())\n",
        "\n",
        "    all_preds = torch.cat(all_preds, dim=0).numpy()   # [N, 2]\n",
        "    all_labels = torch.cat(all_labels, dim=0).numpy() # [N, 2]\n",
        "\n",
        "    avg_loss = running_loss / len(val_loader)\n",
        "    return avg_loss, all_labels, all_preds\n"
      ]
    },
    {
      "cell_type": "code",
      "execution_count": 40,
      "id": "69de32ae",
      "metadata": {},
      "outputs": [
        {
          "data": {
            "text/html": [
              "Tracking run with wandb version 0.21.0"
            ],
            "text/plain": [
              "<IPython.core.display.HTML object>"
            ]
          },
          "metadata": {},
          "output_type": "display_data"
        },
        {
          "data": {
            "text/html": [
              "Run data is saved locally in <code>/home/HyeonSeok/wandb/run-20250722_180439-257gjp55</code>"
            ],
            "text/plain": [
              "<IPython.core.display.HTML object>"
            ]
          },
          "metadata": {},
          "output_type": "display_data"
        },
        {
          "data": {
            "text/html": [
              "Syncing run <strong><a href='https://wandb.ai/boaz_woony-boaz/0721_SBW_ICBHI_MLATT_all/runs/257gjp55' target=\"_blank\">0723_others_basefalse_1alpha_MultilabelAtt_T_128bs_2507230304</a></strong> to <a href='https://wandb.ai/boaz_woony-boaz/0721_SBW_ICBHI_MLATT_all' target=\"_blank\">Weights & Biases</a> (<a href='https://wandb.me/developer-guide' target=\"_blank\">docs</a>)<br>"
            ],
            "text/plain": [
              "<IPython.core.display.HTML object>"
            ]
          },
          "metadata": {},
          "output_type": "display_data"
        },
        {
          "data": {
            "text/html": [
              " View project at <a href='https://wandb.ai/boaz_woony-boaz/0721_SBW_ICBHI_MLATT_all' target=\"_blank\">https://wandb.ai/boaz_woony-boaz/0721_SBW_ICBHI_MLATT_all</a>"
            ],
            "text/plain": [
              "<IPython.core.display.HTML object>"
            ]
          },
          "metadata": {},
          "output_type": "display_data"
        },
        {
          "data": {
            "text/html": [
              " View run at <a href='https://wandb.ai/boaz_woony-boaz/0721_SBW_ICBHI_MLATT_all/runs/257gjp55' target=\"_blank\">https://wandb.ai/boaz_woony-boaz/0721_SBW_ICBHI_MLATT_all/runs/257gjp55</a>"
            ],
            "text/plain": [
              "<IPython.core.display.HTML object>"
            ]
          },
          "metadata": {},
          "output_type": "display_data"
        },
        {
          "name": "stderr",
          "output_type": "stream",
          "text": [
            "Mix_MLATT Trainig only: 100%|██████████| 32/32 [00:05<00:00,  5.51it/s]\n"
          ]
        },
        {
          "name": "stdout",
          "output_type": "stream",
          "text": [
            "[Epoch 0 | Train Loss: 5.3459, attn_feat: torch.Size([128, 2, 512])\n",
            "4-Class Confusion Matrix:\n",
            " [[1929   35   69   11]\n",
            " [1142   11   44    2]\n",
            " [ 456   16   15    6]\n",
            " [ 341    6   11    2]]\n",
            "Sensitivity: 0.0136, Specificity: 0.9437, ICBHI Score: 0.4787\n"
          ]
        },
        {
          "name": "stderr",
          "output_type": "stream",
          "text": [
            "/home/HyeonSeok/venv/lib/python3.10/site-packages/sklearn/metrics/_classification.py:1706: UndefinedMetricWarning: Precision is ill-defined and being set to 0.0 in labels with no predicted samples. Use `zero_division` parameter to control this behavior.\n",
            "  _warn_prf(average, modifier, f\"{metric.capitalize()} is\", result.shape[0])\n"
          ]
        },
        {
          "name": "stdout",
          "output_type": "stream",
          "text": [
            "[Validation] Confusion Matrix:\n",
            " [[1579    0    0    0]\n",
            " [ 649    0    0    0]\n",
            " [ 385    0    0    0]\n",
            " [ 143    0    0    0]]\n",
            "Test Loss: 6.6152\n",
            "[VALIDATION] Sensitivity: 0.0000, Specificity: 1.0000, Avg ICBHI Score: 0.5000\n",
            "##################################################\n",
            "=> Saved best checkpoint (epoch: 0, loss: 6.6152)\n"
          ]
        },
        {
          "name": "stderr",
          "output_type": "stream",
          "text": [
            "Mix_MLATT Trainig only: 100%|██████████| 32/32 [00:05<00:00,  5.85it/s]\n"
          ]
        },
        {
          "name": "stdout",
          "output_type": "stream",
          "text": [
            "[Epoch 1 | Train Loss: 4.1261, attn_feat: torch.Size([128, 2, 512])\n",
            "4-Class Confusion Matrix:\n",
            " [[2043    1    0    0]\n",
            " [1184   15    0    0]\n",
            " [ 493    0    0    0]\n",
            " [ 360    0    0    0]]\n",
            "Sensitivity: 0.0073, Specificity: 0.9995, ICBHI Score: 0.5034\n"
          ]
        },
        {
          "name": "stderr",
          "output_type": "stream",
          "text": [
            "/home/HyeonSeok/venv/lib/python3.10/site-packages/sklearn/metrics/_classification.py:1706: UndefinedMetricWarning: Precision is ill-defined and being set to 0.0 in labels with no predicted samples. Use `zero_division` parameter to control this behavior.\n",
            "  _warn_prf(average, modifier, f\"{metric.capitalize()} is\", result.shape[0])\n"
          ]
        },
        {
          "name": "stdout",
          "output_type": "stream",
          "text": [
            "[Validation] Confusion Matrix:\n",
            " [[1572    7    0    0]\n",
            " [ 634   15    0    0]\n",
            " [ 384    1    0    0]\n",
            " [ 143    0    0    0]]\n",
            "Test Loss: 6.6305\n",
            "[VALIDATION] Sensitivity: 0.0127, Specificity: 0.9956, Avg ICBHI Score: 0.5042\n",
            "##################################################\n"
          ]
        },
        {
          "name": "stderr",
          "output_type": "stream",
          "text": [
            "Mix_MLATT Trainig only: 100%|██████████| 32/32 [00:05<00:00,  5.80it/s]\n"
          ]
        },
        {
          "name": "stdout",
          "output_type": "stream",
          "text": [
            "[Epoch 2 | Train Loss: 4.1673, attn_feat: torch.Size([128, 2, 512])\n",
            "4-Class Confusion Matrix:\n",
            " [[2030   14    0    0]\n",
            " [1163   36    0    0]\n",
            " [ 491    2    0    0]\n",
            " [ 359    1    0    0]]\n",
            "Sensitivity: 0.0175, Specificity: 0.9932, ICBHI Score: 0.5053\n"
          ]
        },
        {
          "name": "stderr",
          "output_type": "stream",
          "text": [
            "/home/HyeonSeok/venv/lib/python3.10/site-packages/sklearn/metrics/_classification.py:1706: UndefinedMetricWarning: Precision is ill-defined and being set to 0.0 in labels with no predicted samples. Use `zero_division` parameter to control this behavior.\n",
            "  _warn_prf(average, modifier, f\"{metric.capitalize()} is\", result.shape[0])\n"
          ]
        },
        {
          "name": "stdout",
          "output_type": "stream",
          "text": [
            "[Validation] Confusion Matrix:\n",
            " [[1543   36    0    0]\n",
            " [ 577   72    0    0]\n",
            " [ 377    8    0    0]\n",
            " [ 141    2    0    0]]\n",
            "Test Loss: 7.3974\n",
            "[VALIDATION] Sensitivity: 0.0612, Specificity: 0.9772, Avg ICBHI Score: 0.5192\n",
            "##################################################\n"
          ]
        },
        {
          "name": "stderr",
          "output_type": "stream",
          "text": [
            "Mix_MLATT Trainig only: 100%|██████████| 32/32 [00:05<00:00,  5.79it/s]\n"
          ]
        },
        {
          "name": "stdout",
          "output_type": "stream",
          "text": [
            "[Epoch 3 | Train Loss: 4.8013, attn_feat: torch.Size([128, 2, 512])\n",
            "4-Class Confusion Matrix:\n",
            " [[1985   59    0    0]\n",
            " [1054  145    0    0]\n",
            " [ 487    6    0    0]\n",
            " [ 327   33    0    0]]\n",
            "Sensitivity: 0.0707, Specificity: 0.9711, ICBHI Score: 0.5209\n"
          ]
        },
        {
          "name": "stderr",
          "output_type": "stream",
          "text": [
            "/home/HyeonSeok/venv/lib/python3.10/site-packages/sklearn/metrics/_classification.py:1706: UndefinedMetricWarning: Precision is ill-defined and being set to 0.0 in labels with no predicted samples. Use `zero_division` parameter to control this behavior.\n",
            "  _warn_prf(average, modifier, f\"{metric.capitalize()} is\", result.shape[0])\n"
          ]
        },
        {
          "name": "stdout",
          "output_type": "stream",
          "text": [
            "[Validation] Confusion Matrix:\n",
            " [[1574    5    0    0]\n",
            " [ 626   23    0    0]\n",
            " [ 384    1    0    0]\n",
            " [ 143    0    0    0]]\n",
            "Test Loss: 7.2689\n",
            "[VALIDATION] Sensitivity: 0.0195, Specificity: 0.9968, Avg ICBHI Score: 0.5082\n",
            "##################################################\n"
          ]
        },
        {
          "name": "stderr",
          "output_type": "stream",
          "text": [
            "Mix_MLATT Trainig only: 100%|██████████| 32/32 [00:05<00:00,  5.80it/s]\n"
          ]
        },
        {
          "name": "stdout",
          "output_type": "stream",
          "text": [
            "[Epoch 4 | Train Loss: 4.4408, attn_feat: torch.Size([128, 2, 512])\n",
            "4-Class Confusion Matrix:\n",
            " [[1967   77    0    0]\n",
            " [1018  181    0    0]\n",
            " [ 482   11    0    0]\n",
            " [ 325   35    0    0]]\n",
            "Sensitivity: 0.0882, Specificity: 0.9623, ICBHI Score: 0.5253\n"
          ]
        },
        {
          "name": "stderr",
          "output_type": "stream",
          "text": [
            "/home/HyeonSeok/venv/lib/python3.10/site-packages/sklearn/metrics/_classification.py:1706: UndefinedMetricWarning: Precision is ill-defined and being set to 0.0 in labels with no predicted samples. Use `zero_division` parameter to control this behavior.\n",
            "  _warn_prf(average, modifier, f\"{metric.capitalize()} is\", result.shape[0])\n"
          ]
        },
        {
          "name": "stdout",
          "output_type": "stream",
          "text": [
            "[Validation] Confusion Matrix:\n",
            " [[1492   87    0    0]\n",
            " [ 527  122    0    0]\n",
            " [ 358   27    0    0]\n",
            " [ 130   13    0    0]]\n",
            "Test Loss: 6.7044\n",
            "[VALIDATION] Sensitivity: 0.1037, Specificity: 0.9449, Avg ICBHI Score: 0.5243\n",
            "##################################################\n"
          ]
        },
        {
          "name": "stderr",
          "output_type": "stream",
          "text": [
            "Mix_MLATT Trainig only: 100%|██████████| 32/32 [00:05<00:00,  5.78it/s]\n"
          ]
        },
        {
          "name": "stdout",
          "output_type": "stream",
          "text": [
            "[Epoch 5 | Train Loss: 3.9088, attn_feat: torch.Size([128, 2, 512])\n",
            "4-Class Confusion Matrix:\n",
            " [[1902  142    0    0]\n",
            " [ 869  330    0    0]\n",
            " [ 468   22    3    0]\n",
            " [ 286   74    0    0]]\n",
            "Sensitivity: 0.1623, Specificity: 0.9305, ICBHI Score: 0.5464\n"
          ]
        },
        {
          "name": "stderr",
          "output_type": "stream",
          "text": [
            "/home/HyeonSeok/venv/lib/python3.10/site-packages/sklearn/metrics/_classification.py:1706: UndefinedMetricWarning: Precision is ill-defined and being set to 0.0 in labels with no predicted samples. Use `zero_division` parameter to control this behavior.\n",
            "  _warn_prf(average, modifier, f\"{metric.capitalize()} is\", result.shape[0])\n"
          ]
        },
        {
          "name": "stdout",
          "output_type": "stream",
          "text": [
            "[Validation] Confusion Matrix:\n",
            " [[1402  177    0    0]\n",
            " [ 453  196    0    0]\n",
            " [ 326   59    0    0]\n",
            " [ 121   22    0    0]]\n",
            "Test Loss: 6.8358\n",
            "[VALIDATION] Sensitivity: 0.1665, Specificity: 0.8879, Avg ICBHI Score: 0.5272\n",
            "##################################################\n"
          ]
        },
        {
          "name": "stderr",
          "output_type": "stream",
          "text": [
            "Mix_MLATT Trainig only: 100%|██████████| 32/32 [00:05<00:00,  5.84it/s]\n"
          ]
        },
        {
          "name": "stdout",
          "output_type": "stream",
          "text": [
            "[Epoch 6 | Train Loss: 4.5956, attn_feat: torch.Size([128, 2, 512])\n",
            "4-Class Confusion Matrix:\n",
            " [[1856  187    1    0]\n",
            " [ 820  379    0    0]\n",
            " [ 458   33    2    0]\n",
            " [ 257  101    2    0]]\n",
            "Sensitivity: 0.1857, Specificity: 0.9080, ICBHI Score: 0.5468\n"
          ]
        },
        {
          "name": "stderr",
          "output_type": "stream",
          "text": [
            "/home/HyeonSeok/venv/lib/python3.10/site-packages/sklearn/metrics/_classification.py:1706: UndefinedMetricWarning: Precision is ill-defined and being set to 0.0 in labels with no predicted samples. Use `zero_division` parameter to control this behavior.\n",
            "  _warn_prf(average, modifier, f\"{metric.capitalize()} is\", result.shape[0])\n"
          ]
        },
        {
          "name": "stdout",
          "output_type": "stream",
          "text": [
            "[Validation] Confusion Matrix:\n",
            " [[1400  179    0    0]\n",
            " [ 418  231    0    0]\n",
            " [ 322   63    0    0]\n",
            " [ 123   20    0    0]]\n",
            "Test Loss: 7.0836\n",
            "[VALIDATION] Sensitivity: 0.1963, Specificity: 0.8866, Avg ICBHI Score: 0.5414\n",
            "##################################################\n"
          ]
        },
        {
          "name": "stderr",
          "output_type": "stream",
          "text": [
            "Mix_MLATT Trainig only: 100%|██████████| 32/32 [00:05<00:00,  5.85it/s]\n"
          ]
        },
        {
          "name": "stdout",
          "output_type": "stream",
          "text": [
            "[Epoch 7 | Train Loss: 4.3797, attn_feat: torch.Size([128, 2, 512])\n",
            "4-Class Confusion Matrix:\n",
            " [[1846  198    0    0]\n",
            " [ 766  433    0    0]\n",
            " [ 448   38    6    1]\n",
            " [ 244  113    3    0]]\n",
            "Sensitivity: 0.2139, Specificity: 0.9031, ICBHI Score: 0.5585\n",
            "[Validation] Confusion Matrix:\n",
            " [[1381  193    5    0]\n",
            " [ 429  220    0    0]\n",
            " [ 320   61    3    1]\n",
            " [ 120   23    0    0]]\n",
            "Test Loss: 7.0594\n",
            "[VALIDATION] Sensitivity: 0.1895, Specificity: 0.8746, Avg ICBHI Score: 0.5320\n",
            "##################################################\n"
          ]
        },
        {
          "name": "stderr",
          "output_type": "stream",
          "text": [
            "Mix_MLATT Trainig only: 100%|██████████| 32/32 [00:05<00:00,  5.84it/s]\n"
          ]
        },
        {
          "name": "stdout",
          "output_type": "stream",
          "text": [
            "[Epoch 8 | Train Loss: 4.0222, attn_feat: torch.Size([128, 2, 512])\n",
            "4-Class Confusion Matrix:\n",
            " [[1799  242    3    0]\n",
            " [ 643  555    1    0]\n",
            " [ 400   46   43    4]\n",
            " [ 207  130   16    7]]\n",
            "Sensitivity: 0.2948, Specificity: 0.8801, ICBHI Score: 0.5875\n",
            "[Validation] Confusion Matrix:\n",
            " [[1330  240    9    0]\n",
            " [ 377  271    1    0]\n",
            " [ 303   75    6    1]\n",
            " [ 114   29    0    0]]\n",
            "Test Loss: 6.4748\n",
            "[VALIDATION] Sensitivity: 0.2353, Specificity: 0.8423, Avg ICBHI Score: 0.5388\n",
            "##################################################\n",
            "=> Saved best checkpoint (epoch: 8, loss: 6.4748)\n"
          ]
        },
        {
          "name": "stderr",
          "output_type": "stream",
          "text": [
            "Mix_MLATT Trainig only: 100%|██████████| 32/32 [00:05<00:00,  5.83it/s]\n"
          ]
        },
        {
          "name": "stdout",
          "output_type": "stream",
          "text": [
            "[Epoch 9 | Train Loss: 4.4717, attn_feat: torch.Size([128, 2, 512])\n",
            "4-Class Confusion Matrix:\n",
            " [[1857  181    5    1]\n",
            " [ 708  491    0    0]\n",
            " [ 374   35   80    4]\n",
            " [ 207  108   33   12]]\n",
            "Sensitivity: 0.2841, Specificity: 0.9085, ICBHI Score: 0.5963\n",
            "[Validation] Confusion Matrix:\n",
            " [[1366  190   23    0]\n",
            " [ 433  212    4    0]\n",
            " [ 311   53   19    2]\n",
            " [ 122   20    1    0]]\n",
            "Test Loss: 6.8539\n",
            "[VALIDATION] Sensitivity: 0.1963, Specificity: 0.8651, Avg ICBHI Score: 0.5307\n",
            "##################################################\n"
          ]
        },
        {
          "name": "stderr",
          "output_type": "stream",
          "text": [
            "Mix_MLATT Trainig only: 100%|██████████| 32/32 [00:05<00:00,  5.83it/s]\n"
          ]
        },
        {
          "name": "stdout",
          "output_type": "stream",
          "text": [
            "[Epoch 10 | Train Loss: 3.9425, attn_feat: torch.Size([128, 2, 512])\n",
            "4-Class Confusion Matrix:\n",
            " [[1804  232    7    1]\n",
            " [ 628  570    1    0]\n",
            " [ 352   32  105    4]\n",
            " [ 184  125   37   14]]\n",
            "Sensitivity: 0.3358, Specificity: 0.8826, ICBHI Score: 0.6092\n",
            "[Validation] Confusion Matrix:\n",
            " [[1235  308   36    0]\n",
            " [ 345  298    6    0]\n",
            " [ 268   88   25    4]\n",
            " [ 101   34    8    0]]\n",
            "Test Loss: 6.3465\n",
            "[VALIDATION] Sensitivity: 0.2744, Specificity: 0.7821, Avg ICBHI Score: 0.5283\n",
            "##################################################\n",
            "=> Saved best checkpoint (epoch: 10, loss: 6.3465)\n"
          ]
        },
        {
          "name": "stderr",
          "output_type": "stream",
          "text": [
            "Mix_MLATT Trainig only: 100%|██████████| 32/32 [00:05<00:00,  5.78it/s]\n"
          ]
        },
        {
          "name": "stdout",
          "output_type": "stream",
          "text": [
            "[Epoch 11 | Train Loss: 3.7710, attn_feat: torch.Size([128, 2, 512])\n",
            "4-Class Confusion Matrix:\n",
            " [[1801  226   16    1]\n",
            " [ 610  587    2    0]\n",
            " [ 304   31  150    8]\n",
            " [ 156  118   63   23]]\n",
            "Sensitivity: 0.3704, Specificity: 0.8811, ICBHI Score: 0.6257\n",
            "[Validation] Confusion Matrix:\n",
            " [[1279  202   97    1]\n",
            " [ 378  253   16    2]\n",
            " [ 278   46   51   10]\n",
            " [ 104   21   15    3]]\n",
            "Test Loss: 6.5756\n",
            "[VALIDATION] Sensitivity: 0.2608, Specificity: 0.8100, Avg ICBHI Score: 0.5354\n",
            "##################################################\n"
          ]
        },
        {
          "name": "stderr",
          "output_type": "stream",
          "text": [
            "Mix_MLATT Trainig only: 100%|██████████| 32/32 [00:05<00:00,  5.80it/s]\n"
          ]
        },
        {
          "name": "stdout",
          "output_type": "stream",
          "text": [
            "[Epoch 12 | Train Loss: 3.7560, attn_feat: torch.Size([128, 2, 512])\n",
            "4-Class Confusion Matrix:\n",
            " [[1779  237   24    4]\n",
            " [ 554  639    3    3]\n",
            " [ 259   42  183    9]\n",
            " [ 130  114   76   40]]\n",
            "Sensitivity: 0.4201, Specificity: 0.8704, ICBHI Score: 0.6452\n",
            "[Validation] Confusion Matrix:\n",
            " [[1108  232  236    3]\n",
            " [ 355  261   25    8]\n",
            " [ 209   51  110   15]\n",
            " [  88   21   28    6]]\n",
            "Test Loss: 5.9607\n",
            "[VALIDATION] Sensitivity: 0.3203, Specificity: 0.7017, Avg ICBHI Score: 0.5110\n",
            "##################################################\n",
            "=> Saved best checkpoint (epoch: 12, loss: 5.9607)\n"
          ]
        },
        {
          "name": "stderr",
          "output_type": "stream",
          "text": [
            "Mix_MLATT Trainig only: 100%|██████████| 32/32 [00:05<00:00,  5.80it/s]\n"
          ]
        },
        {
          "name": "stdout",
          "output_type": "stream",
          "text": [
            "[Epoch 13 | Train Loss: 3.5747, attn_feat: torch.Size([128, 2, 512])\n",
            "4-Class Confusion Matrix:\n",
            " [[1774  247   20    3]\n",
            " [ 511  682    3    3]\n",
            " [ 242   38  196   17]\n",
            " [ 119  121   72   48]]\n",
            "Sensitivity: 0.4513, Specificity: 0.8679, ICBHI Score: 0.6596\n",
            "[Validation] Confusion Matrix:\n",
            " [[1187  231  157    4]\n",
            " [ 366  263   17    3]\n",
            " [ 253   54   65   13]\n",
            " [  97   26   16    4]]\n",
            "Test Loss: 6.3885\n",
            "[VALIDATION] Sensitivity: 0.2821, Specificity: 0.7517, Avg ICBHI Score: 0.5169\n",
            "##################################################\n"
          ]
        },
        {
          "name": "stderr",
          "output_type": "stream",
          "text": [
            "Mix_MLATT Trainig only: 100%|██████████| 32/32 [00:05<00:00,  5.85it/s]\n"
          ]
        },
        {
          "name": "stdout",
          "output_type": "stream",
          "text": [
            "[Epoch 14 | Train Loss: 3.7855, attn_feat: torch.Size([128, 2, 512])\n",
            "4-Class Confusion Matrix:\n",
            " [[1737  276   28    3]\n",
            " [ 448  744    1    6]\n",
            " [ 226   36  210   21]\n",
            " [  90  128   81   61]]\n",
            "Sensitivity: 0.4946, Specificity: 0.8498, ICBHI Score: 0.6722\n",
            "[Validation] Confusion Matrix:\n",
            " [[1178  250  149    2]\n",
            " [ 340  287   21    1]\n",
            " [ 231   67   76   11]\n",
            " [  83   35   19    6]]\n",
            "Test Loss: 6.6683\n",
            "[VALIDATION] Sensitivity: 0.3135, Specificity: 0.7460, Avg ICBHI Score: 0.5298\n",
            "##################################################\n"
          ]
        },
        {
          "name": "stderr",
          "output_type": "stream",
          "text": [
            "Mix_MLATT Trainig only: 100%|██████████| 32/32 [00:05<00:00,  5.85it/s]\n"
          ]
        },
        {
          "name": "stdout",
          "output_type": "stream",
          "text": [
            "[Epoch 15 | Train Loss: 3.7183, attn_feat: torch.Size([128, 2, 512])\n",
            "4-Class Confusion Matrix:\n",
            " [[1770  251   22    1]\n",
            " [ 458  736    0    5]\n",
            " [ 230   32  210   21]\n",
            " [  92  114   95   59]]\n",
            "Sensitivity: 0.4898, Specificity: 0.8659, ICBHI Score: 0.6779\n",
            "[Validation] Confusion Matrix:\n",
            " [[1194  219  162    4]\n",
            " [ 394  229   25    1]\n",
            " [ 250   49   72   14]\n",
            " [  94   23   25    1]]\n",
            "Test Loss: 6.4345\n",
            "[VALIDATION] Sensitivity: 0.2566, Specificity: 0.7562, Avg ICBHI Score: 0.5064\n",
            "##################################################\n"
          ]
        },
        {
          "name": "stderr",
          "output_type": "stream",
          "text": [
            "Mix_MLATT Trainig only: 100%|██████████| 32/32 [00:05<00:00,  5.86it/s]\n"
          ]
        },
        {
          "name": "stdout",
          "output_type": "stream",
          "text": [
            "[Epoch 16 | Train Loss: 4.2761, attn_feat: torch.Size([128, 2, 512])\n",
            "4-Class Confusion Matrix:\n",
            " [[1770  252   21    1]\n",
            " [ 480  712    1    6]\n",
            " [ 195   33  247   18]\n",
            " [  85  105  102   68]]\n",
            "Sensitivity: 0.5005, Specificity: 0.8659, ICBHI Score: 0.6832\n",
            "[Validation] Confusion Matrix:\n",
            " [[1058  264  248    9]\n",
            " [ 323  284   31   11]\n",
            " [ 205   57  100   23]\n",
            " [  65   36   30   12]]\n",
            "Test Loss: 6.2795\n",
            "[VALIDATION] Sensitivity: 0.3364, Specificity: 0.6700, Avg ICBHI Score: 0.5032\n",
            "##################################################\n"
          ]
        },
        {
          "name": "stderr",
          "output_type": "stream",
          "text": [
            "Mix_MLATT Trainig only: 100%|██████████| 32/32 [00:05<00:00,  5.86it/s]\n"
          ]
        },
        {
          "name": "stdout",
          "output_type": "stream",
          "text": [
            "[Epoch 17 | Train Loss: 4.0859, attn_feat: torch.Size([128, 2, 512])\n",
            "4-Class Confusion Matrix:\n",
            " [[1804  213   24    3]\n",
            " [ 448  746    3    2]\n",
            " [ 207   16  242   28]\n",
            " [  80   96   92   92]]\n",
            "Sensitivity: 0.5263, Specificity: 0.8826, ICBHI Score: 0.7044\n",
            "[Validation] Confusion Matrix:\n",
            " [[1207  241  128    3]\n",
            " [ 356  273   17    3]\n",
            " [ 244   61   66   14]\n",
            " [  81   31   26    5]]\n",
            "Test Loss: 6.4146\n",
            "[VALIDATION] Sensitivity: 0.2923, Specificity: 0.7644, Avg ICBHI Score: 0.5283\n",
            "##################################################\n"
          ]
        },
        {
          "name": "stderr",
          "output_type": "stream",
          "text": [
            "Mix_MLATT Trainig only: 100%|██████████| 32/32 [00:05<00:00,  5.83it/s]\n"
          ]
        },
        {
          "name": "stdout",
          "output_type": "stream",
          "text": [
            "[Epoch 18 | Train Loss: 3.8310, attn_feat: torch.Size([128, 2, 512])\n",
            "4-Class Confusion Matrix:\n",
            " [[1813  208   23    0]\n",
            " [ 435  756    5    3]\n",
            " [ 183   22  265   23]\n",
            " [  73  102  100   85]]\n",
            "Sensitivity: 0.5390, Specificity: 0.8870, ICBHI Score: 0.7130\n",
            "[Validation] Confusion Matrix:\n",
            " [[1275  164  138    2]\n",
            " [ 418  217   14    0]\n",
            " [ 269   40   67    9]\n",
            " [  97   22   21    3]]\n",
            "Test Loss: 6.3277\n",
            "[VALIDATION] Sensitivity: 0.2438, Specificity: 0.8075, Avg ICBHI Score: 0.5257\n",
            "##################################################\n"
          ]
        },
        {
          "name": "stderr",
          "output_type": "stream",
          "text": [
            "Mix_MLATT Trainig only: 100%|██████████| 32/32 [00:05<00:00,  5.80it/s]\n"
          ]
        },
        {
          "name": "stdout",
          "output_type": "stream",
          "text": [
            "[Epoch 19 | Train Loss: 3.7726, attn_feat: torch.Size([128, 2, 512])\n",
            "4-Class Confusion Matrix:\n",
            " [[1787  228   28    1]\n",
            " [ 382  808    6    3]\n",
            " [ 159   21  280   33]\n",
            " [  67  102   84  107]]\n",
            "Sensitivity: 0.5824, Specificity: 0.8743, ICBHI Score: 0.7283\n",
            "[Validation] Confusion Matrix:\n",
            " [[1122  222  231    4]\n",
            " [ 349  272   23    5]\n",
            " [ 212   52  100   21]\n",
            " [  75   32   27    9]]\n",
            "Test Loss: 6.5736\n",
            "[VALIDATION] Sensitivity: 0.3237, Specificity: 0.7106, Avg ICBHI Score: 0.5171\n",
            "##################################################\n"
          ]
        },
        {
          "name": "stderr",
          "output_type": "stream",
          "text": [
            "Mix_MLATT Trainig only: 100%|██████████| 32/32 [00:05<00:00,  5.80it/s]\n"
          ]
        },
        {
          "name": "stdout",
          "output_type": "stream",
          "text": [
            "[Epoch 20 | Train Loss: 4.4668, attn_feat: torch.Size([128, 2, 512])\n",
            "4-Class Confusion Matrix:\n",
            " [[1828  193   23    0]\n",
            " [ 412  783    2    2]\n",
            " [ 158   19  290   26]\n",
            " [  61   89   98  112]]\n",
            "Sensitivity: 0.5775, Specificity: 0.8943, ICBHI Score: 0.7359\n",
            "[Validation] Confusion Matrix:\n",
            " [[1104  232  232   11]\n",
            " [ 323  297   22    7]\n",
            " [ 191   59  106   29]\n",
            " [  67   33   27   16]]\n",
            "Test Loss: 6.5408\n",
            "[VALIDATION] Sensitivity: 0.3560, Specificity: 0.6992, Avg ICBHI Score: 0.5276\n",
            "##################################################\n"
          ]
        },
        {
          "name": "stderr",
          "output_type": "stream",
          "text": [
            "Mix_MLATT Trainig only: 100%|██████████| 32/32 [00:05<00:00,  5.82it/s]\n"
          ]
        },
        {
          "name": "stdout",
          "output_type": "stream",
          "text": [
            "[Epoch 21 | Train Loss: 3.9453, attn_feat: torch.Size([128, 2, 512])\n",
            "4-Class Confusion Matrix:\n",
            " [[1807  216   20    1]\n",
            " [ 354  838    1    6]\n",
            " [ 154   15  292   32]\n",
            " [  52   97   86  125]]\n",
            "Sensitivity: 0.6116, Specificity: 0.8841, ICBHI Score: 0.7478\n",
            "[Validation] Confusion Matrix:\n",
            " [[1011  284  275    9]\n",
            " [ 294  319   28    8]\n",
            " [ 184   62  114   25]\n",
            " [  59   33   39   12]]\n",
            "Test Loss: 6.5028\n",
            "[VALIDATION] Sensitivity: 0.3781, Specificity: 0.6403, Avg ICBHI Score: 0.5092\n",
            "##################################################\n"
          ]
        },
        {
          "name": "stderr",
          "output_type": "stream",
          "text": [
            "Mix_MLATT Trainig only: 100%|██████████| 32/32 [00:05<00:00,  5.86it/s]\n"
          ]
        },
        {
          "name": "stdout",
          "output_type": "stream",
          "text": [
            "[Epoch 22 | Train Loss: 3.9910, attn_feat: torch.Size([128, 2, 512])\n",
            "4-Class Confusion Matrix:\n",
            " [[1816  202   26    0]\n",
            " [ 355  835    3    6]\n",
            " [ 151   17  294   31]\n",
            " [  54  103   80  123]]\n",
            "Sensitivity: 0.6101, Specificity: 0.8885, ICBHI Score: 0.7493\n",
            "[Validation] Confusion Matrix:\n",
            " [[986 298 282  13]\n",
            " [288 321  33   7]\n",
            " [170  67 116  32]\n",
            " [ 55  35  37  16]]\n",
            "Test Loss: 6.6703\n",
            "[VALIDATION] Sensitivity: 0.3849, Specificity: 0.6244, Avg ICBHI Score: 0.5047\n",
            "##################################################\n"
          ]
        },
        {
          "name": "stderr",
          "output_type": "stream",
          "text": [
            "Mix_MLATT Trainig only: 100%|██████████| 32/32 [00:05<00:00,  5.85it/s]\n"
          ]
        },
        {
          "name": "stdout",
          "output_type": "stream",
          "text": [
            "[Epoch 23 | Train Loss: 4.0334, attn_feat: torch.Size([128, 2, 512])\n",
            "4-Class Confusion Matrix:\n",
            " [[1819  203   21    1]\n",
            " [ 333  860    1    5]\n",
            " [ 120   16  320   37]\n",
            " [  44   94   85  137]]\n",
            "Sensitivity: 0.6418, Specificity: 0.8899, ICBHI Score: 0.7659\n",
            "[Validation] Confusion Matrix:\n",
            " [[1158  195  217    9]\n",
            " [ 361  261   25    2]\n",
            " [ 219   46   97   23]\n",
            " [  72   27   35    9]]\n",
            "Test Loss: 6.3173\n",
            "[VALIDATION] Sensitivity: 0.3118, Specificity: 0.7334, Avg ICBHI Score: 0.5226\n",
            "##################################################\n"
          ]
        },
        {
          "name": "stderr",
          "output_type": "stream",
          "text": [
            "Mix_MLATT Trainig only: 100%|██████████| 32/32 [00:05<00:00,  5.86it/s]\n"
          ]
        },
        {
          "name": "stdout",
          "output_type": "stream",
          "text": [
            "[Epoch 24 | Train Loss: 3.8611, attn_feat: torch.Size([128, 2, 512])\n",
            "4-Class Confusion Matrix:\n",
            " [[1838  187   18    1]\n",
            " [ 352  844    0    3]\n",
            " [ 119   18  327   29]\n",
            " [  41   92   77  150]]\n",
            "Sensitivity: 0.6438, Specificity: 0.8992, ICBHI Score: 0.7715\n",
            "[Validation] Confusion Matrix:\n",
            " [[1028  249  284   18]\n",
            " [ 313  293   36    7]\n",
            " [ 188   52  116   29]\n",
            " [  52   27   43   21]]\n",
            "Test Loss: 6.8465\n",
            "[VALIDATION] Sensitivity: 0.3653, Specificity: 0.6510, Avg ICBHI Score: 0.5082\n",
            "##################################################\n"
          ]
        },
        {
          "name": "stderr",
          "output_type": "stream",
          "text": [
            "Mix_MLATT Trainig only: 100%|██████████| 32/32 [00:05<00:00,  5.86it/s]\n"
          ]
        },
        {
          "name": "stdout",
          "output_type": "stream",
          "text": [
            "[Epoch 25 | Train Loss: 3.8796, attn_feat: torch.Size([128, 2, 512])\n",
            "4-Class Confusion Matrix:\n",
            " [[1837  190   16    1]\n",
            " [ 327  866    3    3]\n",
            " [ 113   20  323   37]\n",
            " [  24  105   73  158]]\n",
            "Sensitivity: 0.6564, Specificity: 0.8987, ICBHI Score: 0.7776\n",
            "[Validation] Confusion Matrix:\n",
            " [[960 234 372  13]\n",
            " [311 286  40  12]\n",
            " [148  54 158  25]\n",
            " [ 49  25  49  20]]\n",
            "Test Loss: 6.1788\n",
            "[VALIDATION] Sensitivity: 0.3942, Specificity: 0.6080, Avg ICBHI Score: 0.5011\n",
            "##################################################\n"
          ]
        },
        {
          "name": "stderr",
          "output_type": "stream",
          "text": [
            "Mix_MLATT Trainig only: 100%|██████████| 32/32 [00:05<00:00,  5.84it/s]\n"
          ]
        },
        {
          "name": "stdout",
          "output_type": "stream",
          "text": [
            "[Epoch 26 | Train Loss: 3.9450, attn_feat: torch.Size([128, 2, 512])\n",
            "4-Class Confusion Matrix:\n",
            " [[1842  176   26    0]\n",
            " [ 300  892    2    5]\n",
            " [ 106   15  334   38]\n",
            " [  34   93   81  152]]\n",
            "Sensitivity: 0.6715, Specificity: 0.9012, ICBHI Score: 0.7864\n",
            "[Validation] Confusion Matrix:\n",
            " [[982 332 253  12]\n",
            " [300 318  24   7]\n",
            " [183  70 107  25]\n",
            " [ 63  39  26  15]]\n",
            "Test Loss: 6.5473\n",
            "[VALIDATION] Sensitivity: 0.3738, Specificity: 0.6219, Avg ICBHI Score: 0.4979\n",
            "##################################################\n"
          ]
        },
        {
          "name": "stderr",
          "output_type": "stream",
          "text": [
            "Mix_MLATT Trainig only: 100%|██████████| 32/32 [00:05<00:00,  5.80it/s]\n"
          ]
        },
        {
          "name": "stdout",
          "output_type": "stream",
          "text": [
            "[Epoch 27 | Train Loss: 3.9123, attn_feat: torch.Size([128, 2, 512])\n",
            "4-Class Confusion Matrix:\n",
            " [[1854  173   15    2]\n",
            " [ 285  906    1    7]\n",
            " [ 114   15  332   32]\n",
            " [  28   97   77  158]]\n",
            "Sensitivity: 0.6803, Specificity: 0.9070, ICBHI Score: 0.7937\n",
            "[Validation] Confusion Matrix:\n",
            " [[1113  209  244   13]\n",
            " [ 359  254   32    4]\n",
            " [ 181   52  126   26]\n",
            " [  61   33   36   13]]\n",
            "Test Loss: 6.1737\n",
            "[VALIDATION] Sensitivity: 0.3339, Specificity: 0.7049, Avg ICBHI Score: 0.5194\n",
            "##################################################\n"
          ]
        },
        {
          "name": "stderr",
          "output_type": "stream",
          "text": [
            "Mix_MLATT Trainig only: 100%|██████████| 32/32 [00:05<00:00,  5.81it/s]\n"
          ]
        },
        {
          "name": "stdout",
          "output_type": "stream",
          "text": [
            "[Epoch 28 | Train Loss: 4.1081, attn_feat: torch.Size([128, 2, 512])\n",
            "4-Class Confusion Matrix:\n",
            " [[1861  168   13    2]\n",
            " [ 285  910    1    3]\n",
            " [  99   13  356   25]\n",
            " [  22   91   73  174]]\n",
            "Sensitivity: 0.7018, Specificity: 0.9105, ICBHI Score: 0.8061\n",
            "[Validation] Confusion Matrix:\n",
            " [[1023  269  273   14]\n",
            " [ 317  297   24   11]\n",
            " [ 190   53  117   25]\n",
            " [  57   29   39   18]]\n",
            "Test Loss: 6.7030\n",
            "[VALIDATION] Sensitivity: 0.3670, Specificity: 0.6479, Avg ICBHI Score: 0.5075\n",
            "##################################################\n"
          ]
        },
        {
          "name": "stderr",
          "output_type": "stream",
          "text": [
            "Mix_MLATT Trainig only: 100%|██████████| 32/32 [00:05<00:00,  5.81it/s]\n"
          ]
        },
        {
          "name": "stdout",
          "output_type": "stream",
          "text": [
            "[Epoch 29 | Train Loss: 3.8453, attn_feat: torch.Size([128, 2, 512])\n",
            "4-Class Confusion Matrix:\n",
            " [[1876  155   12    1]\n",
            " [ 306  887    2    4]\n",
            " [  93   12  356   32]\n",
            " [  28   82   65  185]]\n",
            "Sensitivity: 0.6959, Specificity: 0.9178, ICBHI Score: 0.8069\n",
            "[Validation] Confusion Matrix:\n",
            " [[1151  158  263    7]\n",
            " [ 361  258   26    4]\n",
            " [ 204   49  117   15]\n",
            " [  72   25   35   11]]\n",
            "Test Loss: 6.4125\n",
            "[VALIDATION] Sensitivity: 0.3280, Specificity: 0.7289, Avg ICBHI Score: 0.5284\n",
            "##################################################\n"
          ]
        },
        {
          "name": "stderr",
          "output_type": "stream",
          "text": [
            "Mix_MLATT Trainig only: 100%|██████████| 32/32 [00:05<00:00,  5.86it/s]\n"
          ]
        },
        {
          "name": "stdout",
          "output_type": "stream",
          "text": [
            "[Epoch 30 | Train Loss: 3.4521, attn_feat: torch.Size([128, 2, 512])\n",
            "4-Class Confusion Matrix:\n",
            " [[1877  159    8    0]\n",
            " [ 271  922    2    4]\n",
            " [ 100   17  339   37]\n",
            " [  26   89   60  185]]\n",
            "Sensitivity: 0.7047, Specificity: 0.9183, ICBHI Score: 0.8115\n",
            "[Validation] Confusion Matrix:\n",
            " [[1072  278  219   10]\n",
            " [ 306  311   28    4]\n",
            " [ 196   66  104   19]\n",
            " [  60   33   38   12]]\n",
            "Test Loss: 6.3060\n",
            "[VALIDATION] Sensitivity: 0.3628, Specificity: 0.6789, Avg ICBHI Score: 0.5208\n",
            "##################################################\n"
          ]
        },
        {
          "name": "stderr",
          "output_type": "stream",
          "text": [
            "Mix_MLATT Trainig only: 100%|██████████| 32/32 [00:05<00:00,  5.86it/s]\n"
          ]
        },
        {
          "name": "stdout",
          "output_type": "stream",
          "text": [
            "[Epoch 31 | Train Loss: 3.6187, attn_feat: torch.Size([128, 2, 512])\n",
            "4-Class Confusion Matrix:\n",
            " [[1901  126   15    2]\n",
            " [ 275  916    2    6]\n",
            " [  75    9  382   27]\n",
            " [  16   72   59  213]]\n",
            "Sensitivity: 0.7364, Specificity: 0.9300, ICBHI Score: 0.8332\n",
            "[Validation] Confusion Matrix:\n",
            " [[1031  232  303   13]\n",
            " [ 319  291   28   11]\n",
            " [ 172   55  136   22]\n",
            " [  64   28   38   13]]\n",
            "Test Loss: 6.6035\n",
            "[VALIDATION] Sensitivity: 0.3738, Specificity: 0.6529, Avg ICBHI Score: 0.5134\n",
            "##################################################\n"
          ]
        },
        {
          "name": "stderr",
          "output_type": "stream",
          "text": [
            "Mix_MLATT Trainig only: 100%|██████████| 32/32 [00:05<00:00,  5.86it/s]\n"
          ]
        },
        {
          "name": "stdout",
          "output_type": "stream",
          "text": [
            "[Epoch 32 | Train Loss: 3.5638, attn_feat: torch.Size([128, 2, 512])\n",
            "4-Class Confusion Matrix:\n",
            " [[1917  117   10    0]\n",
            " [ 251  939    3    6]\n",
            " [  72   12  382   27]\n",
            " [  14   66   58  222]]\n",
            "Sensitivity: 0.7519, Specificity: 0.9379, ICBHI Score: 0.8449\n",
            "[Validation] Confusion Matrix:\n",
            " [[1127  253  189   10]\n",
            " [ 306  315   19    9]\n",
            " [ 221   59   81   24]\n",
            " [  75   26   22   20]]\n",
            "Test Loss: 6.3029\n",
            "[VALIDATION] Sensitivity: 0.3534, Specificity: 0.7137, Avg ICBHI Score: 0.5336\n",
            "##################################################\n"
          ]
        },
        {
          "name": "stderr",
          "output_type": "stream",
          "text": [
            "Mix_MLATT Trainig only: 100%|██████████| 32/32 [00:05<00:00,  5.82it/s]\n"
          ]
        },
        {
          "name": "stdout",
          "output_type": "stream",
          "text": [
            "[Epoch 33 | Train Loss: 3.6711, attn_feat: torch.Size([128, 2, 512])\n",
            "4-Class Confusion Matrix:\n",
            " [[1899  135   10    0]\n",
            " [ 203  992    0    4]\n",
            " [  77    7  379   30]\n",
            " [   9   67   50  234]]\n",
            "Sensitivity: 0.7822, Specificity: 0.9291, ICBHI Score: 0.8556\n",
            "[Validation] Confusion Matrix:\n",
            " [[1050  208  312    9]\n",
            " [ 320  285   35    9]\n",
            " [ 164   57  141   23]\n",
            " [  63   21   40   19]]\n",
            "Test Loss: 6.1790\n",
            "[VALIDATION] Sensitivity: 0.3781, Specificity: 0.6650, Avg ICBHI Score: 0.5215\n",
            "##################################################\n"
          ]
        },
        {
          "name": "stderr",
          "output_type": "stream",
          "text": [
            "Mix_MLATT Trainig only: 100%|██████████| 32/32 [00:05<00:00,  5.82it/s]\n"
          ]
        },
        {
          "name": "stdout",
          "output_type": "stream",
          "text": [
            "[Epoch 34 | Train Loss: 3.9197, attn_feat: torch.Size([128, 2, 512])\n",
            "4-Class Confusion Matrix:\n",
            " [[1915  116   13    0]\n",
            " [ 218  977    2    2]\n",
            " [  75    9  386   23]\n",
            " [  17   67   43  233]]\n",
            "Sensitivity: 0.7778, Specificity: 0.9369, ICBHI Score: 0.8573\n",
            "[Validation] Confusion Matrix:\n",
            " [[1141  219  205   14]\n",
            " [ 322  302   18    7]\n",
            " [ 217   58   85   25]\n",
            " [  68   30   29   16]]\n",
            "Test Loss: 6.7079\n",
            "[VALIDATION] Sensitivity: 0.3424, Specificity: 0.7226, Avg ICBHI Score: 0.5325\n",
            "##################################################\n"
          ]
        },
        {
          "name": "stderr",
          "output_type": "stream",
          "text": [
            "Mix_MLATT Trainig only: 100%|██████████| 32/32 [00:05<00:00,  5.79it/s]\n"
          ]
        },
        {
          "name": "stdout",
          "output_type": "stream",
          "text": [
            "[Epoch 35 | Train Loss: 3.3816, attn_feat: torch.Size([128, 2, 512])\n",
            "4-Class Confusion Matrix:\n",
            " [[1940   95    9    0]\n",
            " [ 189  999    2    9]\n",
            " [  69    4  389   31]\n",
            " [   6   57   39  258]]\n",
            "Sensitivity: 0.8021, Specificity: 0.9491, ICBHI Score: 0.8756\n",
            "[Validation] Confusion Matrix:\n",
            " [[1084  224  256   15]\n",
            " [ 310  304   28    7]\n",
            " [ 173   63  129   20]\n",
            " [  61   31   34   17]]\n",
            "Test Loss: 6.6279\n",
            "[VALIDATION] Sensitivity: 0.3823, Specificity: 0.6865, Avg ICBHI Score: 0.5344\n",
            "##################################################\n"
          ]
        },
        {
          "name": "stderr",
          "output_type": "stream",
          "text": [
            "Mix_MLATT Trainig only: 100%|██████████| 32/32 [00:05<00:00,  5.80it/s]\n"
          ]
        },
        {
          "name": "stdout",
          "output_type": "stream",
          "text": [
            "[Epoch 36 | Train Loss: 3.1981, attn_feat: torch.Size([128, 2, 512])\n",
            "4-Class Confusion Matrix:\n",
            " [[1937   95   12    0]\n",
            " [ 181 1013    2    3]\n",
            " [  65    6  391   31]\n",
            " [   3   63   38  256]]\n",
            "Sensitivity: 0.8090, Specificity: 0.9477, ICBHI Score: 0.8783\n",
            "[Validation] Confusion Matrix:\n",
            " [[980 304 276  19]\n",
            " [282 329  28  10]\n",
            " [159  76 122  28]\n",
            " [ 60  35  31  17]]\n",
            "Test Loss: 6.4289\n",
            "[VALIDATION] Sensitivity: 0.3976, Specificity: 0.6206, Avg ICBHI Score: 0.5091\n",
            "##################################################\n"
          ]
        },
        {
          "name": "stderr",
          "output_type": "stream",
          "text": [
            "Mix_MLATT Trainig only: 100%|██████████| 32/32 [00:05<00:00,  5.80it/s]\n"
          ]
        },
        {
          "name": "stdout",
          "output_type": "stream",
          "text": [
            "[Epoch 37 | Train Loss: 3.7688, attn_feat: torch.Size([128, 2, 512])\n",
            "4-Class Confusion Matrix:\n",
            " [[1946   88   10    0]\n",
            " [ 174 1020    2    3]\n",
            " [  49    7  416   21]\n",
            " [   3   47   44  266]]\n",
            "Sensitivity: 0.8294, Specificity: 0.9521, ICBHI Score: 0.8907\n",
            "[Validation] Confusion Matrix:\n",
            " [[985 267 315  12]\n",
            " [270 333  34  12]\n",
            " [143  71 140  31]\n",
            " [ 52  26  42  23]]\n",
            "Test Loss: 6.5999\n",
            "[VALIDATION] Sensitivity: 0.4214, Specificity: 0.6238, Avg ICBHI Score: 0.5226\n",
            "##################################################\n"
          ]
        },
        {
          "name": "stderr",
          "output_type": "stream",
          "text": [
            "Mix_MLATT Trainig only: 100%|██████████| 32/32 [00:05<00:00,  5.85it/s]\n"
          ]
        },
        {
          "name": "stdout",
          "output_type": "stream",
          "text": [
            "[Epoch 38 | Train Loss: 3.6866, attn_feat: torch.Size([128, 2, 512])\n",
            "4-Class Confusion Matrix:\n",
            " [[1968   69    7    0]\n",
            " [ 165 1032    0    2]\n",
            " [  40    5  429   19]\n",
            " [   5   50   30  275]]\n",
            "Sensitivity: 0.8460, Specificity: 0.9628, ICBHI Score: 0.9044\n",
            "[Validation] Confusion Matrix:\n",
            " [[1119  191  259   10]\n",
            " [ 340  266   33   10]\n",
            " [ 173   64  121   27]\n",
            " [  61   21   40   21]]\n",
            "Test Loss: 6.0752\n",
            "[VALIDATION] Sensitivity: 0.3466, Specificity: 0.7087, Avg ICBHI Score: 0.5277\n",
            "##################################################\n"
          ]
        },
        {
          "name": "stderr",
          "output_type": "stream",
          "text": [
            "Mix_MLATT Trainig only: 100%|██████████| 32/32 [00:05<00:00,  5.84it/s]\n"
          ]
        },
        {
          "name": "stdout",
          "output_type": "stream",
          "text": [
            "[Epoch 39 | Train Loss: 3.5929, attn_feat: torch.Size([128, 2, 512])\n",
            "4-Class Confusion Matrix:\n",
            " [[1983   54    7    0]\n",
            " [ 139 1058    0    2]\n",
            " [  53    3  413   24]\n",
            " [   3   54   28  275]]\n",
            "Sensitivity: 0.8509, Specificity: 0.9702, ICBHI Score: 0.9105\n",
            "[Validation] Confusion Matrix:\n",
            " [[1166  208  198    7]\n",
            " [ 317  304   22    6]\n",
            " [ 205   61   96   23]\n",
            " [  70   32   27   14]]\n",
            "Test Loss: 6.3821\n",
            "[VALIDATION] Sensitivity: 0.3517, Specificity: 0.7384, Avg ICBHI Score: 0.5451\n",
            "##################################################\n"
          ]
        },
        {
          "name": "stderr",
          "output_type": "stream",
          "text": [
            "Mix_MLATT Trainig only: 100%|██████████| 32/32 [00:05<00:00,  5.86it/s]\n"
          ]
        },
        {
          "name": "stdout",
          "output_type": "stream",
          "text": [
            "[Epoch 40 | Train Loss: 3.7922, attn_feat: torch.Size([128, 2, 512])\n",
            "4-Class Confusion Matrix:\n",
            " [[1973   67    4    0]\n",
            " [ 134 1064    0    1]\n",
            " [  45    6  427   15]\n",
            " [   3   49   28  280]]\n",
            "Sensitivity: 0.8631, Specificity: 0.9653, ICBHI Score: 0.9142\n",
            "[Validation] Confusion Matrix:\n",
            " [[1027  282  246   24]\n",
            " [ 280  332   27   10]\n",
            " [ 166   72  116   31]\n",
            " [  48   40   34   21]]\n",
            "Test Loss: 6.6828\n",
            "[VALIDATION] Sensitivity: 0.3985, Specificity: 0.6504, Avg ICBHI Score: 0.5244\n",
            "##################################################\n"
          ]
        },
        {
          "name": "stderr",
          "output_type": "stream",
          "text": [
            "Mix_MLATT Trainig only: 100%|██████████| 32/32 [00:05<00:00,  5.85it/s]\n"
          ]
        },
        {
          "name": "stdout",
          "output_type": "stream",
          "text": [
            "[Epoch 41 | Train Loss: 3.6402, attn_feat: torch.Size([128, 2, 512])\n",
            "4-Class Confusion Matrix:\n",
            " [[1970   65    9    0]\n",
            " [ 134 1062    1    2]\n",
            " [  57    4  414   18]\n",
            " [   1   44   28  287]]\n",
            "Sensitivity: 0.8592, Specificity: 0.9638, ICBHI Score: 0.9115\n",
            "[Validation] Confusion Matrix:\n",
            " [[1037  194  330   18]\n",
            " [ 318  282   41    8]\n",
            " [ 151   63  146   25]\n",
            " [  57   22   43   21]]\n",
            "Test Loss: 6.3335\n",
            "[VALIDATION] Sensitivity: 0.3815, Specificity: 0.6567, Avg ICBHI Score: 0.5191\n",
            "##################################################\n"
          ]
        },
        {
          "name": "stderr",
          "output_type": "stream",
          "text": [
            "Mix_MLATT Trainig only: 100%|██████████| 32/32 [00:05<00:00,  5.83it/s]\n"
          ]
        },
        {
          "name": "stdout",
          "output_type": "stream",
          "text": [
            "[Epoch 42 | Train Loss: 3.8150, attn_feat: torch.Size([128, 2, 512])\n",
            "4-Class Confusion Matrix:\n",
            " [[1979   61    4    0]\n",
            " [ 138 1058    0    3]\n",
            " [  56    5  417   15]\n",
            " [   3   45   26  286]]\n",
            "Sensitivity: 0.8582, Specificity: 0.9682, ICBHI Score: 0.9132\n",
            "[Validation] Confusion Matrix:\n",
            " [[1006  262  298   13]\n",
            " [ 292  320   32    5]\n",
            " [ 152   78  131   24]\n",
            " [  56   30   40   17]]\n",
            "Test Loss: 6.8456\n",
            "[VALIDATION] Sensitivity: 0.3976, Specificity: 0.6371, Avg ICBHI Score: 0.5174\n",
            "##################################################\n"
          ]
        },
        {
          "name": "stderr",
          "output_type": "stream",
          "text": [
            "Mix_MLATT Trainig only: 100%|██████████| 32/32 [00:05<00:00,  5.80it/s]\n"
          ]
        },
        {
          "name": "stdout",
          "output_type": "stream",
          "text": [
            "[Epoch 43 | Train Loss: 3.3753, attn_feat: torch.Size([128, 2, 512])\n",
            "4-Class Confusion Matrix:\n",
            " [[1981   58    4    1]\n",
            " [ 116 1079    2    2]\n",
            " [  48    4  426   15]\n",
            " [   5   48   20  287]]\n",
            "Sensitivity: 0.8733, Specificity: 0.9692, ICBHI Score: 0.9212\n",
            "[Validation] Confusion Matrix:\n",
            " [[1049  284  233   13]\n",
            " [ 305  311   24    9]\n",
            " [ 170   77  115   23]\n",
            " [  64   34   24   21]]\n",
            "Test Loss: 6.5881\n",
            "[VALIDATION] Sensitivity: 0.3798, Specificity: 0.6643, Avg ICBHI Score: 0.5221\n",
            "##################################################\n"
          ]
        },
        {
          "name": "stderr",
          "output_type": "stream",
          "text": [
            "Mix_MLATT Trainig only: 100%|██████████| 32/32 [00:05<00:00,  5.81it/s]\n"
          ]
        },
        {
          "name": "stdout",
          "output_type": "stream",
          "text": [
            "[Epoch 44 | Train Loss: 3.6673, attn_feat: torch.Size([128, 2, 512])\n",
            "4-Class Confusion Matrix:\n",
            " [[1986   55    3    0]\n",
            " [ 125 1073    0    1]\n",
            " [  46    6  424   17]\n",
            " [   3   40   23  294]]\n",
            "Sensitivity: 0.8728, Specificity: 0.9716, ICBHI Score: 0.9222\n",
            "[Validation] Confusion Matrix:\n",
            " [[1071  200  286   22]\n",
            " [ 337  266   36   10]\n",
            " [ 166   52  138   29]\n",
            " [  53   24   43   23]]\n",
            "Test Loss: 6.6475\n",
            "[VALIDATION] Sensitivity: 0.3628, Specificity: 0.6783, Avg ICBHI Score: 0.5205\n",
            "##################################################\n"
          ]
        },
        {
          "name": "stderr",
          "output_type": "stream",
          "text": [
            "Mix_MLATT Trainig only: 100%|██████████| 32/32 [00:05<00:00,  5.78it/s]\n"
          ]
        },
        {
          "name": "stdout",
          "output_type": "stream",
          "text": [
            "[Epoch 45 | Train Loss: 3.5955, attn_feat: torch.Size([128, 2, 512])\n",
            "4-Class Confusion Matrix:\n",
            " [[2000   39    5    0]\n",
            " [ 107 1089    0    3]\n",
            " [  34    1  442   16]\n",
            " [   2   31   14  313]]\n",
            "Sensitivity: 0.8986, Specificity: 0.9785, ICBHI Score: 0.9386\n",
            "[Validation] Confusion Matrix:\n",
            " [[1009  321  236   13]\n",
            " [ 263  353   25    8]\n",
            " [ 142   82  127   34]\n",
            " [  57   37   25   24]]\n",
            "Test Loss: 6.8074\n",
            "[VALIDATION] Sensitivity: 0.4282, Specificity: 0.6390, Avg ICBHI Score: 0.5336\n",
            "##################################################\n"
          ]
        },
        {
          "name": "stderr",
          "output_type": "stream",
          "text": [
            "Mix_MLATT Trainig only: 100%|██████████| 32/32 [00:05<00:00,  5.86it/s]\n"
          ]
        },
        {
          "name": "stdout",
          "output_type": "stream",
          "text": [
            "[Epoch 46 | Train Loss: 2.9406, attn_feat: torch.Size([128, 2, 512])\n",
            "4-Class Confusion Matrix:\n",
            " [[2001   39    3    1]\n",
            " [  96 1103    0    0]\n",
            " [  38    1  440   14]\n",
            " [   2   40   14  304]]\n",
            "Sensitivity: 0.9001, Specificity: 0.9790, ICBHI Score: 0.9395\n",
            "[Validation] Confusion Matrix:\n",
            " [[1034  251  281   13]\n",
            " [ 293  310   39    7]\n",
            " [ 151   72  127   35]\n",
            " [  57   26   38   22]]\n",
            "Test Loss: 6.4426\n",
            "[VALIDATION] Sensitivity: 0.3900, Specificity: 0.6548, Avg ICBHI Score: 0.5224\n",
            "##################################################\n"
          ]
        },
        {
          "name": "stderr",
          "output_type": "stream",
          "text": [
            "Mix_MLATT Trainig only: 100%|██████████| 32/32 [00:05<00:00,  5.84it/s]\n"
          ]
        },
        {
          "name": "stdout",
          "output_type": "stream",
          "text": [
            "[Epoch 47 | Train Loss: 2.8911, attn_feat: torch.Size([128, 2, 512])\n",
            "4-Class Confusion Matrix:\n",
            " [[1994   44    6    0]\n",
            " [  94 1104    0    1]\n",
            " [  36    1  446   10]\n",
            " [   0   31   12  317]]\n",
            "Sensitivity: 0.9098, Specificity: 0.9755, ICBHI Score: 0.9427\n",
            "[Validation] Confusion Matrix:\n",
            " [[1070  229  261   19]\n",
            " [ 303  310   26   10]\n",
            " [ 164   71  119   31]\n",
            " [  59   28   35   21]]\n",
            "Test Loss: 6.7538\n",
            "[VALIDATION] Sensitivity: 0.3823, Specificity: 0.6776, Avg ICBHI Score: 0.5300\n",
            "##################################################\n"
          ]
        },
        {
          "name": "stderr",
          "output_type": "stream",
          "text": [
            "Mix_MLATT Trainig only: 100%|██████████| 32/32 [00:05<00:00,  5.84it/s]\n"
          ]
        },
        {
          "name": "stdout",
          "output_type": "stream",
          "text": [
            "[Epoch 48 | Train Loss: 3.4981, attn_feat: torch.Size([128, 2, 512])\n",
            "4-Class Confusion Matrix:\n",
            " [[2006   33    5    0]\n",
            " [  93 1106    0    0]\n",
            " [  33    2  443   15]\n",
            " [   0   27   16  317]]\n",
            "Sensitivity: 0.9094, Specificity: 0.9814, ICBHI Score: 0.9454\n",
            "[Validation] Confusion Matrix:\n",
            " [[1100  207  255   17]\n",
            " [ 322  288   27   12]\n",
            " [ 169   62  125   29]\n",
            " [  59   25   39   20]]\n",
            "Test Loss: 6.6776\n",
            "[VALIDATION] Sensitivity: 0.3679, Specificity: 0.6966, Avg ICBHI Score: 0.5323\n",
            "##################################################\n"
          ]
        },
        {
          "name": "stderr",
          "output_type": "stream",
          "text": [
            "Mix_MLATT Trainig only: 100%|██████████| 32/32 [00:05<00:00,  5.84it/s]\n"
          ]
        },
        {
          "name": "stdout",
          "output_type": "stream",
          "text": [
            "[Epoch 49 | Train Loss: 3.4796, attn_feat: torch.Size([128, 2, 512])\n",
            "4-Class Confusion Matrix:\n",
            " [[2014   30    0    0]\n",
            " [  70 1129    0    0]\n",
            " [  25    0  454   14]\n",
            " [   1   26   13  320]]\n",
            "Sensitivity: 0.9274, Specificity: 0.9853, ICBHI Score: 0.9564\n",
            "[Validation] Confusion Matrix:\n",
            " [[1084  253  225   17]\n",
            " [ 287  324   26   12]\n",
            " [ 171   66  110   38]\n",
            " [  57   27   36   23]]\n",
            "Test Loss: 6.7422\n",
            "[VALIDATION] Sensitivity: 0.3883, Specificity: 0.6865, Avg ICBHI Score: 0.5374\n",
            "##################################################\n"
          ]
        },
        {
          "name": "stderr",
          "output_type": "stream",
          "text": [
            "Mix_MLATT Trainig only: 100%|██████████| 32/32 [00:05<00:00,  5.83it/s]\n"
          ]
        },
        {
          "name": "stdout",
          "output_type": "stream",
          "text": [
            "[Epoch 50 | Train Loss: 3.3315, attn_feat: torch.Size([128, 2, 512])\n",
            "4-Class Confusion Matrix:\n",
            " [[2013   27    4    0]\n",
            " [  66 1132    0    1]\n",
            " [  29    2  450   12]\n",
            " [   0   26   16  318]]\n",
            "Sensitivity: 0.9259, Specificity: 0.9848, ICBHI Score: 0.9554\n",
            "[Validation] Confusion Matrix:\n",
            " [[989 320 244  26]\n",
            " [289 330  16  14]\n",
            " [167  68 117  33]\n",
            " [ 57  35  26  25]]\n",
            "Test Loss: 6.7534\n",
            "[VALIDATION] Sensitivity: 0.4010, Specificity: 0.6263, Avg ICBHI Score: 0.5137\n",
            "##################################################\n"
          ]
        },
        {
          "name": "stderr",
          "output_type": "stream",
          "text": [
            "Mix_MLATT Trainig only: 100%|██████████| 32/32 [00:05<00:00,  5.79it/s]\n"
          ]
        },
        {
          "name": "stdout",
          "output_type": "stream",
          "text": [
            "[Epoch 51 | Train Loss: 3.2964, attn_feat: torch.Size([128, 2, 512])\n",
            "4-Class Confusion Matrix:\n",
            " [[2023   16    5    0]\n",
            " [  63 1134    0    2]\n",
            " [  29    0  458    6]\n",
            " [   1   26    9  324]]\n",
            "Sensitivity: 0.9337, Specificity: 0.9897, ICBHI Score: 0.9617\n",
            "[Validation] Confusion Matrix:\n",
            " [[1083  253  226   17]\n",
            " [ 296  316   25   12]\n",
            " [ 174   63  111   37]\n",
            " [  61   34   30   18]]\n",
            "Test Loss: 6.4197\n",
            "[VALIDATION] Sensitivity: 0.3781, Specificity: 0.6859, Avg ICBHI Score: 0.5320\n",
            "##################################################\n"
          ]
        },
        {
          "name": "stderr",
          "output_type": "stream",
          "text": [
            "Mix_MLATT Trainig only: 100%|██████████| 32/32 [00:05<00:00,  5.80it/s]\n"
          ]
        },
        {
          "name": "stdout",
          "output_type": "stream",
          "text": [
            "[Epoch 52 | Train Loss: 3.4609, attn_feat: torch.Size([128, 2, 512])\n",
            "4-Class Confusion Matrix:\n",
            " [[2014   26    4    0]\n",
            " [  72 1126    1    0]\n",
            " [  41    0  444    8]\n",
            " [   0   27   14  319]]\n",
            "Sensitivity: 0.9206, Specificity: 0.9853, ICBHI Score: 0.9529\n",
            "[Validation] Confusion Matrix:\n",
            " [[1074  248  242   15]\n",
            " [ 278  329   34    8]\n",
            " [ 172   71  117   25]\n",
            " [  59   30   33   21]]\n",
            "Test Loss: 6.3697\n",
            "[VALIDATION] Sensitivity: 0.3968, Specificity: 0.6802, Avg ICBHI Score: 0.5385\n",
            "##################################################\n"
          ]
        },
        {
          "name": "stderr",
          "output_type": "stream",
          "text": [
            "Mix_MLATT Trainig only: 100%|██████████| 32/32 [00:05<00:00,  5.80it/s]\n"
          ]
        },
        {
          "name": "stdout",
          "output_type": "stream",
          "text": [
            "[Epoch 53 | Train Loss: 3.4962, attn_feat: torch.Size([128, 2, 512])\n",
            "4-Class Confusion Matrix:\n",
            " [[2000   40    4    0]\n",
            " [  86 1112    0    1]\n",
            " [  37    1  443   12]\n",
            " [   1   30   14  315]]\n",
            "Sensitivity: 0.9113, Specificity: 0.9785, ICBHI Score: 0.9449\n",
            "[Validation] Confusion Matrix:\n",
            " [[1167  192  206   14]\n",
            " [ 341  267   31   10]\n",
            " [ 191   47  121   26]\n",
            " [  61   25   41   16]]\n",
            "Test Loss: 6.4650\n",
            "[VALIDATION] Sensitivity: 0.3432, Specificity: 0.7391, Avg ICBHI Score: 0.5412\n",
            "##################################################\n"
          ]
        },
        {
          "name": "stderr",
          "output_type": "stream",
          "text": [
            "Mix_MLATT Trainig only: 100%|██████████| 32/32 [00:05<00:00,  5.86it/s]\n"
          ]
        },
        {
          "name": "stdout",
          "output_type": "stream",
          "text": [
            "[Epoch 54 | Train Loss: 3.9579, attn_feat: torch.Size([128, 2, 512])\n",
            "4-Class Confusion Matrix:\n",
            " [[2010   30    4    0]\n",
            " [  72 1125    0    2]\n",
            " [  25    1  461    6]\n",
            " [   0   37   17  306]]\n",
            "Sensitivity: 0.9220, Specificity: 0.9834, ICBHI Score: 0.9527\n",
            "[Validation] Confusion Matrix:\n",
            " [[1018  234  297   30]\n",
            " [ 297  281   49   22]\n",
            " [ 147   55  143   40]\n",
            " [  47   21   44   31]]\n",
            "Test Loss: 7.0235\n",
            "[VALIDATION] Sensitivity: 0.3866, Specificity: 0.6447, Avg ICBHI Score: 0.5156\n",
            "##################################################\n"
          ]
        },
        {
          "name": "stderr",
          "output_type": "stream",
          "text": [
            "Mix_MLATT Trainig only: 100%|██████████| 32/32 [00:05<00:00,  5.85it/s]\n"
          ]
        },
        {
          "name": "stdout",
          "output_type": "stream",
          "text": [
            "[Epoch 55 | Train Loss: 3.2953, attn_feat: torch.Size([128, 2, 512])\n",
            "4-Class Confusion Matrix:\n",
            " [[2020   23    1    0]\n",
            " [  69 1124    0    6]\n",
            " [  23    1  456   13]\n",
            " [   0   29   19  312]]\n",
            "Sensitivity: 0.9220, Specificity: 0.9883, ICBHI Score: 0.9551\n",
            "[Validation] Confusion Matrix:\n",
            " [[985 321 238  35]\n",
            " [250 351  28  20]\n",
            " [148  75 120  42]\n",
            " [ 52  31  32  28]]\n",
            "Test Loss: 6.4642\n",
            "[VALIDATION] Sensitivity: 0.4240, Specificity: 0.6238, Avg ICBHI Score: 0.5239\n",
            "##################################################\n"
          ]
        },
        {
          "name": "stderr",
          "output_type": "stream",
          "text": [
            "Mix_MLATT Trainig only: 100%|██████████| 32/32 [00:05<00:00,  5.85it/s]\n"
          ]
        },
        {
          "name": "stdout",
          "output_type": "stream",
          "text": [
            "[Epoch 56 | Train Loss: 3.5800, attn_feat: torch.Size([128, 2, 512])\n",
            "4-Class Confusion Matrix:\n",
            " [[2020   24    0    0]\n",
            " [  46 1150    0    3]\n",
            " [  25    0  460    8]\n",
            " [   0   30   12  318]]\n",
            "Sensitivity: 0.9396, Specificity: 0.9883, ICBHI Score: 0.9639\n",
            "[Validation] Confusion Matrix:\n",
            " [[1138  235  191   15]\n",
            " [ 316  305   19    9]\n",
            " [ 191   59  111   24]\n",
            " [  70   36   21   16]]\n",
            "Test Loss: 6.7624\n",
            "[VALIDATION] Sensitivity: 0.3670, Specificity: 0.7207, Avg ICBHI Score: 0.5439\n",
            "##################################################\n"
          ]
        },
        {
          "name": "stderr",
          "output_type": "stream",
          "text": [
            "Mix_MLATT Trainig only: 100%|██████████| 32/32 [00:05<00:00,  5.86it/s]\n"
          ]
        },
        {
          "name": "stdout",
          "output_type": "stream",
          "text": [
            "[Epoch 57 | Train Loss: 3.7102, attn_feat: torch.Size([128, 2, 512])\n",
            "4-Class Confusion Matrix:\n",
            " [[2017   23    4    0]\n",
            " [  48 1149    0    2]\n",
            " [  29    2  454    8]\n",
            " [   0   23    7  330]]\n",
            "Sensitivity: 0.9420, Specificity: 0.9868, ICBHI Score: 0.9644\n",
            "[Validation] Confusion Matrix:\n",
            " [[1099  328  119   33]\n",
            " [ 266  347   22   14]\n",
            " [ 180   77   81   47]\n",
            " [  50   38   23   32]]\n",
            "Test Loss: 6.8776\n",
            "[VALIDATION] Sensitivity: 0.3908, Specificity: 0.6960, Avg ICBHI Score: 0.5434\n",
            "##################################################\n"
          ]
        },
        {
          "name": "stderr",
          "output_type": "stream",
          "text": [
            "Mix_MLATT Trainig only: 100%|██████████| 32/32 [00:05<00:00,  5.83it/s]\n"
          ]
        },
        {
          "name": "stdout",
          "output_type": "stream",
          "text": [
            "[Epoch 58 | Train Loss: 3.3401, attn_feat: torch.Size([128, 2, 512])\n",
            "4-Class Confusion Matrix:\n",
            " [[2016   26    2    0]\n",
            " [  55 1140    1    3]\n",
            " [  28    1  453   11]\n",
            " [   0   14   13  333]]\n",
            "Sensitivity: 0.9386, Specificity: 0.9863, ICBHI Score: 0.9624\n",
            "[Validation] Confusion Matrix:\n",
            " [[1050  278  225   26]\n",
            " [ 312  300   24   13]\n",
            " [ 165   64  117   39]\n",
            " [  55   31   31   26]]\n",
            "Test Loss: 6.9313\n",
            "[VALIDATION] Sensitivity: 0.3764, Specificity: 0.6650, Avg ICBHI Score: 0.5207\n",
            "##################################################\n"
          ]
        },
        {
          "name": "stderr",
          "output_type": "stream",
          "text": [
            "Mix_MLATT Trainig only: 100%|██████████| 32/32 [00:05<00:00,  5.78it/s]\n"
          ]
        },
        {
          "name": "stdout",
          "output_type": "stream",
          "text": [
            "[Epoch 59 | Train Loss: 3.5088, attn_feat: torch.Size([128, 2, 512])\n",
            "4-Class Confusion Matrix:\n",
            " [[2025   18    1    0]\n",
            " [  52 1147    0    0]\n",
            " [  15    0  472    6]\n",
            " [   0   25   13  322]]\n",
            "Sensitivity: 0.9459, Specificity: 0.9907, ICBHI Score: 0.9683\n",
            "[Validation] Confusion Matrix:\n",
            " [[1150  267  136   26]\n",
            " [ 304  318   17   10]\n",
            " [ 206   68   82   29]\n",
            " [  59   41   24   19]]\n",
            "Test Loss: 6.7966\n",
            "[VALIDATION] Sensitivity: 0.3560, Specificity: 0.7283, Avg ICBHI Score: 0.5421\n",
            "##################################################\n"
          ]
        },
        {
          "name": "stderr",
          "output_type": "stream",
          "text": [
            "Mix_MLATT Trainig only: 100%|██████████| 32/32 [00:05<00:00,  5.81it/s]\n"
          ]
        },
        {
          "name": "stdout",
          "output_type": "stream",
          "text": [
            "[Epoch 60 | Train Loss: 3.3683, attn_feat: torch.Size([128, 2, 512])\n",
            "4-Class Confusion Matrix:\n",
            " [[2017   25    2    0]\n",
            " [  34 1163    1    1]\n",
            " [  24    0  461    8]\n",
            " [   0   17    8  335]]\n",
            "Sensitivity: 0.9547, Specificity: 0.9868, ICBHI Score: 0.9707\n",
            "[Validation] Confusion Matrix:\n",
            " [[1161  235  162   21]\n",
            " [ 339  275   20   15]\n",
            " [ 195   52  110   28]\n",
            " [  64   27   29   23]]\n",
            "Test Loss: 6.4465\n",
            "[VALIDATION] Sensitivity: 0.3466, Specificity: 0.7353, Avg ICBHI Score: 0.5410\n",
            "##################################################\n"
          ]
        },
        {
          "name": "stderr",
          "output_type": "stream",
          "text": [
            "Mix_MLATT Trainig only: 100%|██████████| 32/32 [00:05<00:00,  5.78it/s]\n"
          ]
        },
        {
          "name": "stdout",
          "output_type": "stream",
          "text": [
            "[Epoch 61 | Train Loss: 3.2280, attn_feat: torch.Size([128, 2, 512])\n",
            "4-Class Confusion Matrix:\n",
            " [[2019   24    1    0]\n",
            " [  44 1153    0    2]\n",
            " [  23    0  462    8]\n",
            " [   0   20    6  334]]\n",
            "Sensitivity: 0.9498, Specificity: 0.9878, ICBHI Score: 0.9688\n",
            "[Validation] Confusion Matrix:\n",
            " [[1070  345  139   25]\n",
            " [ 250  371   18   10]\n",
            " [ 182   80   84   39]\n",
            " [  56   37   27   23]]\n",
            "Test Loss: 6.9478\n",
            "[VALIDATION] Sensitivity: 0.4061, Specificity: 0.6776, Avg ICBHI Score: 0.5419\n",
            "##################################################\n"
          ]
        },
        {
          "name": "stderr",
          "output_type": "stream",
          "text": [
            "Mix_MLATT Trainig only: 100%|██████████| 32/32 [00:05<00:00,  5.84it/s]\n"
          ]
        },
        {
          "name": "stdout",
          "output_type": "stream",
          "text": [
            "[Epoch 62 | Train Loss: 3.5051, attn_feat: torch.Size([128, 2, 512])\n",
            "4-Class Confusion Matrix:\n",
            " [[2033    8    3    0]\n",
            " [  38 1161    0    0]\n",
            " [   9    0  477    7]\n",
            " [   0   12    9  339]]\n",
            "Sensitivity: 0.9635, Specificity: 0.9946, ICBHI Score: 0.9790\n",
            "[Validation] Confusion Matrix:\n",
            " [[986 309 251  33]\n",
            " [248 350  31  20]\n",
            " [141  74 131  39]\n",
            " [ 50  36  33  24]]\n",
            "Test Loss: 6.9353\n",
            "[VALIDATION] Sensitivity: 0.4291, Specificity: 0.6244, Avg ICBHI Score: 0.5268\n",
            "##################################################\n"
          ]
        },
        {
          "name": "stderr",
          "output_type": "stream",
          "text": [
            "Mix_MLATT Trainig only: 100%|██████████| 32/32 [00:05<00:00,  5.86it/s]\n"
          ]
        },
        {
          "name": "stdout",
          "output_type": "stream",
          "text": [
            "[Epoch 63 | Train Loss: 3.4863, attn_feat: torch.Size([128, 2, 512])\n",
            "4-Class Confusion Matrix:\n",
            " [[2025   19    0    0]\n",
            " [  33 1165    0    1]\n",
            " [  21    1  470    1]\n",
            " [   0   23    6  331]]\n",
            "Sensitivity: 0.9581, Specificity: 0.9907, ICBHI Score: 0.9744\n",
            "[Validation] Confusion Matrix:\n",
            " [[1153  241  170   15]\n",
            " [ 322  301   23    3]\n",
            " [ 183   67  108   27]\n",
            " [  60   40   28   15]]\n",
            "Test Loss: 6.5950\n",
            "[VALIDATION] Sensitivity: 0.3602, Specificity: 0.7302, Avg ICBHI Score: 0.5452\n",
            "##################################################\n"
          ]
        },
        {
          "name": "stderr",
          "output_type": "stream",
          "text": [
            "Mix_MLATT Trainig only: 100%|██████████| 32/32 [00:05<00:00,  5.86it/s]\n"
          ]
        },
        {
          "name": "stdout",
          "output_type": "stream",
          "text": [
            "[Epoch 64 | Train Loss: 3.5633, attn_feat: torch.Size([128, 2, 512])\n",
            "4-Class Confusion Matrix:\n",
            " [[2025   18    1    0]\n",
            " [  41 1151    0    7]\n",
            " [  23    0  462    8]\n",
            " [   0   22    4  334]]\n",
            "Sensitivity: 0.9488, Specificity: 0.9907, ICBHI Score: 0.9698\n",
            "[Validation] Confusion Matrix:\n",
            " [[1051  274  238   16]\n",
            " [ 296  319   23   11]\n",
            " [ 163   69  115   38]\n",
            " [  57   34   37   15]]\n",
            "Test Loss: 6.7424\n",
            "[VALIDATION] Sensitivity: 0.3815, Specificity: 0.6656, Avg ICBHI Score: 0.5235\n",
            "##################################################\n"
          ]
        },
        {
          "name": "stderr",
          "output_type": "stream",
          "text": [
            "Mix_MLATT Trainig only: 100%|██████████| 32/32 [00:05<00:00,  5.85it/s]\n"
          ]
        },
        {
          "name": "stdout",
          "output_type": "stream",
          "text": [
            "[Epoch 65 | Train Loss: 3.2048, attn_feat: torch.Size([128, 2, 512])\n",
            "4-Class Confusion Matrix:\n",
            " [[2028   15    1    0]\n",
            " [  34 1165    0    0]\n",
            " [  10    0  477    6]\n",
            " [   0   18    3  339]]\n",
            "Sensitivity: 0.9654, Specificity: 0.9922, ICBHI Score: 0.9788\n",
            "[Validation] Confusion Matrix:\n",
            " [[1140  272  148   19]\n",
            " [ 302  323   17    7]\n",
            " [ 184   72  104   25]\n",
            " [  64   37   25   17]]\n",
            "Test Loss: 6.8661\n",
            "[VALIDATION] Sensitivity: 0.3772, Specificity: 0.7220, Avg ICBHI Score: 0.5496\n",
            "##################################################\n"
          ]
        },
        {
          "name": "stderr",
          "output_type": "stream",
          "text": [
            "Mix_MLATT Trainig only: 100%|██████████| 32/32 [00:05<00:00,  5.83it/s]\n"
          ]
        },
        {
          "name": "stdout",
          "output_type": "stream",
          "text": [
            "[Epoch 66 | Train Loss: 3.0639, attn_feat: torch.Size([128, 2, 512])\n",
            "4-Class Confusion Matrix:\n",
            " [[2025   16    3    0]\n",
            " [  21 1178    0    0]\n",
            " [  13    0  473    7]\n",
            " [   0   16    6  338]]\n",
            "Sensitivity: 0.9693, Specificity: 0.9907, ICBHI Score: 0.9800\n",
            "[Validation] Confusion Matrix:\n",
            " [[1068  271  218   22]\n",
            " [ 311  302   27    9]\n",
            " [ 164   67  123   31]\n",
            " [  57   27   32   27]]\n",
            "Test Loss: 6.8538\n",
            "[VALIDATION] Sensitivity: 0.3840, Specificity: 0.6764, Avg ICBHI Score: 0.5302\n",
            "##################################################\n"
          ]
        },
        {
          "name": "stderr",
          "output_type": "stream",
          "text": [
            "Mix_MLATT Trainig only: 100%|██████████| 32/32 [00:05<00:00,  5.78it/s]\n"
          ]
        },
        {
          "name": "stdout",
          "output_type": "stream",
          "text": [
            "[Epoch 67 | Train Loss: 2.8930, attn_feat: torch.Size([128, 2, 512])\n",
            "4-Class Confusion Matrix:\n",
            " [[2024   19    1    0]\n",
            " [  36 1163    0    0]\n",
            " [  17    1  469    6]\n",
            " [   0   20    7  333]]\n",
            "Sensitivity: 0.9576, Specificity: 0.9902, ICBHI Score: 0.9739\n",
            "[Validation] Confusion Matrix:\n",
            " [[1029  296  220   34]\n",
            " [ 289  318   26   16]\n",
            " [ 158   74  121   32]\n",
            " [  62   26   36   19]]\n",
            "Test Loss: 7.0028\n",
            "[VALIDATION] Sensitivity: 0.3891, Specificity: 0.6517, Avg ICBHI Score: 0.5204\n",
            "##################################################\n"
          ]
        },
        {
          "name": "stderr",
          "output_type": "stream",
          "text": [
            "Mix_MLATT Trainig only: 100%|██████████| 32/32 [00:05<00:00,  5.82it/s]\n"
          ]
        },
        {
          "name": "stdout",
          "output_type": "stream",
          "text": [
            "[Epoch 68 | Train Loss: 3.4171, attn_feat: torch.Size([128, 2, 512])\n",
            "4-Class Confusion Matrix:\n",
            " [[2034   10    0    0]\n",
            " [  39 1159    0    1]\n",
            " [  19    0  467    7]\n",
            " [   0   19   12  329]]\n",
            "Sensitivity: 0.9527, Specificity: 0.9951, ICBHI Score: 0.9739\n",
            "[Validation] Confusion Matrix:\n",
            " [[1034  284  238   23]\n",
            " [ 296  307   29   17]\n",
            " [ 159   69  127   30]\n",
            " [  52   32   38   21]]\n",
            "Test Loss: 6.7645\n",
            "[VALIDATION] Sensitivity: 0.3866, Specificity: 0.6548, Avg ICBHI Score: 0.5207\n",
            "##################################################\n"
          ]
        },
        {
          "name": "stderr",
          "output_type": "stream",
          "text": [
            "Mix_MLATT Trainig only: 100%|██████████| 32/32 [00:05<00:00,  5.78it/s]\n"
          ]
        },
        {
          "name": "stdout",
          "output_type": "stream",
          "text": [
            "[Epoch 69 | Train Loss: 3.4316, attn_feat: torch.Size([128, 2, 512])\n",
            "4-Class Confusion Matrix:\n",
            " [[2031   13    0    0]\n",
            " [  44 1155    0    0]\n",
            " [  14    0  473    6]\n",
            " [   0   19    4  337]]\n",
            "Sensitivity: 0.9576, Specificity: 0.9936, ICBHI Score: 0.9756\n",
            "[Validation] Confusion Matrix:\n",
            " [[1164  195  207   13]\n",
            " [ 339  271   28   11]\n",
            " [ 176   56  132   21]\n",
            " [  72   24   30   17]]\n",
            "Test Loss: 7.0656\n",
            "[VALIDATION] Sensitivity: 0.3568, Specificity: 0.7372, Avg ICBHI Score: 0.5470\n",
            "##################################################\n"
          ]
        },
        {
          "name": "stderr",
          "output_type": "stream",
          "text": [
            "Mix_MLATT Trainig only: 100%|██████████| 32/32 [00:05<00:00,  5.78it/s]\n"
          ]
        },
        {
          "name": "stdout",
          "output_type": "stream",
          "text": [
            "[Epoch 70 | Train Loss: 2.7944, attn_feat: torch.Size([128, 2, 512])\n",
            "4-Class Confusion Matrix:\n",
            " [[2030   13    1    0]\n",
            " [  34 1163    0    2]\n",
            " [  17    3  469    4]\n",
            " [   0   17   12  331]]\n",
            "Sensitivity: 0.9566, Specificity: 0.9932, ICBHI Score: 0.9749\n",
            "[Validation] Confusion Matrix:\n",
            " [[1085  251  213   30]\n",
            " [ 315  300   26    8]\n",
            " [ 180   58  123   24]\n",
            " [  57   32   33   21]]\n",
            "Test Loss: 7.2338\n",
            "[VALIDATION] Sensitivity: 0.3772, Specificity: 0.6871, Avg ICBHI Score: 0.5322\n",
            "##################################################\n"
          ]
        },
        {
          "name": "stderr",
          "output_type": "stream",
          "text": [
            "Mix_MLATT Trainig only: 100%|██████████| 32/32 [00:05<00:00,  5.79it/s]\n"
          ]
        },
        {
          "name": "stdout",
          "output_type": "stream",
          "text": [
            "[Epoch 71 | Train Loss: 2.9873, attn_feat: torch.Size([128, 2, 512])\n",
            "4-Class Confusion Matrix:\n",
            " [[2028   15    1    0]\n",
            " [  30 1167    0    2]\n",
            " [  20    0  467    6]\n",
            " [   0   18    8  334]]\n",
            "Sensitivity: 0.9591, Specificity: 0.9922, ICBHI Score: 0.9756\n",
            "[Validation] Confusion Matrix:\n",
            " [[1009  285  261   24]\n",
            " [ 281  324   30   14]\n",
            " [ 153   78  120   34]\n",
            " [  62   31   27   23]]\n",
            "Test Loss: 6.6752\n",
            "[VALIDATION] Sensitivity: 0.3968, Specificity: 0.6390, Avg ICBHI Score: 0.5179\n",
            "##################################################\n"
          ]
        },
        {
          "name": "stderr",
          "output_type": "stream",
          "text": [
            "Mix_MLATT Trainig only: 100%|██████████| 32/32 [00:05<00:00,  5.78it/s]\n"
          ]
        },
        {
          "name": "stdout",
          "output_type": "stream",
          "text": [
            "[Epoch 72 | Train Loss: 2.9601, attn_feat: torch.Size([128, 2, 512])\n",
            "4-Class Confusion Matrix:\n",
            " [[2027   13    4    0]\n",
            " [  26 1173    0    0]\n",
            " [  14    0  474    5]\n",
            " [   0   22    2  336]]\n",
            "Sensitivity: 0.9664, Specificity: 0.9917, ICBHI Score: 0.9790\n",
            "[Validation] Confusion Matrix:\n",
            " [[1098  217  242   22]\n",
            " [ 340  267   32   10]\n",
            " [ 182   47  131   25]\n",
            " [  64   22   39   18]]\n",
            "Test Loss: 7.3296\n",
            "[VALIDATION] Sensitivity: 0.3534, Specificity: 0.6954, Avg ICBHI Score: 0.5244\n",
            "##################################################\n"
          ]
        },
        {
          "name": "stderr",
          "output_type": "stream",
          "text": [
            "Mix_MLATT Trainig only: 100%|██████████| 32/32 [00:05<00:00,  5.79it/s]\n"
          ]
        },
        {
          "name": "stdout",
          "output_type": "stream",
          "text": [
            "[Epoch 73 | Train Loss: 2.8518, attn_feat: torch.Size([128, 2, 512])\n",
            "4-Class Confusion Matrix:\n",
            " [[2030   13    1    0]\n",
            " [  27 1171    0    1]\n",
            " [  17    0  470    6]\n",
            " [   0   18   11  331]]\n",
            "Sensitivity: 0.9610, Specificity: 0.9932, ICBHI Score: 0.9771\n",
            "[Validation] Confusion Matrix:\n",
            " [[1051  309  201   18]\n",
            " [ 277  341   24    7]\n",
            " [ 170   76  111   28]\n",
            " [  60   35   29   19]]\n",
            "Test Loss: 7.1271\n",
            "[VALIDATION] Sensitivity: 0.4002, Specificity: 0.6656, Avg ICBHI Score: 0.5329\n",
            "##################################################\n"
          ]
        },
        {
          "name": "stderr",
          "output_type": "stream",
          "text": [
            "Mix_MLATT Trainig only: 100%|██████████| 32/32 [00:05<00:00,  5.79it/s]\n"
          ]
        },
        {
          "name": "stdout",
          "output_type": "stream",
          "text": [
            "[Epoch 74 | Train Loss: 3.1871, attn_feat: torch.Size([128, 2, 512])\n",
            "4-Class Confusion Matrix:\n",
            " [[2036    8    0    0]\n",
            " [  16 1181    0    2]\n",
            " [   8    1  478    6]\n",
            " [   0   15    2  343]]\n",
            "Sensitivity: 0.9756, Specificity: 0.9961, ICBHI Score: 0.9859\n",
            "[Validation] Confusion Matrix:\n",
            " [[1137  219  196   27]\n",
            " [ 334  279   24   12]\n",
            " [ 184   58  122   21]\n",
            " [  57   26   37   23]]\n",
            "Test Loss: 6.7217\n",
            "[VALIDATION] Sensitivity: 0.3602, Specificity: 0.7201, Avg ICBHI Score: 0.5402\n",
            "##################################################\n"
          ]
        },
        {
          "name": "stderr",
          "output_type": "stream",
          "text": [
            "Mix_MLATT Trainig only: 100%|██████████| 32/32 [00:05<00:00,  5.78it/s]\n"
          ]
        },
        {
          "name": "stdout",
          "output_type": "stream",
          "text": [
            "[Epoch 75 | Train Loss: 3.3299, attn_feat: torch.Size([128, 2, 512])\n",
            "4-Class Confusion Matrix:\n",
            " [[2032   11    1    0]\n",
            " [  24 1175    0    0]\n",
            " [  11    0  476    6]\n",
            " [   0   17    4  339]]\n",
            "Sensitivity: 0.9698, Specificity: 0.9941, ICBHI Score: 0.9820\n",
            "[Validation] Confusion Matrix:\n",
            " [[1062  287  219   11]\n",
            " [ 269  350   19   11]\n",
            " [ 163   74  118   30]\n",
            " [  62   37   23   21]]\n",
            "Test Loss: 7.1586\n",
            "[VALIDATION] Sensitivity: 0.4155, Specificity: 0.6726, Avg ICBHI Score: 0.5440\n",
            "##################################################\n"
          ]
        },
        {
          "name": "stderr",
          "output_type": "stream",
          "text": [
            "Mix_MLATT Trainig only: 100%|██████████| 32/32 [00:05<00:00,  5.79it/s]\n"
          ]
        },
        {
          "name": "stdout",
          "output_type": "stream",
          "text": [
            "[Epoch 76 | Train Loss: 3.0766, attn_feat: torch.Size([128, 2, 512])\n",
            "4-Class Confusion Matrix:\n",
            " [[2035    8    1    0]\n",
            " [  17 1182    0    0]\n",
            " [  12    0  479    2]\n",
            " [   0   17    3  340]]\n",
            "Sensitivity: 0.9751, Specificity: 0.9956, ICBHI Score: 0.9854\n",
            "[Validation] Confusion Matrix:\n",
            " [[1167  293  104   15]\n",
            " [ 299  334   14    2]\n",
            " [ 209   72   75   29]\n",
            " [  61   43   19   20]]\n",
            "Test Loss: 7.1192\n",
            "[VALIDATION] Sensitivity: 0.3645, Specificity: 0.7391, Avg ICBHI Score: 0.5518\n",
            "##################################################\n"
          ]
        },
        {
          "name": "stderr",
          "output_type": "stream",
          "text": [
            "Mix_MLATT Trainig only: 100%|██████████| 32/32 [00:05<00:00,  5.78it/s]\n"
          ]
        },
        {
          "name": "stdout",
          "output_type": "stream",
          "text": [
            "[Epoch 77 | Train Loss: 3.1682, attn_feat: torch.Size([128, 2, 512])\n",
            "4-Class Confusion Matrix:\n",
            " [[2023   20    1    0]\n",
            " [  27 1170    0    2]\n",
            " [  19    0  468    6]\n",
            " [   0   24    6  330]]\n",
            "Sensitivity: 0.9591, Specificity: 0.9897, ICBHI Score: 0.9744\n",
            "[Validation] Confusion Matrix:\n",
            " [[1101  282  178   18]\n",
            " [ 295  327   19    8]\n",
            " [ 185   72  105   23]\n",
            " [  66   32   23   22]]\n",
            "Test Loss: 7.0195\n",
            "[VALIDATION] Sensitivity: 0.3857, Specificity: 0.6973, Avg ICBHI Score: 0.5415\n",
            "##################################################\n"
          ]
        },
        {
          "name": "stderr",
          "output_type": "stream",
          "text": [
            "Mix_MLATT Trainig only: 100%|██████████| 32/32 [00:05<00:00,  5.78it/s]\n"
          ]
        },
        {
          "name": "stdout",
          "output_type": "stream",
          "text": [
            "[Epoch 78 | Train Loss: 2.8585, attn_feat: torch.Size([128, 2, 512])\n",
            "4-Class Confusion Matrix:\n",
            " [[2036    7    1    0]\n",
            " [  20 1179    0    0]\n",
            " [  17    0  474    2]\n",
            " [   0   16    3  341]]\n",
            "Sensitivity: 0.9717, Specificity: 0.9961, ICBHI Score: 0.9839\n",
            "[Validation] Confusion Matrix:\n",
            " [[1076  292  181   30]\n",
            " [ 283  328   22   16]\n",
            " [ 165   72  121   27]\n",
            " [  53   32   31   27]]\n",
            "Test Loss: 6.9261\n",
            "[VALIDATION] Sensitivity: 0.4044, Specificity: 0.6814, Avg ICBHI Score: 0.5429\n",
            "##################################################\n"
          ]
        },
        {
          "name": "stderr",
          "output_type": "stream",
          "text": [
            "Mix_MLATT Trainig only: 100%|██████████| 32/32 [00:05<00:00,  5.78it/s]\n"
          ]
        },
        {
          "name": "stdout",
          "output_type": "stream",
          "text": [
            "[Epoch 79 | Train Loss: 2.9276, attn_feat: torch.Size([128, 2, 512])\n",
            "4-Class Confusion Matrix:\n",
            " [[2039    5    0    0]\n",
            " [  15 1182    0    2]\n",
            " [   2    0  491    0]\n",
            " [   0    6    5  349]]\n",
            "Sensitivity: 0.9854, Specificity: 0.9976, ICBHI Score: 0.9915\n",
            "[Validation] Confusion Matrix:\n",
            " [[1113  269  175   22]\n",
            " [ 294  328   19    8]\n",
            " [ 175   69  106   35]\n",
            " [  54   40   29   20]]\n",
            "Test Loss: 7.2803\n",
            "[VALIDATION] Sensitivity: 0.3857, Specificity: 0.7049, Avg ICBHI Score: 0.5453\n",
            "##################################################\n"
          ]
        },
        {
          "name": "stderr",
          "output_type": "stream",
          "text": [
            "Mix_MLATT Trainig only: 100%|██████████| 32/32 [00:05<00:00,  5.79it/s]\n"
          ]
        },
        {
          "name": "stdout",
          "output_type": "stream",
          "text": [
            "[Epoch 80 | Train Loss: 3.1791, attn_feat: torch.Size([128, 2, 512])\n",
            "4-Class Confusion Matrix:\n",
            " [[2035    8    1    0]\n",
            " [  24 1174    0    1]\n",
            " [  19    0  470    4]\n",
            " [   0   14    5  341]]\n",
            "Sensitivity: 0.9673, Specificity: 0.9956, ICBHI Score: 0.9815\n",
            "[Validation] Confusion Matrix:\n",
            " [[902 419 222  36]\n",
            " [220 406  12  11]\n",
            " [136 109 106  34]\n",
            " [ 42  49  25  27]]\n",
            "Test Loss: 7.1237\n",
            "[VALIDATION] Sensitivity: 0.4579, Specificity: 0.5712, Avg ICBHI Score: 0.5146\n",
            "##################################################\n"
          ]
        },
        {
          "name": "stderr",
          "output_type": "stream",
          "text": [
            "Mix_MLATT Trainig only: 100%|██████████| 32/32 [00:05<00:00,  5.79it/s]\n"
          ]
        },
        {
          "name": "stdout",
          "output_type": "stream",
          "text": [
            "[Epoch 81 | Train Loss: 2.8234, attn_feat: torch.Size([128, 2, 512])\n",
            "4-Class Confusion Matrix:\n",
            " [[2026   18    0    0]\n",
            " [  21 1178    0    0]\n",
            " [  13    0  478    2]\n",
            " [   0   12    4  344]]\n",
            "Sensitivity: 0.9747, Specificity: 0.9912, ICBHI Score: 0.9829\n",
            "[Validation] Confusion Matrix:\n",
            " [[1158  187  226    8]\n",
            " [ 344  275   25    5]\n",
            " [ 196   53  114   22]\n",
            " [  63   32   34   14]]\n",
            "Test Loss: 7.3904\n",
            "[VALIDATION] Sensitivity: 0.3424, Specificity: 0.7334, Avg ICBHI Score: 0.5379\n",
            "##################################################\n"
          ]
        },
        {
          "name": "stderr",
          "output_type": "stream",
          "text": [
            "Mix_MLATT Trainig only: 100%|██████████| 32/32 [00:05<00:00,  5.79it/s]\n"
          ]
        },
        {
          "name": "stdout",
          "output_type": "stream",
          "text": [
            "[Epoch 82 | Train Loss: 2.8914, attn_feat: torch.Size([128, 2, 512])\n",
            "4-Class Confusion Matrix:\n",
            " [[2029   13    2    0]\n",
            " [  20 1179    0    0]\n",
            " [  16    1  470    6]\n",
            " [   0   14    4  342]]\n",
            "Sensitivity: 0.9703, Specificity: 0.9927, ICBHI Score: 0.9815\n",
            "[Validation] Confusion Matrix:\n",
            " [[1079  278  202   20]\n",
            " [ 291  325   19   14]\n",
            " [ 180   69  107   29]\n",
            " [  62   38   21   22]]\n",
            "Test Loss: 6.9202\n",
            "[VALIDATION] Sensitivity: 0.3857, Specificity: 0.6833, Avg ICBHI Score: 0.5345\n",
            "##################################################\n"
          ]
        },
        {
          "name": "stderr",
          "output_type": "stream",
          "text": [
            "Mix_MLATT Trainig only: 100%|██████████| 32/32 [00:05<00:00,  5.77it/s]\n"
          ]
        },
        {
          "name": "stdout",
          "output_type": "stream",
          "text": [
            "[Epoch 83 | Train Loss: 2.9990, attn_feat: torch.Size([128, 2, 512])\n",
            "4-Class Confusion Matrix:\n",
            " [[2036    8    0    0]\n",
            " [  11 1186    0    2]\n",
            " [   8    0  484    1]\n",
            " [   0   12    3  345]]\n",
            "Sensitivity: 0.9820, Specificity: 0.9961, ICBHI Score: 0.9890\n",
            "[Validation] Confusion Matrix:\n",
            " [[1067  271  222   19]\n",
            " [ 295  320   24   10]\n",
            " [ 164   71  122   28]\n",
            " [  59   29   33   22]]\n",
            "Test Loss: 6.8772\n",
            "[VALIDATION] Sensitivity: 0.3942, Specificity: 0.6757, Avg ICBHI Score: 0.5350\n",
            "##################################################\n"
          ]
        },
        {
          "name": "stderr",
          "output_type": "stream",
          "text": [
            "Mix_MLATT Trainig only: 100%|██████████| 32/32 [00:05<00:00,  5.77it/s]\n"
          ]
        },
        {
          "name": "stdout",
          "output_type": "stream",
          "text": [
            "[Epoch 84 | Train Loss: 3.2182, attn_feat: torch.Size([128, 2, 512])\n",
            "4-Class Confusion Matrix:\n",
            " [[2036    8    0    0]\n",
            " [  13 1184    0    2]\n",
            " [  10    0  480    3]\n",
            " [   0    6    1  353]]\n",
            "Sensitivity: 0.9829, Specificity: 0.9961, ICBHI Score: 0.9895\n",
            "[Validation] Confusion Matrix:\n",
            " [[1063  219  270   27]\n",
            " [ 331  277   26   15]\n",
            " [ 162   64  132   27]\n",
            " [  60   27   33   23]]\n",
            "Test Loss: 7.2560\n",
            "[VALIDATION] Sensitivity: 0.3670, Specificity: 0.6732, Avg ICBHI Score: 0.5201\n",
            "##################################################\n"
          ]
        },
        {
          "name": "stderr",
          "output_type": "stream",
          "text": [
            "Mix_MLATT Trainig only: 100%|██████████| 32/32 [00:05<00:00,  5.78it/s]\n"
          ]
        },
        {
          "name": "stdout",
          "output_type": "stream",
          "text": [
            "[Epoch 85 | Train Loss: 3.2491, attn_feat: torch.Size([128, 2, 512])\n",
            "4-Class Confusion Matrix:\n",
            " [[2041    2    1    0]\n",
            " [  14 1185    0    0]\n",
            " [   8    0  482    3]\n",
            " [   0   11    1  348]]\n",
            "Sensitivity: 0.9820, Specificity: 0.9985, ICBHI Score: 0.9903\n",
            "[Validation] Confusion Matrix:\n",
            " [[1136  229  194   20]\n",
            " [ 334  283   19   13]\n",
            " [ 193   60  110   22]\n",
            " [  65   30   25   23]]\n",
            "Test Loss: 7.3061\n",
            "[VALIDATION] Sensitivity: 0.3534, Specificity: 0.7194, Avg ICBHI Score: 0.5364\n",
            "##################################################\n"
          ]
        },
        {
          "name": "stderr",
          "output_type": "stream",
          "text": [
            "Mix_MLATT Trainig only: 100%|██████████| 32/32 [00:05<00:00,  5.78it/s]\n"
          ]
        },
        {
          "name": "stdout",
          "output_type": "stream",
          "text": [
            "[Epoch 86 | Train Loss: 3.6378, attn_feat: torch.Size([128, 2, 512])\n",
            "4-Class Confusion Matrix:\n",
            " [[2039    5    0    0]\n",
            " [   9 1190    0    0]\n",
            " [   8    0  485    0]\n",
            " [   0   14    3  343]]\n",
            "Sensitivity: 0.9834, Specificity: 0.9976, ICBHI Score: 0.9905\n",
            "[Validation] Confusion Matrix:\n",
            " [[1045  258  260   16]\n",
            " [ 306  309   27    7]\n",
            " [ 175   67  118   25]\n",
            " [  60   33   23   27]]\n",
            "Test Loss: 7.3212\n",
            "[VALIDATION] Sensitivity: 0.3857, Specificity: 0.6618, Avg ICBHI Score: 0.5238\n",
            "##################################################\n"
          ]
        },
        {
          "name": "stderr",
          "output_type": "stream",
          "text": [
            "Mix_MLATT Trainig only: 100%|██████████| 32/32 [00:05<00:00,  5.79it/s]\n"
          ]
        },
        {
          "name": "stdout",
          "output_type": "stream",
          "text": [
            "[Epoch 87 | Train Loss: 2.7317, attn_feat: torch.Size([128, 2, 512])\n",
            "4-Class Confusion Matrix:\n",
            " [[2038    6    0    0]\n",
            " [  13 1185    0    1]\n",
            " [  14    0  477    2]\n",
            " [   0    5    5  350]]\n",
            "Sensitivity: 0.9805, Specificity: 0.9971, ICBHI Score: 0.9888\n",
            "[Validation] Confusion Matrix:\n",
            " [[1028  283  243   25]\n",
            " [ 292  322   23   12]\n",
            " [ 165   72  121   27]\n",
            " [  55   34   32   22]]\n",
            "Test Loss: 6.7512\n",
            "[VALIDATION] Sensitivity: 0.3951, Specificity: 0.6510, Avg ICBHI Score: 0.5231\n",
            "##################################################\n"
          ]
        },
        {
          "name": "stderr",
          "output_type": "stream",
          "text": [
            "Mix_MLATT Trainig only: 100%|██████████| 32/32 [00:05<00:00,  5.79it/s]\n"
          ]
        },
        {
          "name": "stdout",
          "output_type": "stream",
          "text": [
            "[Epoch 88 | Train Loss: 3.2304, attn_feat: torch.Size([128, 2, 512])\n",
            "4-Class Confusion Matrix:\n",
            " [[2040    3    1    0]\n",
            " [   5 1194    0    0]\n",
            " [  10    0  482    1]\n",
            " [   0    7    2  351]]\n",
            "Sensitivity: 0.9878, Specificity: 0.9980, ICBHI Score: 0.9929\n",
            "[Validation] Confusion Matrix:\n",
            " [[1025  287  237   30]\n",
            " [ 264  342   29   14]\n",
            " [ 155   71  124   35]\n",
            " [  53   29   29   32]]\n",
            "Test Loss: 7.0921\n",
            "[VALIDATION] Sensitivity: 0.4231, Specificity: 0.6491, Avg ICBHI Score: 0.5361\n",
            "##################################################\n"
          ]
        },
        {
          "name": "stderr",
          "output_type": "stream",
          "text": [
            "Mix_MLATT Trainig only: 100%|██████████| 32/32 [00:05<00:00,  5.79it/s]\n"
          ]
        },
        {
          "name": "stdout",
          "output_type": "stream",
          "text": [
            "[Epoch 89 | Train Loss: 3.0507, attn_feat: torch.Size([128, 2, 512])\n",
            "4-Class Confusion Matrix:\n",
            " [[2036    8    0    0]\n",
            " [  15 1184    0    0]\n",
            " [  11    1  478    3]\n",
            " [   0    9    2  349]]\n",
            "Sensitivity: 0.9800, Specificity: 0.9961, ICBHI Score: 0.9881\n",
            "[Validation] Confusion Matrix:\n",
            " [[1146  247  176   10]\n",
            " [ 330  292   23    4]\n",
            " [ 189   70  113   13]\n",
            " [  66   34   27   16]]\n",
            "Test Loss: 7.4207\n",
            "[VALIDATION] Sensitivity: 0.3577, Specificity: 0.7258, Avg ICBHI Score: 0.5417\n",
            "##################################################\n"
          ]
        },
        {
          "name": "stderr",
          "output_type": "stream",
          "text": [
            "Mix_MLATT Trainig only: 100%|██████████| 32/32 [00:05<00:00,  5.78it/s]\n"
          ]
        },
        {
          "name": "stdout",
          "output_type": "stream",
          "text": [
            "[Epoch 90 | Train Loss: 3.0098, attn_feat: torch.Size([128, 2, 512])\n",
            "4-Class Confusion Matrix:\n",
            " [[2034   10    0    0]\n",
            " [  15 1183    0    1]\n",
            " [  10    0  479    4]\n",
            " [   0   10    5  345]]\n",
            "Sensitivity: 0.9781, Specificity: 0.9951, ICBHI Score: 0.9866\n",
            "[Validation] Confusion Matrix:\n",
            " [[1131  220  204   24]\n",
            " [ 337  280   23    9]\n",
            " [ 185   65  104   31]\n",
            " [  71   22   31   19]]\n",
            "Test Loss: 7.3255\n",
            "[VALIDATION] Sensitivity: 0.3424, Specificity: 0.7163, Avg ICBHI Score: 0.5293\n",
            "##################################################\n"
          ]
        },
        {
          "name": "stderr",
          "output_type": "stream",
          "text": [
            "Mix_MLATT Trainig only: 100%|██████████| 32/32 [00:05<00:00,  5.78it/s]\n"
          ]
        },
        {
          "name": "stdout",
          "output_type": "stream",
          "text": [
            "[Epoch 91 | Train Loss: 3.2719, attn_feat: torch.Size([128, 2, 512])\n",
            "4-Class Confusion Matrix:\n",
            " [[2038    5    1    0]\n",
            " [  19 1180    0    0]\n",
            " [  14    0  474    5]\n",
            " [   0   13    3  344]]\n",
            "Sensitivity: 0.9737, Specificity: 0.9971, ICBHI Score: 0.9854\n",
            "[Validation] Confusion Matrix:\n",
            " [[1137  235  190   17]\n",
            " [ 323  300   21    5]\n",
            " [ 191   64  107   23]\n",
            " [  62   29   25   27]]\n",
            "Test Loss: 6.9847\n",
            "[VALIDATION] Sensitivity: 0.3687, Specificity: 0.7201, Avg ICBHI Score: 0.5444\n",
            "##################################################\n"
          ]
        },
        {
          "name": "stderr",
          "output_type": "stream",
          "text": [
            "Mix_MLATT Trainig only: 100%|██████████| 32/32 [00:05<00:00,  5.78it/s]\n"
          ]
        },
        {
          "name": "stdout",
          "output_type": "stream",
          "text": [
            "[Epoch 92 | Train Loss: 3.1252, attn_feat: torch.Size([128, 2, 512])\n",
            "4-Class Confusion Matrix:\n",
            " [[2040    4    0    0]\n",
            " [   8 1191    0    0]\n",
            " [   6    1  484    2]\n",
            " [   0    6    2  352]]\n",
            "Sensitivity: 0.9878, Specificity: 0.9980, ICBHI Score: 0.9929\n",
            "[Validation] Confusion Matrix:\n",
            " [[1120  234  203   22]\n",
            " [ 303  315   23    8]\n",
            " [ 178   59  117   31]\n",
            " [  65   26   25   27]]\n",
            "Test Loss: 7.0582\n",
            "[VALIDATION] Sensitivity: 0.3900, Specificity: 0.7093, Avg ICBHI Score: 0.5496\n",
            "##################################################\n"
          ]
        },
        {
          "name": "stderr",
          "output_type": "stream",
          "text": [
            "Mix_MLATT Trainig only: 100%|██████████| 32/32 [00:05<00:00,  5.78it/s]\n"
          ]
        },
        {
          "name": "stdout",
          "output_type": "stream",
          "text": [
            "[Epoch 93 | Train Loss: 3.0429, attn_feat: torch.Size([128, 2, 512])\n",
            "4-Class Confusion Matrix:\n",
            " [[2041    3    0    0]\n",
            " [   4 1194    0    1]\n",
            " [   3    0  488    2]\n",
            " [   0    6    1  353]]\n",
            "Sensitivity: 0.9917, Specificity: 0.9985, ICBHI Score: 0.9951\n",
            "[Validation] Confusion Matrix:\n",
            " [[1136  258  167   18]\n",
            " [ 311  313   18    7]\n",
            " [ 204   67   90   24]\n",
            " [  67   31   27   18]]\n",
            "Test Loss: 7.0336\n",
            "[VALIDATION] Sensitivity: 0.3577, Specificity: 0.7194, Avg ICBHI Score: 0.5386\n",
            "##################################################\n"
          ]
        },
        {
          "name": "stderr",
          "output_type": "stream",
          "text": [
            "Mix_MLATT Trainig only: 100%|██████████| 32/32 [00:05<00:00,  5.78it/s]\n"
          ]
        },
        {
          "name": "stdout",
          "output_type": "stream",
          "text": [
            "[Epoch 94 | Train Loss: 3.1008, attn_feat: torch.Size([128, 2, 512])\n",
            "4-Class Confusion Matrix:\n",
            " [[2041    3    0    0]\n",
            " [  11 1188    0    0]\n",
            " [   3    0  490    0]\n",
            " [   0    7    2  351]]\n",
            "Sensitivity: 0.9888, Specificity: 0.9985, ICBHI Score: 0.9937\n",
            "[Validation] Confusion Matrix:\n",
            " [[1087  275  197   20]\n",
            " [ 287  326   24   12]\n",
            " [ 170   75  111   29]\n",
            " [  57   36   26   24]]\n",
            "Test Loss: 6.9717\n",
            "[VALIDATION] Sensitivity: 0.3917, Specificity: 0.6884, Avg ICBHI Score: 0.5400\n",
            "##################################################\n"
          ]
        },
        {
          "name": "stderr",
          "output_type": "stream",
          "text": [
            "Mix_MLATT Trainig only: 100%|██████████| 32/32 [00:05<00:00,  5.78it/s]\n"
          ]
        },
        {
          "name": "stdout",
          "output_type": "stream",
          "text": [
            "[Epoch 95 | Train Loss: 3.2251, attn_feat: torch.Size([128, 2, 512])\n",
            "4-Class Confusion Matrix:\n",
            " [[2035    9    0    0]\n",
            " [  14 1185    0    0]\n",
            " [   3    0  487    3]\n",
            " [   0   11    1  348]]\n",
            "Sensitivity: 0.9844, Specificity: 0.9956, ICBHI Score: 0.9900\n",
            "[Validation] Confusion Matrix:\n",
            " [[1103  257  194   25]\n",
            " [ 299  321   21    8]\n",
            " [ 179   66  112   28]\n",
            " [  56   30   29   28]]\n",
            "Test Loss: 7.1583\n",
            "[VALIDATION] Sensitivity: 0.3917, Specificity: 0.6985, Avg ICBHI Score: 0.5451\n",
            "##################################################\n"
          ]
        },
        {
          "name": "stderr",
          "output_type": "stream",
          "text": [
            "Mix_MLATT Trainig only: 100%|██████████| 32/32 [00:05<00:00,  5.78it/s]\n"
          ]
        },
        {
          "name": "stdout",
          "output_type": "stream",
          "text": [
            "[Epoch 96 | Train Loss: 2.9669, attn_feat: torch.Size([128, 2, 512])\n",
            "4-Class Confusion Matrix:\n",
            " [[2040    3    1    0]\n",
            " [  14 1185    0    0]\n",
            " [   7    0  484    2]\n",
            " [   0    7    2  351]]\n",
            "Sensitivity: 0.9844, Specificity: 0.9980, ICBHI Score: 0.9912\n",
            "[Validation] Confusion Matrix:\n",
            " [[1137  240  192   10]\n",
            " [ 299  323   21    6]\n",
            " [ 199   65  100   21]\n",
            " [  67   36   28   12]]\n",
            "Test Loss: 7.2623\n",
            "[VALIDATION] Sensitivity: 0.3696, Specificity: 0.7201, Avg ICBHI Score: 0.5448\n",
            "##################################################\n"
          ]
        },
        {
          "name": "stderr",
          "output_type": "stream",
          "text": [
            "Mix_MLATT Trainig only: 100%|██████████| 32/32 [00:05<00:00,  5.78it/s]\n"
          ]
        },
        {
          "name": "stdout",
          "output_type": "stream",
          "text": [
            "[Epoch 97 | Train Loss: 2.5250, attn_feat: torch.Size([128, 2, 512])\n",
            "4-Class Confusion Matrix:\n",
            " [[2041    3    0    0]\n",
            " [   6 1193    0    0]\n",
            " [   4    0  487    2]\n",
            " [   0    7    2  351]]\n",
            "Sensitivity: 0.9898, Specificity: 0.9985, ICBHI Score: 0.9941\n",
            "[Validation] Confusion Matrix:\n",
            " [[1157  235  167   20]\n",
            " [ 299  322   18   10]\n",
            " [ 206   60  100   19]\n",
            " [  62   37   22   22]]\n",
            "Test Loss: 6.7005\n",
            "[VALIDATION] Sensitivity: 0.3772, Specificity: 0.7327, Avg ICBHI Score: 0.5550\n",
            "##################################################\n"
          ]
        },
        {
          "name": "stderr",
          "output_type": "stream",
          "text": [
            "Mix_MLATT Trainig only: 100%|██████████| 32/32 [00:05<00:00,  5.78it/s]\n"
          ]
        },
        {
          "name": "stdout",
          "output_type": "stream",
          "text": [
            "[Epoch 98 | Train Loss: 3.0463, attn_feat: torch.Size([128, 2, 512])\n",
            "4-Class Confusion Matrix:\n",
            " [[2037    7    0    0]\n",
            " [   7 1191    0    1]\n",
            " [   5    0  487    1]\n",
            " [   0    8    1  351]]\n",
            "Sensitivity: 0.9888, Specificity: 0.9966, ICBHI Score: 0.9927\n",
            "[Validation] Confusion Matrix:\n",
            " [[1086  337  136   20]\n",
            " [ 257  366   17    9]\n",
            " [ 184   81   84   36]\n",
            " [  57   34   23   29]]\n",
            "Test Loss: 6.9346\n",
            "[VALIDATION] Sensitivity: 0.4070, Specificity: 0.6878, Avg ICBHI Score: 0.5474\n",
            "##################################################\n"
          ]
        },
        {
          "name": "stderr",
          "output_type": "stream",
          "text": [
            "Mix_MLATT Trainig only: 100%|██████████| 32/32 [00:05<00:00,  5.77it/s]\n"
          ]
        },
        {
          "name": "stdout",
          "output_type": "stream",
          "text": [
            "[Epoch 99 | Train Loss: 2.6257, attn_feat: torch.Size([128, 2, 512])\n",
            "4-Class Confusion Matrix:\n",
            " [[2041    3    0    0]\n",
            " [   6 1192    0    1]\n",
            " [   4    0  487    2]\n",
            " [   0    3    1  356]]\n",
            "Sensitivity: 0.9917, Specificity: 0.9985, ICBHI Score: 0.9951\n",
            "[Validation] Confusion Matrix:\n",
            " [[1141  209  217   12]\n",
            " [ 328  287   25    9]\n",
            " [ 195   54  117   19]\n",
            " [  60   29   34   20]]\n",
            "Test Loss: 6.3991\n",
            "[VALIDATION] Sensitivity: 0.3602, Specificity: 0.7226, Avg ICBHI Score: 0.5414\n",
            "##################################################\n",
            "💾 Saved checkpoint to /home/HyeonSeok/BOAZ-Chungzins/save_path/checkpoint0723_others_basefalse_1alpha_MultilabelAtt_T_128bs_2507230304_099.pth.tar\n"
          ]
        },
        {
          "name": "stderr",
          "output_type": "stream",
          "text": [
            "Mix_MLATT Trainig only: 100%|██████████| 32/32 [00:05<00:00,  5.78it/s]\n"
          ]
        },
        {
          "name": "stdout",
          "output_type": "stream",
          "text": [
            "[Epoch 100 | Train Loss: 2.9208, attn_feat: torch.Size([128, 2, 512])\n",
            "4-Class Confusion Matrix:\n",
            " [[2039    5    0    0]\n",
            " [   7 1192    0    0]\n",
            " [   1    0  492    0]\n",
            " [   0    4    0  356]]\n",
            "Sensitivity: 0.9942, Specificity: 0.9976, ICBHI Score: 0.9959\n",
            "[Validation] Confusion Matrix:\n",
            " [[1150  249  157   23]\n",
            " [ 307  318   15    9]\n",
            " [ 192   64  100   29]\n",
            " [  61   26   30   26]]\n",
            "Test Loss: 7.1474\n",
            "[VALIDATION] Sensitivity: 0.3772, Specificity: 0.7283, Avg ICBHI Score: 0.5528\n",
            "##################################################\n"
          ]
        },
        {
          "name": "stderr",
          "output_type": "stream",
          "text": [
            "Mix_MLATT Trainig only: 100%|██████████| 32/32 [00:05<00:00,  5.78it/s]\n"
          ]
        },
        {
          "name": "stdout",
          "output_type": "stream",
          "text": [
            "[Epoch 101 | Train Loss: 2.6943, attn_feat: torch.Size([128, 2, 512])\n",
            "4-Class Confusion Matrix:\n",
            " [[2040    3    1    0]\n",
            " [   3 1196    0    0]\n",
            " [   8    0  484    1]\n",
            " [   0    6    0  354]]\n",
            "Sensitivity: 0.9912, Specificity: 0.9980, ICBHI Score: 0.9946\n",
            "[Validation] Confusion Matrix:\n",
            " [[1148  191  218   22]\n",
            " [ 338  276   26    9]\n",
            " [ 192   50  118   25]\n",
            " [  67   22   28   26]]\n",
            "Test Loss: 7.0831\n",
            "[VALIDATION] Sensitivity: 0.3568, Specificity: 0.7270, Avg ICBHI Score: 0.5419\n",
            "##################################################\n"
          ]
        },
        {
          "name": "stderr",
          "output_type": "stream",
          "text": [
            "Mix_MLATT Trainig only: 100%|██████████| 32/32 [00:05<00:00,  5.79it/s]\n"
          ]
        },
        {
          "name": "stdout",
          "output_type": "stream",
          "text": [
            "[Epoch 102 | Train Loss: 2.9939, attn_feat: torch.Size([128, 2, 512])\n",
            "4-Class Confusion Matrix:\n",
            " [[2041    3    0    0]\n",
            " [   3 1194    0    2]\n",
            " [   2    0  491    0]\n",
            " [   0    5    3  352]]\n",
            "Sensitivity: 0.9927, Specificity: 0.9985, ICBHI Score: 0.9956\n",
            "[Validation] Confusion Matrix:\n",
            " [[981 329 242  27]\n",
            " [247 364  22  16]\n",
            " [161  75 118  31]\n",
            " [ 52  37  25  29]]\n",
            "Test Loss: 6.9032\n",
            "[VALIDATION] Sensitivity: 0.4342, Specificity: 0.6213, Avg ICBHI Score: 0.5277\n",
            "##################################################\n"
          ]
        },
        {
          "name": "stderr",
          "output_type": "stream",
          "text": [
            "Mix_MLATT Trainig only: 100%|██████████| 32/32 [00:05<00:00,  5.79it/s]\n"
          ]
        },
        {
          "name": "stdout",
          "output_type": "stream",
          "text": [
            "[Epoch 103 | Train Loss: 2.8649, attn_feat: torch.Size([128, 2, 512])\n",
            "4-Class Confusion Matrix:\n",
            " [[2040    4    0    0]\n",
            " [   6 1191    0    2]\n",
            " [   2    0  489    2]\n",
            " [   0    3    1  356]]\n",
            "Sensitivity: 0.9922, Specificity: 0.9980, ICBHI Score: 0.9951\n",
            "[Validation] Confusion Matrix:\n",
            " [[1193  178  191   17]\n",
            " [ 361  267   14    7]\n",
            " [ 222   46   97   20]\n",
            " [  73   31   24   15]]\n",
            "Test Loss: 7.0920\n",
            "[VALIDATION] Sensitivity: 0.3220, Specificity: 0.7555, Avg ICBHI Score: 0.5388\n",
            "##################################################\n"
          ]
        },
        {
          "name": "stderr",
          "output_type": "stream",
          "text": [
            "Mix_MLATT Trainig only: 100%|██████████| 32/32 [00:05<00:00,  5.79it/s]\n"
          ]
        },
        {
          "name": "stdout",
          "output_type": "stream",
          "text": [
            "[Epoch 104 | Train Loss: 3.2509, attn_feat: torch.Size([128, 2, 512])\n",
            "4-Class Confusion Matrix:\n",
            " [[2043    1    0    0]\n",
            " [   6 1192    0    1]\n",
            " [   7    0  486    0]\n",
            " [   0    4    0  356]]\n",
            "Sensitivity: 0.9912, Specificity: 0.9995, ICBHI Score: 0.9954\n",
            "[Validation] Confusion Matrix:\n",
            " [[1003  345  204   27]\n",
            " [ 241  380   19    9]\n",
            " [ 169   85   98   33]\n",
            " [  54   47   24   18]]\n",
            "Test Loss: 6.9657\n",
            "[VALIDATION] Sensitivity: 0.4214, Specificity: 0.6352, Avg ICBHI Score: 0.5283\n",
            "##################################################\n"
          ]
        },
        {
          "name": "stderr",
          "output_type": "stream",
          "text": [
            "Mix_MLATT Trainig only: 100%|██████████| 32/32 [00:05<00:00,  5.78it/s]\n"
          ]
        },
        {
          "name": "stdout",
          "output_type": "stream",
          "text": [
            "[Epoch 105 | Train Loss: 3.0524, attn_feat: torch.Size([128, 2, 512])\n",
            "4-Class Confusion Matrix:\n",
            " [[2040    4    0    0]\n",
            " [   4 1195    0    0]\n",
            " [   3    0  490    0]\n",
            " [   0    3    0  357]]\n",
            "Sensitivity: 0.9951, Specificity: 0.9980, ICBHI Score: 0.9966\n",
            "[Validation] Confusion Matrix:\n",
            " [[1147  151  271   10]\n",
            " [ 360  256   28    5]\n",
            " [ 185   40  144   16]\n",
            " [  75   19   34   15]]\n",
            "Test Loss: 7.0217\n",
            "[VALIDATION] Sensitivity: 0.3526, Specificity: 0.7264, Avg ICBHI Score: 0.5395\n",
            "##################################################\n"
          ]
        },
        {
          "name": "stderr",
          "output_type": "stream",
          "text": [
            "Mix_MLATT Trainig only: 100%|██████████| 32/32 [00:05<00:00,  5.77it/s]\n"
          ]
        },
        {
          "name": "stdout",
          "output_type": "stream",
          "text": [
            "[Epoch 106 | Train Loss: 3.0956, attn_feat: torch.Size([128, 2, 512])\n",
            "4-Class Confusion Matrix:\n",
            " [[2040    4    0    0]\n",
            " [   6 1193    0    0]\n",
            " [   4    0  488    1]\n",
            " [   0    4    1  355]]\n",
            "Sensitivity: 0.9922, Specificity: 0.9980, ICBHI Score: 0.9951\n",
            "[Validation] Confusion Matrix:\n",
            " [[1105  257  199   18]\n",
            " [ 313  308   20    8]\n",
            " [ 191   65   97   32]\n",
            " [  63   27   28   25]]\n",
            "Test Loss: 7.1336\n",
            "[VALIDATION] Sensitivity: 0.3653, Specificity: 0.6998, Avg ICBHI Score: 0.5326\n",
            "##################################################\n"
          ]
        },
        {
          "name": "stderr",
          "output_type": "stream",
          "text": [
            "Mix_MLATT Trainig only: 100%|██████████| 32/32 [00:05<00:00,  5.78it/s]\n"
          ]
        },
        {
          "name": "stdout",
          "output_type": "stream",
          "text": [
            "[Epoch 107 | Train Loss: 3.0057, attn_feat: torch.Size([128, 2, 512])\n",
            "4-Class Confusion Matrix:\n",
            " [[2042    2    0    0]\n",
            " [   3 1196    0    0]\n",
            " [   3    0  488    2]\n",
            " [   0    5    0  355]]\n",
            "Sensitivity: 0.9937, Specificity: 0.9990, ICBHI Score: 0.9963\n",
            "[Validation] Confusion Matrix:\n",
            " [[1136  203  222   18]\n",
            " [ 335  282   24    8]\n",
            " [ 187   47  125   26]\n",
            " [  67   28   29   19]]\n",
            "Test Loss: 7.0663\n",
            "[VALIDATION] Sensitivity: 0.3619, Specificity: 0.7194, Avg ICBHI Score: 0.5407\n",
            "##################################################\n"
          ]
        },
        {
          "name": "stderr",
          "output_type": "stream",
          "text": [
            "Mix_MLATT Trainig only: 100%|██████████| 32/32 [00:05<00:00,  5.78it/s]\n"
          ]
        },
        {
          "name": "stdout",
          "output_type": "stream",
          "text": [
            "[Epoch 108 | Train Loss: 2.7798, attn_feat: torch.Size([128, 2, 512])\n",
            "4-Class Confusion Matrix:\n",
            " [[2043    1    0    0]\n",
            " [   2 1197    0    0]\n",
            " [   4    0  489    0]\n",
            " [   0    4    1  355]]\n",
            "Sensitivity: 0.9946, Specificity: 0.9995, ICBHI Score: 0.9971\n",
            "[Validation] Confusion Matrix:\n",
            " [[1116  209  234   20]\n",
            " [ 325  286   26   12]\n",
            " [ 165   60  124   36]\n",
            " [  60   25   27   31]]\n",
            "Test Loss: 7.1717\n",
            "[VALIDATION] Sensitivity: 0.3747, Specificity: 0.7068, Avg ICBHI Score: 0.5407\n",
            "##################################################\n"
          ]
        },
        {
          "name": "stderr",
          "output_type": "stream",
          "text": [
            "Mix_MLATT Trainig only: 100%|██████████| 32/32 [00:05<00:00,  5.78it/s]\n"
          ]
        },
        {
          "name": "stdout",
          "output_type": "stream",
          "text": [
            "[Epoch 109 | Train Loss: 3.2299, attn_feat: torch.Size([128, 2, 512])\n",
            "4-Class Confusion Matrix:\n",
            " [[2042    1    1    0]\n",
            " [   0 1199    0    0]\n",
            " [   2    0  491    0]\n",
            " [   0    5    0  355]]\n",
            "Sensitivity: 0.9966, Specificity: 0.9990, ICBHI Score: 0.9978\n",
            "[Validation] Confusion Matrix:\n",
            " [[1066  287  194   32]\n",
            " [ 278  336   20   15]\n",
            " [ 158   83  106   38]\n",
            " [  56   33   25   29]]\n",
            "Test Loss: 7.0269\n",
            "[VALIDATION] Sensitivity: 0.4002, Specificity: 0.6751, Avg ICBHI Score: 0.5376\n",
            "##################################################\n"
          ]
        },
        {
          "name": "stderr",
          "output_type": "stream",
          "text": [
            "Mix_MLATT Trainig only: 100%|██████████| 32/32 [00:05<00:00,  5.79it/s]\n"
          ]
        },
        {
          "name": "stdout",
          "output_type": "stream",
          "text": [
            "[Epoch 110 | Train Loss: 2.9187, attn_feat: torch.Size([128, 2, 512])\n",
            "4-Class Confusion Matrix:\n",
            " [[2041    3    0    0]\n",
            " [  11 1187    0    1]\n",
            " [   3    0  489    1]\n",
            " [   0    7    1  352]]\n",
            "Sensitivity: 0.9883, Specificity: 0.9985, ICBHI Score: 0.9934\n",
            "[Validation] Confusion Matrix:\n",
            " [[1184  199  181   15]\n",
            " [ 330  292   20    7]\n",
            " [ 195   53  113   24]\n",
            " [  68   29   27   19]]\n",
            "Test Loss: 7.0533\n",
            "[VALIDATION] Sensitivity: 0.3602, Specificity: 0.7498, Avg ICBHI Score: 0.5550\n",
            "##################################################\n"
          ]
        },
        {
          "name": "stderr",
          "output_type": "stream",
          "text": [
            "Mix_MLATT Trainig only: 100%|██████████| 32/32 [00:05<00:00,  5.78it/s]\n"
          ]
        },
        {
          "name": "stdout",
          "output_type": "stream",
          "text": [
            "[Epoch 111 | Train Loss: 3.0038, attn_feat: torch.Size([128, 2, 512])\n",
            "4-Class Confusion Matrix:\n",
            " [[2042    2    0    0]\n",
            " [   5 1194    0    0]\n",
            " [   3    1  489    0]\n",
            " [   0    2    1  357]]\n",
            "Sensitivity: 0.9942, Specificity: 0.9990, ICBHI Score: 0.9966\n",
            "[Validation] Confusion Matrix:\n",
            " [[1127  200  229   23]\n",
            " [ 331  286   21   11]\n",
            " [ 172   59  125   29]\n",
            " [  58   25   34   26]]\n",
            "Test Loss: 6.8881\n",
            "[VALIDATION] Sensitivity: 0.3713, Specificity: 0.7137, Avg ICBHI Score: 0.5425\n",
            "##################################################\n"
          ]
        },
        {
          "name": "stderr",
          "output_type": "stream",
          "text": [
            "Mix_MLATT Trainig only: 100%|██████████| 32/32 [00:05<00:00,  5.78it/s]\n"
          ]
        },
        {
          "name": "stdout",
          "output_type": "stream",
          "text": [
            "[Epoch 112 | Train Loss: 2.6846, attn_feat: torch.Size([128, 2, 512])\n",
            "4-Class Confusion Matrix:\n",
            " [[2040    4    0    0]\n",
            " [   1 1198    0    0]\n",
            " [   3    0  490    0]\n",
            " [   0    4    0  356]]\n",
            "Sensitivity: 0.9961, Specificity: 0.9980, ICBHI Score: 0.9971\n",
            "[Validation] Confusion Matrix:\n",
            " [[1045  255  248   31]\n",
            " [ 287  322   26   14]\n",
            " [ 151   65  131   38]\n",
            " [  54   26   30   33]]\n",
            "Test Loss: 7.0043\n",
            "[VALIDATION] Sensitivity: 0.4129, Specificity: 0.6618, Avg ICBHI Score: 0.5374\n",
            "##################################################\n"
          ]
        },
        {
          "name": "stderr",
          "output_type": "stream",
          "text": [
            "Mix_MLATT Trainig only: 100%|██████████| 32/32 [00:05<00:00,  5.78it/s]\n"
          ]
        },
        {
          "name": "stdout",
          "output_type": "stream",
          "text": [
            "[Epoch 113 | Train Loss: 2.7235, attn_feat: torch.Size([128, 2, 512])\n",
            "4-Class Confusion Matrix:\n",
            " [[2043    1    0    0]\n",
            " [   5 1194    0    0]\n",
            " [   1    0  491    1]\n",
            " [   0    3    2  355]]\n",
            "Sensitivity: 0.9942, Specificity: 0.9995, ICBHI Score: 0.9968\n",
            "[Validation] Confusion Matrix:\n",
            " [[1034  278  240   27]\n",
            " [ 306  312   21   10]\n",
            " [ 173   64  116   32]\n",
            " [  56   32   28   27]]\n",
            "Test Loss: 7.0473\n",
            "[VALIDATION] Sensitivity: 0.3866, Specificity: 0.6548, Avg ICBHI Score: 0.5207\n",
            "##################################################\n"
          ]
        },
        {
          "name": "stderr",
          "output_type": "stream",
          "text": [
            "Mix_MLATT Trainig only: 100%|██████████| 32/32 [00:05<00:00,  5.77it/s]\n"
          ]
        },
        {
          "name": "stdout",
          "output_type": "stream",
          "text": [
            "[Epoch 114 | Train Loss: 2.8590, attn_feat: torch.Size([128, 2, 512])\n",
            "4-Class Confusion Matrix:\n",
            " [[2042    2    0    0]\n",
            " [   0 1198    0    1]\n",
            " [   2    0  491    0]\n",
            " [   0    1    0  359]]\n",
            "Sensitivity: 0.9981, Specificity: 0.9990, ICBHI Score: 0.9985\n",
            "[Validation] Confusion Matrix:\n",
            " [[1104  233  224   18]\n",
            " [ 323  293   23   10]\n",
            " [ 198   58  103   26]\n",
            " [  59   34   30   20]]\n",
            "Test Loss: 6.8117\n",
            "[VALIDATION] Sensitivity: 0.3534, Specificity: 0.6992, Avg ICBHI Score: 0.5263\n",
            "##################################################\n"
          ]
        },
        {
          "name": "stderr",
          "output_type": "stream",
          "text": [
            "Mix_MLATT Trainig only: 100%|██████████| 32/32 [00:05<00:00,  5.78it/s]\n"
          ]
        },
        {
          "name": "stdout",
          "output_type": "stream",
          "text": [
            "[Epoch 115 | Train Loss: 2.8487, attn_feat: torch.Size([128, 2, 512])\n",
            "4-Class Confusion Matrix:\n",
            " [[2043    1    0    0]\n",
            " [   0 1198    0    1]\n",
            " [   2    0  491    0]\n",
            " [   0    1    0  359]]\n",
            "Sensitivity: 0.9981, Specificity: 0.9995, ICBHI Score: 0.9988\n",
            "[Validation] Confusion Matrix:\n",
            " [[1098  181  271   29]\n",
            " [ 339  271   25   14]\n",
            " [ 174   57  126   28]\n",
            " [  62   28   31   22]]\n",
            "Test Loss: 7.1630\n",
            "[VALIDATION] Sensitivity: 0.3560, Specificity: 0.6954, Avg ICBHI Score: 0.5257\n",
            "##################################################\n"
          ]
        },
        {
          "name": "stderr",
          "output_type": "stream",
          "text": [
            "Mix_MLATT Trainig only: 100%|██████████| 32/32 [00:05<00:00,  5.78it/s]\n"
          ]
        },
        {
          "name": "stdout",
          "output_type": "stream",
          "text": [
            "[Epoch 116 | Train Loss: 2.7434, attn_feat: torch.Size([128, 2, 512])\n",
            "4-Class Confusion Matrix:\n",
            " [[2044    0    0    0]\n",
            " [   4 1195    0    0]\n",
            " [   2    0  491    0]\n",
            " [   0    3    0  357]]\n",
            "Sensitivity: 0.9956, Specificity: 1.0000, ICBHI Score: 0.9978\n",
            "[Validation] Confusion Matrix:\n",
            " [[1108  184  261   26]\n",
            " [ 348  261   30   10]\n",
            " [ 190   47  124   24]\n",
            " [  71   27   31   14]]\n",
            "Test Loss: 6.8874\n",
            "[VALIDATION] Sensitivity: 0.3390, Specificity: 0.7017, Avg ICBHI Score: 0.5204\n",
            "##################################################\n"
          ]
        },
        {
          "name": "stderr",
          "output_type": "stream",
          "text": [
            "Mix_MLATT Trainig only: 100%|██████████| 32/32 [00:05<00:00,  5.78it/s]\n"
          ]
        },
        {
          "name": "stdout",
          "output_type": "stream",
          "text": [
            "[Epoch 117 | Train Loss: 2.9509, attn_feat: torch.Size([128, 2, 512])\n",
            "4-Class Confusion Matrix:\n",
            " [[2043    0    1    0]\n",
            " [   0 1199    0    0]\n",
            " [   1    0  492    0]\n",
            " [   0    3    0  357]]\n",
            "Sensitivity: 0.9981, Specificity: 0.9995, ICBHI Score: 0.9988\n",
            "[Validation] Confusion Matrix:\n",
            " [[1177  224  161   17]\n",
            " [ 328  296   17    8]\n",
            " [ 196   68   95   26]\n",
            " [  65   34   27   17]]\n",
            "Test Loss: 7.4211\n",
            "[VALIDATION] Sensitivity: 0.3466, Specificity: 0.7454, Avg ICBHI Score: 0.5460\n",
            "##################################################\n"
          ]
        },
        {
          "name": "stderr",
          "output_type": "stream",
          "text": [
            "Mix_MLATT Trainig only: 100%|██████████| 32/32 [00:05<00:00,  5.79it/s]\n"
          ]
        },
        {
          "name": "stdout",
          "output_type": "stream",
          "text": [
            "[Epoch 118 | Train Loss: 3.0925, attn_feat: torch.Size([128, 2, 512])\n",
            "4-Class Confusion Matrix:\n",
            " [[2042    2    0    0]\n",
            " [   1 1198    0    0]\n",
            " [   2    0  491    0]\n",
            " [   0    7    1  352]]\n",
            "Sensitivity: 0.9946, Specificity: 0.9990, ICBHI Score: 0.9968\n",
            "[Validation] Confusion Matrix:\n",
            " [[1192  189  185   13]\n",
            " [ 344  277   22    6]\n",
            " [ 221   54   94   16]\n",
            " [  76   27   26   14]]\n",
            "Test Loss: 6.8099\n",
            "[VALIDATION] Sensitivity: 0.3271, Specificity: 0.7549, Avg ICBHI Score: 0.5410\n",
            "##################################################\n"
          ]
        },
        {
          "name": "stderr",
          "output_type": "stream",
          "text": [
            "Mix_MLATT Trainig only: 100%|██████████| 32/32 [00:05<00:00,  5.79it/s]\n"
          ]
        },
        {
          "name": "stdout",
          "output_type": "stream",
          "text": [
            "[Epoch 119 | Train Loss: 3.1126, attn_feat: torch.Size([128, 2, 512])\n",
            "4-Class Confusion Matrix:\n",
            " [[2042    2    0    0]\n",
            " [  10 1189    0    0]\n",
            " [   2    0  491    0]\n",
            " [   0    0    1  359]]\n",
            "Sensitivity: 0.9937, Specificity: 0.9990, ICBHI Score: 0.9963\n",
            "[Validation] Confusion Matrix:\n",
            " [[1152  219  191   17]\n",
            " [ 340  283   20    6]\n",
            " [ 198   55  112   20]\n",
            " [  64   31   27   21]]\n",
            "Test Loss: 6.9994\n",
            "[VALIDATION] Sensitivity: 0.3534, Specificity: 0.7296, Avg ICBHI Score: 0.5415\n",
            "##################################################\n"
          ]
        },
        {
          "name": "stderr",
          "output_type": "stream",
          "text": [
            "Mix_MLATT Trainig only: 100%|██████████| 32/32 [00:05<00:00,  5.80it/s]\n"
          ]
        },
        {
          "name": "stdout",
          "output_type": "stream",
          "text": [
            "[Epoch 120 | Train Loss: 2.8350, attn_feat: torch.Size([128, 2, 512])\n",
            "4-Class Confusion Matrix:\n",
            " [[2042    2    0    0]\n",
            " [   6 1193    0    0]\n",
            " [   4    0  487    2]\n",
            " [   0    3    1  356]]\n",
            "Sensitivity: 0.9922, Specificity: 0.9990, ICBHI Score: 0.9956\n",
            "[Validation] Confusion Matrix:\n",
            " [[1114  206  232   27]\n",
            " [ 345  259   29   16]\n",
            " [ 176   55  128   26]\n",
            " [  57   25   35   26]]\n",
            "Test Loss: 7.2214\n",
            "[VALIDATION] Sensitivity: 0.3509, Specificity: 0.7055, Avg ICBHI Score: 0.5282\n",
            "##################################################\n"
          ]
        },
        {
          "name": "stderr",
          "output_type": "stream",
          "text": [
            "Mix_MLATT Trainig only: 100%|██████████| 32/32 [00:05<00:00,  5.80it/s]\n"
          ]
        },
        {
          "name": "stdout",
          "output_type": "stream",
          "text": [
            "[Epoch 121 | Train Loss: 3.2416, attn_feat: torch.Size([128, 2, 512])\n",
            "4-Class Confusion Matrix:\n",
            " [[2043    1    0    0]\n",
            " [   6 1191    0    2]\n",
            " [   2    0  491    0]\n",
            " [   0    5    0  355]]\n",
            "Sensitivity: 0.9927, Specificity: 0.9995, ICBHI Score: 0.9961\n",
            "[Validation] Confusion Matrix:\n",
            " [[1184  211  163   21]\n",
            " [ 344  275   21    9]\n",
            " [ 207   54   97   27]\n",
            " [  66   33   22   22]]\n",
            "Test Loss: 6.9173\n",
            "[VALIDATION] Sensitivity: 0.3347, Specificity: 0.7498, Avg ICBHI Score: 0.5423\n",
            "##################################################\n"
          ]
        },
        {
          "name": "stderr",
          "output_type": "stream",
          "text": [
            "Mix_MLATT Trainig only: 100%|██████████| 32/32 [00:05<00:00,  5.79it/s]\n"
          ]
        },
        {
          "name": "stdout",
          "output_type": "stream",
          "text": [
            "[Epoch 122 | Train Loss: 2.7260, attn_feat: torch.Size([128, 2, 512])\n",
            "4-Class Confusion Matrix:\n",
            " [[2041    3    0    0]\n",
            " [   7 1191    0    1]\n",
            " [   3    0  490    0]\n",
            " [   0    2    2  356]]\n",
            "Sensitivity: 0.9927, Specificity: 0.9985, ICBHI Score: 0.9956\n",
            "[Validation] Confusion Matrix:\n",
            " [[1063  264  218   34]\n",
            " [ 315  283   28   23]\n",
            " [ 171   59  116   39]\n",
            " [  52   26   27   38]]\n",
            "Test Loss: 7.1834\n",
            "[VALIDATION] Sensitivity: 0.3713, Specificity: 0.6732, Avg ICBHI Score: 0.5222\n",
            "##################################################\n"
          ]
        },
        {
          "name": "stderr",
          "output_type": "stream",
          "text": [
            "Mix_MLATT Trainig only: 100%|██████████| 32/32 [00:05<00:00,  5.79it/s]\n"
          ]
        },
        {
          "name": "stdout",
          "output_type": "stream",
          "text": [
            "[Epoch 123 | Train Loss: 2.6063, attn_feat: torch.Size([128, 2, 512])\n",
            "4-Class Confusion Matrix:\n",
            " [[2039    5    0    0]\n",
            " [   6 1193    0    0]\n",
            " [   7    0  485    1]\n",
            " [   0    2    1  357]]\n",
            "Sensitivity: 0.9917, Specificity: 0.9976, ICBHI Score: 0.9946\n",
            "[Validation] Confusion Matrix:\n",
            " [[1128  229  187   35]\n",
            " [ 343  265   27   14]\n",
            " [ 189   53  114   29]\n",
            " [  56   27   33   27]]\n",
            "Test Loss: 7.4180\n",
            "[VALIDATION] Sensitivity: 0.3449, Specificity: 0.7144, Avg ICBHI Score: 0.5297\n",
            "##################################################\n"
          ]
        },
        {
          "name": "stderr",
          "output_type": "stream",
          "text": [
            "Mix_MLATT Trainig only: 100%|██████████| 32/32 [00:05<00:00,  5.78it/s]\n"
          ]
        },
        {
          "name": "stdout",
          "output_type": "stream",
          "text": [
            "[Epoch 124 | Train Loss: 2.4473, attn_feat: torch.Size([128, 2, 512])\n",
            "4-Class Confusion Matrix:\n",
            " [[2044    0    0    0]\n",
            " [   4 1195    0    0]\n",
            " [   3    0  490    0]\n",
            " [   0    2    0  358]]\n",
            "Sensitivity: 0.9956, Specificity: 1.0000, ICBHI Score: 0.9978\n",
            "[Validation] Confusion Matrix:\n",
            " [[1157  229  172   21]\n",
            " [ 320  300   20    9]\n",
            " [ 191   71  101   22]\n",
            " [  66   34   17   26]]\n",
            "Test Loss: 7.2166\n",
            "[VALIDATION] Sensitivity: 0.3628, Specificity: 0.7327, Avg ICBHI Score: 0.5478\n",
            "##################################################\n"
          ]
        },
        {
          "name": "stderr",
          "output_type": "stream",
          "text": [
            "Mix_MLATT Trainig only: 100%|██████████| 32/32 [00:05<00:00,  5.79it/s]\n"
          ]
        },
        {
          "name": "stdout",
          "output_type": "stream",
          "text": [
            "[Epoch 125 | Train Loss: 2.6517, attn_feat: torch.Size([128, 2, 512])\n",
            "4-Class Confusion Matrix:\n",
            " [[2043    1    0    0]\n",
            " [   0 1199    0    0]\n",
            " [   2    0  491    0]\n",
            " [   0    1    0  359]]\n",
            "Sensitivity: 0.9985, Specificity: 0.9995, ICBHI Score: 0.9990\n",
            "[Validation] Confusion Matrix:\n",
            " [[1112  260  186   21]\n",
            " [ 303  319   20    7]\n",
            " [ 189   69  106   21]\n",
            " [  66   33   27   17]]\n",
            "Test Loss: 7.2792\n",
            "[VALIDATION] Sensitivity: 0.3755, Specificity: 0.7042, Avg ICBHI Score: 0.5399\n",
            "##################################################\n"
          ]
        },
        {
          "name": "stderr",
          "output_type": "stream",
          "text": [
            "Mix_MLATT Trainig only: 100%|██████████| 32/32 [00:05<00:00,  5.79it/s]\n"
          ]
        },
        {
          "name": "stdout",
          "output_type": "stream",
          "text": [
            "[Epoch 126 | Train Loss: 2.8963, attn_feat: torch.Size([128, 2, 512])\n",
            "4-Class Confusion Matrix:\n",
            " [[2043    1    0    0]\n",
            " [   3 1196    0    0]\n",
            " [   3    0  490    0]\n",
            " [   0    0    0  360]]\n",
            "Sensitivity: 0.9971, Specificity: 0.9995, ICBHI Score: 0.9983\n",
            "[Validation] Confusion Matrix:\n",
            " [[1164  196  193   26]\n",
            " [ 327  281   31   10]\n",
            " [ 183   56  123   23]\n",
            " [  65   29   21   28]]\n",
            "Test Loss: 7.1509\n",
            "[VALIDATION] Sensitivity: 0.3670, Specificity: 0.7372, Avg ICBHI Score: 0.5521\n",
            "##################################################\n"
          ]
        },
        {
          "name": "stderr",
          "output_type": "stream",
          "text": [
            "Mix_MLATT Trainig only: 100%|██████████| 32/32 [00:05<00:00,  5.79it/s]\n"
          ]
        },
        {
          "name": "stdout",
          "output_type": "stream",
          "text": [
            "[Epoch 127 | Train Loss: 3.1529, attn_feat: torch.Size([128, 2, 512])\n",
            "4-Class Confusion Matrix:\n",
            " [[2043    1    0    0]\n",
            " [   1 1198    0    0]\n",
            " [   3    0  489    1]\n",
            " [   0    1    2  357]]\n",
            "Sensitivity: 0.9961, Specificity: 0.9995, ICBHI Score: 0.9978\n",
            "[Validation] Confusion Matrix:\n",
            " [[1201  156  198   24]\n",
            " [ 390  227   22   10]\n",
            " [ 207   36  119   23]\n",
            " [  74   17   28   24]]\n",
            "Test Loss: 7.1480\n",
            "[VALIDATION] Sensitivity: 0.3144, Specificity: 0.7606, Avg ICBHI Score: 0.5375\n",
            "##################################################\n"
          ]
        },
        {
          "name": "stderr",
          "output_type": "stream",
          "text": [
            "Mix_MLATT Trainig only: 100%|██████████| 32/32 [00:05<00:00,  5.79it/s]\n"
          ]
        },
        {
          "name": "stdout",
          "output_type": "stream",
          "text": [
            "[Epoch 128 | Train Loss: 2.7166, attn_feat: torch.Size([128, 2, 512])\n",
            "4-Class Confusion Matrix:\n",
            " [[2043    1    0    0]\n",
            " [   5 1194    0    0]\n",
            " [   5    0  488    0]\n",
            " [   0    0    0  360]]\n",
            "Sensitivity: 0.9951, Specificity: 0.9995, ICBHI Score: 0.9973\n",
            "[Validation] Confusion Matrix:\n",
            " [[1155  264  139   21]\n",
            " [ 314  309   20    6]\n",
            " [ 208   77   75   25]\n",
            " [  69   31   17   26]]\n",
            "Test Loss: 7.4037\n",
            "[VALIDATION] Sensitivity: 0.3483, Specificity: 0.7315, Avg ICBHI Score: 0.5399\n",
            "##################################################\n"
          ]
        },
        {
          "name": "stderr",
          "output_type": "stream",
          "text": [
            "Mix_MLATT Trainig only: 100%|██████████| 32/32 [00:05<00:00,  5.79it/s]\n"
          ]
        },
        {
          "name": "stdout",
          "output_type": "stream",
          "text": [
            "[Epoch 129 | Train Loss: 2.8321, attn_feat: torch.Size([128, 2, 512])\n",
            "4-Class Confusion Matrix:\n",
            " [[2044    0    0    0]\n",
            " [   7 1192    0    0]\n",
            " [   2    0  490    1]\n",
            " [   0    2    0  358]]\n",
            "Sensitivity: 0.9942, Specificity: 1.0000, ICBHI Score: 0.9971\n",
            "[Validation] Confusion Matrix:\n",
            " [[1106  250  206   17]\n",
            " [ 314  303   23    9]\n",
            " [ 187   67  109   22]\n",
            " [  63   30   23   27]]\n",
            "Test Loss: 7.2104\n",
            "[VALIDATION] Sensitivity: 0.3730, Specificity: 0.7004, Avg ICBHI Score: 0.5367\n",
            "##################################################\n"
          ]
        },
        {
          "name": "stderr",
          "output_type": "stream",
          "text": [
            "Mix_MLATT Trainig only: 100%|██████████| 32/32 [00:05<00:00,  5.79it/s]\n"
          ]
        },
        {
          "name": "stdout",
          "output_type": "stream",
          "text": [
            "[Epoch 130 | Train Loss: 3.0623, attn_feat: torch.Size([128, 2, 512])\n",
            "4-Class Confusion Matrix:\n",
            " [[2043    1    0    0]\n",
            " [   2 1197    0    0]\n",
            " [   2    0  491    0]\n",
            " [   0    0    0  360]]\n",
            "Sensitivity: 0.9981, Specificity: 0.9995, ICBHI Score: 0.9988\n",
            "[Validation] Confusion Matrix:\n",
            " [[1063  290  201   25]\n",
            " [ 288  329   19   13]\n",
            " [ 162   79  112   32]\n",
            " [  58   36   19   30]]\n",
            "Test Loss: 7.2278\n",
            "[VALIDATION] Sensitivity: 0.4002, Specificity: 0.6732, Avg ICBHI Score: 0.5367\n",
            "##################################################\n"
          ]
        },
        {
          "name": "stderr",
          "output_type": "stream",
          "text": [
            "Mix_MLATT Trainig only: 100%|██████████| 32/32 [00:05<00:00,  5.79it/s]\n"
          ]
        },
        {
          "name": "stdout",
          "output_type": "stream",
          "text": [
            "[Epoch 131 | Train Loss: 3.2002, attn_feat: torch.Size([128, 2, 512])\n",
            "4-Class Confusion Matrix:\n",
            " [[2043    1    0    0]\n",
            " [   2 1197    0    0]\n",
            " [   3    0  490    0]\n",
            " [   0    1    1  358]]\n",
            "Sensitivity: 0.9966, Specificity: 0.9995, ICBHI Score: 0.9980\n",
            "[Validation] Confusion Matrix:\n",
            " [[1255  142  165   17]\n",
            " [ 412  208   20    9]\n",
            " [ 232   41   99   13]\n",
            " [  79   22   22   20]]\n",
            "Test Loss: 7.4017\n",
            "[VALIDATION] Sensitivity: 0.2778, Specificity: 0.7948, Avg ICBHI Score: 0.5363\n",
            "##################################################\n"
          ]
        },
        {
          "name": "stderr",
          "output_type": "stream",
          "text": [
            "Mix_MLATT Trainig only: 100%|██████████| 32/32 [00:05<00:00,  5.79it/s]\n"
          ]
        },
        {
          "name": "stdout",
          "output_type": "stream",
          "text": [
            "[Epoch 132 | Train Loss: 2.4689, attn_feat: torch.Size([128, 2, 512])\n",
            "4-Class Confusion Matrix:\n",
            " [[2041    3    0    0]\n",
            " [   0 1199    0    0]\n",
            " [   4    0  489    0]\n",
            " [   0    0    0  360]]\n",
            "Sensitivity: 0.9981, Specificity: 0.9985, ICBHI Score: 0.9983\n",
            "[Validation] Confusion Matrix:\n",
            " [[1155  210  191   23]\n",
            " [ 325  287   21   16]\n",
            " [ 197   54  110   24]\n",
            " [  66   27   24   26]]\n",
            "Test Loss: 7.3447\n",
            "[VALIDATION] Sensitivity: 0.3594, Specificity: 0.7315, Avg ICBHI Score: 0.5454\n",
            "##################################################\n"
          ]
        },
        {
          "name": "stderr",
          "output_type": "stream",
          "text": [
            "Mix_MLATT Trainig only: 100%|██████████| 32/32 [00:05<00:00,  5.79it/s]\n"
          ]
        },
        {
          "name": "stdout",
          "output_type": "stream",
          "text": [
            "[Epoch 133 | Train Loss: 3.0083, attn_feat: torch.Size([128, 2, 512])\n",
            "4-Class Confusion Matrix:\n",
            " [[2044    0    0    0]\n",
            " [   2 1197    0    0]\n",
            " [   2    0  491    0]\n",
            " [   0    1    0  359]]\n",
            "Sensitivity: 0.9976, Specificity: 1.0000, ICBHI Score: 0.9988\n",
            "[Validation] Confusion Matrix:\n",
            " [[1137  188  236   18]\n",
            " [ 345  262   30   12]\n",
            " [ 175   57  130   23]\n",
            " [  64   24   31   24]]\n",
            "Test Loss: 7.1357\n",
            "[VALIDATION] Sensitivity: 0.3534, Specificity: 0.7201, Avg ICBHI Score: 0.5368\n",
            "##################################################\n"
          ]
        },
        {
          "name": "stderr",
          "output_type": "stream",
          "text": [
            "Mix_MLATT Trainig only: 100%|██████████| 32/32 [00:05<00:00,  5.80it/s]\n"
          ]
        },
        {
          "name": "stdout",
          "output_type": "stream",
          "text": [
            "[Epoch 134 | Train Loss: 2.8890, attn_feat: torch.Size([128, 2, 512])\n",
            "4-Class Confusion Matrix:\n",
            " [[2043    1    0    0]\n",
            " [   0 1199    0    0]\n",
            " [   2    0  491    0]\n",
            " [   0    0    0  360]]\n",
            "Sensitivity: 0.9990, Specificity: 0.9995, ICBHI Score: 0.9993\n",
            "[Validation] Confusion Matrix:\n",
            " [[1196  202  157   24]\n",
            " [ 361  258   19   11]\n",
            " [ 196   62  100   27]\n",
            " [  70   28   20   25]]\n",
            "Test Loss: 7.3362\n",
            "[VALIDATION] Sensitivity: 0.3254, Specificity: 0.7574, Avg ICBHI Score: 0.5414\n",
            "##################################################\n"
          ]
        },
        {
          "name": "stderr",
          "output_type": "stream",
          "text": [
            "Mix_MLATT Trainig only: 100%|██████████| 32/32 [00:05<00:00,  5.80it/s]\n"
          ]
        },
        {
          "name": "stdout",
          "output_type": "stream",
          "text": [
            "[Epoch 135 | Train Loss: 2.6934, attn_feat: torch.Size([128, 2, 512])\n",
            "4-Class Confusion Matrix:\n",
            " [[2044    0    0    0]\n",
            " [   0 1199    0    0]\n",
            " [   1    0  492    0]\n",
            " [   0    1    0  359]]\n",
            "Sensitivity: 0.9990, Specificity: 1.0000, ICBHI Score: 0.9995\n",
            "[Validation] Confusion Matrix:\n",
            " [[1203  164  188   24]\n",
            " [ 379  232   27   11]\n",
            " [ 212   42  113   18]\n",
            " [  70   21   27   25]]\n",
            "Test Loss: 7.4342\n",
            "[VALIDATION] Sensitivity: 0.3144, Specificity: 0.7619, Avg ICBHI Score: 0.5381\n",
            "##################################################\n"
          ]
        },
        {
          "name": "stderr",
          "output_type": "stream",
          "text": [
            "Mix_MLATT Trainig only: 100%|██████████| 32/32 [00:05<00:00,  5.80it/s]\n"
          ]
        },
        {
          "name": "stdout",
          "output_type": "stream",
          "text": [
            "[Epoch 136 | Train Loss: 2.8888, attn_feat: torch.Size([128, 2, 512])\n",
            "4-Class Confusion Matrix:\n",
            " [[2043    1    0    0]\n",
            " [   2 1197    0    0]\n",
            " [   3    0  490    0]\n",
            " [   0    0    0  360]]\n",
            "Sensitivity: 0.9976, Specificity: 0.9995, ICBHI Score: 0.9985\n",
            "[Validation] Confusion Matrix:\n",
            " [[1163  201  193   22]\n",
            " [ 355  266   22    6]\n",
            " [ 201   54  107   23]\n",
            " [  67   29   23   24]]\n",
            "Test Loss: 7.4946\n",
            "[VALIDATION] Sensitivity: 0.3373, Specificity: 0.7365, Avg ICBHI Score: 0.5369\n",
            "##################################################\n"
          ]
        },
        {
          "name": "stderr",
          "output_type": "stream",
          "text": [
            "Mix_MLATT Trainig only: 100%|██████████| 32/32 [00:05<00:00,  5.80it/s]\n"
          ]
        },
        {
          "name": "stdout",
          "output_type": "stream",
          "text": [
            "[Epoch 137 | Train Loss: 2.8588, attn_feat: torch.Size([128, 2, 512])\n",
            "4-Class Confusion Matrix:\n",
            " [[2043    1    0    0]\n",
            " [   6 1193    0    0]\n",
            " [   8    0  485    0]\n",
            " [   0    1    0  359]]\n",
            "Sensitivity: 0.9927, Specificity: 0.9995, ICBHI Score: 0.9961\n",
            "[Validation] Confusion Matrix:\n",
            " [[1058  295  197   29]\n",
            " [ 305  314   21    9]\n",
            " [ 185   74  109   17]\n",
            " [  56   40   23   24]]\n",
            "Test Loss: 7.2412\n",
            "[VALIDATION] Sensitivity: 0.3798, Specificity: 0.6700, Avg ICBHI Score: 0.5249\n",
            "##################################################\n"
          ]
        },
        {
          "name": "stderr",
          "output_type": "stream",
          "text": [
            "Mix_MLATT Trainig only: 100%|██████████| 32/32 [00:05<00:00,  5.78it/s]\n"
          ]
        },
        {
          "name": "stdout",
          "output_type": "stream",
          "text": [
            "[Epoch 138 | Train Loss: 2.8118, attn_feat: torch.Size([128, 2, 512])\n",
            "4-Class Confusion Matrix:\n",
            " [[2042    2    0    0]\n",
            " [   0 1199    0    0]\n",
            " [   3    0  490    0]\n",
            " [   0    0    0  360]]\n",
            "Sensitivity: 0.9985, Specificity: 0.9990, ICBHI Score: 0.9988\n",
            "[Validation] Confusion Matrix:\n",
            " [[1145  239  173   22]\n",
            " [ 311  308   18   12]\n",
            " [ 193   66  102   24]\n",
            " [  63   36   21   23]]\n",
            "Test Loss: 7.2510\n",
            "[VALIDATION] Sensitivity: 0.3679, Specificity: 0.7251, Avg ICBHI Score: 0.5465\n",
            "##################################################\n"
          ]
        },
        {
          "name": "stderr",
          "output_type": "stream",
          "text": [
            "Mix_MLATT Trainig only: 100%|██████████| 32/32 [00:05<00:00,  5.79it/s]\n"
          ]
        },
        {
          "name": "stdout",
          "output_type": "stream",
          "text": [
            "[Epoch 139 | Train Loss: 2.9602, attn_feat: torch.Size([128, 2, 512])\n",
            "4-Class Confusion Matrix:\n",
            " [[2043    1    0    0]\n",
            " [   1 1198    0    0]\n",
            " [   2    0  491    0]\n",
            " [   0    1    0  359]]\n",
            "Sensitivity: 0.9981, Specificity: 0.9995, ICBHI Score: 0.9988\n",
            "[Validation] Confusion Matrix:\n",
            " [[1056  332  164   27]\n",
            " [ 274  348   18    9]\n",
            " [ 183   75   96   31]\n",
            " [  55   41   22   25]]\n",
            "Test Loss: 7.2473\n",
            "[VALIDATION] Sensitivity: 0.3985, Specificity: 0.6688, Avg ICBHI Score: 0.5336\n",
            "##################################################\n"
          ]
        },
        {
          "name": "stderr",
          "output_type": "stream",
          "text": [
            "Mix_MLATT Trainig only: 100%|██████████| 32/32 [00:05<00:00,  5.79it/s]\n"
          ]
        },
        {
          "name": "stdout",
          "output_type": "stream",
          "text": [
            "[Epoch 140 | Train Loss: 2.8215, attn_feat: torch.Size([128, 2, 512])\n",
            "4-Class Confusion Matrix:\n",
            " [[2044    0    0    0]\n",
            " [   0 1199    0    0]\n",
            " [   2    0  491    0]\n",
            " [   0    4    0  356]]\n",
            "Sensitivity: 0.9971, Specificity: 1.0000, ICBHI Score: 0.9985\n",
            "[Validation] Confusion Matrix:\n",
            " [[1073  221  253   32]\n",
            " [ 328  270   34   17]\n",
            " [ 166   56  128   35]\n",
            " [  57   26   31   29]]\n",
            "Test Loss: 6.9069\n",
            "[VALIDATION] Sensitivity: 0.3628, Specificity: 0.6795, Avg ICBHI Score: 0.5212\n",
            "##################################################\n"
          ]
        },
        {
          "name": "stderr",
          "output_type": "stream",
          "text": [
            "Mix_MLATT Trainig only: 100%|██████████| 32/32 [00:05<00:00,  5.78it/s]\n"
          ]
        },
        {
          "name": "stdout",
          "output_type": "stream",
          "text": [
            "[Epoch 141 | Train Loss: 2.9315, attn_feat: torch.Size([128, 2, 512])\n",
            "4-Class Confusion Matrix:\n",
            " [[2044    0    0    0]\n",
            " [   0 1199    0    0]\n",
            " [   4    0  489    0]\n",
            " [   0    1    0  359]]\n",
            "Sensitivity: 0.9976, Specificity: 1.0000, ICBHI Score: 0.9988\n",
            "[Validation] Confusion Matrix:\n",
            " [[1142  258  158   21]\n",
            " [ 322  294   21   12]\n",
            " [ 201   63   93   28]\n",
            " [  66   33   20   24]]\n",
            "Test Loss: 7.1639\n",
            "[VALIDATION] Sensitivity: 0.3492, Specificity: 0.7232, Avg ICBHI Score: 0.5362\n",
            "##################################################\n"
          ]
        },
        {
          "name": "stderr",
          "output_type": "stream",
          "text": [
            "Mix_MLATT Trainig only: 100%|██████████| 32/32 [00:05<00:00,  5.79it/s]\n"
          ]
        },
        {
          "name": "stdout",
          "output_type": "stream",
          "text": [
            "[Epoch 142 | Train Loss: 2.5217, attn_feat: torch.Size([128, 2, 512])\n",
            "4-Class Confusion Matrix:\n",
            " [[2044    0    0    0]\n",
            " [   1 1197    0    1]\n",
            " [   1    0  492    0]\n",
            " [   0    1    0  359]]\n",
            "Sensitivity: 0.9981, Specificity: 1.0000, ICBHI Score: 0.9990\n",
            "[Validation] Confusion Matrix:\n",
            " [[1099  211  230   39]\n",
            " [ 339  266   26   18]\n",
            " [ 178   49  130   28]\n",
            " [  58   23   31   31]]\n",
            "Test Loss: 7.1529\n",
            "[VALIDATION] Sensitivity: 0.3628, Specificity: 0.6960, Avg ICBHI Score: 0.5294\n",
            "##################################################\n"
          ]
        },
        {
          "name": "stderr",
          "output_type": "stream",
          "text": [
            "Mix_MLATT Trainig only: 100%|██████████| 32/32 [00:05<00:00,  5.78it/s]\n"
          ]
        },
        {
          "name": "stdout",
          "output_type": "stream",
          "text": [
            "[Epoch 143 | Train Loss: 2.9298, attn_feat: torch.Size([128, 2, 512])\n",
            "4-Class Confusion Matrix:\n",
            " [[2043    1    0    0]\n",
            " [   0 1199    0    0]\n",
            " [   2    0  491    0]\n",
            " [   0    0    0  360]]\n",
            "Sensitivity: 0.9990, Specificity: 0.9995, ICBHI Score: 0.9993\n",
            "[Validation] Confusion Matrix:\n",
            " [[1192  187  178   22]\n",
            " [ 344  272   21   12]\n",
            " [ 200   55  105   25]\n",
            " [  67   25   25   26]]\n",
            "Test Loss: 6.8720\n",
            "[VALIDATION] Sensitivity: 0.3424, Specificity: 0.7549, Avg ICBHI Score: 0.5487\n",
            "##################################################\n"
          ]
        },
        {
          "name": "stderr",
          "output_type": "stream",
          "text": [
            "Mix_MLATT Trainig only: 100%|██████████| 32/32 [00:05<00:00,  5.78it/s]\n"
          ]
        },
        {
          "name": "stdout",
          "output_type": "stream",
          "text": [
            "[Epoch 144 | Train Loss: 2.9022, attn_feat: torch.Size([128, 2, 512])\n",
            "4-Class Confusion Matrix:\n",
            " [[2044    0    0    0]\n",
            " [   1 1198    0    0]\n",
            " [   0    0  493    0]\n",
            " [   0    3    0  357]]\n",
            "Sensitivity: 0.9981, Specificity: 1.0000, ICBHI Score: 0.9990\n",
            "[Validation] Confusion Matrix:\n",
            " [[1083  259  210   27]\n",
            " [ 291  315   26   17]\n",
            " [ 178   68  109   30]\n",
            " [  59   32   24   28]]\n",
            "Test Loss: 7.2846\n",
            "[VALIDATION] Sensitivity: 0.3840, Specificity: 0.6859, Avg ICBHI Score: 0.5350\n",
            "##################################################\n"
          ]
        },
        {
          "name": "stderr",
          "output_type": "stream",
          "text": [
            "Mix_MLATT Trainig only: 100%|██████████| 32/32 [00:05<00:00,  5.79it/s]\n"
          ]
        },
        {
          "name": "stdout",
          "output_type": "stream",
          "text": [
            "[Epoch 145 | Train Loss: 2.7874, attn_feat: torch.Size([128, 2, 512])\n",
            "4-Class Confusion Matrix:\n",
            " [[2044    0    0    0]\n",
            " [   0 1199    0    0]\n",
            " [   3    0  490    0]\n",
            " [   0    0    0  360]]\n",
            "Sensitivity: 0.9985, Specificity: 1.0000, ICBHI Score: 0.9993\n",
            "[Validation] Confusion Matrix:\n",
            " [[1146  223  190   20]\n",
            " [ 326  294   19   10]\n",
            " [ 198   64  100   23]\n",
            " [  68   33   24   18]]\n",
            "Test Loss: 6.8356\n",
            "[VALIDATION] Sensitivity: 0.3500, Specificity: 0.7258, Avg ICBHI Score: 0.5379\n",
            "##################################################\n"
          ]
        },
        {
          "name": "stderr",
          "output_type": "stream",
          "text": [
            "Mix_MLATT Trainig only: 100%|██████████| 32/32 [00:05<00:00,  5.78it/s]\n"
          ]
        },
        {
          "name": "stdout",
          "output_type": "stream",
          "text": [
            "[Epoch 146 | Train Loss: 2.5006, attn_feat: torch.Size([128, 2, 512])\n",
            "4-Class Confusion Matrix:\n",
            " [[2044    0    0    0]\n",
            " [   1 1198    0    0]\n",
            " [   0    0  493    0]\n",
            " [   0    3    0  357]]\n",
            "Sensitivity: 0.9981, Specificity: 1.0000, ICBHI Score: 0.9990\n",
            "[Validation] Confusion Matrix:\n",
            " [[1111  209  238   21]\n",
            " [ 341  273   24   11]\n",
            " [ 199   51  112   23]\n",
            " [  64   29   29   21]]\n",
            "Test Loss: 7.1680\n",
            "[VALIDATION] Sensitivity: 0.3449, Specificity: 0.7036, Avg ICBHI Score: 0.5243\n",
            "##################################################\n"
          ]
        },
        {
          "name": "stderr",
          "output_type": "stream",
          "text": [
            "Mix_MLATT Trainig only: 100%|██████████| 32/32 [00:05<00:00,  5.78it/s]\n"
          ]
        },
        {
          "name": "stdout",
          "output_type": "stream",
          "text": [
            "[Epoch 147 | Train Loss: 2.7189, attn_feat: torch.Size([128, 2, 512])\n",
            "4-Class Confusion Matrix:\n",
            " [[2041    3    0    0]\n",
            " [   1 1198    0    0]\n",
            " [   3    0  490    0]\n",
            " [   0    1    0  359]]\n",
            "Sensitivity: 0.9976, Specificity: 0.9985, ICBHI Score: 0.9980\n",
            "[Validation] Confusion Matrix:\n",
            " [[1132  188  229   30]\n",
            " [ 352  254   28   15]\n",
            " [ 185   56  120   24]\n",
            " [  64   22   27   30]]\n",
            "Test Loss: 7.0480\n",
            "[VALIDATION] Sensitivity: 0.3432, Specificity: 0.7169, Avg ICBHI Score: 0.5301\n",
            "##################################################\n"
          ]
        },
        {
          "name": "stderr",
          "output_type": "stream",
          "text": [
            "Mix_MLATT Trainig only: 100%|██████████| 32/32 [00:05<00:00,  5.79it/s]\n"
          ]
        },
        {
          "name": "stdout",
          "output_type": "stream",
          "text": [
            "[Epoch 148 | Train Loss: 2.6562, attn_feat: torch.Size([128, 2, 512])\n",
            "4-Class Confusion Matrix:\n",
            " [[2042    2    0    0]\n",
            " [   3 1196    0    0]\n",
            " [   0    0  493    0]\n",
            " [   0    2    0  358]]\n",
            "Sensitivity: 0.9976, Specificity: 0.9990, ICBHI Score: 0.9983\n",
            "[Validation] Confusion Matrix:\n",
            " [[997 312 232  38]\n",
            " [250 351  26  22]\n",
            " [155  88 112  30]\n",
            " [ 50  36  28  29]]\n",
            "Test Loss: 7.1789\n",
            "[VALIDATION] Sensitivity: 0.4180, Specificity: 0.6314, Avg ICBHI Score: 0.5247\n",
            "##################################################\n"
          ]
        },
        {
          "name": "stderr",
          "output_type": "stream",
          "text": [
            "Mix_MLATT Trainig only: 100%|██████████| 32/32 [00:05<00:00,  5.80it/s]\n"
          ]
        },
        {
          "name": "stdout",
          "output_type": "stream",
          "text": [
            "[Epoch 149 | Train Loss: 2.5614, attn_feat: torch.Size([128, 2, 512])\n",
            "4-Class Confusion Matrix:\n",
            " [[2042    2    0    0]\n",
            " [   0 1199    0    0]\n",
            " [   0    0  493    0]\n",
            " [   0    0    1  359]]\n",
            "Sensitivity: 0.9995, Specificity: 0.9990, ICBHI Score: 0.9993\n",
            "[Validation] Confusion Matrix:\n",
            " [[1088  271  189   31]\n",
            " [ 283  330   23   13]\n",
            " [ 186   69  102   28]\n",
            " [  61   37   19   26]]\n",
            "Test Loss: 6.8779\n",
            "[VALIDATION] Sensitivity: 0.3891, Specificity: 0.6890, Avg ICBHI Score: 0.5391\n",
            "##################################################\n"
          ]
        },
        {
          "name": "stderr",
          "output_type": "stream",
          "text": [
            "Mix_MLATT Trainig only: 100%|██████████| 32/32 [00:05<00:00,  5.80it/s]\n"
          ]
        },
        {
          "name": "stdout",
          "output_type": "stream",
          "text": [
            "[Epoch 150 | Train Loss: 2.3745, attn_feat: torch.Size([128, 2, 512])\n",
            "4-Class Confusion Matrix:\n",
            " [[2043    0    1    0]\n",
            " [   2 1197    0    0]\n",
            " [   2    0  491    0]\n",
            " [   0    0    0  360]]\n",
            "Sensitivity: 0.9981, Specificity: 0.9995, ICBHI Score: 0.9988\n",
            "[Validation] Confusion Matrix:\n",
            " [[1121  233  192   33]\n",
            " [ 310  300   23   16]\n",
            " [ 184   62  112   27]\n",
            " [  61   25   27   30]]\n",
            "Test Loss: 6.9991\n",
            "[VALIDATION] Sensitivity: 0.3755, Specificity: 0.7099, Avg ICBHI Score: 0.5427\n",
            "##################################################\n"
          ]
        },
        {
          "name": "stderr",
          "output_type": "stream",
          "text": [
            "Mix_MLATT Trainig only: 100%|██████████| 32/32 [00:05<00:00,  5.81it/s]\n"
          ]
        },
        {
          "name": "stdout",
          "output_type": "stream",
          "text": [
            "[Epoch 151 | Train Loss: 2.8943, attn_feat: torch.Size([128, 2, 512])\n",
            "4-Class Confusion Matrix:\n",
            " [[2043    1    0    0]\n",
            " [   1 1198    0    0]\n",
            " [   5    0  488    0]\n",
            " [   0    0    0  360]]\n",
            "Sensitivity: 0.9971, Specificity: 0.9995, ICBHI Score: 0.9983\n",
            "[Validation] Confusion Matrix:\n",
            " [[1306  104  150   19]\n",
            " [ 445  182   18    4]\n",
            " [ 234   37  106    8]\n",
            " [  84   16   27   16]]\n",
            "Test Loss: 7.4606\n",
            "[VALIDATION] Sensitivity: 0.2583, Specificity: 0.8271, Avg ICBHI Score: 0.5427\n",
            "##################################################\n"
          ]
        },
        {
          "name": "stderr",
          "output_type": "stream",
          "text": [
            "Mix_MLATT Trainig only: 100%|██████████| 32/32 [00:05<00:00,  5.80it/s]\n"
          ]
        },
        {
          "name": "stdout",
          "output_type": "stream",
          "text": [
            "[Epoch 152 | Train Loss: 3.1806, attn_feat: torch.Size([128, 2, 512])\n",
            "4-Class Confusion Matrix:\n",
            " [[2042    2    0    0]\n",
            " [   1 1198    0    0]\n",
            " [   2    0  491    0]\n",
            " [   0    1    1  358]]\n",
            "Sensitivity: 0.9976, Specificity: 0.9990, ICBHI Score: 0.9983\n",
            "[Validation] Confusion Matrix:\n",
            " [[980 320 243  36]\n",
            " [262 351  26  10]\n",
            " [166  75 112  32]\n",
            " [ 51  38  28  26]]\n",
            "Test Loss: 7.1901\n",
            "[VALIDATION] Sensitivity: 0.4155, Specificity: 0.6206, Avg ICBHI Score: 0.5181\n",
            "##################################################\n"
          ]
        },
        {
          "name": "stderr",
          "output_type": "stream",
          "text": [
            "Mix_MLATT Trainig only: 100%|██████████| 32/32 [00:05<00:00,  5.80it/s]\n"
          ]
        },
        {
          "name": "stdout",
          "output_type": "stream",
          "text": [
            "[Epoch 153 | Train Loss: 2.3940, attn_feat: torch.Size([128, 2, 512])\n",
            "4-Class Confusion Matrix:\n",
            " [[2043    1    0    0]\n",
            " [   4 1195    0    0]\n",
            " [   1    0  492    0]\n",
            " [   0    0    0  360]]\n",
            "Sensitivity: 0.9976, Specificity: 0.9995, ICBHI Score: 0.9985\n",
            "[Validation] Confusion Matrix:\n",
            " [[1040  254  260   25]\n",
            " [ 295  314   28   12]\n",
            " [ 156   70  129   30]\n",
            " [  55   25   34   29]]\n",
            "Test Loss: 7.0287\n",
            "[VALIDATION] Sensitivity: 0.4010, Specificity: 0.6586, Avg ICBHI Score: 0.5298\n",
            "##################################################\n"
          ]
        },
        {
          "name": "stderr",
          "output_type": "stream",
          "text": [
            "Mix_MLATT Trainig only: 100%|██████████| 32/32 [00:05<00:00,  5.79it/s]\n"
          ]
        },
        {
          "name": "stdout",
          "output_type": "stream",
          "text": [
            "[Epoch 154 | Train Loss: 2.6608, attn_feat: torch.Size([128, 2, 512])\n",
            "4-Class Confusion Matrix:\n",
            " [[2042    2    0    0]\n",
            " [   1 1198    0    0]\n",
            " [   2    0  491    0]\n",
            " [   0    0    0  360]]\n",
            "Sensitivity: 0.9985, Specificity: 0.9990, ICBHI Score: 0.9988\n",
            "[Validation] Confusion Matrix:\n",
            " [[945 316 279  39]\n",
            " [265 341  24  19]\n",
            " [152  69 129  35]\n",
            " [ 50  31  34  28]]\n",
            "Test Loss: 7.0795\n",
            "[VALIDATION] Sensitivity: 0.4231, Specificity: 0.5985, Avg ICBHI Score: 0.5108\n",
            "##################################################\n"
          ]
        },
        {
          "name": "stderr",
          "output_type": "stream",
          "text": [
            "Mix_MLATT Trainig only: 100%|██████████| 32/32 [00:05<00:00,  5.77it/s]\n"
          ]
        },
        {
          "name": "stdout",
          "output_type": "stream",
          "text": [
            "[Epoch 155 | Train Loss: 2.7663, attn_feat: torch.Size([128, 2, 512])\n",
            "4-Class Confusion Matrix:\n",
            " [[2042    1    1    0]\n",
            " [   0 1199    0    0]\n",
            " [   1    0  492    0]\n",
            " [   0    0    0  360]]\n",
            "Sensitivity: 0.9995, Specificity: 0.9990, ICBHI Score: 0.9993\n",
            "[Validation] Confusion Matrix:\n",
            " [[1147  241  164   27]\n",
            " [ 316  307   20    6]\n",
            " [ 206   64   94   21]\n",
            " [  57   35   28   23]]\n",
            "Test Loss: 7.2562\n",
            "[VALIDATION] Sensitivity: 0.3602, Specificity: 0.7264, Avg ICBHI Score: 0.5433\n",
            "##################################################\n"
          ]
        },
        {
          "name": "stderr",
          "output_type": "stream",
          "text": [
            "Mix_MLATT Trainig only: 100%|██████████| 32/32 [00:05<00:00,  5.80it/s]\n"
          ]
        },
        {
          "name": "stdout",
          "output_type": "stream",
          "text": [
            "[Epoch 156 | Train Loss: 2.5268, attn_feat: torch.Size([128, 2, 512])\n",
            "4-Class Confusion Matrix:\n",
            " [[2042    2    0    0]\n",
            " [   1 1198    0    0]\n",
            " [   0    0  493    0]\n",
            " [   0    1    0  359]]\n",
            "Sensitivity: 0.9990, Specificity: 0.9990, ICBHI Score: 0.9990\n",
            "[Validation] Confusion Matrix:\n",
            " [[1139  235  183   22]\n",
            " [ 314  304   19   12]\n",
            " [ 193   64   96   32]\n",
            " [  65   37   22   19]]\n",
            "Test Loss: 7.3744\n",
            "[VALIDATION] Sensitivity: 0.3560, Specificity: 0.7213, Avg ICBHI Score: 0.5387\n",
            "##################################################\n"
          ]
        },
        {
          "name": "stderr",
          "output_type": "stream",
          "text": [
            "Mix_MLATT Trainig only: 100%|██████████| 32/32 [00:05<00:00,  5.80it/s]\n"
          ]
        },
        {
          "name": "stdout",
          "output_type": "stream",
          "text": [
            "[Epoch 157 | Train Loss: 2.8365, attn_feat: torch.Size([128, 2, 512])\n",
            "4-Class Confusion Matrix:\n",
            " [[2043    1    0    0]\n",
            " [   1 1198    0    0]\n",
            " [   1    0  492    0]\n",
            " [   0    1    0  359]]\n",
            "Sensitivity: 0.9985, Specificity: 0.9995, ICBHI Score: 0.9990\n",
            "[Validation] Confusion Matrix:\n",
            " [[1049  288  200   42]\n",
            " [ 284  325   21   19]\n",
            " [ 161   75  111   38]\n",
            " [  59   31   24   29]]\n",
            "Test Loss: 7.5319\n",
            "[VALIDATION] Sensitivity: 0.3951, Specificity: 0.6643, Avg ICBHI Score: 0.5297\n",
            "##################################################\n"
          ]
        },
        {
          "name": "stderr",
          "output_type": "stream",
          "text": [
            "Mix_MLATT Trainig only: 100%|██████████| 32/32 [00:05<00:00,  5.81it/s]\n"
          ]
        },
        {
          "name": "stdout",
          "output_type": "stream",
          "text": [
            "[Epoch 158 | Train Loss: 2.7162, attn_feat: torch.Size([128, 2, 512])\n",
            "4-Class Confusion Matrix:\n",
            " [[2043    1    0    0]\n",
            " [   2 1197    0    0]\n",
            " [   1    0  491    1]\n",
            " [   0    0    0  360]]\n",
            "Sensitivity: 0.9981, Specificity: 0.9995, ICBHI Score: 0.9988\n",
            "[Validation] Confusion Matrix:\n",
            " [[1046  279  223   31]\n",
            " [ 279  328   25   17]\n",
            " [ 160   74  126   25]\n",
            " [  58   36   27   22]]\n",
            "Test Loss: 7.3090\n",
            "[VALIDATION] Sensitivity: 0.4044, Specificity: 0.6624, Avg ICBHI Score: 0.5334\n",
            "##################################################\n"
          ]
        },
        {
          "name": "stderr",
          "output_type": "stream",
          "text": [
            "Mix_MLATT Trainig only: 100%|██████████| 32/32 [00:05<00:00,  5.82it/s]\n"
          ]
        },
        {
          "name": "stdout",
          "output_type": "stream",
          "text": [
            "[Epoch 159 | Train Loss: 2.7101, attn_feat: torch.Size([128, 2, 512])\n",
            "4-Class Confusion Matrix:\n",
            " [[2044    0    0    0]\n",
            " [   1 1198    0    0]\n",
            " [   1    0  492    0]\n",
            " [   0    1    0  359]]\n",
            "Sensitivity: 0.9985, Specificity: 1.0000, ICBHI Score: 0.9993\n",
            "[Validation] Confusion Matrix:\n",
            " [[1142  253  160   24]\n",
            " [ 323  301   16    9]\n",
            " [ 198   66   96   25]\n",
            " [  69   31   24   19]]\n",
            "Test Loss: 7.4731\n",
            "[VALIDATION] Sensitivity: 0.3534, Specificity: 0.7232, Avg ICBHI Score: 0.5383\n",
            "##################################################\n"
          ]
        },
        {
          "name": "stderr",
          "output_type": "stream",
          "text": [
            "Mix_MLATT Trainig only: 100%|██████████| 32/32 [00:05<00:00,  5.82it/s]\n"
          ]
        },
        {
          "name": "stdout",
          "output_type": "stream",
          "text": [
            "[Epoch 160 | Train Loss: 2.6654, attn_feat: torch.Size([128, 2, 512])\n",
            "4-Class Confusion Matrix:\n",
            " [[2043    1    0    0]\n",
            " [   1 1198    0    0]\n",
            " [   0    0  493    0]\n",
            " [   0    2    0  358]]\n",
            "Sensitivity: 0.9985, Specificity: 0.9995, ICBHI Score: 0.9990\n",
            "[Validation] Confusion Matrix:\n",
            " [[1123  229  196   31]\n",
            " [ 342  278   14   15]\n",
            " [ 204   63   93   25]\n",
            " [  62   34   25   22]]\n",
            "Test Loss: 6.9143\n",
            "[VALIDATION] Sensitivity: 0.3339, Specificity: 0.7112, Avg ICBHI Score: 0.5226\n",
            "##################################################\n"
          ]
        },
        {
          "name": "stderr",
          "output_type": "stream",
          "text": [
            "Mix_MLATT Trainig only: 100%|██████████| 32/32 [00:05<00:00,  5.81it/s]\n"
          ]
        },
        {
          "name": "stdout",
          "output_type": "stream",
          "text": [
            "[Epoch 161 | Train Loss: 3.5206, attn_feat: torch.Size([128, 2, 512])\n",
            "4-Class Confusion Matrix:\n",
            " [[2043    1    0    0]\n",
            " [   4 1195    0    0]\n",
            " [   3    0  490    0]\n",
            " [   0    2    0  358]]\n",
            "Sensitivity: 0.9956, Specificity: 0.9995, ICBHI Score: 0.9976\n",
            "[Validation] Confusion Matrix:\n",
            " [[1110  269  166   34]\n",
            " [ 305  314   18   12]\n",
            " [ 194   65   97   29]\n",
            " [  60   25   25   33]]\n",
            "Test Loss: 7.2688\n",
            "[VALIDATION] Sensitivity: 0.3772, Specificity: 0.7030, Avg ICBHI Score: 0.5401\n",
            "##################################################\n"
          ]
        },
        {
          "name": "stderr",
          "output_type": "stream",
          "text": [
            "Mix_MLATT Trainig only: 100%|██████████| 32/32 [00:05<00:00,  5.80it/s]\n"
          ]
        },
        {
          "name": "stdout",
          "output_type": "stream",
          "text": [
            "[Epoch 162 | Train Loss: 2.6687, attn_feat: torch.Size([128, 2, 512])\n",
            "4-Class Confusion Matrix:\n",
            " [[2044    0    0    0]\n",
            " [   1 1198    0    0]\n",
            " [   0    0  493    0]\n",
            " [   0    2    0  358]]\n",
            "Sensitivity: 0.9985, Specificity: 1.0000, ICBHI Score: 0.9993\n",
            "[Validation] Confusion Matrix:\n",
            " [[1084  236  229   30]\n",
            " [ 312  293   24   20]\n",
            " [ 176   70  109   30]\n",
            " [  52   32   30   29]]\n",
            "Test Loss: 7.2037\n",
            "[VALIDATION] Sensitivity: 0.3662, Specificity: 0.6865, Avg ICBHI Score: 0.5263\n",
            "##################################################\n"
          ]
        },
        {
          "name": "stderr",
          "output_type": "stream",
          "text": [
            "Mix_MLATT Trainig only: 100%|██████████| 32/32 [00:05<00:00,  5.79it/s]\n"
          ]
        },
        {
          "name": "stdout",
          "output_type": "stream",
          "text": [
            "[Epoch 163 | Train Loss: 2.4531, attn_feat: torch.Size([128, 2, 512])\n",
            "4-Class Confusion Matrix:\n",
            " [[2043    1    0    0]\n",
            " [   2 1197    0    0]\n",
            " [   0    0  493    0]\n",
            " [   0    0    0  360]]\n",
            "Sensitivity: 0.9990, Specificity: 0.9995, ICBHI Score: 0.9993\n",
            "[Validation] Confusion Matrix:\n",
            " [[1128  210  216   25]\n",
            " [ 344  277   17   11]\n",
            " [ 200   54  107   24]\n",
            " [  71   28   17   27]]\n",
            "Test Loss: 7.1179\n",
            "[VALIDATION] Sensitivity: 0.3492, Specificity: 0.7144, Avg ICBHI Score: 0.5318\n",
            "##################################################\n"
          ]
        },
        {
          "name": "stderr",
          "output_type": "stream",
          "text": [
            "Mix_MLATT Trainig only: 100%|██████████| 32/32 [00:05<00:00,  5.78it/s]\n"
          ]
        },
        {
          "name": "stdout",
          "output_type": "stream",
          "text": [
            "[Epoch 164 | Train Loss: 2.8996, attn_feat: torch.Size([128, 2, 512])\n",
            "4-Class Confusion Matrix:\n",
            " [[2044    0    0    0]\n",
            " [   2 1197    0    0]\n",
            " [   1    0  492    0]\n",
            " [   0    1    0  359]]\n",
            "Sensitivity: 0.9981, Specificity: 1.0000, ICBHI Score: 0.9990\n",
            "[Validation] Confusion Matrix:\n",
            " [[1098  210  240   31]\n",
            " [ 336  263   30   20]\n",
            " [ 168   63  123   31]\n",
            " [  57   22   33   31]]\n",
            "Test Loss: 7.1198\n",
            "[VALIDATION] Sensitivity: 0.3543, Specificity: 0.6954, Avg ICBHI Score: 0.5248\n",
            "##################################################\n"
          ]
        },
        {
          "name": "stderr",
          "output_type": "stream",
          "text": [
            "Mix_MLATT Trainig only: 100%|██████████| 32/32 [00:05<00:00,  5.80it/s]\n"
          ]
        },
        {
          "name": "stdout",
          "output_type": "stream",
          "text": [
            "[Epoch 165 | Train Loss: 2.8264, attn_feat: torch.Size([128, 2, 512])\n",
            "4-Class Confusion Matrix:\n",
            " [[2041    2    1    0]\n",
            " [   1 1198    0    0]\n",
            " [   2    0  490    1]\n",
            " [   0    0    0  360]]\n",
            "Sensitivity: 0.9981, Specificity: 0.9985, ICBHI Score: 0.9983\n",
            "[Validation] Confusion Matrix:\n",
            " [[1091  199  264   25]\n",
            " [ 340  263   29   17]\n",
            " [ 168   60  130   27]\n",
            " [  58   20   40   25]]\n",
            "Test Loss: 6.8630\n",
            "[VALIDATION] Sensitivity: 0.3551, Specificity: 0.6909, Avg ICBHI Score: 0.5230\n",
            "##################################################\n"
          ]
        },
        {
          "name": "stderr",
          "output_type": "stream",
          "text": [
            "Mix_MLATT Trainig only: 100%|██████████| 32/32 [00:05<00:00,  5.82it/s]\n"
          ]
        },
        {
          "name": "stdout",
          "output_type": "stream",
          "text": [
            "[Epoch 166 | Train Loss: 2.4843, attn_feat: torch.Size([128, 2, 512])\n",
            "4-Class Confusion Matrix:\n",
            " [[2044    0    0    0]\n",
            " [   0 1199    0    0]\n",
            " [   0    0  493    0]\n",
            " [   0    0    0  360]]\n",
            "Sensitivity: 1.0000, Specificity: 1.0000, ICBHI Score: 1.0000\n",
            "[Validation] Confusion Matrix:\n",
            " [[1138  188  222   31]\n",
            " [ 340  271   22   16]\n",
            " [ 198   48  114   25]\n",
            " [  62   26   33   22]]\n",
            "Test Loss: 7.0432\n",
            "[VALIDATION] Sensitivity: 0.3458, Specificity: 0.7207, Avg ICBHI Score: 0.5333\n",
            "##################################################\n"
          ]
        },
        {
          "name": "stderr",
          "output_type": "stream",
          "text": [
            "Mix_MLATT Trainig only: 100%|██████████| 32/32 [00:05<00:00,  5.82it/s]\n"
          ]
        },
        {
          "name": "stdout",
          "output_type": "stream",
          "text": [
            "[Epoch 167 | Train Loss: 2.9139, attn_feat: torch.Size([128, 2, 512])\n",
            "4-Class Confusion Matrix:\n",
            " [[2044    0    0    0]\n",
            " [   0 1199    0    0]\n",
            " [   0    0  493    0]\n",
            " [   0    0    0  360]]\n",
            "Sensitivity: 1.0000, Specificity: 1.0000, ICBHI Score: 1.0000\n",
            "[Validation] Confusion Matrix:\n",
            " [[1124  187  243   25]\n",
            " [ 330  278   27   14]\n",
            " [ 202   55  110   18]\n",
            " [  63   20   33   27]]\n",
            "Test Loss: 7.3134\n",
            "[VALIDATION] Sensitivity: 0.3526, Specificity: 0.7118, Avg ICBHI Score: 0.5322\n",
            "##################################################\n"
          ]
        },
        {
          "name": "stderr",
          "output_type": "stream",
          "text": [
            "Mix_MLATT Trainig only: 100%|██████████| 32/32 [00:05<00:00,  5.83it/s]\n"
          ]
        },
        {
          "name": "stdout",
          "output_type": "stream",
          "text": [
            "[Epoch 168 | Train Loss: 3.1705, attn_feat: torch.Size([128, 2, 512])\n",
            "4-Class Confusion Matrix:\n",
            " [[2044    0    0    0]\n",
            " [   0 1199    0    0]\n",
            " [   1    0  492    0]\n",
            " [   0    0    0  360]]\n",
            "Sensitivity: 0.9995, Specificity: 1.0000, ICBHI Score: 0.9998\n",
            "[Validation] Confusion Matrix:\n",
            " [[1088  259  206   26]\n",
            " [ 294  323   20   12]\n",
            " [ 169   78  110   28]\n",
            " [  54   35   24   30]]\n",
            "Test Loss: 7.1936\n",
            "[VALIDATION] Sensitivity: 0.3934, Specificity: 0.6890, Avg ICBHI Score: 0.5412\n",
            "##################################################\n"
          ]
        },
        {
          "name": "stderr",
          "output_type": "stream",
          "text": [
            "Mix_MLATT Trainig only: 100%|██████████| 32/32 [00:05<00:00,  5.84it/s]\n"
          ]
        },
        {
          "name": "stdout",
          "output_type": "stream",
          "text": [
            "[Epoch 169 | Train Loss: 3.0646, attn_feat: torch.Size([128, 2, 512])\n",
            "4-Class Confusion Matrix:\n",
            " [[2044    0    0    0]\n",
            " [   1 1198    0    0]\n",
            " [   0    0  493    0]\n",
            " [   0    0    0  360]]\n",
            "Sensitivity: 0.9995, Specificity: 1.0000, ICBHI Score: 0.9998\n",
            "[Validation] Confusion Matrix:\n",
            " [[1041  258  252   28]\n",
            " [ 297  307   28   17]\n",
            " [ 168   60  133   24]\n",
            " [  57   26   32   28]]\n",
            "Test Loss: 6.9935\n",
            "[VALIDATION] Sensitivity: 0.3976, Specificity: 0.6593, Avg ICBHI Score: 0.5284\n",
            "##################################################\n"
          ]
        },
        {
          "name": "stderr",
          "output_type": "stream",
          "text": [
            "Mix_MLATT Trainig only: 100%|██████████| 32/32 [00:05<00:00,  5.80it/s]\n"
          ]
        },
        {
          "name": "stdout",
          "output_type": "stream",
          "text": [
            "[Epoch 170 | Train Loss: 3.1058, attn_feat: torch.Size([128, 2, 512])\n",
            "4-Class Confusion Matrix:\n",
            " [[2043    1    0    0]\n",
            " [   0 1199    0    0]\n",
            " [   0    0  493    0]\n",
            " [   0    0    0  360]]\n",
            "Sensitivity: 1.0000, Specificity: 0.9995, ICBHI Score: 0.9998\n",
            "[Validation] Confusion Matrix:\n",
            " [[1047  253  256   23]\n",
            " [ 287  318   35    9]\n",
            " [ 170   61  128   26]\n",
            " [  53   29   34   27]]\n",
            "Test Loss: 7.4660\n",
            "[VALIDATION] Sensitivity: 0.4019, Specificity: 0.6631, Avg ICBHI Score: 0.5325\n",
            "##################################################\n"
          ]
        },
        {
          "name": "stderr",
          "output_type": "stream",
          "text": [
            "Mix_MLATT Trainig only: 100%|██████████| 32/32 [00:05<00:00,  5.80it/s]\n"
          ]
        },
        {
          "name": "stdout",
          "output_type": "stream",
          "text": [
            "[Epoch 171 | Train Loss: 2.5359, attn_feat: torch.Size([128, 2, 512])\n",
            "4-Class Confusion Matrix:\n",
            " [[2044    0    0    0]\n",
            " [   1 1198    0    0]\n",
            " [   1    0  492    0]\n",
            " [   0    0    0  360]]\n",
            "Sensitivity: 0.9990, Specificity: 1.0000, ICBHI Score: 0.9995\n",
            "[Validation] Confusion Matrix:\n",
            " [[1051  260  239   29]\n",
            " [ 301  302   25   21]\n",
            " [ 168   69  122   26]\n",
            " [  61   25   27   30]]\n",
            "Test Loss: 7.3393\n",
            "[VALIDATION] Sensitivity: 0.3857, Specificity: 0.6656, Avg ICBHI Score: 0.5257\n",
            "##################################################\n"
          ]
        },
        {
          "name": "stderr",
          "output_type": "stream",
          "text": [
            "Mix_MLATT Trainig only: 100%|██████████| 32/32 [00:05<00:00,  5.80it/s]\n"
          ]
        },
        {
          "name": "stdout",
          "output_type": "stream",
          "text": [
            "[Epoch 172 | Train Loss: 2.4455, attn_feat: torch.Size([128, 2, 512])\n",
            "4-Class Confusion Matrix:\n",
            " [[2044    0    0    0]\n",
            " [   1 1197    0    1]\n",
            " [   1    0  492    0]\n",
            " [   0    0    0  360]]\n",
            "Sensitivity: 0.9985, Specificity: 1.0000, ICBHI Score: 0.9993\n",
            "[Validation] Confusion Matrix:\n",
            " [[1119  196  242   22]\n",
            " [ 353  261   27    8]\n",
            " [ 195   50  123   17]\n",
            " [  68   24   31   20]]\n",
            "Test Loss: 7.0814\n",
            "[VALIDATION] Sensitivity: 0.3432, Specificity: 0.7087, Avg ICBHI Score: 0.5260\n",
            "##################################################\n"
          ]
        },
        {
          "name": "stderr",
          "output_type": "stream",
          "text": [
            "Mix_MLATT Trainig only: 100%|██████████| 32/32 [00:05<00:00,  5.83it/s]\n"
          ]
        },
        {
          "name": "stdout",
          "output_type": "stream",
          "text": [
            "[Epoch 173 | Train Loss: 2.4372, attn_feat: torch.Size([128, 2, 512])\n",
            "4-Class Confusion Matrix:\n",
            " [[2044    0    0    0]\n",
            " [   1 1198    0    0]\n",
            " [   2    0  491    0]\n",
            " [   0    1    0  359]]\n",
            "Sensitivity: 0.9981, Specificity: 1.0000, ICBHI Score: 0.9990\n",
            "[Validation] Confusion Matrix:\n",
            " [[1166  211  184   18]\n",
            " [ 347  268   25    9]\n",
            " [ 195   66  105   19]\n",
            " [  64   22   31   26]]\n",
            "Test Loss: 7.5274\n",
            "[VALIDATION] Sensitivity: 0.3390, Specificity: 0.7384, Avg ICBHI Score: 0.5387\n",
            "##################################################\n"
          ]
        },
        {
          "name": "stderr",
          "output_type": "stream",
          "text": [
            "Mix_MLATT Trainig only: 100%|██████████| 32/32 [00:05<00:00,  5.86it/s]\n"
          ]
        },
        {
          "name": "stdout",
          "output_type": "stream",
          "text": [
            "[Epoch 174 | Train Loss: 2.8790, attn_feat: torch.Size([128, 2, 512])\n",
            "4-Class Confusion Matrix:\n",
            " [[2043    1    0    0]\n",
            " [   1 1198    0    0]\n",
            " [   2    0  491    0]\n",
            " [   0    0    0  360]]\n",
            "Sensitivity: 0.9985, Specificity: 0.9995, ICBHI Score: 0.9990\n",
            "[Validation] Confusion Matrix:\n",
            " [[1147  199  202   31]\n",
            " [ 368  249   21   11]\n",
            " [ 200   43  122   20]\n",
            " [  65   20   34   24]]\n",
            "Test Loss: 6.7812\n",
            "[VALIDATION] Sensitivity: 0.3356, Specificity: 0.7264, Avg ICBHI Score: 0.5310\n",
            "##################################################\n"
          ]
        },
        {
          "name": "stderr",
          "output_type": "stream",
          "text": [
            "Mix_MLATT Trainig only: 100%|██████████| 32/32 [00:05<00:00,  5.86it/s]\n"
          ]
        },
        {
          "name": "stdout",
          "output_type": "stream",
          "text": [
            "[Epoch 175 | Train Loss: 2.7499, attn_feat: torch.Size([128, 2, 512])\n",
            "4-Class Confusion Matrix:\n",
            " [[2044    0    0    0]\n",
            " [   0 1199    0    0]\n",
            " [   2    0  491    0]\n",
            " [   0    0    0  360]]\n",
            "Sensitivity: 0.9990, Specificity: 1.0000, ICBHI Score: 0.9995\n",
            "[Validation] Confusion Matrix:\n",
            " [[1122  276  159   22]\n",
            " [ 314  304   22    9]\n",
            " [ 195   83   86   21]\n",
            " [  59   33   26   25]]\n",
            "Test Loss: 6.9406\n",
            "[VALIDATION] Sensitivity: 0.3526, Specificity: 0.7106, Avg ICBHI Score: 0.5316\n",
            "##################################################\n"
          ]
        },
        {
          "name": "stderr",
          "output_type": "stream",
          "text": [
            "Mix_MLATT Trainig only: 100%|██████████| 32/32 [00:05<00:00,  5.84it/s]\n"
          ]
        },
        {
          "name": "stdout",
          "output_type": "stream",
          "text": [
            "[Epoch 176 | Train Loss: 2.9406, attn_feat: torch.Size([128, 2, 512])\n",
            "4-Class Confusion Matrix:\n",
            " [[2044    0    0    0]\n",
            " [   2 1197    0    0]\n",
            " [   1    0  492    0]\n",
            " [   0    0    0  360]]\n",
            "Sensitivity: 0.9985, Specificity: 1.0000, ICBHI Score: 0.9993\n",
            "[Validation] Confusion Matrix:\n",
            " [[1190  204  161   24]\n",
            " [ 373  242   21   13]\n",
            " [ 212   49   95   29]\n",
            " [  65   20   30   28]]\n",
            "Test Loss: 7.0502\n",
            "[VALIDATION] Sensitivity: 0.3101, Specificity: 0.7536, Avg ICBHI Score: 0.5319\n",
            "##################################################\n"
          ]
        },
        {
          "name": "stderr",
          "output_type": "stream",
          "text": [
            "Mix_MLATT Trainig only: 100%|██████████| 32/32 [00:05<00:00,  5.84it/s]\n"
          ]
        },
        {
          "name": "stdout",
          "output_type": "stream",
          "text": [
            "[Epoch 177 | Train Loss: 2.7986, attn_feat: torch.Size([128, 2, 512])\n",
            "4-Class Confusion Matrix:\n",
            " [[2044    0    0    0]\n",
            " [   0 1199    0    0]\n",
            " [   1    0  492    0]\n",
            " [   0    1    0  359]]\n",
            "Sensitivity: 0.9990, Specificity: 1.0000, ICBHI Score: 0.9995\n",
            "[Validation] Confusion Matrix:\n",
            " [[1132  197  230   20]\n",
            " [ 345  268   28    8]\n",
            " [ 200   58  108   19]\n",
            " [  64   22   26   31]]\n",
            "Test Loss: 7.1900\n",
            "[VALIDATION] Sensitivity: 0.3458, Specificity: 0.7169, Avg ICBHI Score: 0.5314\n",
            "##################################################\n"
          ]
        },
        {
          "name": "stderr",
          "output_type": "stream",
          "text": [
            "Mix_MLATT Trainig only: 100%|██████████| 32/32 [00:05<00:00,  5.80it/s]\n"
          ]
        },
        {
          "name": "stdout",
          "output_type": "stream",
          "text": [
            "[Epoch 178 | Train Loss: 2.4508, attn_feat: torch.Size([128, 2, 512])\n",
            "4-Class Confusion Matrix:\n",
            " [[2044    0    0    0]\n",
            " [   0 1199    0    0]\n",
            " [   0    0  493    0]\n",
            " [   0    1    0  359]]\n",
            "Sensitivity: 0.9995, Specificity: 1.0000, ICBHI Score: 0.9998\n",
            "[Validation] Confusion Matrix:\n",
            " [[1051  304  192   32]\n",
            " [ 279  335   18   17]\n",
            " [ 188   79   89   29]\n",
            " [  60   34   19   30]]\n",
            "Test Loss: 6.8705\n",
            "[VALIDATION] Sensitivity: 0.3857, Specificity: 0.6656, Avg ICBHI Score: 0.5257\n",
            "##################################################\n"
          ]
        },
        {
          "name": "stderr",
          "output_type": "stream",
          "text": [
            "Mix_MLATT Trainig only: 100%|██████████| 32/32 [00:05<00:00,  5.81it/s]\n"
          ]
        },
        {
          "name": "stdout",
          "output_type": "stream",
          "text": [
            "[Epoch 179 | Train Loss: 2.6936, attn_feat: torch.Size([128, 2, 512])\n",
            "4-Class Confusion Matrix:\n",
            " [[2044    0    0    0]\n",
            " [   3 1196    0    0]\n",
            " [   2    0  491    0]\n",
            " [   0    2    0  358]]\n",
            "Sensitivity: 0.9966, Specificity: 1.0000, ICBHI Score: 0.9983\n",
            "[Validation] Confusion Matrix:\n",
            " [[1164  184  205   26]\n",
            " [ 401  208   28   12]\n",
            " [ 212   45  112   16]\n",
            " [  72   20   28   23]]\n",
            "Test Loss: 7.5597\n",
            "[VALIDATION] Sensitivity: 0.2914, Specificity: 0.7372, Avg ICBHI Score: 0.5143\n",
            "##################################################\n"
          ]
        },
        {
          "name": "stderr",
          "output_type": "stream",
          "text": [
            "Mix_MLATT Trainig only: 100%|██████████| 32/32 [00:05<00:00,  5.80it/s]\n"
          ]
        },
        {
          "name": "stdout",
          "output_type": "stream",
          "text": [
            "[Epoch 180 | Train Loss: 2.7297, attn_feat: torch.Size([128, 2, 512])\n",
            "4-Class Confusion Matrix:\n",
            " [[2044    0    0    0]\n",
            " [   0 1199    0    0]\n",
            " [   1    0  491    1]\n",
            " [   0    0    0  360]]\n",
            "Sensitivity: 0.9990, Specificity: 1.0000, ICBHI Score: 0.9995\n",
            "[Validation] Confusion Matrix:\n",
            " [[1069  266  206   38]\n",
            " [ 306  307   19   17]\n",
            " [ 187   61  111   26]\n",
            " [  60   32   19   32]]\n",
            "Test Loss: 7.2757\n",
            "[VALIDATION] Sensitivity: 0.3823, Specificity: 0.6770, Avg ICBHI Score: 0.5297\n",
            "##################################################\n"
          ]
        },
        {
          "name": "stderr",
          "output_type": "stream",
          "text": [
            "Mix_MLATT Trainig only: 100%|██████████| 32/32 [00:05<00:00,  5.83it/s]\n"
          ]
        },
        {
          "name": "stdout",
          "output_type": "stream",
          "text": [
            "[Epoch 181 | Train Loss: 2.6253, attn_feat: torch.Size([128, 2, 512])\n",
            "4-Class Confusion Matrix:\n",
            " [[2044    0    0    0]\n",
            " [   0 1199    0    0]\n",
            " [   1    0  492    0]\n",
            " [   0    0    0  360]]\n",
            "Sensitivity: 0.9995, Specificity: 1.0000, ICBHI Score: 0.9998\n",
            "[Validation] Confusion Matrix:\n",
            " [[1116  199  237   27]\n",
            " [ 324  283   24   18]\n",
            " [ 182   56  118   29]\n",
            " [  61   28   34   20]]\n",
            "Test Loss: 7.2145\n",
            "[VALIDATION] Sensitivity: 0.3577, Specificity: 0.7068, Avg ICBHI Score: 0.5322\n",
            "##################################################\n"
          ]
        },
        {
          "name": "stderr",
          "output_type": "stream",
          "text": [
            "Mix_MLATT Trainig only: 100%|██████████| 32/32 [00:05<00:00,  5.86it/s]\n"
          ]
        },
        {
          "name": "stdout",
          "output_type": "stream",
          "text": [
            "[Epoch 182 | Train Loss: 2.8275, attn_feat: torch.Size([128, 2, 512])\n",
            "4-Class Confusion Matrix:\n",
            " [[2043    1    0    0]\n",
            " [   1 1198    0    0]\n",
            " [   1    0  492    0]\n",
            " [   0    0    0  360]]\n",
            "Sensitivity: 0.9990, Specificity: 0.9995, ICBHI Score: 0.9993\n",
            "[Validation] Confusion Matrix:\n",
            " [[1125  231  188   35]\n",
            " [ 330  286   16   17]\n",
            " [ 188   63  108   26]\n",
            " [  65   33   22   23]]\n",
            "Test Loss: 7.0189\n",
            "[VALIDATION] Sensitivity: 0.3543, Specificity: 0.7125, Avg ICBHI Score: 0.5334\n",
            "##################################################\n"
          ]
        },
        {
          "name": "stderr",
          "output_type": "stream",
          "text": [
            "Mix_MLATT Trainig only: 100%|██████████| 32/32 [00:05<00:00,  5.86it/s]\n"
          ]
        },
        {
          "name": "stdout",
          "output_type": "stream",
          "text": [
            "[Epoch 183 | Train Loss: 2.6132, attn_feat: torch.Size([128, 2, 512])\n",
            "4-Class Confusion Matrix:\n",
            " [[2043    1    0    0]\n",
            " [   0 1199    0    0]\n",
            " [   0    0  493    0]\n",
            " [   0    1    0  359]]\n",
            "Sensitivity: 0.9995, Specificity: 0.9995, ICBHI Score: 0.9995\n",
            "[Validation] Confusion Matrix:\n",
            " [[1044  311  196   28]\n",
            " [ 283  329   18   19]\n",
            " [ 170   85  104   26]\n",
            " [  59   32   24   28]]\n",
            "Test Loss: 7.1553\n",
            "[VALIDATION] Sensitivity: 0.3917, Specificity: 0.6612, Avg ICBHI Score: 0.5264\n",
            "##################################################\n"
          ]
        },
        {
          "name": "stderr",
          "output_type": "stream",
          "text": [
            "Mix_MLATT Trainig only: 100%|██████████| 32/32 [00:05<00:00,  5.85it/s]\n"
          ]
        },
        {
          "name": "stdout",
          "output_type": "stream",
          "text": [
            "[Epoch 184 | Train Loss: 2.7722, attn_feat: torch.Size([128, 2, 512])\n",
            "4-Class Confusion Matrix:\n",
            " [[2043    1    0    0]\n",
            " [   0 1199    0    0]\n",
            " [   0    0  493    0]\n",
            " [   0    0    0  360]]\n",
            "Sensitivity: 1.0000, Specificity: 0.9995, ICBHI Score: 0.9998\n",
            "[Validation] Confusion Matrix:\n",
            " [[1114  249  196   20]\n",
            " [ 318  293   23   15]\n",
            " [ 197   55  113   20]\n",
            " [  63   24   30   26]]\n",
            "Test Loss: 6.9594\n",
            "[VALIDATION] Sensitivity: 0.3670, Specificity: 0.7055, Avg ICBHI Score: 0.5363\n",
            "##################################################\n"
          ]
        },
        {
          "name": "stderr",
          "output_type": "stream",
          "text": [
            "Mix_MLATT Trainig only: 100%|██████████| 32/32 [00:05<00:00,  5.85it/s]\n"
          ]
        },
        {
          "name": "stdout",
          "output_type": "stream",
          "text": [
            "[Epoch 185 | Train Loss: 2.6564, attn_feat: torch.Size([128, 2, 512])\n",
            "4-Class Confusion Matrix:\n",
            " [[2044    0    0    0]\n",
            " [   0 1199    0    0]\n",
            " [   0    0  493    0]\n",
            " [   0    0    0  360]]\n",
            "Sensitivity: 1.0000, Specificity: 1.0000, ICBHI Score: 1.0000\n",
            "[Validation] Confusion Matrix:\n",
            " [[1179  155  232   13]\n",
            " [ 374  239   27    9]\n",
            " [ 204   41  123   17]\n",
            " [  71   19   33   20]]\n",
            "Test Loss: 7.2421\n",
            "[VALIDATION] Sensitivity: 0.3246, Specificity: 0.7467, Avg ICBHI Score: 0.5356\n",
            "##################################################\n"
          ]
        },
        {
          "name": "stderr",
          "output_type": "stream",
          "text": [
            "Mix_MLATT Trainig only: 100%|██████████| 32/32 [00:05<00:00,  5.82it/s]\n"
          ]
        },
        {
          "name": "stdout",
          "output_type": "stream",
          "text": [
            "[Epoch 186 | Train Loss: 2.5507, attn_feat: torch.Size([128, 2, 512])\n",
            "4-Class Confusion Matrix:\n",
            " [[2043    1    0    0]\n",
            " [   0 1199    0    0]\n",
            " [   1    0  492    0]\n",
            " [   0    0    0  360]]\n",
            "Sensitivity: 0.9995, Specificity: 0.9995, ICBHI Score: 0.9995\n",
            "[Validation] Confusion Matrix:\n",
            " [[1039  297  218   25]\n",
            " [ 295  321   20   13]\n",
            " [ 178   67  115   25]\n",
            " [  58   31   23   31]]\n",
            "Test Loss: 7.0108\n",
            "[VALIDATION] Sensitivity: 0.3968, Specificity: 0.6580, Avg ICBHI Score: 0.5274\n",
            "##################################################\n"
          ]
        },
        {
          "name": "stderr",
          "output_type": "stream",
          "text": [
            "Mix_MLATT Trainig only: 100%|██████████| 32/32 [00:05<00:00,  5.80it/s]\n"
          ]
        },
        {
          "name": "stdout",
          "output_type": "stream",
          "text": [
            "[Epoch 187 | Train Loss: 3.1641, attn_feat: torch.Size([128, 2, 512])\n",
            "4-Class Confusion Matrix:\n",
            " [[2044    0    0    0]\n",
            " [   2 1197    0    0]\n",
            " [   0    0  493    0]\n",
            " [   0    0    1  359]]\n",
            "Sensitivity: 0.9985, Specificity: 1.0000, ICBHI Score: 0.9993\n",
            "[Validation] Confusion Matrix:\n",
            " [[1207  181  178   13]\n",
            " [ 383  234   24    8]\n",
            " [ 206   48  115   16]\n",
            " [  72   21   29   21]]\n",
            "Test Loss: 7.0660\n",
            "[VALIDATION] Sensitivity: 0.3144, Specificity: 0.7644, Avg ICBHI Score: 0.5394\n",
            "##################################################\n"
          ]
        },
        {
          "name": "stderr",
          "output_type": "stream",
          "text": [
            "Mix_MLATT Trainig only: 100%|██████████| 32/32 [00:05<00:00,  5.80it/s]\n"
          ]
        },
        {
          "name": "stdout",
          "output_type": "stream",
          "text": [
            "[Epoch 188 | Train Loss: 2.7653, attn_feat: torch.Size([128, 2, 512])\n",
            "4-Class Confusion Matrix:\n",
            " [[2044    0    0    0]\n",
            " [   1 1198    0    0]\n",
            " [   0    0  493    0]\n",
            " [   0    1    0  359]]\n",
            "Sensitivity: 0.9990, Specificity: 1.0000, ICBHI Score: 0.9995\n",
            "[Validation] Confusion Matrix:\n",
            " [[1104  253  197   25]\n",
            " [ 333  280   23   13]\n",
            " [ 177   76  113   19]\n",
            " [  61   24   24   34]]\n",
            "Test Loss: 7.4268\n",
            "[VALIDATION] Sensitivity: 0.3628, Specificity: 0.6992, Avg ICBHI Score: 0.5310\n",
            "##################################################\n"
          ]
        },
        {
          "name": "stderr",
          "output_type": "stream",
          "text": [
            "Mix_MLATT Trainig only: 100%|██████████| 32/32 [00:05<00:00,  5.82it/s]\n"
          ]
        },
        {
          "name": "stdout",
          "output_type": "stream",
          "text": [
            "[Epoch 189 | Train Loss: 2.7039, attn_feat: torch.Size([128, 2, 512])\n",
            "4-Class Confusion Matrix:\n",
            " [[2043    1    0    0]\n",
            " [   1 1198    0    0]\n",
            " [   1    0  492    0]\n",
            " [   0    0    0  360]]\n",
            "Sensitivity: 0.9990, Specificity: 0.9995, ICBHI Score: 0.9993\n",
            "[Validation] Confusion Matrix:\n",
            " [[1158  168  233   20]\n",
            " [ 378  235   25   11]\n",
            " [ 197   44  124   20]\n",
            " [  67   19   32   25]]\n",
            "Test Loss: 7.1152\n",
            "[VALIDATION] Sensitivity: 0.3263, Specificity: 0.7334, Avg ICBHI Score: 0.5298\n",
            "##################################################\n"
          ]
        },
        {
          "name": "stderr",
          "output_type": "stream",
          "text": [
            "Mix_MLATT Trainig only: 100%|██████████| 32/32 [00:05<00:00,  5.83it/s]\n"
          ]
        },
        {
          "name": "stdout",
          "output_type": "stream",
          "text": [
            "[Epoch 190 | Train Loss: 2.6078, attn_feat: torch.Size([128, 2, 512])\n",
            "4-Class Confusion Matrix:\n",
            " [[2044    0    0    0]\n",
            " [   0 1199    0    0]\n",
            " [   1    0  491    1]\n",
            " [   0    1    0  359]]\n",
            "Sensitivity: 0.9985, Specificity: 1.0000, ICBHI Score: 0.9993\n",
            "[Validation] Confusion Matrix:\n",
            " [[1095  268  194   22]\n",
            " [ 304  301   25   19]\n",
            " [ 171   72  120   22]\n",
            " [  57   27   25   34]]\n",
            "Test Loss: 7.2013\n",
            "[VALIDATION] Sensitivity: 0.3866, Specificity: 0.6935, Avg ICBHI Score: 0.5400\n",
            "##################################################\n"
          ]
        },
        {
          "name": "stderr",
          "output_type": "stream",
          "text": [
            "Mix_MLATT Trainig only: 100%|██████████| 32/32 [00:05<00:00,  5.80it/s]\n"
          ]
        },
        {
          "name": "stdout",
          "output_type": "stream",
          "text": [
            "[Epoch 191 | Train Loss: 2.6998, attn_feat: torch.Size([128, 2, 512])\n",
            "4-Class Confusion Matrix:\n",
            " [[2044    0    0    0]\n",
            " [   0 1199    0    0]\n",
            " [   0    0  493    0]\n",
            " [   0    0    0  360]]\n",
            "Sensitivity: 1.0000, Specificity: 1.0000, ICBHI Score: 1.0000\n",
            "[Validation] Confusion Matrix:\n",
            " [[1117  253  188   21]\n",
            " [ 315  296   25   13]\n",
            " [ 201   58  108   18]\n",
            " [  65   25   27   26]]\n",
            "Test Loss: 7.3105\n",
            "[VALIDATION] Sensitivity: 0.3653, Specificity: 0.7074, Avg ICBHI Score: 0.5364\n",
            "##################################################\n"
          ]
        },
        {
          "name": "stderr",
          "output_type": "stream",
          "text": [
            "Mix_MLATT Trainig only: 100%|██████████| 32/32 [00:05<00:00,  5.84it/s]\n"
          ]
        },
        {
          "name": "stdout",
          "output_type": "stream",
          "text": [
            "[Epoch 192 | Train Loss: 2.3753, attn_feat: torch.Size([128, 2, 512])\n",
            "4-Class Confusion Matrix:\n",
            " [[2043    1    0    0]\n",
            " [   0 1199    0    0]\n",
            " [   0    0  493    0]\n",
            " [   0    2    0  358]]\n",
            "Sensitivity: 0.9990, Specificity: 0.9995, ICBHI Score: 0.9993\n",
            "[Validation] Confusion Matrix:\n",
            " [[1116  253  192   18]\n",
            " [ 312  301   25   11]\n",
            " [ 191   65  110   19]\n",
            " [  68   24   23   28]]\n",
            "Test Loss: 7.0549\n",
            "[VALIDATION] Sensitivity: 0.3730, Specificity: 0.7068, Avg ICBHI Score: 0.5399\n",
            "##################################################\n"
          ]
        },
        {
          "name": "stderr",
          "output_type": "stream",
          "text": [
            "Mix_MLATT Trainig only: 100%|██████████| 32/32 [00:05<00:00,  5.78it/s]\n"
          ]
        },
        {
          "name": "stdout",
          "output_type": "stream",
          "text": [
            "[Epoch 193 | Train Loss: 3.0474, attn_feat: torch.Size([128, 2, 512])\n",
            "4-Class Confusion Matrix:\n",
            " [[2044    0    0    0]\n",
            " [   0 1199    0    0]\n",
            " [   1    0  492    0]\n",
            " [   0    0    0  360]]\n",
            "Sensitivity: 0.9995, Specificity: 1.0000, ICBHI Score: 0.9998\n",
            "[Validation] Confusion Matrix:\n",
            " [[1148  285  115   31]\n",
            " [ 308  311   15   15]\n",
            " [ 180   91   90   24]\n",
            " [  66   24   23   30]]\n",
            "Test Loss: 6.9568\n",
            "[VALIDATION] Sensitivity: 0.3662, Specificity: 0.7270, Avg ICBHI Score: 0.5466\n",
            "##################################################\n"
          ]
        },
        {
          "name": "stderr",
          "output_type": "stream",
          "text": [
            "Mix_MLATT Trainig only: 100%|██████████| 32/32 [00:05<00:00,  5.79it/s]\n"
          ]
        },
        {
          "name": "stdout",
          "output_type": "stream",
          "text": [
            "[Epoch 194 | Train Loss: 2.3749, attn_feat: torch.Size([128, 2, 512])\n",
            "4-Class Confusion Matrix:\n",
            " [[2044    0    0    0]\n",
            " [   1 1198    0    0]\n",
            " [   0    0  493    0]\n",
            " [   0    0    0  360]]\n",
            "Sensitivity: 0.9995, Specificity: 1.0000, ICBHI Score: 0.9998\n",
            "[Validation] Confusion Matrix:\n",
            " [[1114  262  181   22]\n",
            " [ 305  311   26    7]\n",
            " [ 202   62  100   21]\n",
            " [  68   32   20   23]]\n",
            "Test Loss: 7.2778\n",
            "[VALIDATION] Sensitivity: 0.3687, Specificity: 0.7055, Avg ICBHI Score: 0.5371\n",
            "##################################################\n"
          ]
        },
        {
          "name": "stderr",
          "output_type": "stream",
          "text": [
            "Mix_MLATT Trainig only: 100%|██████████| 32/32 [00:05<00:00,  5.80it/s]\n"
          ]
        },
        {
          "name": "stdout",
          "output_type": "stream",
          "text": [
            "[Epoch 195 | Train Loss: 2.8577, attn_feat: torch.Size([128, 2, 512])\n",
            "4-Class Confusion Matrix:\n",
            " [[2044    0    0    0]\n",
            " [   0 1199    0    0]\n",
            " [   2    0  491    0]\n",
            " [   0    2    0  358]]\n",
            "Sensitivity: 0.9981, Specificity: 1.0000, ICBHI Score: 0.9990\n",
            "[Validation] Confusion Matrix:\n",
            " [[1116  263  169   31]\n",
            " [ 305  299   28   17]\n",
            " [ 191   66   98   30]\n",
            " [  62   22   25   34]]\n",
            "Test Loss: 6.8478\n",
            "[VALIDATION] Sensitivity: 0.3662, Specificity: 0.7068, Avg ICBHI Score: 0.5365\n",
            "##################################################\n"
          ]
        },
        {
          "name": "stderr",
          "output_type": "stream",
          "text": [
            "Mix_MLATT Trainig only: 100%|██████████| 32/32 [00:05<00:00,  5.80it/s]\n"
          ]
        },
        {
          "name": "stdout",
          "output_type": "stream",
          "text": [
            "[Epoch 196 | Train Loss: 2.7664, attn_feat: torch.Size([128, 2, 512])\n",
            "4-Class Confusion Matrix:\n",
            " [[2042    1    1    0]\n",
            " [   1 1198    0    0]\n",
            " [   1    0  492    0]\n",
            " [   0    0    0  360]]\n",
            "Sensitivity: 0.9990, Specificity: 0.9990, ICBHI Score: 0.9990\n",
            "[Validation] Confusion Matrix:\n",
            " [[1063  305  178   33]\n",
            " [ 277  331   25   16]\n",
            " [ 171   74  116   24]\n",
            " [  57   30   26   30]]\n",
            "Test Loss: 7.2490\n",
            "[VALIDATION] Sensitivity: 0.4053, Specificity: 0.6732, Avg ICBHI Score: 0.5392\n",
            "##################################################\n"
          ]
        },
        {
          "name": "stderr",
          "output_type": "stream",
          "text": [
            "Mix_MLATT Trainig only: 100%|██████████| 32/32 [00:05<00:00,  5.81it/s]\n"
          ]
        },
        {
          "name": "stdout",
          "output_type": "stream",
          "text": [
            "[Epoch 197 | Train Loss: 2.7660, attn_feat: torch.Size([128, 2, 512])\n",
            "4-Class Confusion Matrix:\n",
            " [[2044    0    0    0]\n",
            " [   0 1199    0    0]\n",
            " [   1    0  491    1]\n",
            " [   0    0    0  360]]\n",
            "Sensitivity: 0.9990, Specificity: 1.0000, ICBHI Score: 0.9995\n",
            "[Validation] Confusion Matrix:\n",
            " [[1199  211  149   20]\n",
            " [ 370  248   21   10]\n",
            " [ 213   51   94   27]\n",
            " [  72   20   25   26]]\n",
            "Test Loss: 7.2255\n",
            "[VALIDATION] Sensitivity: 0.3127, Specificity: 0.7593, Avg ICBHI Score: 0.5360\n",
            "##################################################\n"
          ]
        },
        {
          "name": "stderr",
          "output_type": "stream",
          "text": [
            "Mix_MLATT Trainig only: 100%|██████████| 32/32 [00:05<00:00,  5.85it/s]\n"
          ]
        },
        {
          "name": "stdout",
          "output_type": "stream",
          "text": [
            "[Epoch 198 | Train Loss: 3.1477, attn_feat: torch.Size([128, 2, 512])\n",
            "4-Class Confusion Matrix:\n",
            " [[2044    0    0    0]\n",
            " [   1 1198    0    0]\n",
            " [   1    0  492    0]\n",
            " [   0    1    0  359]]\n",
            "Sensitivity: 0.9985, Specificity: 1.0000, ICBHI Score: 0.9993\n",
            "[Validation] Confusion Matrix:\n",
            " [[1144  334   69   32]\n",
            " [ 275  343   17   14]\n",
            " [ 202   86   67   30]\n",
            " [  58   32   21   32]]\n",
            "Test Loss: 7.4653\n",
            "[VALIDATION] Sensitivity: 0.3755, Specificity: 0.7245, Avg ICBHI Score: 0.5500\n",
            "##################################################\n"
          ]
        },
        {
          "name": "stderr",
          "output_type": "stream",
          "text": [
            "Mix_MLATT Trainig only: 100%|██████████| 32/32 [00:05<00:00,  5.85it/s]\n"
          ]
        },
        {
          "name": "stdout",
          "output_type": "stream",
          "text": [
            "[Epoch 199 | Train Loss: 2.9140, attn_feat: torch.Size([128, 2, 512])\n",
            "4-Class Confusion Matrix:\n",
            " [[2044    0    0    0]\n",
            " [   0 1199    0    0]\n",
            " [   1    0  492    0]\n",
            " [   0    0    0  360]]\n",
            "Sensitivity: 0.9995, Specificity: 1.0000, ICBHI Score: 0.9998\n",
            "[Validation] Confusion Matrix:\n",
            " [[1077  308  162   32]\n",
            " [ 308  308   21   12]\n",
            " [ 187   76   95   27]\n",
            " [  57   35   27   24]]\n",
            "Test Loss: 7.3057\n",
            "[VALIDATION] Sensitivity: 0.3628, Specificity: 0.6821, Avg ICBHI Score: 0.5224\n",
            "##################################################\n",
            "💾 Saved checkpoint to /home/HyeonSeok/BOAZ-Chungzins/save_path/checkpoint0723_others_basefalse_1alpha_MultilabelAtt_T_128bs_2507230304_199.pth.tar\n"
          ]
        },
        {
          "data": {
            "text/html": [],
            "text/plain": [
              "<IPython.core.display.HTML object>"
            ]
          },
          "metadata": {},
          "output_type": "display_data"
        },
        {
          "data": {
            "text/html": [
              "<br>    <style><br>        .wandb-row {<br>            display: flex;<br>            flex-direction: row;<br>            flex-wrap: wrap;<br>            justify-content: flex-start;<br>            width: 100%;<br>        }<br>        .wandb-col {<br>            display: flex;<br>            flex-direction: column;<br>            flex-basis: 100%;<br>            flex: 1;<br>            padding: 10px;<br>        }<br>    </style><br><div class=\"wandb-row\"><div class=\"wandb-col\"><h3>Run history:</h3><br/><table class=\"wandb\"><tr><td>Test/icbhi_score</td><td>▄▂▁▄▁▃▂▅▅▂▇▇▅▃▆▇▆▆█▇▄▆▄▆█▆▄▅▃▅▃▄▅▄▅▆▇▆▆▄</td></tr><tr><td>Test/loss</td><td>▇▅▃▁▂▁▅▄▄▃▅▇▄▇▆▆▇▄▆▅▆▅▆▇█▇▆▇█▇▅▇▆▆▇▆▇▅▇█</td></tr><tr><td>Test/sensitivity</td><td>▁▁▅▄▅▅▇▅▇▆▇▇▇▇▆▆▇▇█▆▇█▆▆▇▅▆▆▆▆▇▇▃█▆▇▇▆▇▆</td></tr><tr><td>Test/specificity</td><td>██▃▃▁▃▂▁▂▃▃▂▃▃▃▂▂▂▃▂▂▃▃▂▃▃▄▂▃▂▅▂▃▃▂▄▃▂▃▂</td></tr><tr><td>Training/epoch</td><td>▁▁▁▁▂▂▂▃▃▃▃▃▃▄▄▄▄▅▅▅▅▅▅▅▅▅▆▆▆▆▆▇▇▇▇▇▇███</td></tr><tr><td>Training/icbhi_score</td><td>▁▁▂▂▄▆▆▇▇▇▇█████████████████████████████</td></tr><tr><td>Training/test_loss</td><td>▇▅▄▃▄▁▃▂▄▅▄▅▇▆▇▆█▅▅▆▆▆▆▆▆▇█▇▇▅▅▇▅▇▅▆▆▇▆▇</td></tr><tr><td>Training/train_loss</td><td>▆▆█▇▇▇▆▅▆▅▅▅▅▅▃▅▄▃▃▄▂▂▃▃▃▄▃▃▂▃▂▂▂▃▃▂▄▂▁▂</td></tr><tr><td>Training/train_sens</td><td>▁▂▄▅▆▇▇▇▇▇██████████████████████████████</td></tr><tr><td>Training/train_spec</td><td>▆▂▂▁▁▆▆▇▇▇▇▇▇▇▇█████████████████████████</td></tr></table><br/></div><div class=\"wandb-col\"><h3>Run summary:</h3><br/><table class=\"wandb\"><tr><td>Test/icbhi_score</td><td>0.52243</td></tr><tr><td>Test/loss</td><td>7.30574</td></tr><tr><td>Test/sensitivity</td><td>0.36279</td></tr><tr><td>Test/specificity</td><td>0.68208</td></tr><tr><td>Training/epoch</td><td>199</td></tr><tr><td>Training/icbhi_score</td><td>0.99976</td></tr><tr><td>Training/test_loss</td><td>7.30574</td></tr><tr><td>Training/train_loss</td><td>2.91401</td></tr><tr><td>Training/train_sens</td><td>0.99951</td></tr><tr><td>Training/train_spec</td><td>1.0</td></tr></table><br/></div></div>"
            ],
            "text/plain": [
              "<IPython.core.display.HTML object>"
            ]
          },
          "metadata": {},
          "output_type": "display_data"
        },
        {
          "data": {
            "text/html": [
              " View run <strong style=\"color:#cdcd00\">0723_others_basefalse_1alpha_MultilabelAtt_T_128bs_2507230304</strong> at: <a href='https://wandb.ai/boaz_woony-boaz/0721_SBW_ICBHI_MLATT_all/runs/257gjp55' target=\"_blank\">https://wandb.ai/boaz_woony-boaz/0721_SBW_ICBHI_MLATT_all/runs/257gjp55</a><br> View project at: <a href='https://wandb.ai/boaz_woony-boaz/0721_SBW_ICBHI_MLATT_all' target=\"_blank\">https://wandb.ai/boaz_woony-boaz/0721_SBW_ICBHI_MLATT_all</a><br>Synced 5 W&B file(s), 810 media file(s), 0 artifact file(s) and 0 other file(s)"
            ],
            "text/plain": [
              "<IPython.core.display.HTML object>"
            ]
          },
          "metadata": {},
          "output_type": "display_data"
        },
        {
          "data": {
            "text/html": [
              "Find logs at: <code>./wandb/run-20250722_180439-257gjp55/logs</code>"
            ],
            "text/plain": [
              "<IPython.core.display.HTML object>"
            ]
          },
          "metadata": {},
          "output_type": "display_data"
        }
      ],
      "source": [
        "import os\n",
        "from torch.utils.data import DataLoader\n",
        "import torch.optim as optim\n",
        "from sklearn.metrics import precision_score, recall_score, f1_score\n",
        "from copy import deepcopy\n",
        "from torch.cuda.amp import GradScaler\n",
        "import torch.nn as nn\n",
        "import time\n",
        "import torch\n",
        "from torch.cuda.amp import GradScaler\n",
        "\n",
        "who_are_you = 'others'\n",
        "\n",
        "# from utils.meters import AverageMeter\n",
        "################################\n",
        "train_losses = []\n",
        "test_losses = []\n",
        "train_icbhi_scores = []\n",
        "test_icbhi_scores = []\n",
        "test_labels_all = []\n",
        "test_preds_all = []\n",
        "epochs = []\n",
        "\n",
        "# 모델 지정하기 전 seed 고정 필요\n",
        "seed_everything(args.seed) # Seed 고정\n",
        "\n",
        "pretrain_project_name = f'0723_{who_are_you}_basefalse_{args.alpha}alpha_MultilabelAtt_T_{args.batch_size}bs_{get_timestamp()}'\n",
        "\n",
        "# -------------------------------------------wan\n",
        "# wandb 초기화 (프로젝트명, 실험 이름 등 설정)\n",
        "wandb.init(\n",
        "    project=\"0721_SBW_ICBHI_MLATT_all\", # 프로젝트 이름\n",
        "    name=f\"{pretrain_project_name}\",  # 실험 이름\n",
        "    config={\n",
        "        \"epochs\": args.epochs,\n",
        "        \"batch_size\": args.batch_size,\n",
        "        \"lr\": args.lr,\n",
        "        \"momentum\": args.momentum,\n",
        "        \"weight_decay\": args.weight_decay,\n",
        "        \"alpha\": args.alpha\n",
        "    }\n",
        ")\n",
        "# -------------------------------------------wan\n",
        "\n",
        "################################\n",
        "# 1. Model / Classifier \n",
        "model = MixMLATT(backbone=backbone_cnn6, \n",
        "                 num_classes=2, \n",
        "                 lambda_attn=0.5, \n",
        "                 attention_heads=[1, float('inf')]\n",
        "                 ).cuda()\n",
        "\n",
        "classifier = nn.ModuleList([nn.Linear(args.out_dim, 1) for _ in range(2)]).cuda()\n",
        "\n",
        "# 2. Projector 0/1\n",
        "projector_0 = nn.Sequential(nn.Linear(args.out_dim, args.out_dim),nn.ReLU(),nn.Linear(args.out_dim, args.dim_prj)).cuda()\n",
        "projector_1 = nn.Sequential(nn.Linear(args.out_dim, args.out_dim),nn.ReLU(),nn.Linear(args.out_dim, args.dim_prj)).cuda()\n",
        "\n",
        "# 3. EMA 선언\n",
        "ema_model = deepcopy(model)\n",
        "ema_projector_0 = deepcopy(projector_0)\n",
        "ema_projector_1 = deepcopy(projector_1)\n",
        "ema_classifier = deepcopy(classifier)\n",
        "for m in [ema_model, ema_projector_0, ema_projector_1, ema_classifier]:\n",
        "    m.eval()\n",
        "    for p in m.parameters():\n",
        "        p.requires_grad_(False)\n",
        "\n",
        "# 4. criterion\n",
        "criterion = [\n",
        "    nn.BCEWithLogitsLoss().cuda(),       # criterion[0]: classification\n",
        "    GroupMixConLoss(temperature=0.07).cuda()  # criterion[1]: contrastive\n",
        "]\n",
        "\n",
        "# 5. optimizer  \n",
        "optimizer = optim.Adam(\n",
        "    list(model.parameters()) + list(classifier.parameters()) + \n",
        "    list(projector_0.parameters()) + list(projector_1.parameters()),\n",
        "    lr=args.lr, weight_decay=args.weight_decay\n",
        ")\n",
        "\n",
        "\n",
        "# 6. EMA (Exponential Moving Average) 설정\n",
        "@torch.no_grad()\n",
        "def update_ema(student, ema, beta=0.999):\n",
        "    for param, ema_param in zip(student.parameters(), ema.parameters()):\n",
        "        ema_param.data = beta * ema_param.data + (1 - beta) * param.data\n",
        "\n",
        "\n",
        "# 7. Train\n",
        "# Best loss 초기화\n",
        "best_loss = float('inf')\n",
        "best_epoch = -1\n",
        "\n",
        "for epoch in range(args.epochs):\n",
        "    # ===============================\n",
        "    # Training\n",
        "    # ===============================\n",
        "    model.train()\n",
        "    projector_0.train()\n",
        "    projector_1.train()\n",
        "    classifier.train()\n",
        "\n",
        "    total_train_loss = 0.0\n",
        "    total_predictions = 0.0\n",
        "    correct_predictions = 0.0\n",
        "\n",
        "    all_preds = []\n",
        "    all_labels = []\n",
        "    all_outputs = []\n",
        "\n",
        "    pbar = tqdm(pretrain_loader, desc='Mix_MLATT Trainig only')\n",
        "    for idx, (repeat_mel, labels, _) in enumerate(pbar):\n",
        "        # # (0) EMA 저장\n",
        "        # if args.ma_update:\n",
        "        #     with torch.no_grad():\n",
        "        #         ma_ckpt = [\n",
        "        #             deepcopy(model.state_dict()),\n",
        "        #             deepcopy(projector_0.state_dict()),\n",
        "        #             deepcopy(projector_1.state_dict()),\n",
        "        #             deepcopy(classifier.state_dict())\n",
        "        #         ]\n",
        "\n",
        "        repeat_mel = repeat_mel.cuda(non_blocking=True)\n",
        "        labels = labels.cuda(non_blocking=True)\n",
        "        bsz = labels.size(0)\n",
        "\n",
        "\n",
        "        # (1) Original 이미지 forward\n",
        "        # attn_feat: [B, 2, 512], origin_feat: [B, 64, 512]\n",
        "        attn_feat, _ = model(repeat_mel, mix_feature=True, patch_mix=False)\n",
        "        out = []\n",
        "        for i in range(args.num_classes):\n",
        "            cls_feat = attn_feat[:, i, :]  # (B, 512)\n",
        "            logit = classifier[i](cls_feat).squeeze(-1)  # (B,)\n",
        "            out.append(logit)\n",
        "        logits = torch.stack(out, dim=1) # [B, 2]\n",
        "\n",
        "        # (2) classification loss\n",
        "        loss_ce = criterion[0](logits, labels)\n",
        "\n",
        "        # (3) projector1 생성 (class별)\n",
        "        if args.target_type == 'grad_block':\n",
        "            proj1_0 = projector_0(attn_feat[:, 0, :].detach())   # [B, 128]\n",
        "            proj1_1 = projector_1(attn_feat[:, 1, :].detach())\n",
        "        elif args.target_type == 'grad_flow':\n",
        "            proj1_0 = attn_feat[:, 0, :]\n",
        "            proj1_1 = attn_feat[:, 1, :]\n",
        "        elif args.target_type == 'project_block':\n",
        "            proj1_0 = deepcopy(projector_0(attn_feat[:, 0, :]).detach())\n",
        "            proj1_1 = deepcopy(projector_1(attn_feat[:, 1, :]).detach())\n",
        "        elif args.target_type == 'project_flow':\n",
        "            proj1_0 = projector_0(attn_feat[:, 0, :])\n",
        "            proj1_1 = projector_1(attn_feat[:, 1, :])\n",
        "\n",
        "        # (4) PatchMix 수행 (mix된 이미지 반환)\n",
        "        mix_attn_feat, origin_feat, label_origin, label_mix, lam, index = model(repeat_mel, y=labels, patch_mix=True, mix_feature=True)\n",
        "\n",
        "        # (5) mix는 무조건 projector 통과\n",
        "        proj2_0 = mix_attn_feat[:, 0, :]  # [B, 128]\n",
        "        proj2_1 = mix_attn_feat[:, 1, :]\n",
        "\n",
        "        # (6) GroupMixConLoss & Final loss 계산\n",
        "        loss_con0 = criterion[1](proj1_0, proj2_0, label_origin, label_mix, lam, index)\n",
        "        loss_con1 = criterion[1](proj1_1, proj2_1, label_origin, label_mix, lam, index)\n",
        "        loss = loss_ce + args.alpha * (loss_con0 + loss_con1)\n",
        "        \n",
        "\n",
        "        # (8) Backpopagation\n",
        "        optimizer.zero_grad()\n",
        "        loss.backward()\n",
        "        optimizer.step()\n",
        "\n",
        "        # (9) EMA 업데이트\n",
        "        if args.ma_update:\n",
        "            update_ema(model, ema_model, beta=args.ma_beta)\n",
        "            update_ema(projector_0, ema_projector_0, beta=args.ma_beta)\n",
        "            update_ema(projector_1, ema_projector_1, beta=args.ma_beta)\n",
        "            update_ema(classifier, ema_classifier, beta=args.ma_beta)\n",
        "\n",
        "        # (10) Loss 기록\n",
        "        total_train_loss += loss.item()\n",
        "        \n",
        "        # 예측값과 실제값 저장 ( Ablation(4-1) threshold ?? )\n",
        "        predicted = (torch.sigmoid(logits) > 0.5).float()\n",
        "        all_preds.append(predicted.detach().cpu())\n",
        "        all_labels.append(labels.detach().cpu())\n",
        "        all_outputs.append(logits.detach().cpu())\n",
        "\n",
        "\n",
        "    # train loss\n",
        "    train_loss = total_train_loss / len(pretrain_loader)\n",
        "\n",
        "    # Concatenate\n",
        "    all_preds = torch.cat(all_preds, dim=0).numpy()    # shape: [N, 2]\n",
        "    all_labels = torch.cat(all_labels, dim=0).numpy()  # shape: [N, 2]\n",
        "    all_output = torch.cat(all_outputs, dim=0).numpy()\n",
        "\n",
        "    print(f\"[Epoch {epoch} | Train Loss: {train_loss:.4f}, attn_feat: {attn_feat.shape}\")\n",
        "\n",
        "\n",
        "    # =====================================\n",
        "    # 2-Edited. Multi-class 민감도/특이도 계산\n",
        "    # =====================================\n",
        "    import numpy as np\n",
        "    import matplotlib.pyplot as plt\n",
        "    import seaborn as sns\n",
        "    import wandb\n",
        "    from sklearn.metrics import confusion_matrix\n",
        "\n",
        "    def multilabel_to_multiclass(y):\n",
        "        # Crackle → 1, Wheeze → 2, Both → 3, None → 0\n",
        "        y = np.array(y)\n",
        "        return y[:, 0] + y[:, 1]*2\n",
        "\n",
        "    def evaluate_multiclass_confusion(y_true, y_pred, class_names=[\"Normal\", \"Wheeze\", \"Crackle\", \"Both\"]):\n",
        "        y_true_cls = multilabel_to_multiclass(y_true)\n",
        "        y_pred_cls = multilabel_to_multiclass(y_pred)\n",
        "\n",
        "        cm = confusion_matrix(y_true_cls, y_pred_cls, labels=[0, 1, 2, 3])\n",
        "\n",
        "        # N_n: 정상 → 정상\n",
        "        N_n = cm[0, 0]\n",
        "        N_total = cm[0].sum()\n",
        "\n",
        "        # 이상 클래스 정답 수: W, C, B\n",
        "        W_total = cm[1].sum()\n",
        "        C_total = cm[2].sum()\n",
        "        B_total = cm[3].sum()\n",
        "\n",
        "        # 각각의 정답 → 정확한 예측만 고려\n",
        "        W_w = cm[1, 1]\n",
        "        C_c = cm[2, 2]\n",
        "        B_b = cm[3, 3]\n",
        "\n",
        "        SP = N_n / (N_total + 1e-6) #spec\n",
        "        SE = (W_w + C_c + B_b) / (W_total + C_total + B_total + 1e-6) #sense\n",
        "\n",
        "        AS = (SP + SE) / 2\n",
        "        HS = 2 * SP * SE / (SP + SE + 1e-6)\n",
        "\n",
        "        return cm, SE, SP, y_true_cls, y_pred_cls\n",
        "\n",
        "    def log_multiclass_conf_matrix_wandb(cm, class_names, sens, spec, normalize, tag):\n",
        "        # Normalize (비율) 옵션\n",
        "        if normalize:\n",
        "            cm = cm.astype('float') / cm.sum(axis=1, keepdims=True)\n",
        "            fmt = '.2f'\n",
        "            title = \"Confusion Matrix (Normalized %)\"\n",
        "        else:\n",
        "            fmt = 'd'\n",
        "            title = \"Confusion Matrix (Raw Count)\"\n",
        "\n",
        "        fig, ax = plt.subplots(figsize=(7, 6))\n",
        "        sns.heatmap(cm, annot=True, fmt=fmt, cmap='Blues',\n",
        "                    xticklabels=class_names, yticklabels=class_names, ax=ax)\n",
        "\n",
        "        ax.set_xlabel('Predicted')\n",
        "        ax.set_ylabel('True')\n",
        "        ax.set_title(title)\n",
        "\n",
        "        icbhi_score = (sens + spec) / 2\n",
        "        # 우하단에 성능 출력\n",
        "        ax.text(\n",
        "            0.99, 0.15,\n",
        "            f\"Sensitivity: {sens*100:.2f}%\\nSpecificity: {spec*100:.2f}%\\nICBHI Score: {icbhi_score*100:.2f}%\",\n",
        "            ha='right', va='bottom',\n",
        "            transform=plt.gca().transAxes,\n",
        "            fontsize=10, bbox=dict(boxstyle=\"round,pad=0.3\", facecolor=\"white\", alpha=0.8)\n",
        "        )\n",
        "\n",
        "        plt.tight_layout()\n",
        "        # wandb.log({tag: wandb.Image(fig)})\n",
        "        # plt.close(fig)\n",
        "        return fig\n",
        "\n",
        "    # 1. 4-class Confusion Matrix 평가\n",
        "    class_names = [\"Normal\", \"Crackle\", \"Wheeze\", \"Both\"]\n",
        "    cm_4x4, train_sens, train_spec, y_true_cls, y_pred_cls = evaluate_multiclass_confusion(all_labels, all_preds, class_names)\n",
        "    icbhi_score = (train_sens + train_spec)/2\n",
        "\n",
        "    print(\"4-Class Confusion Matrix:\\n\", cm_4x4)\n",
        "    print(f\"Sensitivity: {train_sens:.4f}, Specificity: {train_spec:.4f}, ICBHI Score: {icbhi_score:.4f}\")\n",
        "\n",
        "\n",
        "    # ===============================\n",
        "    # 3. Validation\n",
        "    # ===============================\n",
        "    # test_loss, test_labels, test_preds = validate(\n",
        "    #     model, test_loader, criterion, device\n",
        "    # )\n",
        "\n",
        "    test_loss, test_labels, test_preds = validate(\n",
        "        model=ema_model if args.ma_update else model,\n",
        "        classifier=ema_classifier if args.ma_update else classifier,\n",
        "        projector_0=ema_projector_0 if args.ma_update else projector_0,\n",
        "        projector_1=ema_projector_1 if args.ma_update else projector_1,\n",
        "        val_loader=test_loader,\n",
        "        criterion=criterion,\n",
        "        device=device,\n",
        "        args=args\n",
        "    )\n",
        "\n",
        "    precision = precision_score(test_labels, test_preds, average='macro')\n",
        "    recall = recall_score(test_labels, test_preds, average='macro')\n",
        "    f1 = f1_score(test_labels, test_preds, average='macro')\n",
        "\n",
        "    test_cm_4x4, test_sens, test_spec, test_y_true_cls, test_y_pred_cls = evaluate_multiclass_confusion(test_labels, test_preds)\n",
        "    test_icbhi_score = (test_sens+test_spec)/2\n",
        "\n",
        "    print(\"[Validation] Confusion Matrix:\\n\", test_cm_4x4)\n",
        "    print(f\"Test Loss: {test_loss:.4f}\")\n",
        "    print(f\"[VALIDATION] Sensitivity: {test_sens:.4f}, Specificity: {test_spec:.4f}, Avg ICBHI Score: {(test_sens+test_spec)/2:.4f}\")\n",
        "    print(\"##################################################\")\n",
        "\n",
        "\n",
        "    # ===============================\n",
        "    # 4. Confusion Matrix\n",
        "    # ===============================\n",
        "\n",
        "    # 2. Finetune Count Confusion Matrix 시각화\n",
        "    fig_finetune_raw = log_multiclass_conf_matrix_wandb(cm_4x4, class_names, train_sens, train_spec, normalize=False, tag=\"Training_conf_matrix_raw\")\n",
        "    fig_finetune_norm = log_multiclass_conf_matrix_wandb(cm_4x4, class_names, train_sens, train_spec, normalize=True, tag=\"Training_conf_matrix_norm\")\n",
        "\n",
        "    # 3. Test Confusion Matrix 시각화\n",
        "    fig_test_raw = log_multiclass_conf_matrix_wandb(test_cm_4x4, class_names, test_sens, test_spec, normalize=False, tag=\"test_conf_matrix_raw\")\n",
        "    fig_test_norm = log_multiclass_conf_matrix_wandb(test_cm_4x4, class_names, test_sens, test_spec, normalize=True, tag=\"test_conf_matrix_norm\")\n",
        "\n",
        "    # 4. log dictionary 생성 -------------------------------------------wan\n",
        "    wandb_log_dict = {\n",
        "        \"finetune_conf_matrix_raw\": wandb.Image(fig_finetune_raw),\n",
        "        \"finetune_conf_matrix_norm\": wandb.Image(fig_finetune_norm),\n",
        "        \"test_conf_matrix_raw\": wandb.Image(fig_test_raw),\n",
        "        \"test_conf_matrix_norm\": wandb.Image(fig_test_norm)\n",
        "    }\n",
        "    # -------------------------------------------wan\n",
        "\n",
        "    # =====================================\n",
        "    # 5. Checkpoint (Every 100 epochs)\n",
        "    # =====================================\n",
        "    if (epoch + 1) % 100 == 0:\n",
        "        ckpt_path = CHECKPOINT_PATH + f\"{pretrain_project_name}_{epoch:03d}.pth.tar\"\n",
        "        torch.save({\n",
        "            'epoch': epoch + 1,\n",
        "            'model': model.state_dict(),\n",
        "            'optimizer': optimizer.state_dict(),\n",
        "            'classifier': classifier.state_dict(),\n",
        "            'projector_0': projector_0.state_dict(),\n",
        "            'projector_1': projector_1.state_dict(),\n",
        "        }, ckpt_path)\n",
        "        print(f\"💾 Saved checkpoint to {ckpt_path}\")\n",
        "\n",
        "        # =====================================\n",
        "        # EMA 모델 저장 (조건: EMA 활성화일 때)\n",
        "        if args.ma_update:\n",
        "            ema_ckpt_path = CHECKPOINT_PATH + f\"{pretrain_project_name}_ema_{epoch:03d}.pth.tar\"\n",
        "            torch.save({\n",
        "                'epoch': epoch + 1,\n",
        "                'state_dict': ema_model.state_dict(),\n",
        "                'classifier': ema_classifier.state_dict(),\n",
        "                'projector_0': ema_projector_0.state_dict(),\n",
        "                'projector_1': ema_projector_1.state_dict()\n",
        "            }, ema_ckpt_path)\n",
        "            print(f\"💾 Saved EMA checkpoint to {ema_ckpt_path}\")\n",
        "        # ================================\n",
        "\n",
        "    # ===============================\n",
        "    # 6. Save Best Checkpoint\n",
        "    # ===============================\n",
        "    if test_loss < best_loss:\n",
        "        best_loss = test_loss\n",
        "        best_epoch = epoch\n",
        "        best_ckpt_path = CHECKPOINT_PATH + f\"{pretrain_project_name}_best.pth.tar\"\n",
        "        torch.save({\n",
        "            'epoch': epoch + 1,\n",
        "            'model': model.state_dict(),\n",
        "            'classifier': classifier.state_dict(),\n",
        "            'projector_0': projector_0.state_dict(),\n",
        "            'projector_1': projector_1.state_dict(),\n",
        "            'optimizer': optimizer.state_dict(),\n",
        "            'loss': best_loss\n",
        "        }, best_ckpt_path)\n",
        "        print(f\"=> Saved best checkpoint (epoch: {epoch}, loss: {best_loss:.4f})\")\n",
        "\n",
        "        # ================================\n",
        "        # EMA 모델 저장\n",
        "        if args.ma_update:\n",
        "            best_ema_ckpt_path = CHECKPOINT_PATH + f\"{pretrain_project_name}_best_ema.pth.tar\"\n",
        "            torch.save({\n",
        "                'epoch': epoch + 1,\n",
        "                'state_dict': ema_model.state_dict(),\n",
        "                'classifier': ema_classifier.state_dict(),\n",
        "                'projector_0': ema_projector_0.state_dict(),\n",
        "                'projector_1': ema_projector_1.state_dict(),\n",
        "                'loss': best_loss\n",
        "            }, best_ema_ckpt_path)\n",
        "            print(f\"=> Saved best EMA checkpoint (epoch: {epoch}, loss: {best_loss:.4f})\")\n",
        "        # ================================\n",
        "\n",
        "\n",
        "        # 🔹 Confusion Matrix Logging for Best\n",
        "        cm_best, sens_best, spec_best,_, _ = evaluate_multiclass_confusion(test_labels, test_preds, class_names)\n",
        "        fig_best_raw = log_multiclass_conf_matrix_wandb(cm_best, class_names, sens_best, spec_best, normalize=False, tag=\"best_test_conf_matrix_raw\")\n",
        "\n",
        "        fig_best_norm = log_multiclass_conf_matrix_wandb(cm_best, class_names, sens_best, spec_best, normalize=True, tag=\"best_test_conf_matrix_norm\")\n",
        "\n",
        "        # -------------------------------------------wan\n",
        "        wandb_log_dict.update({\n",
        "            \"best_test_conf_matrix_raw\": wandb.Image(fig_best_raw),\n",
        "            \"best_test_conf_matrix_norm\": wandb.Image(fig_best_norm)\n",
        "        })\n",
        "        # -------------------------------------------wan\n",
        "\n",
        "\n",
        "    if epoch == args.epochs - 1:\n",
        "        # 🔸 Confusion Matrix Logging for Last Epoch\n",
        "        cm_last, sens_last, spec_last, _, _  = evaluate_multiclass_confusion(test_labels, test_preds, class_names)\n",
        "        fig_last_raw = log_multiclass_conf_matrix_wandb(cm_last, class_names, sens_last, spec_last, normalize=False, tag=\"last_test_conf_matrix_raw\")\n",
        "\n",
        "        fig_last_norm = log_multiclass_conf_matrix_wandb(cm_last, class_names, sens_last, spec_last, normalize=True, tag=\"last_test_conf_matrix_norm\")\n",
        "\n",
        "        # -------------------------------------------wan\n",
        "        wandb_log_dict.update({\n",
        "            \"last_test_conf_matrix_raw\": wandb.Image(fig_last_raw),\n",
        "            \"last_test_conf_matrix_norm\": wandb.Image(fig_last_norm)\n",
        "        })\n",
        "        # -------------------------------------------wan\n",
        "\n",
        "    # =====================================\n",
        "    # 7. Logging with wandb confusion matrix\n",
        "    # =====================================\n",
        "\n",
        "    # -------------------------------------------wan\n",
        "    # step 1. metrics\n",
        "    wandb.log({\n",
        "        # Train metrics\n",
        "        \"Training/epoch\": epoch,\n",
        "        \"Training/train_loss\": train_loss,\n",
        "        \"Training/test_loss\": test_loss,\n",
        "        \"Training/train_sens\": train_sens,\n",
        "        \"Training/train_spec\": train_spec,\n",
        "        \"Training/icbhi_score\": icbhi_score,\n",
        "\n",
        "        # Test metrics\n",
        "        \"Test/loss\": test_loss,\n",
        "        \"Test/sensitivity\": test_sens,\n",
        "        \"Test/specificity\": test_spec,\n",
        "        \"Test/icbhi_score\": test_icbhi_score\n",
        "    })\n",
        "\n",
        "    # step 2. Confusion matrix\n",
        "    wandb.log(wandb_log_dict)\n",
        "\n",
        "    # -------------------------------------------wan\n",
        "\n",
        "\n",
        "    plt.close(fig_finetune_raw)\n",
        "    plt.close(fig_finetune_norm)\n",
        "    plt.close(fig_test_raw)\n",
        "    plt.close(fig_test_norm)\n",
        "    if 'fig_best_raw' in locals(): plt.close(fig_best_raw)\n",
        "    if 'fig_best_norm' in locals(): plt.close(fig_best_norm)\n",
        "    if 'fig_last_raw' in locals(): plt.close(fig_last_raw)\n",
        "    if 'fig_last_norm' in locals(): plt.close(fig_last_norm)\n",
        "\n",
        "    # # ===============================\n",
        "    # # 8. Scheduler Step\n",
        "    # # ===============================\n",
        "    # scheduler.step()\n",
        "\n",
        "    # ===============================\n",
        "    # 9. Save Metrics\n",
        "    # ===============================\n",
        "    train_losses.append(train_loss)\n",
        "    test_losses.append(test_loss)\n",
        "    train_icbhi_scores.append(icbhi_score)\n",
        "    test_icbhi_scores.append(test_icbhi_score)\n",
        "    epochs.append(epoch)\n",
        "    # ================================\n",
        "\n",
        "    # ================================\n",
        "    # test_labels_all, test_preds_all에 저장\n",
        "    # ================================\n",
        "    test_labels_all.append(test_labels)\n",
        "    test_preds_all.append(test_preds)\n",
        "    # ================================\n",
        "\n",
        "\n",
        "# -------------------------------------------wan\n",
        "wandb.finish()\n",
        "# -------------------------------------------wan\n",
        "\n"
      ]
    },
    {
      "cell_type": "code",
      "execution_count": 41,
      "id": "07e469a5",
      "metadata": {},
      "outputs": [
        {
          "data": {
            "image/png": "[encoded data removed]",
            "text/plain": [
              "<Figure size 1000x600 with 1 Axes>"
            ]
          },
          "metadata": {},
          "output_type": "display_data"
        },
        {
          "data": {
            "image/png": "[encoded data removed]",
            "text/plain": [
              "<Figure size 1000x600 with 1 Axes>"
            ]
          },
          "metadata": {},
          "output_type": "display_data"
        },
        {
          "name": "stdout",
          "output_type": "stream",
          "text": [
            "\n",
            "=== [최고 Test ICBHI Score 시점 정보] ===\n",
            "Best Test ICBHI Score: 0.5550 (Epoch 110)\n",
            "Test Loss at Best: 7.0533\n",
            "Confusion Matrix at Best ICBHI Score:\n",
            "[[1184  199  181   15]\n",
            " [ 330  292   20    7]\n",
            " [ 195   53  113   24]\n",
            " [  68   29   27   19]]\n",
            "Sensitivity: 0.3602, Specificity: 0.7498, ICBHI Score: 0.5550\n",
            "Best Epoch: 110\n"
          ]
        }
      ],
      "source": [
        "# --- 훈련 종료 후 그래프 ---\n",
        "import matplotlib.pyplot as plt\n",
        "\n",
        "plt.figure(figsize=(10,6))\n",
        "plt.plot(epochs, train_losses, label='Train Loss')\n",
        "plt.plot(epochs, test_losses, label='Test Loss')\n",
        "plt.xlabel('Epoch')\n",
        "plt.ylabel('Loss')\n",
        "plt.title('Train/Test Loss per Epoch')\n",
        "plt.legend()\n",
        "plt.grid(True)\n",
        "plt.show()\n",
        "\n",
        "plt.figure(figsize=(10,6))\n",
        "plt.plot(epochs, train_icbhi_scores, label='Train ICBHI Score')\n",
        "plt.plot(epochs, test_icbhi_scores, label='Test ICBHI Score')\n",
        "plt.xlabel('Epoch')\n",
        "plt.ylabel('ICBHI Score')\n",
        "plt.title('Train/Test ICBHI Score per Epoch')\n",
        "plt.legend()\n",
        "plt.grid(True)\n",
        "plt.show()\n",
        "\n",
        "best_epoch_idx = np.argmax(test_icbhi_scores)\n",
        "best_epoch = epochs[best_epoch_idx]\n",
        "best_icbhi_score = test_icbhi_scores[best_epoch_idx]\n",
        "best_test_loss = test_losses[best_epoch_idx]\n",
        "\n",
        "# 최고점 epoch에서의 labels, preds\n",
        "best_test_labels = test_labels_all[best_epoch_idx]\n",
        "best_test_preds = test_preds_all[best_epoch_idx]\n",
        "\n",
        "best_cm, best_sens, best_spec, best_y_true_cls, best_y_pred_cls = evaluate_multiclass_confusion(\n",
        "    best_test_labels, best_test_preds)\n",
        "\n",
        "print(\"\\n=== [최고 Test ICBHI Score 시점 정보] ===\")\n",
        "print(f\"Best Test ICBHI Score: {best_icbhi_score:.4f} (Epoch {best_epoch})\")\n",
        "print(f\"Test Loss at Best: {best_test_loss:.4f}\")\n",
        "print(\"Confusion Matrix at Best ICBHI Score:\")\n",
        "print(best_cm)\n",
        "print(f\"Sensitivity: {best_sens:.4f}, Specificity: {best_spec:.4f}, ICBHI Score: {(best_sens+best_spec)/2:.4f}\")\n",
        "print(f\"Best Epoch: {best_epoch}\")\n"
      ]
    },
    {
      "cell_type": "markdown",
      "id": "9db700d2",
      "metadata": {},
      "source": []
    },
    {
      "cell_type": "markdown",
      "id": "03858e03",
      "metadata": {},
      "source": [
        "### Validate"
      ]
    },
    {
      "cell_type": "code",
      "execution_count": 42,
      "id": "a958ff68",
      "metadata": {},
      "outputs": [],
      "source": [
        "# # 1. 모델 구조 정의\n",
        "# model = MixMLATT(backbone=backbone_cnn6,\n",
        "#                  num_classes=2,\n",
        "#                  lambda_attn=0.5,\n",
        "#                  attention_heads=[1, float('inf')]).cuda()\n",
        "\n",
        "\n",
        "# ## 2. 훈련된 weight 로드 (best checkpoint or last epoch)\n",
        "# checkpoint = torch.load(\"/home/ressera3/BOAZ-Chungzins/notebook/0721note_ckp/0723_sbw_basefalse_0.3alpha_MultilabelAtt_T_128bs_2507230158_best.pth.tar\")  # 예: \"checkpoints/pretrain_best.pth.tar\"\n",
        "\n",
        "# model.load_state_dict(checkpoint['model'])\n",
        "# classifier.load_state_dict(checkpoint['classifier'])\n",
        "# projector_0.load_state_dict(checkpoint['projector_0'])\n",
        "# projector_1.load_state_dict(checkpoint['projector_1'])\n",
        "\n",
        "# model.eval()\n",
        "\n",
        "# ## 3. 손실 함수 및 device 설정\n",
        "# device = torch.device('cuda' if torch.cuda.is_available() else 'cpu')\n",
        "\n",
        "# criterion = [\n",
        "#     nn.BCEWithLogitsLoss().to(device),\n",
        "#     GroupMixConLoss(temperature=0.07).to(device)\n",
        "# ]\n",
        "\n",
        "# ## 4. 평가 실행 (validate 함수 호출)\n",
        "# test_loss, test_labels, test_preds = validate(\n",
        "#     model=model,\n",
        "#     classifier=classifier,\n",
        "#     projector_0=projector_0,\n",
        "#     projector_1=projector_1,\n",
        "#     val_loader=test_loader,   # test_loader는 미리 정의되어 있어야 함\n",
        "#     criterion=criterion,\n",
        "#     device=device,\n",
        "#     args=args            # args는 이전 학습 설정값들 포함\n",
        "# )\n",
        "\n",
        "# ## 5. 평가 결과 출력\n",
        "# from sklearn.metrics import precision_score, recall_score, f1_score\n",
        "\n",
        "# precision = precision_score(test_labels, test_preds, average='macro')\n",
        "# recall = recall_score(test_labels, test_preds, average='macro')\n",
        "# f1 = f1_score(test_labels, test_preds, average='macro')\n",
        "\n",
        "# print(f\"[Final Test] Loss: {test_loss:.4f}\")\n",
        "# print(f\"[Final Test] Precision: {precision:.4f}, Recall: {recall:.4f}, F1: {f1:.4f}\")\n",
        "\n",
        "# ## 6. Confusion Matrix 및 ICBHI Score 평가\n",
        "# def evaluate_multiclass_confusion(y_true, y_pred, class_names=[\"Normal\", \"Wheeze\", \"Crackle\", \"Both\"]):\n",
        "#     y_true_cls = multilabel_to_multiclass(y_true)\n",
        "#     y_pred_cls = multilabel_to_multiclass(y_pred)\n",
        "\n",
        "#     cm = confusion_matrix(y_true_cls, y_pred_cls, labels=[0, 1, 2, 3])\n",
        "\n",
        "#     # N_n: 정상 → 정상\n",
        "#     N_n = cm[0, 0]\n",
        "#     N_total = cm[0].sum()\n",
        "\n",
        "#     # 이상 클래스 정답 수: W, C, B\n",
        "#     W_total = cm[1].sum()\n",
        "#     C_total = cm[2].sum()\n",
        "#     B_total = cm[3].sum()\n",
        "\n",
        "#     # 각각의 정답 → 정확한 예측만 고려\n",
        "#     W_w = cm[1, 1]\n",
        "#     C_c = cm[2, 2]\n",
        "#     B_b = cm[3, 3]\n",
        "\n",
        "#     SP = N_n / (N_total + 1e-6) #spec\n",
        "#     SE = (W_w + C_c + B_b) / (W_total + C_total + B_total + 1e-6) #sense\n",
        "\n",
        "#     AS = (SP + SE) / 2\n",
        "#     HS = 2 * SP * SE / (SP + SE + 1e-6)\n",
        "\n",
        "#     return cm, SE, SP, y_true_cls, y_pred_cls\n",
        "\n",
        "# def multilabel_to_multiclass(y):\n",
        "#     # Crackle → 1, Wheeze → 2, Both → 3, None → 0\n",
        "#     y = np.array(y)\n",
        "#     return y[:, 0] + y[:, 1]*2\n",
        "# cm, sens, spec, y_true_cls, y_pred_cls = evaluate_multiclass_confusion(test_labels, test_preds)\n",
        "# print(f\"[Final Test] Confusion Matrix:\\n{cm}\")\n",
        "# print(f\"[Final Test] Sensitivity: {sens:.4f}, Specificity: {spec:.4f}, ICBHI Score: {(sens+spec)/2:.4f}\")\n",
        "\n",
        "\n"
      ]
    },
    {
      "cell_type": "code",
      "execution_count": null,
      "id": "934bf2b0",
      "metadata": {},
      "outputs": [],
      "source": []
    }
  ],
  "metadata": {
    "accelerator": "GPU",
    "colab": {
      "gpuType": "T4",
      "provenance": []
    },
    "kernelspec": {
      "display_name": "venv (3.10.15)",
      "language": "python",
      "name": "python3"
    },
    "language_info": {
      "codemirror_mode": {
        "name": "ipython",
        "version": 3
      },
      "file_extension": ".py",
      "mimetype": "text/x-python",
      "name": "python",
      "nbconvert_exporter": "python",
      "pygments_lexer": "ipython3",
      "version": "3.10.15"
    }
  },
  "nbformat": 4,
  "nbformat_minor": 5
}
