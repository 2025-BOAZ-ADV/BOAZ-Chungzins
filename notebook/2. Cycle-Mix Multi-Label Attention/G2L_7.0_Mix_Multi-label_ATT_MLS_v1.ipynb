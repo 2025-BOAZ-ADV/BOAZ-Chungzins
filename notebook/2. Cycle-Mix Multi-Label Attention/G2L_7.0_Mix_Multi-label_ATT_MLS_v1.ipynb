{
  "cells": [
    {
      "cell_type": "markdown",
      "id": "ef6b52e2",
      "metadata": {
        "id": "ef6b52e2"
      },
      "source": [
        "#### 환경설정"
      ]
    },
    {
      "cell_type": "markdown",
      "id": "9dc03a42",
      "metadata": {
        "id": "9dc03a42"
      },
      "source": [
        "##### 1. Wandb"
      ]
    },
    {
      "cell_type": "code",
      "execution_count": null,
      "id": "f04d7d6f",
      "metadata": {
        "colab": {
          "base_uri": "https://localhost:8080/"
        },
        "id": "f04d7d6f",
        "outputId": "3c57e712-a314-411b-d4cf-1a953a648946"
      },
      "outputs": [
        {
          "name": "stderr",
          "output_type": "stream",
          "text": [
            "\u001b[34m\u001b[1mwandb\u001b[0m: \u001b[33mWARNING\u001b[0m If you're specifying your api key in code, ensure this code is not shared publicly.\n",
            "\u001b[34m\u001b[1mwandb\u001b[0m: \u001b[33mWARNING\u001b[0m Consider setting the WANDB_API_KEY environment variable, or running `wandb login` from the command line.\n",
            "\u001b[34m\u001b[1mwandb\u001b[0m: Appending key for api.wandb.ai to your netrc file: /home/ressera3/.netrc\n",
            "\u001b[34m\u001b[1mwandb\u001b[0m: Currently logged in as: \u001b[33mboaz_woony\u001b[0m (\u001b[33mboaz_woony-boaz\u001b[0m) to \u001b[32mhttps://api.wandb.ai\u001b[0m. Use \u001b[1m`wandb login --relogin`\u001b[0m to force relogin\n"
          ]
        },
        {
          "data": {
            "text/plain": [
              "True"
            ]
          },
          "execution_count": 1,
          "metadata": {},
          "output_type": "execute_result"
        }
      ],
      "source": [
        "import wandb\n",
        "\n",
        "# wandb 로그인\n",
        "wandb.login(key=\"2fb604788cd6eed5aafafcc8d13a6aaa7737ac71\")"
      ]
    },
    {
      "cell_type": "markdown",
      "id": "992382bf",
      "metadata": {
        "id": "992382bf"
      },
      "source": [
        "##### 2. 라이브러리 로드"
      ]
    },
    {
      "cell_type": "code",
      "execution_count": 2,
      "id": "5MISAwpScmYt",
      "metadata": {
        "id": "5MISAwpScmYt"
      },
      "outputs": [],
      "source": [
        "\n",
        "import torch\n",
        "\n",
        "device = torch.device(\"cuda\" if torch.cuda.is_available() else \"cpu\")"
      ]
    },
    {
      "cell_type": "code",
      "execution_count": 3,
      "id": "8ebed6c5",
      "metadata": {
        "id": "8ebed6c5"
      },
      "outputs": [],
      "source": [
        "import os\n",
        "import math\n",
        "import random\n",
        "import pickle\n",
        "import wandb\n",
        "from tqdm import tqdm\n",
        "from datetime import datetime\n",
        "from zoneinfo import ZoneInfo\n",
        "\n",
        "import numpy as np\n",
        "import pandas as pd\n",
        "import matplotlib.pyplot as plt\n",
        "import seaborn as sns\n",
        "import librosa\n",
        "import librosa.display\n",
        "\n",
        "import torch\n",
        "import torch.nn as nn\n",
        "import torch.nn.functional as F\n",
        "import torchaudio\n",
        "import torchaudio.transforms as T\n",
        "import torchvision\n",
        "import torchvision.models as models\n",
        "from torch import Tensor\n",
        "from torchsummary import summary\n",
        "from torch.hub import load_state_dict_from_url\n",
        "from torch.utils.data import Dataset, DataLoader, Subset\n",
        "from torch.optim.lr_scheduler import CosineAnnealingLR\n",
        "\n",
        "from sklearn.metrics import confusion_matrix, f1_score\n",
        "from sklearn.manifold import TSNE"
      ]
    },
    {
      "cell_type": "markdown",
      "id": "2d453e5f",
      "metadata": {
        "id": "2d453e5f"
      },
      "source": [
        "##### 3. 경로 설정"
      ]
    },
    {
      "cell_type": "code",
      "execution_count": null,
      "id": "mSXgKx8GoItj",
      "metadata": {
        "id": "mSXgKx8GoItj"
      },
      "outputs": [],
      "source": [
        "ROOT = \"/home/HyeonSeok/BOAZ-Chungzins/data/raw\"\n",
        "CHECKPOINT_PATH = \"/home/HyeonSeok/BOAZ-Chungzins/save_path/checkpoint\"\n",
        "PICKLE_PATH = \"/home/HyeonSeok/BOAZ-Chungzins/save_path/pickle\"\n",
        "text = \"/home/HyeonSeok/BOAZ-Chungzins/data/metadata/train_test_split.txt\""
      ]
    },
    {
      "cell_type": "markdown",
      "id": "ecaaf5a1",
      "metadata": {
        "id": "ecaaf5a1"
      },
      "source": [
        "##### 4. Seed 설정"
      ]
    },
    {
      "cell_type": "code",
      "execution_count": null,
      "id": "c9f4e372",
      "metadata": {
        "id": "c9f4e372"
      },
      "outputs": [],
      "source": [
        "def seed_everything(seed: int = 42):\n",
        "    random.seed(seed)\n",
        "    np.random.seed(seed)\n",
        "    os.environ[\"PYTHONHASHSEED\"] = str(seed)\n",
        "    torch.manual_seed(seed)\n",
        "    torch.cuda.manual_seed(seed)  # type: ignore\n",
        "    torch.backends.cudnn.deterministic = True  # type: ignore\n",
        "    torch.backends.cudnn.benchmark = False  # type: ignore\n",
        "\n",
        "seed_everything(42) # Seed 고정"
      ]
    },
    {
      "cell_type": "markdown",
      "id": "nydfgBckyPt3",
      "metadata": {
        "id": "nydfgBckyPt3"
      },
      "source": [
        "## 1. Data Load"
      ]
    },
    {
      "cell_type": "markdown",
      "id": "ce3fdcf1",
      "metadata": {
        "id": "ce3fdcf1"
      },
      "source": [
        "#### 1.1 Data Load"
      ]
    },
    {
      "cell_type": "code",
      "execution_count": 6,
      "id": "OhJa9jivcg1k",
      "metadata": {
        "colab": {
          "base_uri": "https://localhost:8080/"
        },
        "id": "OhJa9jivcg1k",
        "outputId": "a78dee02-13e0-4e6f-cce1-455b6e9da489"
      },
      "outputs": [
        {
          "name": "stdout",
          "output_type": "stream",
          "text": [
            "Train :539, Test: 381, Total: 920\n"
          ]
        }
      ],
      "source": [
        "# WAV 파일이 있는 디렉토리 경로\n",
        "data_dir = ROOT\n",
        "txt_dir = ROOT\n",
        "\n",
        "df = pd.read_csv(text, sep='\\t', header=None)\n",
        "\n",
        "# 컬럼 이름 변경\n",
        "df.columns = ['filename', 'set']\n",
        "\n",
        "# train, test split\n",
        "train_df = df[df['set'] == 'train']\n",
        "test_df = df[df['set'] == 'test']\n",
        "\n",
        "# filename list\n",
        "train_list = sorted(train_df['filename'].tolist())\n",
        "test_list = sorted(test_df['filename'].tolist())\n",
        "\n",
        "print(f'Train :{len(train_list)}, Test: {len(test_list)}, Total: {len(train_list) + len(test_list)}')"
      ]
    },
    {
      "cell_type": "markdown",
      "id": "04291977",
      "metadata": {
        "id": "04291977"
      },
      "source": [
        "#### 1.2 Pretext-Finetune Split"
      ]
    },
    {
      "cell_type": "code",
      "execution_count": 7,
      "id": "ESBIVnKej0G9",
      "metadata": {
        "colab": {
          "base_uri": "https://localhost:8080/"
        },
        "id": "ESBIVnKej0G9",
        "outputId": "849f490c-dd11-4b23-f1da-0fe6482fb71b"
      },
      "outputs": [
        {
          "name": "stdout",
          "output_type": "stream",
          "text": [
            "[Pretrain] 환자 수: 79, 샘플 수: 539\n",
            "[Finetune] 환자 수: 79, 샘플 수: 539\n"
          ]
        }
      ],
      "source": [
        "# shuffle train data\n",
        "df_shuffled = train_df.sample(frac=1, random_state=42)\n",
        "\n",
        "# split ratio\n",
        "train_size = int(len(df_shuffled))\n",
        "\n",
        "# pretrain, finetune split\n",
        "pretrain_df = df_shuffled[:train_size]\n",
        "finetune_df = pretrain_df\n",
        "\n",
        "# filename list (pretext_list -> pretrain list)\n",
        "pretrain_list = sorted(pretrain_df['filename'].tolist())\n",
        "finetune_list = sorted(finetune_df['filename'].tolist())\n",
        "\n",
        "# patient id list\n",
        "pretrain_patient_list = []\n",
        "for filename in pretrain_list:\n",
        "    number = int(filename.split('_')[0])\n",
        "    pretrain_patient_list.append(number)\n",
        "\n",
        "finetune_patient_list = []\n",
        "for filename in finetune_list:\n",
        "    number = int(filename.split('_')[0])\n",
        "    finetune_patient_list.append(number)\n",
        "\n",
        "pretrain_patient_counts = pd.Series(pretrain_patient_list).value_counts()\n",
        "finetune_patient_counts = pd.Series(finetune_patient_list).value_counts()\n",
        "\n",
        "print(f\"[Pretrain] 환자 수: {len(pretrain_patient_counts.index)}, 샘플 수: {pretrain_patient_counts.sum()}\")\n",
        "print(f\"[Finetune] 환자 수: {len(finetune_patient_counts.index)}, 샘플 수: {finetune_patient_counts.sum()}\")"
      ]
    },
    {
      "cell_type": "markdown",
      "id": "oVi6lzuPpSbk",
      "metadata": {
        "id": "oVi6lzuPpSbk"
      },
      "source": [
        "## 2. Data Preprocessing"
      ]
    },
    {
      "cell_type": "markdown",
      "id": "5e8c7719",
      "metadata": {
        "id": "5e8c7719"
      },
      "source": [
        "#### 2.1 Args"
      ]
    },
    {
      "cell_type": "markdown",
      "id": "634b232e",
      "metadata": {
        "id": "634b232e"
      },
      "source": [
        "        K: queue size; number of negative keys (default: 65536)\n",
        "        m: moco momentum of updating key encoder (default: 0.999)\n",
        "        T: softmax temperature (default: 0.07)"
      ]
    },
    {
      "cell_type": "code",
      "execution_count": 8,
      "id": "add5c69b",
      "metadata": {
        "id": "add5c69b"
      },
      "outputs": [],
      "source": [
        "class Args:\n",
        "    # Audio & Spectrogram\n",
        "    target_sr = 16000    # 4KHz\n",
        "    frame_size = 1024\n",
        "    hop_length = 512    # frame_size 절반\n",
        "    n_mels = 64\n",
        "    target_sec = 8\n",
        "\n",
        "    # Augmentation\n",
        "    time_mask_param = 0.5\n",
        "    freq_mask_param = 0.5\n",
        "\n",
        "    # Train\n",
        "    lr = 0.001 # adamw - 0.03\n",
        "    warm = True                     # warm-up 사용 여부\n",
        "    warm_epochs = 10                # warm-up 적용할 초기 epoch 수\n",
        "    warmup_from = lr * 0.1          # warm-up 시작 learning rate (보통 lr의 10%)\n",
        "    warmup_to = lr\n",
        "\n",
        "    batch_size = 128\n",
        "    workers = 2\n",
        "    epochs = 200\n",
        "    weight_decay = 1e-4\n",
        "\n",
        "    resume = None\n",
        "    schedule=[120, 160] # schedule\n",
        "\n",
        "    # MLS\n",
        "    K = 512\n",
        "    momentum = 0.999\n",
        "    T = 0.07\n",
        "    dim_prj = 128\n",
        "    top_k = 20\n",
        "    lambda_bce = 0.3\n",
        "    out_dim = 2048\n",
        "\n",
        "    # Linear Evaluation\n",
        "    ft_epochs = 3\n",
        "\n",
        "    # etc\n",
        "    gpu = 0\n",
        "    data = \"./data_path\"\n",
        "    seed=42\n",
        "\n",
        "args = Args()"
      ]
    },
    {
      "cell_type": "markdown",
      "id": "58e1f949",
      "metadata": {
        "id": "58e1f949"
      },
      "source": [
        "#### 2.2 Utils (func)"
      ]
    },
    {
      "cell_type": "code",
      "execution_count": 9,
      "id": "8d2d1329",
      "metadata": {
        "id": "8d2d1329"
      },
      "outputs": [],
      "source": [
        "import torch.nn.functional as F\n",
        "import random\n",
        "\n",
        "# cycle의 클래스를 추출\n",
        "def get_class(cr, wh):\n",
        "    if cr == 1 and wh == 1:\n",
        "        return 3\n",
        "    elif cr == 0 and wh == 1:\n",
        "        return 2\n",
        "    elif cr == 1 and wh == 0:\n",
        "        return 1\n",
        "    elif cr == 0 and wh == 0:\n",
        "        return 0\n",
        "    else:\n",
        "        return -1\n",
        "\n",
        "# Mel Spectrogram 생성 ( sr=4KHz, frame_size=1024, hop_length=512, n_mels=128 )\n",
        "# def generate_mel_spectrogram(waveform, sample_rate, frame_size, hop_length, n_mels):\n",
        "#     if hop_length is None:\n",
        "#         hop_length = frame_size // 2\n",
        "#     mel_spec_transform = T.MelSpectrogram(\n",
        "#         sample_rate=sample_rate,\n",
        "#         n_fft=frame_size,\n",
        "#         hop_length=hop_length,\n",
        "#         n_mels=n_mels,\n",
        "#         f_min=50,       # 논문 기준 주파수 범위 하한\n",
        "#         f_max=2000      # 논문 기준 주파수 범위 상한\n",
        "#     )\n",
        "#     mel_spectrogram = mel_spec_transform(waveform)\n",
        "#     mel_db = T.AmplitudeToDB()(mel_spectrogram)\n",
        "    \n",
        "#     # dB 스케일에서 매우 낮은 값은 0으로 마스킹\n",
        "#     mel_db[mel_db <= -100.0] = 0.0\n",
        "    \n",
        "#     return mel_db\n",
        "\n",
        "# 256 맟춰주기\n",
        "def generate_mel_spectrogram(waveform, sample_rate, frame_size, hop_length, n_mels):\n",
        "    if hop_length is None:\n",
        "        hop_length = frame_size // 2\n",
        "\n",
        "    mel_spec_transform = T.MelSpectrogram(\n",
        "        sample_rate=sample_rate,\n",
        "        n_fft=frame_size,\n",
        "        hop_length=hop_length,\n",
        "        n_mels=n_mels,\n",
        "        f_min=50,\n",
        "        f_max=2000\n",
        "    )\n",
        "    mel_spectrogram = mel_spec_transform(waveform)\n",
        "    mel_db = T.AmplitudeToDB()(mel_spectrogram)\n",
        "\n",
        "    # dB 스케일에서 매우 낮은 값은 0으로 마스킹\n",
        "    mel_db[mel_db <= -100.0] = 0.0\n",
        "\n",
        "    # 🔧 가운데 padding 적용\n",
        "    target_frames = 256\n",
        "    current_frames = mel_db.shape[-1]\n",
        "    if current_frames < target_frames:\n",
        "        pad_total = target_frames - current_frames\n",
        "        pad_left = pad_total // 2\n",
        "        pad_right = pad_total - pad_left\n",
        "        mel_db = F.pad(mel_db, (pad_left, pad_right))  # center padding\n",
        "    elif current_frames > target_frames:\n",
        "        # 가운데 자르기\n",
        "        start = (current_frames - target_frames) // 2\n",
        "        mel_db = mel_db[:, :, start:start + target_frames]\n",
        "\n",
        "    return mel_db\n",
        "\n",
        "# Cycle Repeat 또는 Crop\n",
        "def repeat_or_truncate_segment(mel_segment, target_frames):\n",
        "    current_frames = mel_segment.shape[-1]\n",
        "    if current_frames >= target_frames:\n",
        "        return mel_segment[:, :, :target_frames]\n",
        "    else:\n",
        "        repeat_ratio = math.ceil(target_frames / current_frames)\n",
        "        mel_segment = mel_segment.repeat(1, 1, repeat_ratio)\n",
        "        return mel_segment[:, :, :target_frames]\n",
        "\n",
        "def preprocess_waveform_segment(waveform, unit_length):\n",
        "\n",
        "    \"\"\"unit_length 기준으로 waveform을 repeat + padding 또는 crop하여 길이 정규화\"\"\"\n",
        "    waveform = waveform.squeeze(0)  # (1, L) → (L,) 로 바꿔도 무방\n",
        "    length_adj = unit_length - len(waveform)\n",
        "\n",
        "    if length_adj > 0:\n",
        "        # waveform이 너무 짧은 경우 → repeat + zero-padding\n",
        "        half_unit = unit_length // 2\n",
        "\n",
        "        if length_adj < half_unit:\n",
        "            # 길이 차이가 작으면 단순 padding\n",
        "            half_adj = length_adj // 2\n",
        "            waveform = F.pad(waveform, (half_adj, length_adj - half_adj))\n",
        "        else:\n",
        "            # 반복 후 부족한 부분 padding\n",
        "            repeat_factor = unit_length // len(waveform)\n",
        "            waveform = waveform.repeat(repeat_factor)[:unit_length]\n",
        "            remaining = unit_length - len(waveform)\n",
        "            half_pad = remaining // 2\n",
        "            waveform = F.pad(waveform, (half_pad, remaining - half_pad))\n",
        "    else:\n",
        "        # waveform이 너무 길면 앞쪽 1/4 내에서 랜덤 crop\n",
        "        length_adj = len(waveform) - unit_length\n",
        "        start = random.randint(0, length_adj // 4)\n",
        "        waveform = waveform[start:start + unit_length]\n",
        "\n",
        "    return waveform.unsqueeze(0)  # 다시 (1, L)로\n",
        "\n",
        "# # 논문 기반: Circular padding 방식 적용\n",
        "# # - waveform이 짧은 경우: circular padding으로 8초 길이 맞춤\n",
        "# # - waveform이 긴 경우: 앞쪽 25% 범위 내에서 랜덤 crop\n",
        "# def preprocess_waveform_segment(waveform, unit_length):\n",
        "#     \"\"\"\n",
        "#     논문 기반: Circular padding 적용\n",
        "#     - waveform이 짧은 경우: circular padding으로 8초 길이 맞춤\n",
        "#     - waveform이 긴 경우: 앞쪽 25% 범위 내에서 랜덤 crop\n",
        "#     \"\"\"\n",
        "#     waveform = waveform.squeeze(0)  # (1, L) → (L,)\n",
        "#     current_len = waveform.size(0)\n",
        "\n",
        "#     if current_len < unit_length:\n",
        "#         pad_len = unit_length - current_len\n",
        "#         # ➤ shape을 (1, L)로 바꾸고 pad 적용 후 다시 (L,)로\n",
        "#         waveform = waveform.unsqueeze(0)  # (L,) → (1, L)\n",
        "#         waveform = F.pad(waveform, (0, pad_len), mode='circular')\n",
        "#         waveform = waveform.squeeze(0)    # (1, L+pad) → (L+pad,)\n",
        "#     elif current_len > unit_length:\n",
        "#         max_start = max(0, current_len - unit_length)\n",
        "#         start = random.randint(0, max_start // 4)\n",
        "#         waveform = waveform[start:start + unit_length]\n",
        "\n",
        "#     return waveform.unsqueeze(0)  # (L,) → (1, L)\n",
        "\n",
        "# 데이터 Spec Augmentation ( 0~80% Random Masking )\n",
        "def apply_spec_augment(mel_segment):\n",
        "\n",
        "    M = mel_segment.shape[-1]\n",
        "    F = mel_segment.shape[-2]\n",
        "\n",
        "    # torchaudio의 마스킹은 0부터 mask_param까지 균등분포에서 랜덤하게 길이를 선택\n",
        "    time_masking = T.TimeMasking(time_mask_param=int(M * 0.8))\n",
        "    freq_masking = T.FrequencyMasking(freq_mask_param=int(F * 0.8) )\n",
        "\n",
        "    aug1 = freq_masking(mel_segment.clone())\n",
        "    aug2 = time_masking(mel_segment.clone())\n",
        "    aug3 = freq_masking(time_masking(mel_segment.clone()))\n",
        "\n",
        "    return aug1, aug2, aug3\n",
        "\n",
        "# Waveform resample\n",
        "def resample_waveform(waveform, orig_sr, target_sr=args.target_sr):\n",
        "    if orig_sr != target_sr:\n",
        "        resampler = torchaudio.transforms.Resample(\n",
        "            orig_freq=orig_sr,\n",
        "            new_freq=target_sr\n",
        "        )\n",
        "        return resampler(waveform), target_sr\n",
        "    return waveform, orig_sr\n",
        "\n",
        "# Normalize - Mean/Std\n",
        "# def get_mean_and_std(dataset):\n",
        "#     \"\"\" 전체 mel-spectrogram에서 mean과 std 계산 \"\"\"\n",
        "#     dataloader = torch.utils.data.DataLoader(dataset, batch_size=1, shuffle=False, num_workers=4)\n",
        "\n",
        "#     cnt = 0\n",
        "#     fst_moment = torch.zeros(1)\n",
        "#     snd_moment = torch.zeros(1)\n",
        "#     for inputs, _, _ in tqdm(dataloader, desc=\"[Calculating Mean/Std]\"):\n",
        "#         b, c, h, w = inputs.shape  # inputs: [1, 1, n_mels, time]\n",
        "#         nb_pixels = b * h * w\n",
        "\n",
        "#         fst_moment += torch.sum(inputs, dim=[0, 2, 3])\n",
        "#         snd_moment += torch.sum(inputs**2, dim=[0, 2, 3])\n",
        "#         cnt += nb_pixels\n",
        "\n",
        "#     mean = fst_moment / cnt\n",
        "#     std = torch.sqrt(snd_moment / cnt - mean**2)\n",
        "#     return mean.item(), std.item()\n",
        "\n",
        "def get_mean_and_std(dataset, mask_threshold=-99.0):\n",
        "    \"\"\" 마스킹(-100 등)을 제외하고 mean/std 계산 \"\"\"\n",
        "    dataloader = torch.utils.data.DataLoader(dataset, batch_size=1, shuffle=False, num_workers=4)\n",
        "\n",
        "    cnt = 0\n",
        "    fst_moment = 0.0\n",
        "    snd_moment = 0.0\n",
        "\n",
        "    for inputs, _, _ in tqdm(dataloader, desc=\"[Calculating Mean/Std]\"):\n",
        "        # mask: 유효한 mel 값만 추출 (e.g. > -99.0)\n",
        "        valid = inputs[inputs > mask_threshold]  # 1D tensor\n",
        "\n",
        "        fst_moment += valid.sum().item()\n",
        "        snd_moment += (valid ** 2).sum().item()\n",
        "        cnt += valid.numel()\n",
        "\n",
        "    mean = fst_moment / cnt\n",
        "    std = np.sqrt(snd_moment / cnt - mean**2)\n",
        "    return mean, std"
      ]
    },
    {
      "cell_type": "code",
      "execution_count": 10,
      "id": "70af5e6b",
      "metadata": {
        "id": "70af5e6b"
      },
      "outputs": [],
      "source": [
        "# import torch\n",
        "# import torch.nn.functional as F\n",
        "# import torchaudio.transforms as T\n",
        "# import numpy as np\n",
        "# import random\n",
        "# import math\n",
        "\n",
        "# # -------------------- Augmentation functions (Torch 기반) --------------------\n",
        "\n",
        "# def spec_augment(mel, time_mask_ratio, freq_mask_ratio): # default: 0.8\n",
        "#     M = mel.shape[-1]  # 시간 축\n",
        "#     F = mel.shape[-2]  # 주파수 축\n",
        "\n",
        "#     time_masking = T.TimeMasking(time_mask_param=int(M * time_mask_ratio))\n",
        "#     freq_masking = T.FrequencyMasking(freq_mask_param=int(F * freq_mask_ratio))\n",
        "\n",
        "#     mel = freq_masking(mel.clone())\n",
        "#     mel = time_masking(mel)\n",
        "#     return mel\n",
        "\n",
        "# # def random_crop(mel, crop_size):\n",
        "# #     if mel.shape[-1] <= crop_size:\n",
        "# #         return mel\n",
        "# #     start = torch.randint(0, mel.shape[-1] - crop_size + 1, (1,)).item()\n",
        "# #     return mel[:, :, start:start + crop_size]\n",
        "\n",
        "# def add_noise(mel, noise_level=0.005):\n",
        "#     noise = torch.randn_like(mel) * noise_level\n",
        "#     return mel + noise\n",
        "\n",
        "# def pitch_shift(mel, n_steps=2):\n",
        "#     shift = random.randint(-n_steps, n_steps)\n",
        "#     if shift == 0:\n",
        "#         return mel\n",
        "#     if shift > 0:\n",
        "#         mel = torch.cat([mel[:, shift:, :], mel[:, :shift, :]], dim=1)\n",
        "#     else:\n",
        "#         shift = abs(shift)\n",
        "#         mel = torch.cat([mel[:, -shift:, :], mel[:, :-shift, :]], dim=1)\n",
        "#     return mel\n",
        "\n",
        "# def time_stretch(mel, min_rate=0.8, max_rate=1.2):\n",
        "#     rate = random.uniform(min_rate, max_rate)\n",
        "#     if rate == 1.0:\n",
        "#         return mel\n",
        "\n",
        "#     orig_size = mel.shape[-1]\n",
        "#     target_size = int(orig_size * rate)\n",
        "#     mel_stretched = F.interpolate(\n",
        "#         mel, size=(mel.shape[1], target_size),\n",
        "#         mode='bilinear', align_corners=False\n",
        "#     )\n",
        "\n",
        "#     if target_size > orig_size:\n",
        "#         return mel_stretched[:, :, :orig_size]\n",
        "#     else:\n",
        "#         padding = orig_size - target_size\n",
        "#         return F.pad(mel_stretched, (0, padding))\n",
        "\n",
        "# # -------------------- Dispatcher --------------------\n",
        "\n",
        "# AUGMENTATION_FUNCTIONS_TORCH = {\n",
        "#     \"spec_augment\": spec_augment,\n",
        "#     # \"random_crop\": random_crop,\n",
        "#     \"add_noise\": add_noise,\n",
        "#     \"pitch_shift\": pitch_shift,\n",
        "#     \"time_stretch\": time_stretch\n",
        "# }\n",
        "\n",
        "# def apply_augmentations_torch(x, methods=[], **kwargs):\n",
        "#     for method in methods:\n",
        "#         func = AUGMENTATION_FUNCTIONS_TORCH.get(method)\n",
        "#         if func is None:\n",
        "#             raise ValueError(f\"Unknown augmentation: {method}\")\n",
        "#         x = func(x, **kwargs.get(method, {}))\n",
        "#     return x\n",
        "\n",
        "\n",
        "##############################################\n",
        "import torch\n",
        "import torch.nn.functional as F\n",
        "import torchaudio.transforms as T\n",
        "import numpy as np\n",
        "import random\n",
        "\n",
        "# -------------------- Augmentation functions (ICBHI 멜스펙트로그램에 최적화) --------------------\n",
        "\n",
        "# def spec_augment(mel, time_mask_ratio=0.15, freq_mask_ratio=0.15):\n",
        "#     \"\"\"\n",
        "#     SpecAugment: 시간/주파수 영역 마스킹\n",
        "#     - 시간축 마스킹: 63 * 0.15 ≈ 9 프레임\n",
        "#     - 주파수 마스킹: 128 * 0.1 ≈ 12 채널\n",
        "#     \"\"\"\n",
        "#     M = mel.shape[-1]  # 시간 축\n",
        "#     F = mel.shape[-2]  # 주파수 축\n",
        "\n",
        "#     time_masking = T.TimeMasking(time_mask_param=max(1, int(M * time_mask_ratio)))\n",
        "#     freq_masking = T.FrequencyMasking(freq_mask_param=max(1, int(F * freq_mask_ratio)))\n",
        "\n",
        "#     mel = freq_masking(mel.clone())\n",
        "#     mel = time_masking(mel)\n",
        "#     return mel\n",
        "\n",
        "# multi-label 논문용 spec\n",
        "def spec_augment(mel, time_mask_param=20, freq_mask_param=40):\n",
        "    \"\"\"\n",
        "    논문 기준:\n",
        "    - 시간 마스킹: 최대 20 frame\n",
        "    - 주파수 마스킹: 최대 40 mel bin\n",
        "    \"\"\"\n",
        "    time_masking = T.TimeMasking(time_mask_param=time_mask_param)\n",
        "    freq_masking = T.FrequencyMasking(freq_mask_param=freq_mask_param)\n",
        "\n",
        "    mel = freq_masking(mel.clone())\n",
        "    mel = time_masking(mel)\n",
        "    return mel\n",
        "\n",
        "def add_noise(mel, noise_level=0.001):\n",
        "    \"\"\"\n",
        "    노이즈 추가: 적당한 수준의 표준 정규분포 노이즈 (너무 높으면 손실 커짐)\n",
        "    \"\"\"\n",
        "    noise = torch.randn_like(mel) * noise_level\n",
        "    return mel + noise\n",
        "\n",
        "def pitch_shift(mel, n_steps=2):\n",
        "    \"\"\"\n",
        "    주파수 축 순환 이동 (mel axis). shape은 그대로 유지됨.\n",
        "    n_steps=2면 ±2 멜 채널만 이동.\n",
        "    \"\"\"\n",
        "    shift = random.randint(-n_steps, n_steps)\n",
        "    if shift == 0:\n",
        "        return mel\n",
        "    if shift > 0:\n",
        "        mel = torch.cat([mel[:, :, shift:, :], mel[:, :, :shift, :]], dim=2)\n",
        "    else:\n",
        "        shift = abs(shift)\n",
        "        mel = torch.cat([mel[:, :, -shift:, :], mel[:, :, :-shift, :]], dim=2)\n",
        "    return mel\n",
        "\n",
        "def time_stretch(mel, min_rate=0.95, max_rate=1.05):\n",
        "    \"\"\"\n",
        "    시간 축 길이 조절. 너무 심하지 않게 ±5% 범위로만 조정.\n",
        "    - shape 유지 위해 interpolation 후 crop/pad\n",
        "    \"\"\"\n",
        "    rate = random.uniform(min_rate, max_rate)\n",
        "    if rate == 1.0:\n",
        "        return mel\n",
        "\n",
        "    orig_size = mel.shape[-1]\n",
        "    target_size = int(orig_size * rate)\n",
        "\n",
        "    mel_stretched = F.interpolate(\n",
        "        mel, size=(mel.shape[-2], target_size),  # (mel_bins, time)\n",
        "        mode='bilinear',\n",
        "        align_corners=False\n",
        "    )\n",
        "\n",
        "    if target_size > orig_size:\n",
        "        return mel_stretched[..., :orig_size]\n",
        "    else:\n",
        "        pad = orig_size - target_size\n",
        "        return F.pad(mel_stretched, (0, pad))\n",
        "\n",
        "# -------------------- Dispatcher --------------------\n",
        "\n",
        "AUGMENTATION_FUNCTIONS_TORCH = {\n",
        "    \"spec_augment\": spec_augment,\n",
        "    \"add_noise\": add_noise,\n",
        "    \"pitch_shift\": pitch_shift,\n",
        "    \"time_stretch\": time_stretch\n",
        "}\n",
        "\n",
        "def apply_augmentations_torch(x, methods=[], **kwargs):\n",
        "    for method in methods:\n",
        "        func = AUGMENTATION_FUNCTIONS_TORCH.get(method)\n",
        "        if func is None:\n",
        "            raise ValueError(f\"Unknown augmentation: {method}\")\n",
        "        x = func(x, **kwargs.get(method, {}))\n",
        "    return x\n"
      ]
    },
    {
      "cell_type": "code",
      "execution_count": 11,
      "id": "4a62aa74",
      "metadata": {
        "id": "4a62aa74"
      },
      "outputs": [],
      "source": [
        "def aug(repeat_mel):\n",
        "    # 먼저 복사본 준비\n",
        "    mel1 = repeat_mel.clone()\n",
        "    mel2 = repeat_mel.clone()\n",
        "\n",
        "    # 각각 다른 증강 A, B 적용\n",
        "    # aug1 = apply_augmentations_torch(mel1, methods=[\"add_noise\"], add_noise={\"noise_level\": 0.005})\n",
        "    # aug2 = apply_augmentations_torch(mel2, methods=[\"time_stretch\"], time_stretch={\"min_rate\": 0.8, \"max_rate\": 1.2})\n",
        "    # aug3 = apply_augmentations_torch(mel2, methods=[\"pitch_shift\"], pitch_shift={\"n_steps\": 2})\n",
        "\n",
        "    # # 각 결과에 spec_augment 추가 적용\n",
        "    # aug1_spec = spec_augment(aug1)\n",
        "    # aug2_spec = spec_augment(aug2, time_mask_ratio=0.6, freq_mask_ratio=0.4)\n",
        "    # aug3_spec = spec_augment(aug3)\n",
        "\n",
        "    ## 순수 spec_augment만 적용한 경우\n",
        "    aug_speconly = spec_augment(mel1)\n",
        "\n",
        "    return aug_speconly, None, None\n",
        "\n",
        "\n",
        "def get_timestamp():\n",
        "    \"\"\"Outputs current time in KST like 2404070830\"\"\"\n",
        "    kst_time = datetime.now(ZoneInfo(\"Asia/Seoul\"))\n",
        "    return kst_time.strftime('%y%m%d%H%M')\n",
        "\n",
        "# Origin\n",
        "# def aug(repeat_mel):\n",
        "#     aug1, aug2, aug3 = apply_spec_augment(repeat_mel)\n",
        "#     return aug1, aug2, aug3"
      ]
    },
    {
      "cell_type": "markdown",
      "id": "39e684cb",
      "metadata": {
        "id": "39e684cb"
      },
      "source": [
        "#### 2.3 CycleDataset"
      ]
    },
    {
      "cell_type": "code",
      "execution_count": 12,
      "id": "1642a79a",
      "metadata": {
        "id": "1642a79a"
      },
      "outputs": [],
      "source": [
        "import os\n",
        "import torch\n",
        "import torchaudio\n",
        "import numpy as np\n",
        "import torch.nn.functional as F\n",
        "from torch.utils.data import Dataset\n",
        "from tqdm import tqdm\n",
        "\n",
        "class CycleDataset(Dataset):\n",
        "    def __init__(self, filename_list, wav_dir, txt_dir, target_sec=args.target_sec, target_sr=args.target_sr, frame_size=args.frame_size, hop_length=args.hop_length, n_mels=args.n_mels, mean=None, std=None):\n",
        "        self.filename_list = filename_list\n",
        "        self.wav_dir = wav_dir\n",
        "        self.txt_dir = txt_dir\n",
        "        self.target_sec = target_sec\n",
        "        self.target_sr = target_sr\n",
        "        self.frame_size = frame_size\n",
        "        self.hop_length = hop_length\n",
        "        self.n_mels = n_mels\n",
        "        self.mean = mean\n",
        "        self.std = std\n",
        "\n",
        "        self.cycle_list = []\n",
        "\n",
        "        print(\"[INFO] Preprocessing cycles...\")\n",
        "        for filename in tqdm(self.filename_list):\n",
        "            txt_path = os.path.join(self.txt_dir, filename + '.txt')\n",
        "            wav_path = os.path.join(self.wav_dir, filename + '.wav')\n",
        "\n",
        "            if not os.path.exists(txt_path):\n",
        "                print(f\"[WARNING] Missing file: {txt_path}\")\n",
        "            if not os.path.exists(wav_path):\n",
        "                print(f\"[WARNING] Missing file: {wav_path}\")\n",
        "\n",
        "            # Load annotation\n",
        "            cycle_data = np.loadtxt(txt_path, usecols=(0, 1))\n",
        "            lung_label = np.loadtxt(txt_path, usecols=(2, 3))\n",
        "\n",
        "            # Load waveform\n",
        "            waveform, orig_sr = torchaudio.load(wav_path)\n",
        "            if waveform.shape[0] > 1:\n",
        "                waveform = torch.mean(waveform, dim=0, keepdim=True)  # Stereo to mono\n",
        "                print(' waveform.shape[0] > 1:')\n",
        "\n",
        "            # Resample to target sample rate (4kHz)\n",
        "            waveform, sample_rate = resample_waveform(waveform, orig_sr, self.target_sr)\n",
        "\n",
        "            for idx in range(len(cycle_data)):\n",
        "                # 호흡 주기 start, end\n",
        "                start_sample = int(cycle_data[idx, 0] * sample_rate)\n",
        "                end_sample = int(cycle_data[idx, 1] * sample_rate)\n",
        "                lung_duration = cycle_data[idx, 1] - cycle_data[idx, 0]\n",
        "\n",
        "                if end_sample <= start_sample:\n",
        "                    print('end_sample <= start_sample:')\n",
        "                    continue  # 잘못된 구간 스킵\n",
        "\n",
        "                # Waveform repeat + padding 후 Mel_db\n",
        "                cycle_wave = waveform[:, start_sample:end_sample]\n",
        "                seg_wave = preprocess_waveform_segment(cycle_wave, unit_length=int(self.target_sec * self.target_sr))\n",
        "                mel = generate_mel_spectrogram(seg_wave, sample_rate, frame_size=self.frame_size, hop_length=self.hop_length, n_mels=self.n_mels)\n",
        "\n",
        "                # 정규화\n",
        "                if self.mean is not None and self.std is not None:\n",
        "                    mask_value = -100.0 # mel db 에서 마스킹된 값\n",
        "                    mask = (mel == mask_value)\n",
        "                    mel = (mel - mean) / std\n",
        "                    mel[mask] = 0.0\n",
        "                    \n",
        "                # crackle, wheeze -> class\n",
        "                cr = int(lung_label[idx, 0])\n",
        "                wh = int(lung_label[idx, 1])\n",
        "                label = get_class(cr, wh)\n",
        "\n",
        "                multi_label = torch.tensor([\n",
        "                    float(label in [1, 3]),\n",
        "                    float(label in [2, 3])\n",
        "                ])  # 변환된 multi-label 반환\n",
        "\n",
        "                # meta_data\n",
        "                meta_data = (filename, lung_duration)\n",
        "\n",
        "                self.cycle_list.append((mel, multi_label, meta_data))\n",
        "\n",
        "        print(f\"[INFO] Total cycles collected: {len(self.cycle_list)}\")\n",
        "\n",
        "    def __len__(self):\n",
        "        return len(self.cycle_list)\n",
        "\n",
        "    def __getitem__(self, idx):\n",
        "        mel, label, meta_data = self.cycle_list[idx]\n",
        "        return mel, label, meta_data"
      ]
    },
    {
      "cell_type": "markdown",
      "id": "55d5a070",
      "metadata": {
        "id": "55d5a070"
      },
      "source": [
        "##### Pickle.dump"
      ]
    },
    {
      "cell_type": "markdown",
      "id": "752088df",
      "metadata": {
        "id": "752088df"
      },
      "source": [
        "CycleDataset 객체 생성"
      ]
    },
    {
      "cell_type": "code",
      "execution_count": 13,
      "id": "67673cde",
      "metadata": {},
      "outputs": [
        {
          "data": {
            "text/plain": [
              "539"
            ]
          },
          "execution_count": 13,
          "metadata": {},
          "output_type": "execute_result"
        }
      ],
      "source": [
        "len(train_list)"
      ]
    },
    {
      "cell_type": "code",
      "execution_count": null,
      "id": "9d386e82",
      "metadata": {
        "id": "9d386e82"
      },
      "outputs": [],
      "source": [
        "# # import random\n",
        "# # import matplotlib.pyplot as plt\n",
        "# # import librosa.display\n",
        "\n",
        "# # wav_dir = ROOT\n",
        "# # txt_dir = ROOT\n",
        "\n",
        "# # # 1. Dataset 로드\n",
        "# # train_dataset = CycleDataset(train_list, wav_dir, txt_dir)\n",
        "# # test_dataset = CycleDataset(test_list, wav_dir, txt_dir)\n",
        "\n",
        "# ################################################################\n",
        "\n",
        "import random\n",
        "import matplotlib.pyplot as plt\n",
        "import librosa.display\n",
        "\n",
        "wav_dir = ROOT\n",
        "txt_dir = ROOT\n",
        "\n",
        "# mean, std 먼저 계산\n",
        "normless_dataset = CycleDataset(train_list, wav_dir, txt_dir)\n",
        "mean, std = get_mean_and_std(normless_dataset)\n",
        "\n",
        "# 정규화 적용된 데이터셋 생성\n",
        "train_dataset = CycleDataset(train_list, wav_dir, txt_dir)\n",
        "test_dataset = CycleDataset(test_list, wav_dir, txt_dir)\n",
        "\n",
        "pickle_dict = {\n",
        "    'train_dataset': train_dataset,\n",
        "    'test_dataset': test_dataset\n",
        "}\n",
        "\n",
        "save_path = os.path.join(PICKLE_PATH, '0721_MLS_datasets.pkl')\n",
        "with open(save_path, 'wb') as f:\n",
        "    pickle.dump(pickle_dict, f)\n",
        "\n"
      ]
    },
    {
      "cell_type": "code",
      "execution_count": 15,
      "id": "86298ba9",
      "metadata": {},
      "outputs": [
        {
          "ename": "NameError",
          "evalue": "name 'train_dataset' is not defined",
          "output_type": "error",
          "traceback": [
            "\u001b[0;31m---------------------------------------------------------------------------\u001b[0m",
            "\u001b[0;31mNameError\u001b[0m                                 Traceback (most recent call last)",
            "Cell \u001b[0;32mIn[15], line 1\u001b[0m\n\u001b[0;32m----> 1\u001b[0m \u001b[43mtrain_dataset\u001b[49m[\u001b[38;5;241m36\u001b[39m][\u001b[38;5;241m0\u001b[39m]\n",
            "\u001b[0;31mNameError\u001b[0m: name 'train_dataset' is not defined"
          ]
        }
      ],
      "source": [
        "train_dataset[36][0]"
      ]
    },
    {
      "cell_type": "code",
      "execution_count": 16,
      "id": "e1a1d765",
      "metadata": {},
      "outputs": [
        {
          "data": {
            "text/plain": [
              "torch.Size([1, 64, 256])"
            ]
          },
          "execution_count": 16,
          "metadata": {},
          "output_type": "execute_result"
        }
      ],
      "source": [
        "train_dataset[36][0].shape"
      ]
    },
    {
      "cell_type": "markdown",
      "id": "4BQgVyGnrDbN",
      "metadata": {
        "id": "4BQgVyGnrDbN"
      },
      "source": [
        "pickle로 train_dataset, test_dataset 외부 저장"
      ]
    },
    {
      "cell_type": "code",
      "execution_count": null,
      "id": "7a273735",
      "metadata": {
        "id": "7a273735"
      },
      "outputs": [],
      "source": [
        "pickle_name = f'Aug_Moco_MLS_MelSpec_{args.target_sr//1000}kHz_{args.frame_size}win_{args.hop_length}hop_{args.n_mels}mel_{args.target_sec}s'"
      ]
    },
    {
      "cell_type": "code",
      "execution_count": null,
      "id": "cd34caa0",
      "metadata": {
        "id": "cd34caa0"
      },
      "outputs": [],
      "source": [
        "# pickle_dict = {\n",
        "#     'train_dataset': train_dataset,\n",
        "#     'test_dataset': test_dataset\n",
        "# }\n",
        "\n",
        "# save_path = os.path.join(PICKLE_PATH, '3:7_saved_datasets_multilabel.pkl')\n",
        "# with open(save_path, 'wb') as f:\n",
        "#     pickle.dump(pickle_dict, f)\n",
        "\n",
        "# #####\n",
        "\n",
        "# 🔹 mean, std 함께 저장\n",
        "pickle_dict = {\n",
        "    'train_dataset': train_dataset,\n",
        "    'test_dataset': test_dataset,\n",
        "    'mean': mean,\n",
        "    'std': std\n",
        "}\n",
        "with open(os.path.join(PICKLE_PATH, '0721_multilabel.pkl'), 'wb') as f:\n",
        "    pickle.dump(pickle_dict, f)\n",
        "\n",
        "print(f'mean: {mean}, std: {std}')"
      ]
    },
    {
      "cell_type": "code",
      "execution_count": 67,
      "id": "zRqSwthYTtxq",
      "metadata": {
        "id": "zRqSwthYTtxq"
      },
      "outputs": [],
      "source": [
        "# # 2. 간단 통계\n",
        "# print(f\"Total cycles: {len(train_dataset)}\")\n",
        "\n",
        "# label_counter = [0] * 4  # normal, crackle, wheeze, both\n",
        "# for _, multi_label,_ in train_dataset:\n",
        "#     if torch.equal(multi_label, torch.tensor([0., 0.])):\n",
        "#         label_counter[0] += 1\n",
        "#     elif torch.equal(multi_label, torch.tensor([1., 0.])):\n",
        "#         label_counter[1] += 1\n",
        "#     elif torch.equal(multi_label, torch.tensor([0., 1.])):\n",
        "#         label_counter[2] += 1\n",
        "#     elif torch.equal(multi_label, torch.tensor([1., 1.])):\n",
        "#         label_counter[3] += 1\n",
        "\n",
        "# for idx, count in enumerate(label_counter):\n",
        "#     print(f\"Class {idx}: {count} cycles\")"
      ]
    },
    {
      "cell_type": "markdown",
      "id": "yJPtbC3BrqAE",
      "metadata": {
        "id": "yJPtbC3BrqAE"
      },
      "source": [
        "##### Pickle.load\n",
        "저장된 train_dataset, test_dataset을 로드  \n",
        "(> Aug 는 Moco 모델에서 사용)"
      ]
    },
    {
      "cell_type": "code",
      "execution_count": null,
      "id": "EWrjdCFSrmER",
      "metadata": {
        "colab": {
          "base_uri": "https://localhost:8080/"
        },
        "id": "EWrjdCFSrmER",
        "outputId": "ad9770b7-e29b-4c41-e83e-2d35bb552c19"
      },
      "outputs": [
        {
          "name": "stdout",
          "output_type": "stream",
          "text": [
            "[Train] Cycles: 4142\n",
            "[Test] Cycles: 2756\n"
          ]
        }
      ],
      "source": [
        "save_path = os.path.join(PICKLE_PATH, '0721_multilabel.pkl')\n",
        "with open(save_path, 'rb') as f:\n",
        "    pickle_dict = pickle.load(f)\n",
        "\n",
        "train_dataset = pickle_dict['train_dataset']\n",
        "test_dataset = pickle_dict['test_dataset']\n",
        "\n",
        "print(f\"[Train] Cycles: {len(train_dataset)}\")\n",
        "print(f\"[Test] Cycles: {len(test_dataset)}\")\n",
        "\n",
        "###################\n",
        "\n",
        "# save_path = os.path.join(PICKLE_PATH, 'pad0_norm_saved_datasets_multilabel.pkl')\n",
        "# # 🔹 load with normalization values\n",
        "# with open(save_path, 'rb') as f:\n",
        "#     pickle_dict = pickle.load(f)\n",
        "\n",
        "# train_dataset = pickle_dict['train_dataset']\n",
        "# test_dataset = pickle_dict['test_dataset']\n",
        "# mean = pickle_dict['mean']\n",
        "# std = pickle_dict['std']\n",
        "\n",
        "# print(f\"[Train] Cycles: {len(train_dataset)}\")\n",
        "# print(f\"[Test] Cycles: {len(test_dataset)}\")\n",
        "# print(f\"[INFO] Loaded mean={mean:.4f}, std={std:.4f}\")"
      ]
    },
    {
      "cell_type": "code",
      "execution_count": 17,
      "id": "bb3c24b6",
      "metadata": {},
      "outputs": [
        {
          "data": {
            "text/plain": [
              "torch.Size([1, 64, 256])"
            ]
          },
          "execution_count": 17,
          "metadata": {},
          "output_type": "execute_result"
        }
      ],
      "source": [
        "train_dataset[0][0].shape"
      ]
    },
    {
      "cell_type": "code",
      "execution_count": 20,
      "id": "93cebfa6",
      "metadata": {},
      "outputs": [
        {
          "data": {
            "image/png": "[encoded data removed]",
            "text/plain": [
              "<Figure size 800x400 with 2 Axes>"
            ]
          },
          "metadata": {},
          "output_type": "display_data"
        },
        {
          "data": {
            "image/png": "[encoded data removed]",
            "text/plain": [
              "<Figure size 800x400 with 2 Axes>"
            ]
          },
          "metadata": {},
          "output_type": "display_data"
        }
      ],
      "source": [
        "import matplotlib.pyplot as plt\n",
        "\n",
        "# 데이터 로드\n",
        "mel = train_dataset[0][0]  # (1, 64, 256)\n",
        "\n",
        "# 증강 적용\n",
        "aug_speconly, _ , _ = aug(mel)  # aug1: speconly, aug2: speconly\n",
        "\n",
        "# 시각화 함수\n",
        "def show_mel(mel_tensor, title):\n",
        "    # 텐서 shape이 (1, 64, 256) 또는 (1, 1, 64, 256)일 수 있음\n",
        "    if mel_tensor.ndim == 4:\n",
        "        mel_tensor = mel_tensor.squeeze(0)  # (1, 64, 256)\n",
        "    mel_np = mel_tensor.squeeze(0).cpu().numpy()  # (64, 256)\n",
        "    \n",
        "    plt.figure(figsize=(8, 4))\n",
        "    plt.imshow(mel_np, origin='lower', aspect='auto', cmap='magma')\n",
        "    plt.colorbar()\n",
        "    plt.title(title)\n",
        "    plt.xlabel(\"Time\")\n",
        "    plt.ylabel(\"Mel Frequency\")\n",
        "    plt.tight_layout()\n",
        "    plt.show()\n",
        "\n",
        "# 시각화\n",
        "show_mel(mel, \"Original Mel\")\n",
        "show_mel(aug_speconly, \"Augmented Mel (Spec Only)\")\n"
      ]
    },
    {
      "cell_type": "markdown",
      "id": "bcca3481",
      "metadata": {
        "id": "bcca3481"
      },
      "source": [
        "#### 2.4 DataLoader"
      ]
    },
    {
      "cell_type": "code",
      "execution_count": 21,
      "id": "44c9b5b9",
      "metadata": {},
      "outputs": [
        {
          "data": {
            "text/plain": [
              "(tensor([[[0., 0., 0.,  ..., 0., 0., 0.],\n",
              "          [0., 0., 0.,  ..., 0., 0., 0.],\n",
              "          [0., 0., 0.,  ..., 0., 0., 0.],\n",
              "          ...,\n",
              "          [0., 0., 0.,  ..., 0., 0., 0.],\n",
              "          [0., 0., 0.,  ..., 0., 0., 0.],\n",
              "          [0., 0., 0.,  ..., 0., 0., 0.]]]),\n",
              " tensor([0., 1.]),\n",
              " ('103_2b2_Ar_mc_LittC2SE', np.float64(2.886)))"
            ]
          },
          "execution_count": 21,
          "metadata": {},
          "output_type": "execute_result"
        }
      ],
      "source": [
        "train_dataset[0]"
      ]
    },
    {
      "cell_type": "code",
      "execution_count": 22,
      "id": "01e91c50",
      "metadata": {},
      "outputs": [
        {
          "data": {
            "text/plain": [
              "torch.Size([1, 64, 256])"
            ]
          },
          "execution_count": 22,
          "metadata": {},
          "output_type": "execute_result"
        }
      ],
      "source": [
        "train_dataset[9][0].shape"
      ]
    },
    {
      "cell_type": "code",
      "execution_count": 23,
      "id": "5f19b4a7",
      "metadata": {
        "colab": {
          "base_uri": "https://localhost:8080/"
        },
        "id": "5f19b4a7",
        "outputId": "c2ac9fb5-3049-4aaa-f5bb-c28a747088d8"
      },
      "outputs": [
        {
          "name": "stdout",
          "output_type": "stream",
          "text": [
            "Pretrain set size: 4142, Finetune set size: 4142\n"
          ]
        }
      ],
      "source": [
        "# ---------------- 학습 데이터 구성(seed) ----------------\n",
        "seed_everything(args.seed)\n",
        "\n",
        "# train_dataset 내에서 각 파일의 인덱스를 추출\n",
        "pretrain_idx = []\n",
        "finetune_idx = []\n",
        "\n",
        "for i in range(len(train_dataset)):\n",
        "    filename = train_dataset[i][2][0]\n",
        "\n",
        "    if filename in pretrain_list:\n",
        "        pretrain_idx.append(i)\n",
        "    # elif filename in finetune_list:\n",
        "    #     finetune_idx.append(i)\n",
        "\n",
        "    # pretrain = finetune\n",
        "    if filename in finetune_list:\n",
        "        finetune_idx.append(i)\n",
        "\n",
        "# 인덱스 순서 셔플\n",
        "random.shuffle(pretrain_idx)\n",
        "random.shuffle(finetune_idx)\n",
        "\n",
        "print(f\"Pretrain set size: {len(pretrain_idx)}, Finetune set size: {len(finetune_idx)}\")"
      ]
    },
    {
      "cell_type": "markdown",
      "id": "cce2c3c8",
      "metadata": {
        "id": "cce2c3c8"
      },
      "source": [
        "코드 실행 환경에 따라 num_workers를 적절한 값으로 지정해주세요!"
      ]
    },
    {
      "cell_type": "code",
      "execution_count": 24,
      "id": "432ae0cd",
      "metadata": {
        "id": "432ae0cd"
      },
      "outputs": [],
      "source": [
        "# Dataset 생성 (Subset)\n",
        "pretrain_dataset = Subset(train_dataset, pretrain_idx)\n",
        "finetune_dataset = Subset(train_dataset, finetune_idx)\n",
        "\n",
        "# DataLoader 생성\n",
        "# DataLoader에서 shuffle=True로 지정하면 매 epoch마다 셔플 순서가 달라짐 => 재현성 문제 발생\n",
        "# pretrain_dataset, finetune_dataset은 이미 셔플이 완료된 것으로, 이것을 DataLoader에 입력함\n",
        "pretrain_loader = DataLoader(\n",
        "    pretrain_dataset,\n",
        "    batch_size=args.batch_size,\n",
        "    num_workers=0,\n",
        "    drop_last=True,\n",
        "    pin_memory=True,\n",
        "    shuffle=False\n",
        ")\n",
        "\n",
        "finetune_loader = DataLoader(\n",
        "    finetune_dataset,\n",
        "    batch_size=args.batch_size,\n",
        "    num_workers=0,\n",
        "    drop_last=True,\n",
        "    pin_memory=True,\n",
        "    shuffle=False\n",
        ")\n",
        "\n",
        "test_loader = DataLoader(\n",
        "    test_dataset,\n",
        "    batch_size=args.batch_size,\n",
        "    num_workers=0,\n",
        "    pin_memory=True,\n",
        "    shuffle=False\n",
        ")"
      ]
    },
    {
      "cell_type": "markdown",
      "id": "b492ad67",
      "metadata": {
        "id": "b492ad67"
      },
      "source": [
        "label 분포 확인 (단순 참고용, 실제 환경에서는 pretrain set의 label 분포가 어떤지 알 수 없음)"
      ]
    },
    {
      "cell_type": "code",
      "execution_count": 25,
      "id": "fea9d290",
      "metadata": {
        "colab": {
          "base_uri": "https://localhost:8080/"
        },
        "id": "fea9d290",
        "outputId": "2066f8d9-fbc5-44a6-b3b3-0bc214f136ca"
      },
      "outputs": [
        {
          "name": "stdout",
          "output_type": "stream",
          "text": [
            "Pretrain sample: 4142\n",
            "Pretrain label distribution: Counter({0: 2063, 1: 1215, 2: 501, 3: 363})\n",
            "\n",
            "Finetune sample: 4142\n",
            "Finetune label distribution: Counter({0: 2063, 1: 1215, 2: 501, 3: 363})\n",
            "Test sample: 2756\n",
            "Test label distribution: Counter({0: 1579, 1: 649, 2: 385, 3: 143})\n"
          ]
        }
      ],
      "source": [
        "from collections import Counter\n",
        "\n",
        "# label\n",
        "labels = torch.stack([multi_label for _, multi_label, _ in train_dataset])\n",
        "\n",
        "# pretext와 finetune 데이터셋의 라벨 분포 출력\n",
        "pretrain_labels = labels[pretrain_idx]\n",
        "pretrain_labels_class = (\n",
        "    pretrain_labels[:, 0].long() * 1 +  # crackle bit → *1\n",
        "    pretrain_labels[:, 1].long() * 2    # wheeze bit  → *2\n",
        ")  # [N] shape, values in {0, 1, 2, 3}\n",
        "finetune_labels = labels[finetune_idx]\n",
        "finetune_labels_class = (\n",
        "    finetune_labels[:, 0].long() * 1 +  # crackle bit → *1\n",
        "    finetune_labels[:, 1].long() * 2    # wheeze bit  → *2\n",
        ")  # [N] shape, values in {0, 1, 2, 3}\n",
        "\n",
        "# test 데이터셋의 라벨 분포 출력\n",
        "test_labels = torch.stack([multi_label for _, multi_label, _ in test_dataset])\n",
        "test_labels_class = (\n",
        "    test_labels[:, 0].long() * 1 +  # crackle bit → *1\n",
        "    test_labels[:, 1].long() * 2    # wheeze bit  → *2\n",
        ")  # [N] shape, values in {0, 1, 2, 3}\n",
        "\n",
        "print(f\"Pretrain sample: {len(pretrain_labels_class)}\")\n",
        "print(\"Pretrain label distribution:\", Counter(pretrain_labels_class.tolist()))\n",
        "print(f\"\\nFinetune sample: {len(finetune_labels_class)}\")\n",
        "print(\"Finetune label distribution:\", Counter(finetune_labels_class.tolist()))\n",
        "print(f\"Test sample: {len(test_labels_class)}\")\n",
        "print(\"Test label distribution:\", Counter(test_labels_class.tolist()))"
      ]
    },
    {
      "cell_type": "markdown",
      "id": "ed559ff1",
      "metadata": {
        "id": "ed559ff1"
      },
      "source": [
        "## 3. Modeling"
      ]
    },
    {
      "cell_type": "markdown",
      "id": "ca710799",
      "metadata": {
        "id": "ca710799"
      },
      "source": [
        "#### 3.1 Pre-trained ResNet50"
      ]
    },
    {
      "cell_type": "code",
      "execution_count": 26,
      "id": "2caf4a6c",
      "metadata": {
        "id": "2caf4a6c"
      },
      "outputs": [],
      "source": [
        "# def backbone_resnet():\n",
        "#     # 1. 기본 ResNet50 생성 (pretrained=False로 시작)\n",
        "#     resnet = models.resnet50(pretrained=False)\n",
        "\n",
        "#     # 2. 첫 번째 conv 레이어를 1채널용으로 수정\n",
        "#     resnet.conv1 = nn.Conv2d(1, 64, kernel_size=7, stride=2, padding=3, bias=False)\n",
        "\n",
        "#     # 먼저 fc 제거\n",
        "#     resnet.fc = nn.Identity()\n",
        "\n",
        "#     # 3. ImageNet 가중치 로드 (conv1 제외)\n",
        "#     state_dict = load_state_dict_from_url(\n",
        "#         'https://download.pytorch.org/models/resnet50-19c8e357.pth',\n",
        "#         progress=True\n",
        "#     )\n",
        "#     if 'conv1.weight' in state_dict:\n",
        "#         del state_dict['conv1.weight']\n",
        "#     resnet.load_state_dict(state_dict, strict=False)\n",
        "\n",
        "#     return resnet"
      ]
    },
    {
      "cell_type": "code",
      "execution_count": 27,
      "id": "ad728509",
      "metadata": {},
      "outputs": [],
      "source": [
        "from torchvision.models import resnet50, ResNet50_Weights\n",
        "\n",
        "class ResNet50(torchvision.models.resnet.ResNet):\n",
        "    def __init__(self, track_bn=True):\n",
        "        def norm_layer(*args, **kwargs):\n",
        "            return nn.BatchNorm2d(*args, **kwargs, track_running_stats=track_bn)\n",
        "        super().__init__(torchvision.models.resnet.Bottleneck, [3, 4, 6, 3], norm_layer=norm_layer)\n",
        "        del self.fc\n",
        "        self.conv1 = nn.Conv2d(1, 64, kernel_size=7, stride=2, padding=3, bias=False)\n",
        "        self.final_feat_dim = 2048\n",
        "\n",
        "    def load_sl_official_weights(self, progress=True):\n",
        "        weights = ResNet50_Weights.DEFAULT\n",
        "        state_dict = weights.get_state_dict(progress=progress)\n",
        "\n",
        "        del state_dict['conv1.weight']\n",
        "        missing, unexpected = self.load_state_dict(state_dict, strict=False)\n",
        "        # if len(missing) > 0:\n",
        "            # raise AssertionError('Model code may be incorrect')\n",
        "\n",
        "    def load_ssl_official_weights(self, progress=True):\n",
        "        # only SimCLR is available\n",
        "        from pl_bolts.models.self_supervised import SimCLR\n",
        "        \n",
        "        weight_path = 'https://pl-bolts-weights.s3.us-east-2.amazonaws.com/simclr/bolts_simclr_imagenet/simclr_imagenet.ckpt'\n",
        "        simclr = SimCLR.load_from_checkpoint(weight_path, strict=False)\n",
        "\n",
        "        state_dict = {}\n",
        "        for k, v in simclr.state_dict().items():\n",
        "            if 'encoder.' in k:\n",
        "                k = k.replace('encoder.', '')\n",
        "            if 'fc' not in k or 'project' not in k:\n",
        "                state_dict[k] = v\n",
        "        missing, unexpected = self.load_state_dict(state_dict, strict=False)\n",
        "        # non_linear_evaluator.block_forward is a pretrained MLP classifier for SimCLR\n",
        "        # refer to https://github.com/Lightning-AI/lightning-bolts/blob/bcbbf6ab6c36430946dd8a416ddc7e697e8507fc/pl_bolts/models/self_supervised/evaluator.py#L7\n",
        "        if len(missing) > 0:\n",
        "            raise AssertionError('Model code may be incorrect')\n",
        "\n",
        "    def _forward_impl(self, x: Tensor) -> Tensor:\n",
        "        # See note [TorchScript super()]\n",
        "        x = self.conv1(x)\n",
        "        x = self.bn1(x)\n",
        "        x = self.relu(x)\n",
        "        x = self.maxpool(x)\n",
        "\n",
        "        x = self.layer1(x)\n",
        "        x = self.layer2(x)\n",
        "        x = self.layer3(x)\n",
        "        x = self.layer4(x)\n",
        "\n",
        "        x = self.avgpool(x)\n",
        "        x = torch.flatten(x, 1)\n",
        "        # x = self.fc(x)\n",
        "\n",
        "        return x"
      ]
    },
    {
      "cell_type": "code",
      "execution_count": 28,
      "id": "f76dbd0e",
      "metadata": {},
      "outputs": [],
      "source": [
        "def backbone_resnet50_patch():\n",
        "    \"\"\"\n",
        "    MoCo 구조에 사용할 CNN6 백본 정의 함수.\n",
        "    \n",
        "    주요 변경 사항:\n",
        "    - ResNet50 대신 CNN6 클래스 사용\n",
        "    - 출력 feature dim은 512로 고정됨 (MoCo에서는 dim_enc=2048 → 이 부분만 맞춰서 사용하면 문제 없음)\n",
        "    - ImageNet pretrained 사용 대신 공식 CNN6 pretrained 로딩 함수 포함 (옵션 사용 가능)\n",
        "    \"\"\"\n",
        "    model = ResNet50()\n",
        "\n",
        "    # 공식 SL pretrained weight를 사용하고자 할 경우 아래 줄을 주석 해제\n",
        "    model.load_sl_official_weights()\n",
        "\n",
        "    return model\n"
      ]
    },
    {
      "cell_type": "markdown",
      "id": "2d7776d9",
      "metadata": {},
      "source": [
        "#### 3.2 Pre-trained CNN6"
      ]
    },
    {
      "cell_type": "code",
      "execution_count": 29,
      "id": "d0de338c",
      "metadata": {},
      "outputs": [],
      "source": [
        "import torch\n",
        "import torch.nn as nn\n",
        "import torch.nn.functional as F\n",
        "\n",
        "\n",
        "def init_layer(layer):\n",
        "    \"\"\"Initialize a Linear or Convolutional layer. \"\"\"\n",
        "    nn.init.xavier_uniform_(layer.weight)\n",
        "    if hasattr(layer, 'bias'):\n",
        "        if layer.bias is not None:\n",
        "            layer.bias.data.fill_(0.)\n",
        "            \n",
        "\n",
        "def init_bn(bn):\n",
        "    \"\"\"Initialize a Batchnorm layer. \"\"\"\n",
        "    bn.bias.data.fill_(0.)\n",
        "    bn.weight.data.fill_(1.)\n",
        "\n",
        "\n",
        "class ConvBlock5x5(nn.Module): #for CNN6\n",
        "    def __init__(self, in_channels, out_channels, stride=(1,1)):\n",
        "        \n",
        "        super(ConvBlock5x5, self).__init__()\n",
        "        \n",
        "        self.conv1 = nn.Conv2d(in_channels=in_channels, \n",
        "                              out_channels=out_channels,\n",
        "                              kernel_size=(5, 5), stride=stride,\n",
        "                              padding=(2, 2), bias=False)\n",
        "                              \n",
        "        self.bn1 = nn.BatchNorm2d(out_channels)\n",
        "\n",
        "        self.init_weight()\n",
        "        \n",
        "    def init_weight(self):\n",
        "        init_layer(self.conv1)\n",
        "        init_bn(self.bn1)\n",
        "        \n",
        "    def forward(self, input, pool_size=(2, 2), pool_type='avg'):        \n",
        "        x = input\n",
        "        x = F.relu_(self.bn1(self.conv1(x)))\n",
        "        if pool_type == 'max':\n",
        "            x = F.max_pool2d(x, kernel_size=pool_size)\n",
        "        elif pool_type == 'avg':\n",
        "            x = F.avg_pool2d(x, kernel_size=pool_size)\n",
        "        elif pool_type == 'avg+max':\n",
        "            x1 = F.avg_pool2d(x, kernel_size=pool_size)\n",
        "            x2 = F.max_pool2d(x, kernel_size=pool_size)\n",
        "            x = x1 + x2\n",
        "        else:\n",
        "            raise Exception('Incorrect argument!')\n",
        "        \n",
        "        return x\n",
        "\n",
        "\n",
        "class CNN6(nn.Module):\n",
        "    def __init__(self):\n",
        "        super(CNN6, self).__init__()\n",
        "        self.final_feat_dim = 512\n",
        "\n",
        "        self.do_dropout = False\n",
        "        self.conv_block1 = ConvBlock5x5(in_channels=1, out_channels=64, stride=(1,1))\n",
        "        self.conv_block2 = ConvBlock5x5(in_channels=64, out_channels=128, stride=(1,1))\n",
        "        self.conv_block3 = ConvBlock5x5(in_channels=128, out_channels=256, stride=(1,1))\n",
        "        self.conv_block4 = ConvBlock5x5(in_channels=256, out_channels=512, stride=(1,1))\n",
        "        self.dropout = nn.Dropout(0.2)\n",
        "        # self.linear = nn.Linear(512, num_classes, bias=True)\n",
        "\n",
        "    def load_sl_official_weights(self):\n",
        "        \"\"\" download AudioSet pretrained CNN6 in https://zenodo.org/record/3960586#.Y8dz8y_kEiY\n",
        "        \"\"\"\n",
        "        weights = torch.load('/home/ressera3/boaz/pretrained_pth/Cnn6_mAP=0.343.pth')['model']\n",
        "        state_dict = {k: v for k, v in weights.items() if k in self.state_dict().keys()}\n",
        "        missing, unexpected = self.load_state_dict(state_dict, strict=False)\n",
        "\n",
        "    def forward(self, x, return_feature_map=False):\n",
        "        x = self.conv_block1(x, pool_size=(2, 2), pool_type='avg')\n",
        "        if self.do_dropout:\n",
        "            x = self.dropout(x)\n",
        "        x = self.conv_block2(x, pool_size=(2, 2), pool_type='avg')\n",
        "        if self.do_dropout:\n",
        "            x = self.dropout(x)\n",
        "        x = self.conv_block3(x, pool_size=(2, 2), pool_type='avg')\n",
        "        if self.do_dropout:\n",
        "            x = self.dropout(x)\n",
        "        x = self.conv_block4(x, pool_size=(2, 2), pool_type='avg')\n",
        "        if self.do_dropout:\n",
        "            x = self.dropout(x)\n",
        "        \n",
        "        if return_feature_map:\n",
        "            return x  # shape: (B, 512, 4, 16)\n",
        "\n",
        "        x = torch.mean(x, dim=3) #mean over time dim\n",
        "        (x1, _) = torch.max(x, dim=2) #max over freq dim\n",
        "        x2 = torch.mean(x, dim=2) #mean over freq dim (after mean over time)\n",
        "        x = x1 + x2\n",
        "\n",
        "        # if self.embed_only:\n",
        "        #     return x\n",
        "        # return self.linear(x)\n",
        "        return x"
      ]
    },
    {
      "cell_type": "code",
      "execution_count": 30,
      "id": "f839c412",
      "metadata": {},
      "outputs": [],
      "source": [
        "def backbone_cnn6():\n",
        "    \"\"\"\n",
        "    MoCo 구조에 사용할 CNN6 백본 정의 함수.\n",
        "    \n",
        "    주요 변경 사항:\n",
        "    - ResNet50 대신 CNN6 클래스 사용\n",
        "    - 출력 feature dim은 512로 고정됨 (MoCo에서는 dim_enc=2048 → 이 부분만 맞춰서 사용하면 문제 없음)\n",
        "    - ImageNet pretrained 사용 대신 공식 CNN6 pretrained 로딩 함수 포함 (옵션 사용 가능)\n",
        "    \"\"\"\n",
        "    model = CNN6()\n",
        "\n",
        "    # 공식 SL pretrained weight를 사용하고자 할 경우 아래 줄을 주석 해제\n",
        "    model.load_sl_official_weights()\n",
        "\n",
        "    return model\n"
      ]
    },
    {
      "cell_type": "markdown",
      "id": "89cdc7f9",
      "metadata": {},
      "source": [
        "##### Multilabel Attention"
      ]
    },
    {
      "cell_type": "code",
      "execution_count": 31,
      "id": "7b8f81d9",
      "metadata": {},
      "outputs": [],
      "source": [
        "import torch\n",
        "import torch.nn as nn\n",
        "import torch.nn.functional as F\n",
        "\n",
        "\n",
        "class MultilabelAttention(nn.Module):\n",
        "    def __init__(self, backbone, num_classes=2, lambda_attn=0.5, attention_heads=[1, float('inf')]):\n",
        "        super(MultilabelAttention, self).__init__()\n",
        "        self.backbone = backbone()\n",
        "        self.num_classes = num_classes\n",
        "        self.lambda_attn = lambda_attn\n",
        "        self.attention_heads = attention_heads  # e.g., [1, inf] for H=2\n",
        "\n",
        "        self.class_weights = nn.Parameter(torch.randn(len(attention_heads), num_classes, 512))\n",
        "\n",
        "        self.output_layer = nn.ModuleList([\n",
        "            nn.Linear(512, 1) for _ in range(num_classes)\n",
        "        ])\n",
        "\n",
        "    def forward(self, x):\n",
        "        # CNN6 백본 통과 → shape: (B, 512, 4, 16)\n",
        "        feat_map = self.backbone(x, return_feature_map=True)  # (B, 512, 4, 16)\n",
        "\n",
        "        B, C, Freq, Time = feat_map.shape\n",
        "        flat_feat = feat_map.view(B, C, Freq * Time).permute(0, 2, 1)  # (B, 64, 512)\n",
        "\n",
        "        # Class-specific attention a_i 계산\n",
        "        attn_outputs = []\n",
        "        for h, T in enumerate(self.attention_heads):\n",
        "            Ci = self.class_weights[h]  # (num_classes, 512)\n",
        "            logits = torch.einsum(\"bnc, kc -> bnk\", flat_feat, Ci)  # (B, 64, num_classes)\n",
        "            logits = logits.permute(0, 2, 1)  # (B, num_classes, 64)\n",
        "            if T == float('inf'):\n",
        "                attn_scores = F.one_hot(torch.argmax(logits, dim=2), num_classes=logits.shape[2]).float()\n",
        "            else:\n",
        "                attn_scores = F.softmax(T * logits, dim=2)  # (B, num_classes, 64)\n",
        "\n",
        "            attn_scores = attn_scores.unsqueeze(-1)  # (B, num_classes, 64, 1)\n",
        "            flat_feat_exp = flat_feat.unsqueeze(1)  # (B, 1, 64, 512)\n",
        "            attn_feat = torch.sum(attn_scores * flat_feat_exp, dim=2)  # (B, num_classes, 512)\n",
        "            attn_outputs.append(attn_feat)\n",
        "\n",
        "        # Class-specific global feature g_i 계산\n",
        "        feat_avg_t = torch.mean(feat_map, dim=3)  # (B, 512, Freq)\n",
        "        gmp = torch.max(feat_avg_t, dim=2)[0]     # (B, 512)\n",
        "        gap = torch.mean(feat_avg_t, dim=2)       # (B, 512)\n",
        "        g = gmp + gap                             # (B, 512)\n",
        "        g = g.unsqueeze(1).repeat(1, self.num_classes, 1)  # (B, num_classes, 512)\n",
        "\n",
        "        # Combine: f_i = g_i + lambda * a_i\n",
        "        combined = g\n",
        "        for attn in attn_outputs:\n",
        "            combined = combined + self.lambda_attn * attn  # sum over heads\n",
        "\n",
        "        # Output layer for each class\n",
        "        out = []\n",
        "        for i in range(self.num_classes):\n",
        "            cls_feat = combined[:, i, :]  # (B, 512)\n",
        "            logit = self.output_layer[i](cls_feat).squeeze(-1)  # (B,)\n",
        "            out.append(logit)\n",
        "\n",
        "        logits = torch.stack(out, dim=1)  # (B, num_classes)\n",
        "        probs = torch.sigmoid(logits)    # (B, num_classes)\n",
        "        return combined, logits, probs                 # 마지막 dim: (B, 2, 512) \n",
        "\n",
        "\n",
        "def backbone_mlattention():\n",
        "    \"\"\"\n",
        "    Multi-label attention 기반 backbone 정의 함수\n",
        "    CNN6 기반 특징 추출기 + CSRA 기반 attention 구조 결합\n",
        "    \n",
        "    Returns:\n",
        "        nn.Module: Multi-label attention 기반 분류기\n",
        "    \"\"\"\n",
        "    return MultilabelAttention(backbone=backbone_cnn6, num_classes=2, lambda_attn=0.5, attention_heads=[1, float('inf')])\n"
      ]
    },
    {
      "cell_type": "code",
      "execution_count": 32,
      "id": "895f8785",
      "metadata": {},
      "outputs": [
        {
          "name": "stderr",
          "output_type": "stream",
          "text": [
            "/var/tmp/ipykernel_45178/2561513872.py:71: FutureWarning: You are using `torch.load` with `weights_only=False` (the current default value), which uses the default pickle module implicitly. It is possible to construct malicious pickle data which will execute arbitrary code during unpickling (See https://github.com/pytorch/pytorch/blob/main/SECURITY.md#untrusted-models for more details). In a future release, the default value for `weights_only` will be flipped to `True`. This limits the functions that could be executed during unpickling. Arbitrary objects will no longer be allowed to be loaded via this mode unless they are explicitly allowlisted by the user via `torch.serialization.add_safe_globals`. We recommend you start setting `weights_only=True` for any use case where you don't have full control of the loaded file. Please open an issue on GitHub for any issues related to this experimental feature.\n",
            "  weights = torch.load('/home/ressera3/boaz/pretrained_pth/Cnn6_mAP=0.343.pth')['model']\n"
          ]
        },
        {
          "ename": "AttributeError",
          "evalue": "'tuple' object has no attribute 'shape'",
          "output_type": "error",
          "traceback": [
            "\u001b[0;31m---------------------------------------------------------------------------\u001b[0m",
            "\u001b[0;31mAttributeError\u001b[0m                            Traceback (most recent call last)",
            "Cell \u001b[0;32mIn[32], line 5\u001b[0m\n\u001b[1;32m      2\u001b[0m model \u001b[38;5;241m=\u001b[39m backbone_mlattention()\n\u001b[1;32m      3\u001b[0m out \u001b[38;5;241m=\u001b[39m model(x)  \u001b[38;5;66;03m# (B, 2, 512)\u001b[39;00m\n\u001b[0;32m----> 5\u001b[0m \u001b[38;5;28mprint\u001b[39m(\u001b[38;5;124mf\u001b[39m\u001b[38;5;124m\"\u001b[39m\u001b[38;5;130;01m\\n\u001b[39;00m\u001b[38;5;124mtorch.Size : \u001b[39m\u001b[38;5;132;01m{\u001b[39;00mout\u001b[38;5;241m.\u001b[39mshape\u001b[38;5;132;01m}\u001b[39;00m\u001b[38;5;124m\"\u001b[39m)  \u001b[38;5;66;03m# → torch.Size([B=10, 2, 512])\u001b[39;00m\n",
            "\u001b[0;31mAttributeError\u001b[0m: 'tuple' object has no attribute 'shape'"
          ]
        }
      ],
      "source": [
        "x = torch.randn(10, 1, 64, 256) # B=10\n",
        "model = backbone_mlattention()\n",
        "out = model(x)  # (B, 2, 512)\n",
        "\n",
        "print(f\"\\ntorch.Size : {out.shape}\")  # → torch.Size([B=10, 2, 512])"
      ]
    },
    {
      "cell_type": "code",
      "execution_count": null,
      "id": "09f21daa",
      "metadata": {
        "colab": {
          "base_uri": "https://localhost:8080/"
        },
        "id": "09f21daa",
        "outputId": "0c812f61-67a5-474c-a91e-2ed67a2c0c78"
      },
      "outputs": [
        {
          "name": "stderr",
          "output_type": "stream",
          "text": [
            "/var/tmp/ipykernel_3836/2561513872.py:71: FutureWarning: You are using `torch.load` with `weights_only=False` (the current default value), which uses the default pickle module implicitly. It is possible to construct malicious pickle data which will execute arbitrary code during unpickling (See https://github.com/pytorch/pytorch/blob/main/SECURITY.md#untrusted-models for more details). In a future release, the default value for `weights_only` will be flipped to `True`. This limits the functions that could be executed during unpickling. Arbitrary objects will no longer be allowed to be loaded via this mode unless they are explicitly allowlisted by the user via `torch.serialization.add_safe_globals`. We recommend you start setting `weights_only=True` for any use case where you don't have full control of the loaded file. Please open an issue on GitHub for any issues related to this experimental feature.\n",
            "  weights = torch.load('/home/ressera3/boaz/pretrained_pth/Cnn6_mAP=0.343.pth')['model']\n"
          ]
        },
        {
          "name": "stdout",
          "output_type": "stream",
          "text": [
            "----------------------------------------------------------------\n",
            "        Layer (type)               Output Shape         Param #\n",
            "================================================================\n",
            "            Conv2d-1          [-1, 64, 64, 256]           1,600\n",
            "       BatchNorm2d-2          [-1, 64, 64, 256]             128\n",
            "      ConvBlock5x5-3          [-1, 64, 32, 128]               0\n",
            "            Conv2d-4         [-1, 128, 32, 128]         204,800\n",
            "       BatchNorm2d-5         [-1, 128, 32, 128]             256\n",
            "      ConvBlock5x5-6          [-1, 128, 16, 64]               0\n",
            "            Conv2d-7          [-1, 256, 16, 64]         819,200\n",
            "       BatchNorm2d-8          [-1, 256, 16, 64]             512\n",
            "      ConvBlock5x5-9           [-1, 256, 8, 32]               0\n",
            "           Conv2d-10           [-1, 512, 8, 32]       3,276,800\n",
            "      BatchNorm2d-11           [-1, 512, 8, 32]           1,024\n",
            "     ConvBlock5x5-12           [-1, 512, 4, 16]               0\n",
            "             CNN6-13           [-1, 512, 4, 16]               0\n",
            "           Linear-14                    [-1, 1]             513\n",
            "           Linear-15                    [-1, 1]             513\n",
            "================================================================\n",
            "Total params: 4,305,346\n",
            "Trainable params: 4,305,346\n",
            "Non-trainable params: 0\n",
            "----------------------------------------------------------------\n",
            "Input size (MB): 0.06\n",
            "Forward/backward pass size (MB): 34.00\n",
            "Params size (MB): 16.42\n",
            "Estimated Total Size (MB): 50.49\n",
            "----------------------------------------------------------------\n"
          ]
        }
      ],
      "source": [
        "# summary 함수 사용: (채널, 높이, 너비) 크기를 지정\n",
        "summary(backbone_mlattention().to(device), input_size=(1, 64, 256))"
      ]
    },
    {
      "cell_type": "markdown",
      "id": "e0305c74",
      "metadata": {
        "id": "e0305c74"
      },
      "source": [
        "#### 3.2 MoCo (MLS)"
      ]
    },
    {
      "cell_type": "markdown",
      "id": "1cc1bf21",
      "metadata": {
        "id": "1cc1bf21"
      },
      "source": [
        "## 4. Training"
      ]
    },
    {
      "cell_type": "code",
      "execution_count": 33,
      "id": "-BkAfkqhyHrY",
      "metadata": {
        "colab": {
          "base_uri": "https://localhost:8080/"
        },
        "id": "-BkAfkqhyHrY",
        "outputId": "70fa83d7-4e71-4275-eb00-1531ed151726"
      },
      "outputs": [
        {
          "data": {
            "text/plain": [
              "torch.Size([128, 1, 64, 256])"
            ]
          },
          "execution_count": 33,
          "metadata": {},
          "output_type": "execute_result"
        }
      ],
      "source": [
        "next(iter(pretrain_loader))[0].shape"
      ]
    },
    {
      "cell_type": "code",
      "execution_count": 34,
      "id": "cdd52a82",
      "metadata": {},
      "outputs": [],
      "source": [
        "def validate(model, val_loader, criterion, device):\n",
        "    \"\"\"\n",
        "    Multi-label (2-hot) → Multi-class (0~3)로 변환하여 평가\n",
        "    - 입력 shape: inputs [B, C, H, W], labels [B, 2]\n",
        "    - 출력 shape: preds [N, 2], labels [N, 2]\n",
        "    - 최종 multi-class 평가: (0=Normal, 1=Crackle, 2=Wheeze, 3=Both)\n",
        "    \"\"\"\n",
        "    import numpy as np\n",
        "\n",
        "    model.eval()\n",
        "    running_loss = 0.0\n",
        "    all_preds = []\n",
        "    all_labels = []\n",
        "\n",
        "    with torch.no_grad():\n",
        "        for inputs, labels, _ in val_loader:\n",
        "            inputs = inputs.to(device)\n",
        "            labels = labels.to(device)\n",
        "\n",
        "            # forward\n",
        "            output = model(inputs)\n",
        "            if isinstance(output, (tuple, list)):  # (ex: (_, output, _))\n",
        "                output = output[1]\n",
        "            # output shape: [B, num_classes] (ex. [32, 2])\n",
        "            # criterion expects same shape\n",
        "            loss = criterion(output, labels)\n",
        "            running_loss += loss.item()\n",
        "\n",
        "            # multi-label prediction (threshold=0.5)\n",
        "            preds = (torch.sigmoid(output) > 0.5).int()   # [B, 2]\n",
        "            all_preds.append(preds.cpu())\n",
        "            all_labels.append(labels.cpu())\n",
        "\n",
        "    all_preds = torch.cat(all_preds, dim=0).numpy()   # [N, 2]\n",
        "    all_labels = torch.cat(all_labels, dim=0).numpy() # [N, 2]\n",
        "\n",
        "    avg_loss = running_loss / len(val_loader)\n",
        "\n",
        "    # return shape: (float, [N,2], [N,2])\n",
        "    return avg_loss, all_labels, all_preds\n"
      ]
    },
    {
      "cell_type": "code",
      "execution_count": null,
      "id": "e745fdd5",
      "metadata": {
        "colab": {
          "base_uri": "https://localhost:8080/",
          "height": 1000
        },
        "collapsed": true,
        "id": "e745fdd5",
        "outputId": "3c8db9e4-49ad-4846-b176-598cb7bd18ec"
      },
      "outputs": [
        {
          "data": {
            "text/html": [
              "Tracking run with wandb version 0.20.1"
            ],
            "text/plain": [
              "<IPython.core.display.HTML object>"
            ]
          },
          "metadata": {},
          "output_type": "display_data"
        },
        {
          "data": {
            "text/html": [
              "Run data is saved locally in <code>/home/ressera3/boaz/wandb/run-20250720_183546-ggyq5bkv</code>"
            ],
            "text/plain": [
              "<IPython.core.display.HTML object>"
            ]
          },
          "metadata": {},
          "output_type": "display_data"
        },
        {
          "data": {
            "text/html": [
              "Syncing run <strong><a href='https://wandb.ai/boaz_woony-boaz/0721_SBW_ICBHI_MLATT_all/runs/ggyq5bkv' target=\"_blank\">Raw_MultilabelAtt_T_128bs_2507210335</a></strong> to <a href='https://wandb.ai/boaz_woony-boaz/0721_SBW_ICBHI_MLATT_all' target=\"_blank\">Weights & Biases</a> (<a href='https://wandb.me/developer-guide' target=\"_blank\">docs</a>)<br>"
            ],
            "text/plain": [
              "<IPython.core.display.HTML object>"
            ]
          },
          "metadata": {},
          "output_type": "display_data"
        },
        {
          "data": {
            "text/html": [
              " View project at <a href='https://wandb.ai/boaz_woony-boaz/0721_SBW_ICBHI_MLATT_all' target=\"_blank\">https://wandb.ai/boaz_woony-boaz/0721_SBW_ICBHI_MLATT_all</a>"
            ],
            "text/plain": [
              "<IPython.core.display.HTML object>"
            ]
          },
          "metadata": {},
          "output_type": "display_data"
        },
        {
          "data": {
            "text/html": [
              " View run at <a href='https://wandb.ai/boaz_woony-boaz/0721_SBW_ICBHI_MLATT_all/runs/ggyq5bkv' target=\"_blank\">https://wandb.ai/boaz_woony-boaz/0721_SBW_ICBHI_MLATT_all/runs/ggyq5bkv</a>"
            ],
            "text/plain": [
              "<IPython.core.display.HTML object>"
            ]
          },
          "metadata": {},
          "output_type": "display_data"
        },
        {
          "name": "stderr",
          "output_type": "stream",
          "text": [
            "/var/tmp/ipykernel_45178/2561513872.py:71: FutureWarning: You are using `torch.load` with `weights_only=False` (the current default value), which uses the default pickle module implicitly. It is possible to construct malicious pickle data which will execute arbitrary code during unpickling (See https://github.com/pytorch/pytorch/blob/main/SECURITY.md#untrusted-models for more details). In a future release, the default value for `weights_only` will be flipped to `True`. This limits the functions that could be executed during unpickling. Arbitrary objects will no longer be allowed to be loaded via this mode unless they are explicitly allowlisted by the user via `torch.serialization.add_safe_globals`. We recommend you start setting `weights_only=True` for any use case where you don't have full control of the loaded file. Please open an issue on GitHub for any issues related to this experimental feature.\n",
            "  weights = torch.load('/home/ressera3/boaz/pretrained_pth/Cnn6_mAP=0.343.pth')['model']\n",
            "MLATT Trainig only: 100%|██████████| 32/32 [00:06<00:00,  5.31it/s]\n"
          ]
        },
        {
          "name": "stdout",
          "output_type": "stream",
          "text": [
            "[Epoch 0 | Train Loss: 0.6067, img_augonly: torch.Size([128, 1, 64, 256])\n",
            "4-Class Confusion Matrix:\n",
            " [[1911   90   31   12]\n",
            " [1082  101   12    4]\n",
            " [ 466   17    7    3]\n",
            " [ 337   15    6    2]]\n",
            "Sensitivity: 0.0536, Specificity: 0.9349, ICBHI Score: 0.4943\n",
            "[Validation] Confusion Matrix:\n",
            " [[1523   52    4    0]\n",
            " [ 601   46    2    0]\n",
            " [ 381    4    0    0]\n",
            " [ 143    0    0    0]]\n",
            "Test Loss: 0.5176\n",
            "[VALIDATION] Sensitivity: 0.0391, Specificity: 0.9645, Avg ICBHI Score: 0.5018\n",
            "##################################################\n",
            "=> Saved best checkpoint (epoch: 0, loss: 0.5176)\n"
          ]
        },
        {
          "name": "stderr",
          "output_type": "stream",
          "text": [
            "MLATT Trainig only: 100%|██████████| 32/32 [00:05<00:00,  5.62it/s]\n"
          ]
        },
        {
          "name": "stdout",
          "output_type": "stream",
          "text": [
            "[Epoch 1 | Train Loss: 0.5146, img_augonly: torch.Size([128, 1, 64, 256])\n",
            "4-Class Confusion Matrix:\n",
            " [[1738  291   14    1]\n",
            " [ 722  473    4    0]\n",
            " [ 352   39  102    0]\n",
            " [ 226   95   39    0]]\n",
            "Sensitivity: 0.2802, Specificity: 0.8503, ICBHI Score: 0.5653\n",
            "[Validation] Confusion Matrix:\n",
            " [[797 477 303   2]\n",
            " [288 337  23   1]\n",
            " [141  85 159   0]\n",
            " [ 71  37  35   0]]\n",
            "Test Loss: 0.6422\n",
            "[VALIDATION] Sensitivity: 0.4214, Specificity: 0.5047, Avg ICBHI Score: 0.4631\n",
            "##################################################\n"
          ]
        },
        {
          "name": "stderr",
          "output_type": "stream",
          "text": [
            "MLATT Trainig only: 100%|██████████| 32/32 [00:05<00:00,  5.66it/s]\n"
          ]
        },
        {
          "name": "stdout",
          "output_type": "stream",
          "text": [
            "[Epoch 2 | Train Loss: 0.4736, img_augonly: torch.Size([128, 1, 64, 256])\n",
            "4-Class Confusion Matrix:\n",
            " [[1673  322   47    2]\n",
            " [ 586  587   25    1]\n",
            " [ 228   44  219    2]\n",
            " [ 145  111   97    7]]\n",
            "Sensitivity: 0.3962, Specificity: 0.8185, ICBHI Score: 0.6073\n",
            "[Validation] Confusion Matrix:\n",
            " [[913 399 263   4]\n",
            " [350 275  22   2]\n",
            " [156  89 131   9]\n",
            " [ 57  39  44   3]]\n",
            "Test Loss: 0.6062\n",
            "[VALIDATION] Sensitivity: 0.3475, Specificity: 0.5782, Avg ICBHI Score: 0.4629\n",
            "##################################################\n"
          ]
        },
        {
          "name": "stderr",
          "output_type": "stream",
          "text": [
            "MLATT Trainig only: 100%|██████████| 32/32 [00:05<00:00,  5.64it/s]\n"
          ]
        },
        {
          "name": "stdout",
          "output_type": "stream",
          "text": [
            "[Epoch 3 | Train Loss: 0.4407, img_augonly: torch.Size([128, 1, 64, 256])\n",
            "4-Class Confusion Matrix:\n",
            " [[1665  327   46    6]\n",
            " [ 504  678   11    6]\n",
            " [ 179   62  233   19]\n",
            " [  96  123  106   35]]\n",
            "Sensitivity: 0.4610, Specificity: 0.8146, ICBHI Score: 0.6378\n",
            "[Validation] Confusion Matrix:\n",
            " [[1012  259  298   10]\n",
            " [ 322  288   30    9]\n",
            " [ 158   55  153   19]\n",
            " [  42   26   61   14]]\n",
            "Test Loss: 0.6264\n",
            "[VALIDATION] Sensitivity: 0.3866, Specificity: 0.6409, Avg ICBHI Score: 0.5137\n",
            "##################################################\n"
          ]
        },
        {
          "name": "stderr",
          "output_type": "stream",
          "text": [
            "MLATT Trainig only: 100%|██████████| 32/32 [00:05<00:00,  5.63it/s]\n"
          ]
        },
        {
          "name": "stdout",
          "output_type": "stream",
          "text": [
            "[Epoch 4 | Train Loss: 0.4070, img_augonly: torch.Size([128, 1, 64, 256])\n",
            "4-Class Confusion Matrix:\n",
            " [[1663  328   48    5]\n",
            " [ 513  660   14   12]\n",
            " [ 145   37  286   25]\n",
            " [  96   92  108   64]]\n",
            "Sensitivity: 0.4922, Specificity: 0.8136, ICBHI Score: 0.6529\n",
            "[Validation] Confusion Matrix:\n",
            " [[1266  107  204    2]\n",
            " [ 490  138   20    1]\n",
            " [ 230   34  118    3]\n",
            " [  82   17   40    4]]\n",
            "Test Loss: 0.6051\n",
            "[VALIDATION] Sensitivity: 0.2209, Specificity: 0.8018, Avg ICBHI Score: 0.5113\n",
            "##################################################\n"
          ]
        },
        {
          "name": "stderr",
          "output_type": "stream",
          "text": [
            "MLATT Trainig only: 100%|██████████| 32/32 [00:05<00:00,  5.64it/s]\n"
          ]
        },
        {
          "name": "stdout",
          "output_type": "stream",
          "text": [
            "[Epoch 5 | Train Loss: 0.3998, img_augonly: torch.Size([128, 1, 64, 256])\n",
            "4-Class Confusion Matrix:\n",
            " [[1688  308   39    9]\n",
            " [ 476  706    6   11]\n",
            " [ 153   36  274   30]\n",
            " [  87  104   93   76]]\n",
            "Sensitivity: 0.5146, Specificity: 0.8258, ICBHI Score: 0.6702\n",
            "[Validation] Confusion Matrix:\n",
            " [[1183  156  220   20]\n",
            " [ 392  213   35    9]\n",
            " [ 164   35  158   28]\n",
            " [  45   11   64   23]]\n",
            "Test Loss: 0.5408\n",
            "[VALIDATION] Sensitivity: 0.3347, Specificity: 0.7492, Avg ICBHI Score: 0.5420\n",
            "##################################################\n"
          ]
        },
        {
          "name": "stderr",
          "output_type": "stream",
          "text": [
            "MLATT Trainig only: 100%|██████████| 32/32 [00:05<00:00,  5.69it/s]\n"
          ]
        },
        {
          "name": "stdout",
          "output_type": "stream",
          "text": [
            "[Epoch 6 | Train Loss: 0.3930, img_augonly: torch.Size([128, 1, 64, 256])\n",
            "4-Class Confusion Matrix:\n",
            " [[1704  292   37   11]\n",
            " [ 453  727    9   10]\n",
            " [ 169   41  256   27]\n",
            " [  74   96   96   94]]\n",
            "Sensitivity: 0.5249, Specificity: 0.8337, ICBHI Score: 0.6793\n",
            "[Validation] Confusion Matrix:\n",
            " [[937 161 437  44]\n",
            " [312 188  90  59]\n",
            " [102  22 224  37]\n",
            " [ 22   6  93  22]]\n",
            "Test Loss: 0.7840\n",
            "[VALIDATION] Sensitivity: 0.3687, Specificity: 0.5934, Avg ICBHI Score: 0.4811\n",
            "##################################################\n"
          ]
        },
        {
          "name": "stderr",
          "output_type": "stream",
          "text": [
            "MLATT Trainig only: 100%|██████████| 32/32 [00:05<00:00,  5.71it/s]\n"
          ]
        },
        {
          "name": "stdout",
          "output_type": "stream",
          "text": [
            "[Epoch 7 | Train Loss: 0.3701, img_augonly: torch.Size([128, 1, 64, 256])\n",
            "4-Class Confusion Matrix:\n",
            " [[1706  300   31    7]\n",
            " [ 440  738    3   18]\n",
            " [ 149   35  269   40]\n",
            " [  62   96   79  123]]\n",
            "Sensitivity: 0.5507, Specificity: 0.8346, ICBHI Score: 0.6927\n",
            "[Validation] Confusion Matrix:\n",
            " [[1120  176  274    9]\n",
            " [ 364  245   34    6]\n",
            " [ 166   36  160   23]\n",
            " [  40   18   66   19]]\n",
            "Test Loss: 0.6269\n",
            "[VALIDATION] Sensitivity: 0.3602, Specificity: 0.7093, Avg ICBHI Score: 0.5348\n",
            "##################################################\n"
          ]
        },
        {
          "name": "stderr",
          "output_type": "stream",
          "text": [
            "MLATT Trainig only: 100%|██████████| 32/32 [00:05<00:00,  5.66it/s]\n"
          ]
        },
        {
          "name": "stdout",
          "output_type": "stream",
          "text": [
            "[Epoch 8 | Train Loss: 0.3691, img_augonly: torch.Size([128, 1, 64, 256])\n",
            "4-Class Confusion Matrix:\n",
            " [[1706  297   31   10]\n",
            " [ 435  741    6   17]\n",
            " [ 155   33  257   48]\n",
            " [  55  103   74  128]]\n",
            "Sensitivity: 0.5487, Specificity: 0.8346, ICBHI Score: 0.6917\n",
            "[Validation] Confusion Matrix:\n",
            " [[1122  116  328   13]\n",
            " [ 425  184   36    4]\n",
            " [ 154   27  186   18]\n",
            " [  52    9   64   18]]\n",
            "Test Loss: 0.6629\n",
            "[VALIDATION] Sensitivity: 0.3297, Specificity: 0.7106, Avg ICBHI Score: 0.5201\n",
            "##################################################\n"
          ]
        },
        {
          "name": "stderr",
          "output_type": "stream",
          "text": [
            "MLATT Trainig only: 100%|██████████| 32/32 [00:05<00:00,  5.58it/s]\n"
          ]
        },
        {
          "name": "stdout",
          "output_type": "stream",
          "text": [
            "[Epoch 9 | Train Loss: 0.3537, img_augonly: torch.Size([128, 1, 64, 256])\n",
            "4-Class Confusion Matrix:\n",
            " [[1731  271   33    9]\n",
            " [ 410  767    9   13]\n",
            " [ 144   29  275   45]\n",
            " [  55   97   69  139]]\n",
            "Sensitivity: 0.5755, Specificity: 0.8469, ICBHI Score: 0.7112\n",
            "[Validation] Confusion Matrix:\n",
            " [[1144  214  200   21]\n",
            " [ 340  274   19   16]\n",
            " [ 172   45  121   47]\n",
            " [  43   17   46   37]]\n",
            "Test Loss: 0.5893\n",
            "[VALIDATION] Sensitivity: 0.3670, Specificity: 0.7245, Avg ICBHI Score: 0.5458\n",
            "##################################################\n"
          ]
        },
        {
          "name": "stderr",
          "output_type": "stream",
          "text": [
            "MLATT Trainig only: 100%|██████████| 32/32 [00:05<00:00,  5.58it/s]\n"
          ]
        },
        {
          "name": "stdout",
          "output_type": "stream",
          "text": [
            "[Epoch 10 | Train Loss: 0.3417, img_augonly: torch.Size([128, 1, 64, 256])\n",
            "4-Class Confusion Matrix:\n",
            " [[1754  251   28   11]\n",
            " [ 376  795    5   23]\n",
            " [ 137   28  286   42]\n",
            " [  54  100   72  134]]\n",
            "Sensitivity: 0.5921, Specificity: 0.8581, ICBHI Score: 0.7251\n",
            "[Validation] Confusion Matrix:\n",
            " [[981 287 283  28]\n",
            " [282 323  20  24]\n",
            " [109  58 158  60]\n",
            " [ 29  22  55  37]]\n",
            "Test Loss: 0.6245\n",
            "[VALIDATION] Sensitivity: 0.4401, Specificity: 0.6213, Avg ICBHI Score: 0.5307\n",
            "##################################################\n"
          ]
        },
        {
          "name": "stderr",
          "output_type": "stream",
          "text": [
            "MLATT Trainig only: 100%|██████████| 32/32 [00:05<00:00,  5.65it/s]\n"
          ]
        },
        {
          "name": "stdout",
          "output_type": "stream",
          "text": [
            "[Epoch 11 | Train Loss: 0.3129, img_augonly: torch.Size([128, 1, 64, 256])\n",
            "4-Class Confusion Matrix:\n",
            " [[1765  240   30    9]\n",
            " [ 326  852    5   16]\n",
            " [ 120   28  301   44]\n",
            " [  35   88   62  175]]\n",
            "Sensitivity: 0.6472, Specificity: 0.8635, ICBHI Score: 0.7553\n",
            "[Validation] Confusion Matrix:\n",
            " [[1098  146  326    9]\n",
            " [ 364  236   40    9]\n",
            " [ 129   41  184   31]\n",
            " [  40   10   73   20]]\n",
            "Test Loss: 0.7546\n",
            "[VALIDATION] Sensitivity: 0.3738, Specificity: 0.6954, Avg ICBHI Score: 0.5346\n",
            "##################################################\n"
          ]
        },
        {
          "name": "stderr",
          "output_type": "stream",
          "text": [
            "MLATT Trainig only: 100%|██████████| 32/32 [00:05<00:00,  5.66it/s]\n"
          ]
        },
        {
          "name": "stdout",
          "output_type": "stream",
          "text": [
            "[Epoch 12 | Train Loss: 0.3075, img_augonly: torch.Size([128, 1, 64, 256])\n",
            "4-Class Confusion Matrix:\n",
            " [[1760  238   37    9]\n",
            " [ 338  846    5   10]\n",
            " [ 132   14  298   49]\n",
            " [  33   88   68  171]]\n",
            "Sensitivity: 0.6408, Specificity: 0.8611, ICBHI Score: 0.7509\n",
            "[Validation] Confusion Matrix:\n",
            " [[1312  118  139   10]\n",
            " [ 433  198   14    4]\n",
            " [ 219   40  104   22]\n",
            " [  63   15   48   17]]\n",
            "Test Loss: 0.6613\n",
            "[VALIDATION] Sensitivity: 0.2710, Specificity: 0.8309, Avg ICBHI Score: 0.5510\n",
            "##################################################\n"
          ]
        },
        {
          "name": "stderr",
          "output_type": "stream",
          "text": [
            "MLATT Trainig only: 100%|██████████| 32/32 [00:05<00:00,  5.66it/s]\n"
          ]
        },
        {
          "name": "stdout",
          "output_type": "stream",
          "text": [
            "[Epoch 13 | Train Loss: 0.3132, img_augonly: torch.Size([128, 1, 64, 256])\n",
            "4-Class Confusion Matrix:\n",
            " [[1749  253   33    9]\n",
            " [ 327  851    6   15]\n",
            " [ 128   33  285   47]\n",
            " [  44   94   59  163]]\n",
            "Sensitivity: 0.6330, Specificity: 0.8557, ICBHI Score: 0.7444\n",
            "[Validation] Confusion Matrix:\n",
            " [[1244  157  159   19]\n",
            " [ 415  214   10   10]\n",
            " [ 197   44  119   25]\n",
            " [  60   20   45   18]]\n",
            "Test Loss: 0.5953\n",
            "[VALIDATION] Sensitivity: 0.2982, Specificity: 0.7878, Avg ICBHI Score: 0.5430\n",
            "##################################################\n"
          ]
        },
        {
          "name": "stderr",
          "output_type": "stream",
          "text": [
            "MLATT Trainig only: 100%|██████████| 32/32 [00:05<00:00,  5.58it/s]\n"
          ]
        },
        {
          "name": "stdout",
          "output_type": "stream",
          "text": [
            "[Epoch 14 | Train Loss: 0.2802, img_augonly: torch.Size([128, 1, 64, 256])\n",
            "4-Class Confusion Matrix:\n",
            " [[1773  236   27    8]\n",
            " [ 298  880    2   19]\n",
            " [  95   17  333   48]\n",
            " [  39   79   64  178]]\n",
            "Sensitivity: 0.6779, Specificity: 0.8674, ICBHI Score: 0.7726\n",
            "[Validation] Confusion Matrix:\n",
            " [[1100  251  203   25]\n",
            " [ 303  315   16   15]\n",
            " [ 148   69  127   41]\n",
            " [  40   27   45   31]]\n",
            "Test Loss: 0.6311\n",
            "[VALIDATION] Sensitivity: 0.4019, Specificity: 0.6966, Avg ICBHI Score: 0.5493\n",
            "##################################################\n"
          ]
        },
        {
          "name": "stderr",
          "output_type": "stream",
          "text": [
            "MLATT Trainig only: 100%|██████████| 32/32 [00:05<00:00,  5.59it/s]\n"
          ]
        },
        {
          "name": "stdout",
          "output_type": "stream",
          "text": [
            "[Epoch 15 | Train Loss: 0.2855, img_augonly: torch.Size([128, 1, 64, 256])\n",
            "4-Class Confusion Matrix:\n",
            " [[1783  228   30    3]\n",
            " [ 297  876   11   15]\n",
            " [  95   23  339   36]\n",
            " [  39   86   58  177]]\n",
            "Sensitivity: 0.6784, Specificity: 0.8723, ICBHI Score: 0.7753\n",
            "[Validation] Confusion Matrix:\n",
            " [[1251  137  175   16]\n",
            " [ 419  207   16    7]\n",
            " [ 183   43  131   28]\n",
            " [  54   14   59   16]]\n",
            "Test Loss: 0.6689\n",
            "[VALIDATION] Sensitivity: 0.3008, Specificity: 0.7923, Avg ICBHI Score: 0.5465\n",
            "##################################################\n"
          ]
        },
        {
          "name": "stderr",
          "output_type": "stream",
          "text": [
            "MLATT Trainig only: 100%|██████████| 32/32 [00:05<00:00,  5.49it/s]\n"
          ]
        },
        {
          "name": "stdout",
          "output_type": "stream",
          "text": [
            "[Epoch 16 | Train Loss: 0.2828, img_augonly: torch.Size([128, 1, 64, 256])\n",
            "4-Class Confusion Matrix:\n",
            " [[1789  224   26    5]\n",
            " [ 288  894    3   14]\n",
            " [ 121   19  307   46]\n",
            " [  43   94   49  174]]\n",
            "Sensitivity: 0.6701, Specificity: 0.8752, ICBHI Score: 0.7727\n",
            "[Validation] Confusion Matrix:\n",
            " [[1297  155  111   16]\n",
            " [ 366  260   16    7]\n",
            " [ 215   46  105   19]\n",
            " [  55   23   52   13]]\n",
            "Test Loss: 0.7241\n",
            "[VALIDATION] Sensitivity: 0.3212, Specificity: 0.8214, Avg ICBHI Score: 0.5713\n",
            "##################################################\n"
          ]
        },
        {
          "name": "stderr",
          "output_type": "stream",
          "text": [
            "MLATT Trainig only: 100%|██████████| 32/32 [00:05<00:00,  5.58it/s]\n"
          ]
        },
        {
          "name": "stdout",
          "output_type": "stream",
          "text": [
            "[Epoch 17 | Train Loss: 0.2654, img_augonly: torch.Size([128, 1, 64, 256])\n",
            "4-Class Confusion Matrix:\n",
            " [[1811  200   28    5]\n",
            " [ 282  895    6   16]\n",
            " [  96   19  339   39]\n",
            " [  34   87   51  188]]\n",
            "Sensitivity: 0.6930, Specificity: 0.8860, ICBHI Score: 0.7895\n",
            "[Validation] Confusion Matrix:\n",
            " [[1040  317  195   27]\n",
            " [ 277  339   18   15]\n",
            " [ 135   84  115   51]\n",
            " [  43   28   37   35]]\n",
            "Test Loss: 0.6926\n",
            "[VALIDATION] Sensitivity: 0.4155, Specificity: 0.6586, Avg ICBHI Score: 0.5371\n",
            "##################################################\n"
          ]
        },
        {
          "name": "stderr",
          "output_type": "stream",
          "text": [
            "MLATT Trainig only: 100%|██████████| 32/32 [00:05<00:00,  5.63it/s]\n"
          ]
        },
        {
          "name": "stdout",
          "output_type": "stream",
          "text": [
            "[Epoch 18 | Train Loss: 0.2884, img_augonly: torch.Size([128, 1, 64, 256])\n",
            "4-Class Confusion Matrix:\n",
            " [[1785  225   28    6]\n",
            " [ 272  907    4   16]\n",
            " [ 120   20  319   34]\n",
            " [  40  102   43  175]]\n",
            "Sensitivity: 0.6827, Specificity: 0.8733, ICBHI Score: 0.7780\n",
            "[Validation] Confusion Matrix:\n",
            " [[1002  320  192   65]\n",
            " [ 265  346   12   26]\n",
            " [ 124   83  116   62]\n",
            " [  31   24   39   49]]\n",
            "Test Loss: 0.6621\n",
            "[VALIDATION] Sensitivity: 0.4342, Specificity: 0.6346, Avg ICBHI Score: 0.5344\n",
            "##################################################\n"
          ]
        },
        {
          "name": "stderr",
          "output_type": "stream",
          "text": [
            "MLATT Trainig only: 100%|██████████| 32/32 [00:05<00:00,  5.62it/s]\n"
          ]
        },
        {
          "name": "stdout",
          "output_type": "stream",
          "text": [
            "[Epoch 19 | Train Loss: 0.2568, img_augonly: torch.Size([128, 1, 64, 256])\n",
            "4-Class Confusion Matrix:\n",
            " [[1826  192   23    3]\n",
            " [ 256  925    1   17]\n",
            " [  90   24  337   42]\n",
            " [  29   83   47  201]]\n",
            "Sensitivity: 0.7130, Specificity: 0.8933, ICBHI Score: 0.8032\n",
            "[Validation] Confusion Matrix:\n",
            " [[1176  117  263   23]\n",
            " [ 382  228   26   13]\n",
            " [ 149   38  167   31]\n",
            " [  46   12   63   22]]\n",
            "Test Loss: 0.7341\n",
            "[VALIDATION] Sensitivity: 0.3543, Specificity: 0.7448, Avg ICBHI Score: 0.5495\n",
            "##################################################\n"
          ]
        },
        {
          "name": "stderr",
          "output_type": "stream",
          "text": [
            "MLATT Trainig only: 100%|██████████| 32/32 [00:05<00:00,  5.66it/s]\n"
          ]
        },
        {
          "name": "stdout",
          "output_type": "stream",
          "text": [
            "[Epoch 20 | Train Loss: 0.2236, img_augonly: torch.Size([128, 1, 64, 256])\n",
            "4-Class Confusion Matrix:\n",
            " [[1835  181   20    8]\n",
            " [ 229  955    3   12]\n",
            " [  73   14  369   37]\n",
            " [  17   66   44  233]]\n",
            "Sensitivity: 0.7588, Specificity: 0.8977, ICBHI Score: 0.8283\n",
            "[Validation] Confusion Matrix:\n",
            " [[1223  138  206   12]\n",
            " [ 409  214   18    8]\n",
            " [ 178   44  142   21]\n",
            " [  50   14   61   18]]\n",
            "Test Loss: 0.7711\n",
            "[VALIDATION] Sensitivity: 0.3178, Specificity: 0.7745, Avg ICBHI Score: 0.5461\n",
            "##################################################\n"
          ]
        },
        {
          "name": "stderr",
          "output_type": "stream",
          "text": [
            "MLATT Trainig only: 100%|██████████| 32/32 [00:05<00:00,  5.70it/s]\n"
          ]
        },
        {
          "name": "stdout",
          "output_type": "stream",
          "text": [
            "[Epoch 21 | Train Loss: 0.2659, img_augonly: torch.Size([128, 1, 64, 256])\n",
            "4-Class Confusion Matrix:\n",
            " [[1825  196   21    2]\n",
            " [ 269  909    7   14]\n",
            " [ 108   21  322   42]\n",
            " [  38   77   50  195]]\n",
            "Sensitivity: 0.6949, Specificity: 0.8929, ICBHI Score: 0.7939\n",
            "[Validation] Confusion Matrix:\n",
            " [[1197  181  166   35]\n",
            " [ 333  279   23   14]\n",
            " [ 164   50  144   27]\n",
            " [  45   18   65   15]]\n",
            "Test Loss: 0.6526\n",
            "[VALIDATION] Sensitivity: 0.3721, Specificity: 0.7581, Avg ICBHI Score: 0.5651\n",
            "##################################################\n"
          ]
        },
        {
          "name": "stderr",
          "output_type": "stream",
          "text": [
            "MLATT Trainig only: 100%|██████████| 32/32 [00:05<00:00,  5.67it/s]\n"
          ]
        },
        {
          "name": "stdout",
          "output_type": "stream",
          "text": [
            "[Epoch 22 | Train Loss: 0.2207, img_augonly: torch.Size([128, 1, 64, 256])\n",
            "4-Class Confusion Matrix:\n",
            " [[1854  167   16    7]\n",
            " [ 208  968    6   17]\n",
            " [  73   15  370   35]\n",
            " [  18   79   44  219]]\n",
            "Sensitivity: 0.7588, Specificity: 0.9070, ICBHI Score: 0.8329\n",
            "[Validation] Confusion Matrix:\n",
            " [[941 376 187  75]\n",
            " [213 398  14  24]\n",
            " [102  94 129  60]\n",
            " [ 39  19  37  48]]\n",
            "Test Loss: 0.7558\n",
            "[VALIDATION] Sensitivity: 0.4885, Specificity: 0.5959, Avg ICBHI Score: 0.5422\n",
            "##################################################\n"
          ]
        },
        {
          "name": "stderr",
          "output_type": "stream",
          "text": [
            "MLATT Trainig only: 100%|██████████| 32/32 [00:05<00:00,  5.59it/s]\n"
          ]
        },
        {
          "name": "stdout",
          "output_type": "stream",
          "text": [
            "[Epoch 23 | Train Loss: 0.2002, img_augonly: torch.Size([128, 1, 64, 256])\n",
            "4-Class Confusion Matrix:\n",
            " [[1864  152   21    7]\n",
            " [ 207  977    1   14]\n",
            " [  59   12  393   29]\n",
            " [  13   58   49  240]]\n",
            "Sensitivity: 0.7846, Specificity: 0.9119, ICBHI Score: 0.8483\n",
            "[Validation] Confusion Matrix:\n",
            " [[1026  241  266   46]\n",
            " [ 277  324   27   21]\n",
            " [ 112   55  153   65]\n",
            " [  38   13   49   43]]\n",
            "Test Loss: 0.8277\n",
            "[VALIDATION] Sensitivity: 0.4418, Specificity: 0.6498, Avg ICBHI Score: 0.5458\n",
            "##################################################\n"
          ]
        },
        {
          "name": "stderr",
          "output_type": "stream",
          "text": [
            "MLATT Trainig only: 100%|██████████| 32/32 [00:05<00:00,  5.62it/s]\n"
          ]
        },
        {
          "name": "stdout",
          "output_type": "stream",
          "text": [
            "[Epoch 24 | Train Loss: 0.2108, img_augonly: torch.Size([128, 1, 64, 256])\n",
            "4-Class Confusion Matrix:\n",
            " [[1872  154   16    2]\n",
            " [ 190  990    3   16]\n",
            " [  78   19  354   42]\n",
            " [  23   77   38  222]]\n",
            "Sensitivity: 0.7632, Specificity: 0.9159, ICBHI Score: 0.8395\n",
            "[Validation] Confusion Matrix:\n",
            " [[1141  172  248   18]\n",
            " [ 358  246   31   14]\n",
            " [ 142   37  165   41]\n",
            " [  45   10   69   19]]\n",
            "Test Loss: 0.7816\n",
            "[VALIDATION] Sensitivity: 0.3653, Specificity: 0.7226, Avg ICBHI Score: 0.5440\n",
            "##################################################\n"
          ]
        },
        {
          "name": "stderr",
          "output_type": "stream",
          "text": [
            "MLATT Trainig only: 100%|██████████| 32/32 [00:05<00:00,  5.57it/s]\n"
          ]
        },
        {
          "name": "stdout",
          "output_type": "stream",
          "text": [
            "[Epoch 25 | Train Loss: 0.1797, img_augonly: torch.Size([128, 1, 64, 256])\n",
            "4-Class Confusion Matrix:\n",
            " [[1872  155   14    3]\n",
            " [ 192  993    2   12]\n",
            " [  70    8  389   26]\n",
            " [  15   51   27  267]]\n",
            "Sensitivity: 0.8036, Specificity: 0.9159, ICBHI Score: 0.8597\n",
            "[Validation] Confusion Matrix:\n",
            " [[1092  347   79   61]\n",
            " [ 274  358    5   12]\n",
            " [ 156  100   83   46]\n",
            " [  50   27   34   32]]\n",
            "Test Loss: 0.7978\n",
            "[VALIDATION] Sensitivity: 0.4019, Specificity: 0.6916, Avg ICBHI Score: 0.5467\n",
            "##################################################\n"
          ]
        },
        {
          "name": "stderr",
          "output_type": "stream",
          "text": [
            "MLATT Trainig only: 100%|██████████| 32/32 [00:05<00:00,  5.57it/s]\n"
          ]
        },
        {
          "name": "stdout",
          "output_type": "stream",
          "text": [
            "[Epoch 26 | Train Loss: 0.1974, img_augonly: torch.Size([128, 1, 64, 256])\n",
            "4-Class Confusion Matrix:\n",
            " [[1874  143   25    2]\n",
            " [ 195  986    2   16]\n",
            " [  66   18  384   25]\n",
            " [  16   79   26  239]]\n",
            "Sensitivity: 0.7841, Specificity: 0.9168, ICBHI Score: 0.8505\n",
            "[Validation] Confusion Matrix:\n",
            " [[1248  155  146   30]\n",
            " [ 365  258   13   13]\n",
            " [ 164   59  123   39]\n",
            " [  49   19   45   30]]\n",
            "Test Loss: 0.7944\n",
            "[VALIDATION] Sensitivity: 0.3492, Specificity: 0.7904, Avg ICBHI Score: 0.5698\n",
            "##################################################\n"
          ]
        },
        {
          "name": "stderr",
          "output_type": "stream",
          "text": [
            "MLATT Trainig only: 100%|██████████| 32/32 [00:05<00:00,  5.61it/s]\n"
          ]
        },
        {
          "name": "stdout",
          "output_type": "stream",
          "text": [
            "[Epoch 27 | Train Loss: 0.1815, img_augonly: torch.Size([128, 1, 64, 256])\n",
            "4-Class Confusion Matrix:\n",
            " [[1884  140   19    1]\n",
            " [ 166 1020    2   11]\n",
            " [  74   11  373   35]\n",
            " [  14   66   29  251]]\n",
            "Sensitivity: 0.8012, Specificity: 0.9217, ICBHI Score: 0.8614\n",
            "[Validation] Confusion Matrix:\n",
            " [[1149  303   69   58]\n",
            " [ 353  279    9    8]\n",
            " [ 170   95   76   44]\n",
            " [  61   20   33   29]]\n",
            "Test Loss: 0.8303\n",
            "[VALIDATION] Sensitivity: 0.3263, Specificity: 0.7277, Avg ICBHI Score: 0.5270\n",
            "##################################################\n"
          ]
        },
        {
          "name": "stderr",
          "output_type": "stream",
          "text": [
            "MLATT Trainig only: 100%|██████████| 32/32 [00:05<00:00,  5.56it/s]\n"
          ]
        },
        {
          "name": "stdout",
          "output_type": "stream",
          "text": [
            "[Epoch 28 | Train Loss: 0.1944, img_augonly: torch.Size([128, 1, 64, 256])\n",
            "4-Class Confusion Matrix:\n",
            " [[1883  130   27    4]\n",
            " [ 181 1004    2   12]\n",
            " [  79   14  373   27]\n",
            " [  14   77   27  242]]\n",
            "Sensitivity: 0.7890, Specificity: 0.9212, ICBHI Score: 0.8551\n",
            "[Validation] Confusion Matrix:\n",
            " [[1152  204  152   71]\n",
            " [ 362  231   30   26]\n",
            " [ 144   61  127   53]\n",
            " [  43   17   47   36]]\n",
            "Test Loss: 0.8192\n",
            "[VALIDATION] Sensitivity: 0.3347, Specificity: 0.7296, Avg ICBHI Score: 0.5322\n",
            "##################################################\n"
          ]
        },
        {
          "name": "stderr",
          "output_type": "stream",
          "text": [
            "MLATT Trainig only: 100%|██████████| 32/32 [00:05<00:00,  5.57it/s]\n"
          ]
        },
        {
          "name": "stdout",
          "output_type": "stream",
          "text": [
            "[Epoch 29 | Train Loss: 0.1601, img_augonly: torch.Size([128, 1, 64, 256])\n",
            "4-Class Confusion Matrix:\n",
            " [[1903  115   18    8]\n",
            " [ 159 1031    1    8]\n",
            " [  48   11  405   29]\n",
            " [   7   70   29  254]]\n",
            "Sensitivity: 0.8236, Specificity: 0.9310, ICBHI Score: 0.8773\n",
            "[Validation] Confusion Matrix:\n",
            " [[1014  248  274   43]\n",
            " [ 342  260   26   21]\n",
            " [ 140   40  156   49]\n",
            " [  40   16   60   27]]\n",
            "Test Loss: 0.8900\n",
            "[VALIDATION] Sensitivity: 0.3764, Specificity: 0.6422, Avg ICBHI Score: 0.5093\n",
            "##################################################\n"
          ]
        },
        {
          "name": "stderr",
          "output_type": "stream",
          "text": [
            "MLATT Trainig only: 100%|██████████| 32/32 [00:05<00:00,  5.60it/s]\n"
          ]
        },
        {
          "name": "stdout",
          "output_type": "stream",
          "text": [
            "[Epoch 30 | Train Loss: 0.1947, img_augonly: torch.Size([128, 1, 64, 256])\n",
            "4-Class Confusion Matrix:\n",
            " [[1883  131   25    5]\n",
            " [ 164 1016    5   14]\n",
            " [  79   18  351   45]\n",
            " [  21   65   41  233]]\n",
            "Sensitivity: 0.7797, Specificity: 0.9212, ICBHI Score: 0.8505\n",
            "[Validation] Confusion Matrix:\n",
            " [[1341   96  138    4]\n",
            " [ 427  205   10    7]\n",
            " [ 240   40   96    9]\n",
            " [  77   16   42    8]]\n",
            "Test Loss: 0.9099\n",
            "[VALIDATION] Sensitivity: 0.2625, Specificity: 0.8493, Avg ICBHI Score: 0.5559\n",
            "##################################################\n"
          ]
        },
        {
          "name": "stderr",
          "output_type": "stream",
          "text": [
            "MLATT Trainig only: 100%|██████████| 32/32 [00:05<00:00,  5.59it/s]\n"
          ]
        },
        {
          "name": "stdout",
          "output_type": "stream",
          "text": [
            "[Epoch 31 | Train Loss: 0.1775, img_augonly: torch.Size([128, 1, 64, 256])\n",
            "4-Class Confusion Matrix:\n",
            " [[1882  132   27    3]\n",
            " [ 145 1039    0   15]\n",
            " [  71   15  386   21]\n",
            " [  16   65   35  244]]\n",
            "Sensitivity: 0.8134, Specificity: 0.9207, ICBHI Score: 0.8670\n",
            "[Validation] Confusion Matrix:\n",
            " [[1155  116  298   10]\n",
            " [ 407  213   24    5]\n",
            " [ 164   38  166   17]\n",
            " [  54   13   53   23]]\n",
            "Test Loss: 1.0334\n",
            "[VALIDATION] Sensitivity: 0.3415, Specificity: 0.7315, Avg ICBHI Score: 0.5365\n",
            "##################################################\n"
          ]
        },
        {
          "name": "stderr",
          "output_type": "stream",
          "text": [
            "MLATT Trainig only: 100%|██████████| 32/32 [00:05<00:00,  5.62it/s]\n"
          ]
        },
        {
          "name": "stdout",
          "output_type": "stream",
          "text": [
            "[Epoch 32 | Train Loss: 0.1293, img_augonly: torch.Size([128, 1, 64, 256])\n",
            "4-Class Confusion Matrix:\n",
            " [[1946   83   15    0]\n",
            " [ 102 1087    2    8]\n",
            " [  47    4  418   24]\n",
            " [  11   45   21  283]]\n",
            "Sensitivity: 0.8713, Specificity: 0.9521, ICBHI Score: 0.9117\n",
            "[Validation] Confusion Matrix:\n",
            " [[884 416 182  97]\n",
            " [205 399  15  30]\n",
            " [ 97  82  85 121]\n",
            " [ 32  26  17  68]]\n",
            "Test Loss: 0.9971\n",
            "[VALIDATION] Sensitivity: 0.4690, Specificity: 0.5598, Avg ICBHI Score: 0.5144\n",
            "##################################################\n"
          ]
        },
        {
          "name": "stderr",
          "output_type": "stream",
          "text": [
            "MLATT Trainig only: 100%|██████████| 32/32 [00:05<00:00,  5.67it/s]\n"
          ]
        },
        {
          "name": "stdout",
          "output_type": "stream",
          "text": [
            "[Epoch 33 | Train Loss: 0.1842, img_augonly: torch.Size([128, 1, 64, 256])\n",
            "4-Class Confusion Matrix:\n",
            " [[1881  129   27    7]\n",
            " [ 185 1000    0   14]\n",
            " [  81   10  378   24]\n",
            " [  16   68   33  243]]\n",
            "Sensitivity: 0.7900, Specificity: 0.9203, ICBHI Score: 0.8551\n",
            "[Validation] Confusion Matrix:\n",
            " [[964 251 294  70]\n",
            " [271 299  33  46]\n",
            " [ 91  54 173  67]\n",
            " [ 34  13  46  50]]\n",
            "Test Loss: 0.9748\n",
            "[VALIDATION] Sensitivity: 0.4435, Specificity: 0.6105, Avg ICBHI Score: 0.5270\n",
            "##################################################\n"
          ]
        },
        {
          "name": "stderr",
          "output_type": "stream",
          "text": [
            "MLATT Trainig only: 100%|██████████| 32/32 [00:05<00:00,  5.72it/s]\n"
          ]
        },
        {
          "name": "stdout",
          "output_type": "stream",
          "text": [
            "[Epoch 34 | Train Loss: 0.1337, img_augonly: torch.Size([128, 1, 64, 256])\n",
            "4-Class Confusion Matrix:\n",
            " [[1940   91   13    0]\n",
            " [ 106 1080    1   12]\n",
            " [  56    7  404   26]\n",
            " [   8   47   21  284]]\n",
            "Sensitivity: 0.8616, Specificity: 0.9491, ICBHI Score: 0.9054\n",
            "[Validation] Confusion Matrix:\n",
            " [[1067  208  240   64]\n",
            " [ 335  266   27   21]\n",
            " [ 120   53  147   65]\n",
            " [  39   20   50   34]]\n",
            "Test Loss: 0.9313\n",
            "[VALIDATION] Sensitivity: 0.3798, Specificity: 0.6757, Avg ICBHI Score: 0.5278\n",
            "##################################################\n"
          ]
        },
        {
          "name": "stderr",
          "output_type": "stream",
          "text": [
            "MLATT Trainig only: 100%|██████████| 32/32 [00:05<00:00,  5.67it/s]\n"
          ]
        },
        {
          "name": "stdout",
          "output_type": "stream",
          "text": [
            "[Epoch 35 | Train Loss: 0.1144, img_augonly: torch.Size([128, 1, 64, 256])\n",
            "4-Class Confusion Matrix:\n",
            " [[1954   75   14    1]\n",
            " [  84 1103    1   11]\n",
            " [  48    5  412   28]\n",
            " [   4   43   16  297]]\n",
            "Sensitivity: 0.8830, Specificity: 0.9560, ICBHI Score: 0.9195\n",
            "[Validation] Confusion Matrix:\n",
            " [[1145  156  244   34]\n",
            " [ 362  253   17   17]\n",
            " [ 144   46  144   51]\n",
            " [  48   18   49   28]]\n",
            "Test Loss: 0.9155\n",
            "[VALIDATION] Sensitivity: 0.3611, Specificity: 0.7251, Avg ICBHI Score: 0.5431\n",
            "##################################################\n"
          ]
        },
        {
          "name": "stderr",
          "output_type": "stream",
          "text": [
            "MLATT Trainig only: 100%|██████████| 32/32 [00:05<00:00,  5.71it/s]\n"
          ]
        },
        {
          "name": "stdout",
          "output_type": "stream",
          "text": [
            "[Epoch 36 | Train Loss: 0.1540, img_augonly: torch.Size([128, 1, 64, 256])\n",
            "4-Class Confusion Matrix:\n",
            " [[1919   96   23    6]\n",
            " [ 127 1054    4   14]\n",
            " [  52   12  403   26]\n",
            " [  13   60   27  260]]\n",
            "Sensitivity: 0.8367, Specificity: 0.9388, ICBHI Score: 0.8878\n",
            "[Validation] Confusion Matrix:\n",
            " [[1252  125  167   35]\n",
            " [ 420  192   21   16]\n",
            " [ 222   24  114   25]\n",
            " [  70   12   45   16]]\n",
            "Test Loss: 1.0089\n",
            "[VALIDATION] Sensitivity: 0.2736, Specificity: 0.7929, Avg ICBHI Score: 0.5332\n",
            "##################################################\n"
          ]
        },
        {
          "name": "stderr",
          "output_type": "stream",
          "text": [
            "MLATT Trainig only: 100%|██████████| 32/32 [00:05<00:00,  5.69it/s]\n"
          ]
        },
        {
          "name": "stdout",
          "output_type": "stream",
          "text": [
            "[Epoch 37 | Train Loss: 0.1272, img_augonly: torch.Size([128, 1, 64, 256])\n",
            "4-Class Confusion Matrix:\n",
            " [[1941   91   12    0]\n",
            " [ 119 1066    1   13]\n",
            " [  39    3  423   28]\n",
            " [   9   45   19  287]]\n",
            "Sensitivity: 0.8655, Specificity: 0.9496, ICBHI Score: 0.9076\n",
            "[Validation] Confusion Matrix:\n",
            " [[1044  237  270   28]\n",
            " [ 304  302   23   20]\n",
            " [ 132   61  141   51]\n",
            " [  39   17   56   31]]\n",
            "Test Loss: 1.0486\n",
            "[VALIDATION] Sensitivity: 0.4027, Specificity: 0.6612, Avg ICBHI Score: 0.5319\n",
            "##################################################\n"
          ]
        },
        {
          "name": "stderr",
          "output_type": "stream",
          "text": [
            "MLATT Trainig only: 100%|██████████| 32/32 [00:05<00:00,  5.64it/s]\n"
          ]
        },
        {
          "name": "stdout",
          "output_type": "stream",
          "text": [
            "[Epoch 38 | Train Loss: 0.1169, img_augonly: torch.Size([128, 1, 64, 256])\n",
            "4-Class Confusion Matrix:\n",
            " [[1948   79   15    2]\n",
            " [  87 1098    0   14]\n",
            " [  37    8  433   15]\n",
            " [   7   51   13  289]]\n",
            "Sensitivity: 0.8869, Specificity: 0.9530, ICBHI Score: 0.9200\n",
            "[Validation] Confusion Matrix:\n",
            " [[1157  282  122   18]\n",
            " [ 266  361   10   12]\n",
            " [ 176   87   78   44]\n",
            " [  50   28   36   29]]\n",
            "Test Loss: 0.9781\n",
            "[VALIDATION] Sensitivity: 0.3976, Specificity: 0.7327, Avg ICBHI Score: 0.5652\n",
            "##################################################\n"
          ]
        },
        {
          "name": "stderr",
          "output_type": "stream",
          "text": [
            "MLATT Trainig only: 100%|██████████| 32/32 [00:05<00:00,  5.71it/s]\n"
          ]
        },
        {
          "name": "stdout",
          "output_type": "stream",
          "text": [
            "[Epoch 39 | Train Loss: 0.1364, img_augonly: torch.Size([128, 1, 64, 256])\n",
            "4-Class Confusion Matrix:\n",
            " [[1928   88   25    3]\n",
            " [ 106 1070    3   20]\n",
            " [  60    6  411   16]\n",
            " [  13   47   24  276]]\n",
            "Sensitivity: 0.8562, Specificity: 0.9432, ICBHI Score: 0.8997\n",
            "[Validation] Confusion Matrix:\n",
            " [[1129  228  204   18]\n",
            " [ 308  313   17   11]\n",
            " [ 165   63  121   36]\n",
            " [  60   19   41   23]]\n",
            "Test Loss: 1.0499\n",
            "[VALIDATION] Sensitivity: 0.3883, Specificity: 0.7150, Avg ICBHI Score: 0.5516\n",
            "##################################################\n"
          ]
        },
        {
          "name": "stderr",
          "output_type": "stream",
          "text": [
            "MLATT Trainig only: 100%|██████████| 32/32 [00:05<00:00,  5.72it/s]\n"
          ]
        },
        {
          "name": "stdout",
          "output_type": "stream",
          "text": [
            "[Epoch 40 | Train Loss: 0.1520, img_augonly: torch.Size([128, 1, 64, 256])\n",
            "4-Class Confusion Matrix:\n",
            " [[1930   97   15    2]\n",
            " [ 137 1048    0   14]\n",
            " [  55   14  401   23]\n",
            " [  15   58   24  263]]\n",
            "Sensitivity: 0.8343, Specificity: 0.9442, ICBHI Score: 0.8893\n",
            "[Validation] Confusion Matrix:\n",
            " [[1204  185  171   19]\n",
            " [ 364  257   17   11]\n",
            " [ 196   47  113   29]\n",
            " [  55   17   42   29]]\n",
            "Test Loss: 1.0185\n",
            "[VALIDATION] Sensitivity: 0.3390, Specificity: 0.7625, Avg ICBHI Score: 0.5508\n",
            "##################################################\n"
          ]
        },
        {
          "name": "stderr",
          "output_type": "stream",
          "text": [
            "MLATT Trainig only: 100%|██████████| 32/32 [00:05<00:00,  5.64it/s]\n"
          ]
        },
        {
          "name": "stdout",
          "output_type": "stream",
          "text": [
            "[Epoch 41 | Train Loss: 0.1425, img_augonly: torch.Size([128, 1, 64, 256])\n",
            "4-Class Confusion Matrix:\n",
            " [[1921  101   15    7]\n",
            " [  95 1083    4   17]\n",
            " [  67   14  392   20]\n",
            " [  13   59   17  271]]\n",
            "Sensitivity: 0.8509, Specificity: 0.9398, ICBHI Score: 0.8954\n",
            "[Validation] Confusion Matrix:\n",
            " [[1233  181  157    8]\n",
            " [ 349  274   18    8]\n",
            " [ 215   37  115   18]\n",
            " [  57   14   53   19]]\n",
            "Test Loss: 0.9672\n",
            "[VALIDATION] Sensitivity: 0.3466, Specificity: 0.7809, Avg ICBHI Score: 0.5638\n",
            "##################################################\n"
          ]
        },
        {
          "name": "stderr",
          "output_type": "stream",
          "text": [
            "MLATT Trainig only: 100%|██████████| 32/32 [00:05<00:00,  5.55it/s]\n"
          ]
        },
        {
          "name": "stdout",
          "output_type": "stream",
          "text": [
            "[Epoch 42 | Train Loss: 0.1265, img_augonly: torch.Size([128, 1, 64, 256])\n",
            "4-Class Confusion Matrix:\n",
            " [[1945   76   22    1]\n",
            " [ 107 1065    2   25]\n",
            " [  57    5  412   19]\n",
            " [   6   51   19  284]]\n",
            "Sensitivity: 0.8582, Specificity: 0.9516, ICBHI Score: 0.9049\n",
            "[Validation] Confusion Matrix:\n",
            " [[1197  206  158   18]\n",
            " [ 296  322   16   15]\n",
            " [ 181   48  130   26]\n",
            " [  53   17   45   28]]\n",
            "Test Loss: 1.0154\n",
            "[VALIDATION] Sensitivity: 0.4078, Specificity: 0.7581, Avg ICBHI Score: 0.5829\n",
            "##################################################\n"
          ]
        },
        {
          "name": "stderr",
          "output_type": "stream",
          "text": [
            "MLATT Trainig only: 100%|██████████| 32/32 [00:05<00:00,  5.69it/s]\n"
          ]
        },
        {
          "name": "stdout",
          "output_type": "stream",
          "text": [
            "[Epoch 43 | Train Loss: 0.1284, img_augonly: torch.Size([128, 1, 64, 256])\n",
            "4-Class Confusion Matrix:\n",
            " [[1928   85   25    6]\n",
            " [  95 1090    1   13]\n",
            " [  66   14  397   16]\n",
            " [   8   41   24  287]]\n",
            "Sensitivity: 0.8645, Specificity: 0.9432, ICBHI Score: 0.9039\n",
            "[Validation] Confusion Matrix:\n",
            " [[964 320 273  22]\n",
            " [265 344  20  20]\n",
            " [121  61 143  60]\n",
            " [ 39  17  57  30]]\n",
            "Test Loss: 1.0765\n",
            "[VALIDATION] Sensitivity: 0.4393, Specificity: 0.6105, Avg ICBHI Score: 0.5249\n",
            "##################################################\n"
          ]
        },
        {
          "name": "stderr",
          "output_type": "stream",
          "text": [
            "MLATT Trainig only: 100%|██████████| 32/32 [00:05<00:00,  5.71it/s]\n"
          ]
        },
        {
          "name": "stdout",
          "output_type": "stream",
          "text": [
            "[Epoch 44 | Train Loss: 0.1351, img_augonly: torch.Size([128, 1, 64, 256])\n",
            "4-Class Confusion Matrix:\n",
            " [[1925   97   22    0]\n",
            " [ 114 1068    2   15]\n",
            " [  60   11  403   19]\n",
            " [   8   47   22  283]]\n",
            "Sensitivity: 0.8548, Specificity: 0.9418, ICBHI Score: 0.8983\n",
            "[Validation] Confusion Matrix:\n",
            " [[1183  272   99   25]\n",
            " [ 327  304   10    8]\n",
            " [ 206   67   78   34]\n",
            " [  66   24   27   26]]\n",
            "Test Loss: 0.9784\n",
            "[VALIDATION] Sensitivity: 0.3466, Specificity: 0.7492, Avg ICBHI Score: 0.5479\n",
            "##################################################\n"
          ]
        },
        {
          "name": "stderr",
          "output_type": "stream",
          "text": [
            "MLATT Trainig only: 100%|██████████| 32/32 [00:05<00:00,  5.61it/s]\n"
          ]
        },
        {
          "name": "stdout",
          "output_type": "stream",
          "text": [
            "[Epoch 45 | Train Loss: 0.1177, img_augonly: torch.Size([128, 1, 64, 256])\n",
            "4-Class Confusion Matrix:\n",
            " [[1963   69   12    0]\n",
            " [  93 1095    1   10]\n",
            " [  55   12  407   19]\n",
            " [  10   44   14  292]]\n",
            "Sensitivity: 0.8743, Specificity: 0.9604, ICBHI Score: 0.9173\n",
            "[Validation] Confusion Matrix:\n",
            " [[1083  239  229   28]\n",
            " [ 324  283   23   19]\n",
            " [ 151   49  149   36]\n",
            " [  37   16   55   35]]\n",
            "Test Loss: 1.0914\n",
            "[VALIDATION] Sensitivity: 0.3968, Specificity: 0.6859, Avg ICBHI Score: 0.5413\n",
            "##################################################\n"
          ]
        },
        {
          "name": "stderr",
          "output_type": "stream",
          "text": [
            "MLATT Trainig only: 100%|██████████| 32/32 [00:05<00:00,  5.60it/s]\n"
          ]
        },
        {
          "name": "stdout",
          "output_type": "stream",
          "text": [
            "[Epoch 46 | Train Loss: 0.0948, img_augonly: torch.Size([128, 1, 64, 256])\n",
            "4-Class Confusion Matrix:\n",
            " [[1965   69   10    0]\n",
            " [  79 1103    2   15]\n",
            " [  34    4  441   14]\n",
            " [   2   26   18  314]]\n",
            "Sensitivity: 0.9055, Specificity: 0.9614, ICBHI Score: 0.9334\n",
            "[Validation] Confusion Matrix:\n",
            " [[1371  131   70    7]\n",
            " [ 428  205   11    5]\n",
            " [ 245   40   85   15]\n",
            " [  63   15   42   23]]\n",
            "Test Loss: 1.0271\n",
            "[VALIDATION] Sensitivity: 0.2659, Specificity: 0.8683, Avg ICBHI Score: 0.5671\n",
            "##################################################\n"
          ]
        },
        {
          "name": "stderr",
          "output_type": "stream",
          "text": [
            "MLATT Trainig only: 100%|██████████| 32/32 [00:05<00:00,  5.65it/s]\n"
          ]
        },
        {
          "name": "stdout",
          "output_type": "stream",
          "text": [
            "[Epoch 47 | Train Loss: 0.1155, img_augonly: torch.Size([128, 1, 64, 256])\n",
            "4-Class Confusion Matrix:\n",
            " [[1962   69   10    3]\n",
            " [  90 1094    1   14]\n",
            " [  57    4  421   11]\n",
            " [   8   49   13  290]]\n",
            "Sensitivity: 0.8796, Specificity: 0.9599, ICBHI Score: 0.9198\n",
            "[Validation] Confusion Matrix:\n",
            " [[1220  203  137   19]\n",
            " [ 369  257   11   12]\n",
            " [ 192   64  101   28]\n",
            " [  62   19   38   24]]\n",
            "Test Loss: 1.0773\n",
            "[VALIDATION] Sensitivity: 0.3246, Specificity: 0.7726, Avg ICBHI Score: 0.5486\n",
            "##################################################\n"
          ]
        },
        {
          "name": "stderr",
          "output_type": "stream",
          "text": [
            "MLATT Trainig only: 100%|██████████| 32/32 [00:05<00:00,  5.60it/s]\n"
          ]
        },
        {
          "name": "stdout",
          "output_type": "stream",
          "text": [
            "[Epoch 48 | Train Loss: 0.1115, img_augonly: torch.Size([128, 1, 64, 256])\n",
            "4-Class Confusion Matrix:\n",
            " [[1946   81   13    4]\n",
            " [  82 1105    1   11]\n",
            " [  71    3  409   10]\n",
            " [   9   39   18  294]]\n",
            "Sensitivity: 0.8811, Specificity: 0.9521, ICBHI Score: 0.9166\n",
            "[Validation] Confusion Matrix:\n",
            " [[986 391 149  53]\n",
            " [228 395  10  16]\n",
            " [140  89  93  63]\n",
            " [ 40  33  26  44]]\n",
            "Test Loss: 1.1021\n",
            "[VALIDATION] Sensitivity: 0.4520, Specificity: 0.6244, Avg ICBHI Score: 0.5382\n",
            "##################################################\n"
          ]
        },
        {
          "name": "stderr",
          "output_type": "stream",
          "text": [
            "MLATT Trainig only: 100%|██████████| 32/32 [00:05<00:00,  5.60it/s]\n"
          ]
        },
        {
          "name": "stdout",
          "output_type": "stream",
          "text": [
            "[Epoch 49 | Train Loss: 0.0858, img_augonly: torch.Size([128, 1, 64, 256])\n",
            "4-Class Confusion Matrix:\n",
            " [[1991   38   14    1]\n",
            " [  78 1109    3    9]\n",
            " [  37    4  438   14]\n",
            " [   2   29   16  313]]\n",
            "Sensitivity: 0.9064, Specificity: 0.9741, ICBHI Score: 0.9403\n",
            "[Validation] Confusion Matrix:\n",
            " [[1080  264  198   37]\n",
            " [ 316  305   16   12]\n",
            " [ 159   50  126   50]\n",
            " [  47   16   53   27]]\n",
            "Test Loss: 1.0052\n",
            "[VALIDATION] Sensitivity: 0.3891, Specificity: 0.6840, Avg ICBHI Score: 0.5366\n",
            "##################################################\n"
          ]
        },
        {
          "name": "stderr",
          "output_type": "stream",
          "text": [
            "MLATT Trainig only: 100%|██████████| 32/32 [00:05<00:00,  5.62it/s]\n"
          ]
        },
        {
          "name": "stdout",
          "output_type": "stream",
          "text": [
            "[Epoch 50 | Train Loss: 0.1001, img_augonly: torch.Size([128, 1, 64, 256])\n",
            "4-Class Confusion Matrix:\n",
            " [[1952   82   10    0]\n",
            " [  81 1109    0    9]\n",
            " [  36    8  430   19]\n",
            " [   6   44   12  298]]\n",
            "Sensitivity: 0.8952, Specificity: 0.9550, ICBHI Score: 0.9251\n",
            "[Validation] Confusion Matrix:\n",
            " [[1252  135  153   39]\n",
            " [ 416  206   14   13]\n",
            " [ 193   34  117   41]\n",
            " [  55   18   40   30]]\n",
            "Test Loss: 1.0876\n",
            "[VALIDATION] Sensitivity: 0.2999, Specificity: 0.7929, Avg ICBHI Score: 0.5464\n",
            "##################################################\n"
          ]
        },
        {
          "name": "stderr",
          "output_type": "stream",
          "text": [
            "MLATT Trainig only: 100%|██████████| 32/32 [00:05<00:00,  5.62it/s]\n"
          ]
        },
        {
          "name": "stdout",
          "output_type": "stream",
          "text": [
            "[Epoch 51 | Train Loss: 0.1358, img_augonly: torch.Size([128, 1, 64, 256])\n",
            "4-Class Confusion Matrix:\n",
            " [[1934   85   22    3]\n",
            " [ 105 1071    3   20]\n",
            " [  72    5  391   25]\n",
            " [  11   48   20  281]]\n",
            "Sensitivity: 0.8494, Specificity: 0.9462, ICBHI Score: 0.8978\n",
            "[Validation] Confusion Matrix:\n",
            " [[1246  220   89   24]\n",
            " [ 402  232    6    9]\n",
            " [ 221   68   71   25]\n",
            " [  70   24   29   20]]\n",
            "Test Loss: 1.0750\n",
            "[VALIDATION] Sensitivity: 0.2744, Specificity: 0.7891, Avg ICBHI Score: 0.5318\n",
            "##################################################\n"
          ]
        },
        {
          "name": "stderr",
          "output_type": "stream",
          "text": [
            "MLATT Trainig only: 100%|██████████| 32/32 [00:05<00:00,  5.62it/s]\n"
          ]
        },
        {
          "name": "stdout",
          "output_type": "stream",
          "text": [
            "[Epoch 52 | Train Loss: 0.0898, img_augonly: torch.Size([128, 1, 64, 256])\n",
            "4-Class Confusion Matrix:\n",
            " [[1973   56   14    1]\n",
            " [  65 1122    2   10]\n",
            " [  40    6  436   11]\n",
            " [   4   41   12  303]]\n",
            "Sensitivity: 0.9069, Specificity: 0.9653, ICBHI Score: 0.9361\n",
            "[Validation] Confusion Matrix:\n",
            " [[1076  305  171   27]\n",
            " [ 280  334   15   20]\n",
            " [ 160   76   92   57]\n",
            " [  42   20   40   41]]\n",
            "Test Loss: 1.1074\n",
            "[VALIDATION] Sensitivity: 0.3968, Specificity: 0.6814, Avg ICBHI Score: 0.5391\n",
            "##################################################\n"
          ]
        },
        {
          "name": "stderr",
          "output_type": "stream",
          "text": [
            "MLATT Trainig only: 100%|██████████| 32/32 [00:05<00:00,  5.63it/s]\n"
          ]
        },
        {
          "name": "stdout",
          "output_type": "stream",
          "text": [
            "[Epoch 53 | Train Loss: 0.1029, img_augonly: torch.Size([128, 1, 64, 256])\n",
            "4-Class Confusion Matrix:\n",
            " [[1974   49   17    4]\n",
            " [  89 1095    2   13]\n",
            " [  43    6  431   13]\n",
            " [   6   29   18  307]]\n",
            "Sensitivity: 0.8933, Specificity: 0.9658, ICBHI Score: 0.9295\n",
            "[Validation] Confusion Matrix:\n",
            " [[1052  339  171   17]\n",
            " [ 264  360   11   14]\n",
            " [ 176   78   92   39]\n",
            " [  63   25   34   21]]\n",
            "Test Loss: 1.1338\n",
            "[VALIDATION] Sensitivity: 0.4019, Specificity: 0.6662, Avg ICBHI Score: 0.5341\n",
            "##################################################\n"
          ]
        },
        {
          "name": "stderr",
          "output_type": "stream",
          "text": [
            "MLATT Trainig only: 100%|██████████| 32/32 [00:05<00:00,  5.64it/s]\n"
          ]
        },
        {
          "name": "stdout",
          "output_type": "stream",
          "text": [
            "[Epoch 54 | Train Loss: 0.0969, img_augonly: torch.Size([128, 1, 64, 256])\n",
            "4-Class Confusion Matrix:\n",
            " [[1947   82   12    3]\n",
            " [  80 1111    1    7]\n",
            " [  38    3  440   12]\n",
            " [   8   32   10  310]]\n",
            "Sensitivity: 0.9069, Specificity: 0.9525, ICBHI Score: 0.9297\n",
            "[Validation] Confusion Matrix:\n",
            " [[1173  225  145   36]\n",
            " [ 335  280   16   18]\n",
            " [ 191   46  115   33]\n",
            " [  52   17   47   27]]\n",
            "Test Loss: 0.9894\n",
            "[VALIDATION] Sensitivity: 0.3585, Specificity: 0.7429, Avg ICBHI Score: 0.5507\n",
            "##################################################\n"
          ]
        },
        {
          "name": "stderr",
          "output_type": "stream",
          "text": [
            "MLATT Trainig only: 100%|██████████| 32/32 [00:05<00:00,  5.61it/s]\n"
          ]
        },
        {
          "name": "stdout",
          "output_type": "stream",
          "text": [
            "[Epoch 55 | Train Loss: 0.1010, img_augonly: torch.Size([128, 1, 64, 256])\n",
            "4-Class Confusion Matrix:\n",
            " [[1968   57   16    3]\n",
            " [  68 1121    3    7]\n",
            " [  47    5  430   11]\n",
            " [   5   39   22  294]]\n",
            "Sensitivity: 0.8991, Specificity: 0.9628, ICBHI Score: 0.9310\n",
            "[Validation] Confusion Matrix:\n",
            " [[1144  319   95   21]\n",
            " [ 267  356   13   13]\n",
            " [ 168   92   84   41]\n",
            " [  54   26   35   28]]\n",
            "Test Loss: 0.9882\n",
            "[VALIDATION] Sensitivity: 0.3976, Specificity: 0.7245, Avg ICBHI Score: 0.5611\n",
            "##################################################\n"
          ]
        },
        {
          "name": "stderr",
          "output_type": "stream",
          "text": [
            "MLATT Trainig only: 100%|██████████| 32/32 [00:05<00:00,  5.58it/s]\n"
          ]
        },
        {
          "name": "stdout",
          "output_type": "stream",
          "text": [
            "[Epoch 56 | Train Loss: 0.1004, img_augonly: torch.Size([128, 1, 64, 256])\n",
            "4-Class Confusion Matrix:\n",
            " [[1963   65   15    1]\n",
            " [  75 1112    2   10]\n",
            " [  47    5  428   13]\n",
            " [   6   38   14  302]]\n",
            "Sensitivity: 0.8977, Specificity: 0.9604, ICBHI Score: 0.9290\n",
            "[Validation] Confusion Matrix:\n",
            " [[1010  481   45   43]\n",
            " [ 268  364    5   12]\n",
            " [ 157  141   50   37]\n",
            " [  49   47   16   31]]\n",
            "Test Loss: 1.1925\n",
            "[VALIDATION] Sensitivity: 0.3781, Specificity: 0.6396, Avg ICBHI Score: 0.5089\n",
            "##################################################\n"
          ]
        },
        {
          "name": "stderr",
          "output_type": "stream",
          "text": [
            "MLATT Trainig only: 100%|██████████| 32/32 [00:05<00:00,  5.58it/s]\n"
          ]
        },
        {
          "name": "stdout",
          "output_type": "stream",
          "text": [
            "[Epoch 57 | Train Loss: 0.1081, img_augonly: torch.Size([128, 1, 64, 256])\n",
            "4-Class Confusion Matrix:\n",
            " [[1964   64   14    2]\n",
            " [  71 1110    2   16]\n",
            " [  55    9  418   11]\n",
            " [   5   45    9  301]]\n",
            "Sensitivity: 0.8913, Specificity: 0.9609, ICBHI Score: 0.9261\n",
            "[Validation] Confusion Matrix:\n",
            " [[1197  278   88   16]\n",
            " [ 303  329    6   11]\n",
            " [ 193   89   68   35]\n",
            " [  64   22   35   22]]\n",
            "Test Loss: 1.0529\n",
            "[VALIDATION] Sensitivity: 0.3560, Specificity: 0.7581, Avg ICBHI Score: 0.5570\n",
            "##################################################\n"
          ]
        },
        {
          "name": "stderr",
          "output_type": "stream",
          "text": [
            "MLATT Trainig only: 100%|██████████| 32/32 [00:05<00:00,  5.59it/s]\n"
          ]
        },
        {
          "name": "stdout",
          "output_type": "stream",
          "text": [
            "[Epoch 58 | Train Loss: 0.0709, img_augonly: torch.Size([128, 1, 64, 256])\n",
            "4-Class Confusion Matrix:\n",
            " [[1982   48   13    1]\n",
            " [  55 1136    1    7]\n",
            " [  33    1  452    7]\n",
            " [   6   19    8  327]]\n",
            "Sensitivity: 0.9332, Specificity: 0.9697, ICBHI Score: 0.9515\n",
            "[Validation] Confusion Matrix:\n",
            " [[957 476  75  71]\n",
            " [235 398   1  15]\n",
            " [149 125  53  58]\n",
            " [ 42  41  20  40]]\n",
            "Test Loss: 1.2101\n",
            "[VALIDATION] Sensitivity: 0.4172, Specificity: 0.6061, Avg ICBHI Score: 0.5116\n",
            "##################################################\n"
          ]
        },
        {
          "name": "stderr",
          "output_type": "stream",
          "text": [
            "MLATT Trainig only: 100%|██████████| 32/32 [00:05<00:00,  5.61it/s]\n"
          ]
        },
        {
          "name": "stdout",
          "output_type": "stream",
          "text": [
            "[Epoch 59 | Train Loss: 0.0799, img_augonly: torch.Size([128, 1, 64, 256])\n",
            "4-Class Confusion Matrix:\n",
            " [[1978   51   15    0]\n",
            " [  48 1139    3    9]\n",
            " [  44    1  436   12]\n",
            " [   3   30   14  313]]\n",
            "Sensitivity: 0.9201, Specificity: 0.9677, ICBHI Score: 0.9439\n",
            "[Validation] Confusion Matrix:\n",
            " [[1136  199  216   28]\n",
            " [ 390  227   19   13]\n",
            " [ 181   43  135   26]\n",
            " [  55   13   52   23]]\n",
            "Test Loss: 1.1586\n",
            "[VALIDATION] Sensitivity: 0.3271, Specificity: 0.7194, Avg ICBHI Score: 0.5233\n",
            "##################################################\n"
          ]
        },
        {
          "name": "stderr",
          "output_type": "stream",
          "text": [
            "MLATT Trainig only: 100%|██████████| 32/32 [00:05<00:00,  5.65it/s]\n"
          ]
        },
        {
          "name": "stdout",
          "output_type": "stream",
          "text": [
            "[Epoch 60 | Train Loss: 0.0799, img_augonly: torch.Size([128, 1, 64, 256])\n",
            "4-Class Confusion Matrix:\n",
            " [[1987   47    8    2]\n",
            " [  53 1138    0    8]\n",
            " [  41    4  437   11]\n",
            " [   3   24   13  320]]\n",
            "Sensitivity: 0.9235, Specificity: 0.9721, ICBHI Score: 0.9478\n",
            "[Validation] Confusion Matrix:\n",
            " [[1228  208  133   10]\n",
            " [ 351  281   11    6]\n",
            " [ 201   60   99   25]\n",
            " [  65   21   39   18]]\n",
            "Test Loss: 1.1288\n",
            "[VALIDATION] Sensitivity: 0.3381, Specificity: 0.7777, Avg ICBHI Score: 0.5579\n",
            "##################################################\n"
          ]
        },
        {
          "name": "stderr",
          "output_type": "stream",
          "text": [
            "MLATT Trainig only: 100%|██████████| 32/32 [00:05<00:00,  5.62it/s]\n"
          ]
        },
        {
          "name": "stdout",
          "output_type": "stream",
          "text": [
            "[Epoch 61 | Train Loss: 0.0606, img_augonly: torch.Size([128, 1, 64, 256])\n",
            "4-Class Confusion Matrix:\n",
            " [[1996   35   11    2]\n",
            " [  44 1147    2    6]\n",
            " [  21    0  463    9]\n",
            " [   4   22    8  326]]\n",
            "Sensitivity: 0.9435, Specificity: 0.9765, ICBHI Score: 0.9600\n",
            "[Validation] Confusion Matrix:\n",
            " [[1065  284  186   44]\n",
            " [ 335  273   20   21]\n",
            " [ 155   71  104   55]\n",
            " [  38   24   54   27]]\n",
            "Test Loss: 1.1916\n",
            "[VALIDATION] Sensitivity: 0.3432, Specificity: 0.6745, Avg ICBHI Score: 0.5089\n",
            "##################################################\n"
          ]
        },
        {
          "name": "stderr",
          "output_type": "stream",
          "text": [
            "MLATT Trainig only: 100%|██████████| 32/32 [00:05<00:00,  5.60it/s]\n"
          ]
        },
        {
          "name": "stdout",
          "output_type": "stream",
          "text": [
            "[Epoch 62 | Train Loss: 0.0768, img_augonly: torch.Size([128, 1, 64, 256])\n",
            "4-Class Confusion Matrix:\n",
            " [[1982   49   13    0]\n",
            " [  60 1121    1   17]\n",
            " [  35    6  440   12]\n",
            " [   7   28    9  316]]\n",
            "Sensitivity: 0.9147, Specificity: 0.9697, ICBHI Score: 0.9422\n",
            "[Validation] Confusion Matrix:\n",
            " [[1031  346  166   36]\n",
            " [ 259  369    7   14]\n",
            " [ 135   88  104   58]\n",
            " [  52   28   34   29]]\n",
            "Test Loss: 1.1372\n",
            "[VALIDATION] Sensitivity: 0.4265, Specificity: 0.6529, Avg ICBHI Score: 0.5397\n",
            "##################################################\n"
          ]
        },
        {
          "name": "stderr",
          "output_type": "stream",
          "text": [
            "MLATT Trainig only: 100%|██████████| 32/32 [00:05<00:00,  5.62it/s]\n"
          ]
        },
        {
          "name": "stdout",
          "output_type": "stream",
          "text": [
            "[Epoch 63 | Train Loss: 0.0682, img_augonly: torch.Size([128, 1, 64, 256])\n",
            "4-Class Confusion Matrix:\n",
            " [[1990   42   12    0]\n",
            " [  56 1135    2    6]\n",
            " [  24    3  458    8]\n",
            " [   1   24   12  323]]\n",
            "Sensitivity: 0.9337, Specificity: 0.9736, ICBHI Score: 0.9537\n",
            "[Validation] Confusion Matrix:\n",
            " [[1064  278  177   60]\n",
            " [ 332  291   10   16]\n",
            " [ 142   86   88   69]\n",
            " [  55   34   25   29]]\n",
            "Test Loss: 1.2313\n",
            "[VALIDATION] Sensitivity: 0.3466, Specificity: 0.6738, Avg ICBHI Score: 0.5102\n",
            "##################################################\n"
          ]
        },
        {
          "name": "stderr",
          "output_type": "stream",
          "text": [
            "MLATT Trainig only: 100%|██████████| 32/32 [00:05<00:00,  5.65it/s]\n"
          ]
        },
        {
          "name": "stdout",
          "output_type": "stream",
          "text": [
            "[Epoch 64 | Train Loss: 0.0785, img_augonly: torch.Size([128, 1, 64, 256])\n",
            "4-Class Confusion Matrix:\n",
            " [[1983   42   19    0]\n",
            " [  57 1134    1    7]\n",
            " [  42    3  435   13]\n",
            " [   4   22   12  322]]\n",
            "Sensitivity: 0.9215, Specificity: 0.9702, ICBHI Score: 0.9458\n",
            "[Validation] Confusion Matrix:\n",
            " [[1021  304  229   25]\n",
            " [ 294  322   16   17]\n",
            " [ 148   69  126   42]\n",
            " [  44   27   41   31]]\n",
            "Test Loss: 1.2490\n",
            "[VALIDATION] Sensitivity: 0.4070, Specificity: 0.6466, Avg ICBHI Score: 0.5268\n",
            "##################################################\n"
          ]
        },
        {
          "name": "stderr",
          "output_type": "stream",
          "text": [
            "MLATT Trainig only: 100%|██████████| 32/32 [00:05<00:00,  5.61it/s]\n"
          ]
        },
        {
          "name": "stdout",
          "output_type": "stream",
          "text": [
            "[Epoch 65 | Train Loss: 0.0941, img_augonly: torch.Size([128, 1, 64, 256])\n",
            "4-Class Confusion Matrix:\n",
            " [[1961   71   12    0]\n",
            " [  86 1101    1   11]\n",
            " [  35    3  438   17]\n",
            " [   6   33   15  306]]\n",
            "Sensitivity: 0.8991, Specificity: 0.9594, ICBHI Score: 0.9293\n",
            "[Validation] Confusion Matrix:\n",
            " [[1162  215  200    2]\n",
            " [ 361  266   17    5]\n",
            " [ 186   49  118   32]\n",
            " [  63   16   50   14]]\n",
            "Test Loss: 1.3249\n",
            "[VALIDATION] Sensitivity: 0.3381, Specificity: 0.7359, Avg ICBHI Score: 0.5370\n",
            "##################################################\n"
          ]
        },
        {
          "name": "stderr",
          "output_type": "stream",
          "text": [
            "MLATT Trainig only: 100%|██████████| 32/32 [00:05<00:00,  5.63it/s]\n"
          ]
        },
        {
          "name": "stdout",
          "output_type": "stream",
          "text": [
            "[Epoch 66 | Train Loss: 0.0787, img_augonly: torch.Size([128, 1, 64, 256])\n",
            "4-Class Confusion Matrix:\n",
            " [[1971   59   11    3]\n",
            " [  50 1138    2    9]\n",
            " [  45    2  437    9]\n",
            " [   5   25   11  319]]\n",
            "Sensitivity: 0.9230, Specificity: 0.9643, ICBHI Score: 0.9436\n",
            "[Validation] Confusion Matrix:\n",
            " [[1189  198  180   12]\n",
            " [ 380  245   12   12]\n",
            " [ 182   66   94   43]\n",
            " [  58   23   40   22]]\n",
            "Test Loss: 1.2239\n",
            "[VALIDATION] Sensitivity: 0.3067, Specificity: 0.7530, Avg ICBHI Score: 0.5299\n",
            "##################################################\n"
          ]
        },
        {
          "name": "stderr",
          "output_type": "stream",
          "text": [
            "MLATT Trainig only: 100%|██████████| 32/32 [00:05<00:00,  5.64it/s]\n"
          ]
        },
        {
          "name": "stdout",
          "output_type": "stream",
          "text": [
            "[Epoch 67 | Train Loss: 0.0593, img_augonly: torch.Size([128, 1, 64, 256])\n",
            "4-Class Confusion Matrix:\n",
            " [[1995   38   11    0]\n",
            " [  37 1155    1    6]\n",
            " [  25    1  462    5]\n",
            " [   3   20   12  325]]\n",
            "Sensitivity: 0.9464, Specificity: 0.9760, ICBHI Score: 0.9612\n",
            "[Validation] Confusion Matrix:\n",
            " [[957 385 202  35]\n",
            " [242 377  11  19]\n",
            " [132  78 117  58]\n",
            " [ 39  30  40  34]]\n",
            "Test Loss: 1.1699\n",
            "[VALIDATION] Sensitivity: 0.4486, Specificity: 0.6061, Avg ICBHI Score: 0.5273\n",
            "##################################################\n"
          ]
        },
        {
          "name": "stderr",
          "output_type": "stream",
          "text": [
            "MLATT Trainig only: 100%|██████████| 32/32 [00:05<00:00,  5.60it/s]\n"
          ]
        },
        {
          "name": "stdout",
          "output_type": "stream",
          "text": [
            "[Epoch 68 | Train Loss: 0.0674, img_augonly: torch.Size([128, 1, 64, 256])\n",
            "4-Class Confusion Matrix:\n",
            " [[2002   38    4    0]\n",
            " [  43 1143    2   11]\n",
            " [  36    5  440   12]\n",
            " [   2   28   12  318]]\n",
            "Sensitivity: 0.9264, Specificity: 0.9795, ICBHI Score: 0.9529\n",
            "[Validation] Confusion Matrix:\n",
            " [[1166  246  131   36]\n",
            " [ 344  278   11   16]\n",
            " [ 171   74   82   58]\n",
            " [  50   26   33   34]]\n",
            "Test Loss: 1.1928\n",
            "[VALIDATION] Sensitivity: 0.3347, Specificity: 0.7384, Avg ICBHI Score: 0.5366\n",
            "##################################################\n"
          ]
        },
        {
          "name": "stderr",
          "output_type": "stream",
          "text": [
            "MLATT Trainig only: 100%|██████████| 32/32 [00:05<00:00,  5.59it/s]\n"
          ]
        },
        {
          "name": "stdout",
          "output_type": "stream",
          "text": [
            "[Epoch 69 | Train Loss: 0.0744, img_augonly: torch.Size([128, 1, 64, 256])\n",
            "4-Class Confusion Matrix:\n",
            " [[1991   36   14    3]\n",
            " [  54 1137    1    7]\n",
            " [  35    5  440   13]\n",
            " [   4   25   11  320]]\n",
            "Sensitivity: 0.9245, Specificity: 0.9741, ICBHI Score: 0.9493\n",
            "[Validation] Confusion Matrix:\n",
            " [[1118  238  208   15]\n",
            " [ 357  263   18   11]\n",
            " [ 178   43  127   37]\n",
            " [  59   16   49   19]]\n",
            "Test Loss: 1.2688\n",
            "[VALIDATION] Sensitivity: 0.3475, Specificity: 0.7080, Avg ICBHI Score: 0.5278\n",
            "##################################################\n"
          ]
        },
        {
          "name": "stderr",
          "output_type": "stream",
          "text": [
            "MLATT Trainig only: 100%|██████████| 32/32 [00:05<00:00,  5.66it/s]\n"
          ]
        },
        {
          "name": "stdout",
          "output_type": "stream",
          "text": [
            "[Epoch 70 | Train Loss: 0.0531, img_augonly: torch.Size([128, 1, 64, 256])\n",
            "4-Class Confusion Matrix:\n",
            " [[2006   25   13    0]\n",
            " [  33 1158    0    8]\n",
            " [  22    3  457   11]\n",
            " [   2   21    4  333]]\n",
            "Sensitivity: 0.9493, Specificity: 0.9814, ICBHI Score: 0.9654\n",
            "[Validation] Confusion Matrix:\n",
            " [[957 324 253  45]\n",
            " [261 338  22  28]\n",
            " [110  72 129  74]\n",
            " [ 38  24  40  41]]\n",
            "Test Loss: 1.2562\n",
            "[VALIDATION] Sensitivity: 0.4316, Specificity: 0.6061, Avg ICBHI Score: 0.5188\n",
            "##################################################\n"
          ]
        },
        {
          "name": "stderr",
          "output_type": "stream",
          "text": [
            "MLATT Trainig only: 100%|██████████| 32/32 [00:05<00:00,  5.63it/s]\n"
          ]
        },
        {
          "name": "stdout",
          "output_type": "stream",
          "text": [
            "[Epoch 71 | Train Loss: 0.0468, img_augonly: torch.Size([128, 1, 64, 256])\n",
            "4-Class Confusion Matrix:\n",
            " [[2010   26    7    1]\n",
            " [  34 1155    0   10]\n",
            " [  21    2  465    5]\n",
            " [   1   17    4  338]]\n",
            "Sensitivity: 0.9542, Specificity: 0.9834, ICBHI Score: 0.9688\n",
            "[Validation] Confusion Matrix:\n",
            " [[1026  332  195   26]\n",
            " [ 260  364   13   12]\n",
            " [ 155   70  111   49]\n",
            " [  47   26   42   28]]\n",
            "Test Loss: 1.1885\n",
            "[VALIDATION] Sensitivity: 0.4274, Specificity: 0.6498, Avg ICBHI Score: 0.5386\n",
            "##################################################\n"
          ]
        },
        {
          "name": "stderr",
          "output_type": "stream",
          "text": [
            "MLATT Trainig only: 100%|██████████| 32/32 [00:05<00:00,  5.63it/s]\n"
          ]
        },
        {
          "name": "stdout",
          "output_type": "stream",
          "text": [
            "[Epoch 72 | Train Loss: 0.0648, img_augonly: torch.Size([128, 1, 64, 256])\n",
            "4-Class Confusion Matrix:\n",
            " [[2000   29   14    1]\n",
            " [  37 1152    0   10]\n",
            " [  35    2  445   11]\n",
            " [   5   20   12  323]]\n",
            "Sensitivity: 0.9357, Specificity: 0.9785, ICBHI Score: 0.9571\n",
            "[Validation] Confusion Matrix:\n",
            " [[1181  183  194   21]\n",
            " [ 379  243   18    9]\n",
            " [ 177   47  130   31]\n",
            " [  59   19   49   16]]\n",
            "Test Loss: 1.3970\n",
            "[VALIDATION] Sensitivity: 0.3305, Specificity: 0.7479, Avg ICBHI Score: 0.5392\n",
            "##################################################\n"
          ]
        },
        {
          "name": "stderr",
          "output_type": "stream",
          "text": [
            "MLATT Trainig only: 100%|██████████| 32/32 [00:05<00:00,  5.64it/s]\n"
          ]
        },
        {
          "name": "stdout",
          "output_type": "stream",
          "text": [
            "[Epoch 73 | Train Loss: 0.0673, img_augonly: torch.Size([128, 1, 64, 256])\n",
            "4-Class Confusion Matrix:\n",
            " [[1996   35   13    0]\n",
            " [  52 1138    1    8]\n",
            " [  32    4  451    6]\n",
            " [   6   23   13  318]]\n",
            "Sensitivity: 0.9293, Specificity: 0.9765, ICBHI Score: 0.9529\n",
            "[Validation] Confusion Matrix:\n",
            " [[962 447 111  59]\n",
            " [237 387   6  19]\n",
            " [125 117  74  69]\n",
            " [ 42  35  31  35]]\n",
            "Test Loss: 1.3372\n",
            "[VALIDATION] Sensitivity: 0.4214, Specificity: 0.6092, Avg ICBHI Score: 0.5153\n",
            "##################################################\n"
          ]
        },
        {
          "name": "stderr",
          "output_type": "stream",
          "text": [
            "MLATT Trainig only: 100%|██████████| 32/32 [00:05<00:00,  5.62it/s]\n"
          ]
        },
        {
          "name": "stdout",
          "output_type": "stream",
          "text": [
            "[Epoch 74 | Train Loss: 0.0693, img_augonly: torch.Size([128, 1, 64, 256])\n",
            "4-Class Confusion Matrix:\n",
            " [[1983   55    4    2]\n",
            " [  48 1144    1    6]\n",
            " [  15    7  453   18]\n",
            " [   2   23   18  317]]\n",
            "Sensitivity: 0.9327, Specificity: 0.9702, ICBHI Score: 0.9515\n",
            "[Validation] Confusion Matrix:\n",
            " [[1250  171  145   13]\n",
            " [ 359  268   11   11]\n",
            " [ 208   35  121   21]\n",
            " [  64   17   44   18]]\n",
            "Test Loss: 1.1912\n",
            "[VALIDATION] Sensitivity: 0.3458, Specificity: 0.7916, Avg ICBHI Score: 0.5687\n",
            "##################################################\n"
          ]
        },
        {
          "name": "stderr",
          "output_type": "stream",
          "text": [
            "MLATT Trainig only: 100%|██████████| 32/32 [00:05<00:00,  5.60it/s]\n"
          ]
        },
        {
          "name": "stdout",
          "output_type": "stream",
          "text": [
            "[Epoch 75 | Train Loss: 0.0902, img_augonly: torch.Size([128, 1, 64, 256])\n",
            "4-Class Confusion Matrix:\n",
            " [[1979   48   16    1]\n",
            " [  83 1106    2    8]\n",
            " [  45    6  425   17]\n",
            " [   8   26   15  311]]\n",
            "Sensitivity: 0.8977, Specificity: 0.9682, ICBHI Score: 0.9329\n",
            "[Validation] Confusion Matrix:\n",
            " [[1058  235  247   39]\n",
            " [ 315  293   18   23]\n",
            " [ 133   62  123   67]\n",
            " [  42   19   54   28]]\n",
            "Test Loss: 1.3824\n",
            "[VALIDATION] Sensitivity: 0.3772, Specificity: 0.6700, Avg ICBHI Score: 0.5236\n",
            "##################################################\n"
          ]
        },
        {
          "name": "stderr",
          "output_type": "stream",
          "text": [
            "MLATT Trainig only: 100%|██████████| 32/32 [00:05<00:00,  5.61it/s]\n"
          ]
        },
        {
          "name": "stdout",
          "output_type": "stream",
          "text": [
            "[Epoch 76 | Train Loss: 0.0777, img_augonly: torch.Size([128, 1, 64, 256])\n",
            "4-Class Confusion Matrix:\n",
            " [[1986   41   17    0]\n",
            " [  63 1125    2    9]\n",
            " [  41   10  433    9]\n",
            " [   6   18   13  323]]\n",
            "Sensitivity: 0.9167, Specificity: 0.9716, ICBHI Score: 0.9441\n",
            "[Validation] Confusion Matrix:\n",
            " [[1107  284  163   25]\n",
            " [ 317  301   12   19]\n",
            " [ 157   64  107   57]\n",
            " [  48   22   44   29]]\n",
            "Test Loss: 1.2062\n",
            "[VALIDATION] Sensitivity: 0.3713, Specificity: 0.7011, Avg ICBHI Score: 0.5362\n",
            "##################################################\n"
          ]
        },
        {
          "name": "stderr",
          "output_type": "stream",
          "text": [
            "MLATT Trainig only: 100%|██████████| 32/32 [00:05<00:00,  5.63it/s]\n"
          ]
        },
        {
          "name": "stdout",
          "output_type": "stream",
          "text": [
            "[Epoch 77 | Train Loss: 0.0605, img_augonly: torch.Size([128, 1, 64, 256])\n",
            "4-Class Confusion Matrix:\n",
            " [[2004   31    9    0]\n",
            " [  40 1153    1    5]\n",
            " [  25    4  459    5]\n",
            " [   3   21   10  326]]\n",
            "Sensitivity: 0.9444, Specificity: 0.9804, ICBHI Score: 0.9624\n",
            "[Validation] Confusion Matrix:\n",
            " [[1172  207  179   21]\n",
            " [ 373  241   20   15]\n",
            " [ 174   45  124   42]\n",
            " [  54   16   55   18]]\n",
            "Test Loss: 1.2539\n",
            "[VALIDATION] Sensitivity: 0.3254, Specificity: 0.7422, Avg ICBHI Score: 0.5338\n",
            "##################################################\n"
          ]
        },
        {
          "name": "stderr",
          "output_type": "stream",
          "text": [
            "MLATT Trainig only: 100%|██████████| 32/32 [00:05<00:00,  5.61it/s]\n"
          ]
        },
        {
          "name": "stdout",
          "output_type": "stream",
          "text": [
            "[Epoch 78 | Train Loss: 0.0424, img_augonly: torch.Size([128, 1, 64, 256])\n",
            "4-Class Confusion Matrix:\n",
            " [[2012   22    8    2]\n",
            " [  24 1170    0    5]\n",
            " [  24    1  467    1]\n",
            " [   0   22    3  335]]\n",
            "Sensitivity: 0.9610, Specificity: 0.9843, ICBHI Score: 0.9727\n",
            "[Validation] Confusion Matrix:\n",
            " [[997 321 213  48]\n",
            " [266 345  15  23]\n",
            " [122  70 117  76]\n",
            " [ 37  22  43  41]]\n",
            "Test Loss: 1.3100\n",
            "[VALIDATION] Sensitivity: 0.4274, Specificity: 0.6314, Avg ICBHI Score: 0.5294\n",
            "##################################################\n"
          ]
        },
        {
          "name": "stderr",
          "output_type": "stream",
          "text": [
            "MLATT Trainig only: 100%|██████████| 32/32 [00:05<00:00,  5.63it/s]\n"
          ]
        },
        {
          "name": "stdout",
          "output_type": "stream",
          "text": [
            "[Epoch 79 | Train Loss: 0.0533, img_augonly: torch.Size([128, 1, 64, 256])\n",
            "4-Class Confusion Matrix:\n",
            " [[2002   32    9    1]\n",
            " [  37 1152    2    8]\n",
            " [  26    3  458    6]\n",
            " [   2   15    9  334]]\n",
            "Sensitivity: 0.9474, Specificity: 0.9795, ICBHI Score: 0.9634\n",
            "[Validation] Confusion Matrix:\n",
            " [[920 371 247  41]\n",
            " [265 345  17  22]\n",
            " [118  73 126  68]\n",
            " [ 41  27  35  40]]\n",
            "Test Loss: 1.4802\n",
            "[VALIDATION] Sensitivity: 0.4342, Specificity: 0.5826, Avg ICBHI Score: 0.5084\n",
            "##################################################\n"
          ]
        },
        {
          "name": "stderr",
          "output_type": "stream",
          "text": [
            "MLATT Trainig only: 100%|██████████| 32/32 [00:05<00:00,  5.72it/s]\n"
          ]
        },
        {
          "name": "stdout",
          "output_type": "stream",
          "text": [
            "[Epoch 80 | Train Loss: 0.0519, img_augonly: torch.Size([128, 1, 64, 256])\n",
            "4-Class Confusion Matrix:\n",
            " [[1998   37    9    0]\n",
            " [  30 1155    1   13]\n",
            " [  25    2  457    9]\n",
            " [   1   18    5  336]]\n",
            "Sensitivity: 0.9493, Specificity: 0.9775, ICBHI Score: 0.9634\n",
            "[Validation] Confusion Matrix:\n",
            " [[1217  167  181   14]\n",
            " [ 379  241   17   12]\n",
            " [ 190   28  137   30]\n",
            " [  59   15   53   16]]\n",
            "Test Loss: 1.2658\n",
            "[VALIDATION] Sensitivity: 0.3347, Specificity: 0.7707, Avg ICBHI Score: 0.5527\n",
            "##################################################\n"
          ]
        },
        {
          "name": "stderr",
          "output_type": "stream",
          "text": [
            "MLATT Trainig only: 100%|██████████| 32/32 [00:05<00:00,  5.72it/s]\n"
          ]
        },
        {
          "name": "stdout",
          "output_type": "stream",
          "text": [
            "[Epoch 81 | Train Loss: 0.0688, img_augonly: torch.Size([128, 1, 64, 256])\n",
            "4-Class Confusion Matrix:\n",
            " [[1986   50    8    0]\n",
            " [  50 1142    1    6]\n",
            " [  35    5  441   12]\n",
            " [   7   16   18  319]]\n",
            "Sensitivity: 0.9269, Specificity: 0.9716, ICBHI Score: 0.9493\n",
            "[Validation] Confusion Matrix:\n",
            " [[1058  287  204   30]\n",
            " [ 301  315   15   18]\n",
            " [ 146   61  124   54]\n",
            " [  47   23   45   28]]\n",
            "Test Loss: 1.2308\n",
            "[VALIDATION] Sensitivity: 0.3968, Specificity: 0.6700, Avg ICBHI Score: 0.5334\n",
            "##################################################\n"
          ]
        },
        {
          "name": "stderr",
          "output_type": "stream",
          "text": [
            "MLATT Trainig only: 100%|██████████| 32/32 [00:05<00:00,  5.69it/s]\n"
          ]
        },
        {
          "name": "stdout",
          "output_type": "stream",
          "text": [
            "[Epoch 82 | Train Loss: 0.0630, img_augonly: torch.Size([128, 1, 64, 256])\n",
            "4-Class Confusion Matrix:\n",
            " [[1987   33   21    3]\n",
            " [  48 1142    1    8]\n",
            " [  30    4  454    5]\n",
            " [   2   24    9  325]]\n",
            "Sensitivity: 0.9362, Specificity: 0.9721, ICBHI Score: 0.9541\n",
            "[Validation] Confusion Matrix:\n",
            " [[1236  199  133   11]\n",
            " [ 373  252   16    8]\n",
            " [ 206   40  109   30]\n",
            " [  64   14   49   16]]\n",
            "Test Loss: 1.1496\n",
            "[VALIDATION] Sensitivity: 0.3203, Specificity: 0.7828, Avg ICBHI Score: 0.5515\n",
            "##################################################\n"
          ]
        },
        {
          "name": "stderr",
          "output_type": "stream",
          "text": [
            "MLATT Trainig only: 100%|██████████| 32/32 [00:05<00:00,  5.61it/s]\n"
          ]
        },
        {
          "name": "stdout",
          "output_type": "stream",
          "text": [
            "[Epoch 83 | Train Loss: 0.0349, img_augonly: torch.Size([128, 1, 64, 256])\n",
            "4-Class Confusion Matrix:\n",
            " [[2029   11    4    0]\n",
            " [  20 1176    0    3]\n",
            " [  14    2  472    5]\n",
            " [   2    9   11  338]]\n",
            "Sensitivity: 0.9678, Specificity: 0.9927, ICBHI Score: 0.9802\n",
            "[Validation] Confusion Matrix:\n",
            " [[942 329 266  42]\n",
            " [278 321  26  24]\n",
            " [115  51 143  76]\n",
            " [ 27  15  63  38]]\n",
            "Test Loss: 1.3776\n",
            "[VALIDATION] Sensitivity: 0.4265, Specificity: 0.5966, Avg ICBHI Score: 0.5115\n",
            "##################################################\n"
          ]
        },
        {
          "name": "stderr",
          "output_type": "stream",
          "text": [
            "MLATT Trainig only: 100%|██████████| 32/32 [00:05<00:00,  5.60it/s]\n"
          ]
        },
        {
          "name": "stdout",
          "output_type": "stream",
          "text": [
            "[Epoch 84 | Train Loss: 0.0620, img_augonly: torch.Size([128, 1, 64, 256])\n",
            "4-Class Confusion Matrix:\n",
            " [[1988   39   14    3]\n",
            " [  43 1148    0    8]\n",
            " [  29    4  455    5]\n",
            " [   4   25    5  326]]\n",
            "Sensitivity: 0.9401, Specificity: 0.9726, ICBHI Score: 0.9563\n",
            "[Validation] Confusion Matrix:\n",
            " [[1038  201  314   26]\n",
            " [ 342  253   32   22]\n",
            " [ 122   39  175   49]\n",
            " [  45   14   62   22]]\n",
            "Test Loss: 1.3716\n",
            "[VALIDATION] Sensitivity: 0.3823, Specificity: 0.6574, Avg ICBHI Score: 0.5199\n",
            "##################################################\n"
          ]
        },
        {
          "name": "stderr",
          "output_type": "stream",
          "text": [
            "MLATT Trainig only: 100%|██████████| 32/32 [00:05<00:00,  5.60it/s]\n"
          ]
        },
        {
          "name": "stdout",
          "output_type": "stream",
          "text": [
            "[Epoch 85 | Train Loss: 0.0476, img_augonly: torch.Size([128, 1, 64, 256])\n",
            "4-Class Confusion Matrix:\n",
            " [[2012   25    7    0]\n",
            " [  31 1163    2    3]\n",
            " [  22    4  462    5]\n",
            " [   3   18    7  332]]\n",
            "Sensitivity: 0.9537, Specificity: 0.9843, ICBHI Score: 0.9690\n",
            "[Validation] Confusion Matrix:\n",
            " [[925 363 256  35]\n",
            " [258 348  17  26]\n",
            " [103  75 135  72]\n",
            " [ 34  27  42  40]]\n",
            "Test Loss: 1.3883\n",
            "[VALIDATION] Sensitivity: 0.4444, Specificity: 0.5858, Avg ICBHI Score: 0.5151\n",
            "##################################################\n"
          ]
        },
        {
          "name": "stderr",
          "output_type": "stream",
          "text": [
            "MLATT Trainig only: 100%|██████████| 32/32 [00:05<00:00,  5.60it/s]\n"
          ]
        },
        {
          "name": "stdout",
          "output_type": "stream",
          "text": [
            "[Epoch 86 | Train Loss: 0.0474, img_augonly: torch.Size([128, 1, 64, 256])\n",
            "4-Class Confusion Matrix:\n",
            " [[2005   29   10    0]\n",
            " [  38 1157    0    4]\n",
            " [  19    1  466    7]\n",
            " [   2   11    9  338]]\n",
            "Sensitivity: 0.9557, Specificity: 0.9809, ICBHI Score: 0.9683\n",
            "[Validation] Confusion Matrix:\n",
            " [[1071  252  240   16]\n",
            " [ 347  268   20   14]\n",
            " [ 151   52  145   37]\n",
            " [  50   19   53   21]]\n",
            "Test Loss: 1.4201\n",
            "[VALIDATION] Sensitivity: 0.3687, Specificity: 0.6783, Avg ICBHI Score: 0.5235\n",
            "##################################################\n"
          ]
        },
        {
          "name": "stderr",
          "output_type": "stream",
          "text": [
            "MLATT Trainig only: 100%|██████████| 32/32 [00:05<00:00,  5.64it/s]\n"
          ]
        },
        {
          "name": "stdout",
          "output_type": "stream",
          "text": [
            "[Epoch 87 | Train Loss: 0.0513, img_augonly: torch.Size([128, 1, 64, 256])\n",
            "4-Class Confusion Matrix:\n",
            " [[2006   27   11    0]\n",
            " [  38 1155    2    4]\n",
            " [  27    0  459    7]\n",
            " [   6   18    8  328]]\n",
            "Sensitivity: 0.9464, Specificity: 0.9814, ICBHI Score: 0.9639\n",
            "[Validation] Confusion Matrix:\n",
            " [[1099  306  160   14]\n",
            " [ 295  324   12   18]\n",
            " [ 154   77  107   47]\n",
            " [  50   17   45   31]]\n",
            "Test Loss: 1.3341\n",
            "[VALIDATION] Sensitivity: 0.3925, Specificity: 0.6960, Avg ICBHI Score: 0.5443\n",
            "##################################################\n"
          ]
        },
        {
          "name": "stderr",
          "output_type": "stream",
          "text": [
            "MLATT Trainig only: 100%|██████████| 32/32 [00:05<00:00,  5.65it/s]\n"
          ]
        },
        {
          "name": "stdout",
          "output_type": "stream",
          "text": [
            "[Epoch 88 | Train Loss: 0.0576, img_augonly: torch.Size([128, 1, 64, 256])\n",
            "4-Class Confusion Matrix:\n",
            " [[1991   46    4    3]\n",
            " [  46 1138    2   13]\n",
            " [  25    2  457    9]\n",
            " [   4   12   10  334]]\n",
            "Sensitivity: 0.9401, Specificity: 0.9741, ICBHI Score: 0.9571\n",
            "[Validation] Confusion Matrix:\n",
            " [[883 385 290  21]\n",
            " [218 376  25  30]\n",
            " [ 97  68 160  60]\n",
            " [ 30  24  54  35]]\n",
            "Test Loss: 1.3357\n",
            "[VALIDATION] Sensitivity: 0.4851, Specificity: 0.5592, Avg ICBHI Score: 0.5222\n",
            "##################################################\n"
          ]
        },
        {
          "name": "stderr",
          "output_type": "stream",
          "text": [
            "MLATT Trainig only: 100%|██████████| 32/32 [00:05<00:00,  5.58it/s]\n"
          ]
        },
        {
          "name": "stdout",
          "output_type": "stream",
          "text": [
            "[Epoch 89 | Train Loss: 0.0498, img_augonly: torch.Size([128, 1, 64, 256])\n",
            "4-Class Confusion Matrix:\n",
            " [[1992   39   12    1]\n",
            " [  29 1165    1    4]\n",
            " [  21    1  467    4]\n",
            " [   2   18    7  333]]\n",
            "Sensitivity: 0.9576, Specificity: 0.9746, ICBHI Score: 0.9661\n",
            "[Validation] Confusion Matrix:\n",
            " [[1103  291  158   27]\n",
            " [ 299  313   20   17]\n",
            " [ 152   74  106   53]\n",
            " [  42   22   49   30]]\n",
            "Test Loss: 1.2287\n",
            "[VALIDATION] Sensitivity: 0.3815, Specificity: 0.6985, Avg ICBHI Score: 0.5400\n",
            "##################################################\n"
          ]
        },
        {
          "name": "stderr",
          "output_type": "stream",
          "text": [
            "MLATT Trainig only: 100%|██████████| 32/32 [00:05<00:00,  5.70it/s]\n"
          ]
        },
        {
          "name": "stdout",
          "output_type": "stream",
          "text": [
            "[Epoch 90 | Train Loss: 0.0447, img_augonly: torch.Size([128, 1, 64, 256])\n",
            "4-Class Confusion Matrix:\n",
            " [[2009   28    6    1]\n",
            " [  36 1156    1    6]\n",
            " [  20    2  469    2]\n",
            " [   1   10    3  346]]\n",
            "Sensitivity: 0.9605, Specificity: 0.9829, ICBHI Score: 0.9717\n",
            "[Validation] Confusion Matrix:\n",
            " [[1059  325  168   27]\n",
            " [ 312  312   11   14]\n",
            " [ 156   85   96   48]\n",
            " [  50   20   42   31]]\n",
            "Test Loss: 1.3399\n",
            "[VALIDATION] Sensitivity: 0.3730, Specificity: 0.6707, Avg ICBHI Score: 0.5218\n",
            "##################################################\n"
          ]
        },
        {
          "name": "stderr",
          "output_type": "stream",
          "text": [
            "MLATT Trainig only: 100%|██████████| 32/32 [00:05<00:00,  5.60it/s]\n"
          ]
        },
        {
          "name": "stdout",
          "output_type": "stream",
          "text": [
            "[Epoch 91 | Train Loss: 0.0498, img_augonly: torch.Size([128, 1, 64, 256])\n",
            "4-Class Confusion Matrix:\n",
            " [[2010   20   14    0]\n",
            " [  28 1160    2    9]\n",
            " [  25    3  460    5]\n",
            " [   4   21    6  329]]\n",
            "Sensitivity: 0.9498, Specificity: 0.9834, ICBHI Score: 0.9666\n",
            "[Validation] Confusion Matrix:\n",
            " [[1007  373  165   34]\n",
            " [ 243  381   13   12]\n",
            " [ 135   88   93   69]\n",
            " [  42   38   27   36]]\n",
            "Test Loss: 1.2705\n",
            "[VALIDATION] Sensitivity: 0.4333, Specificity: 0.6377, Avg ICBHI Score: 0.5355\n",
            "##################################################\n"
          ]
        },
        {
          "name": "stderr",
          "output_type": "stream",
          "text": [
            "MLATT Trainig only: 100%|██████████| 32/32 [00:05<00:00,  5.61it/s]\n"
          ]
        },
        {
          "name": "stdout",
          "output_type": "stream",
          "text": [
            "[Epoch 92 | Train Loss: 0.0250, img_augonly: torch.Size([128, 1, 64, 256])\n",
            "4-Class Confusion Matrix:\n",
            " [[2027   13    4    0]\n",
            " [   9 1186    1    3]\n",
            " [  11    0  480    2]\n",
            " [   0    8    1  351]]\n",
            "Sensitivity: 0.9829, Specificity: 0.9917, ICBHI Score: 0.9873\n",
            "[Validation] Confusion Matrix:\n",
            " [[1032  262  253   32]\n",
            " [ 307  303   20   19]\n",
            " [ 124   55  144   62]\n",
            " [  41   16   53   33]]\n",
            "Test Loss: 1.3924\n",
            "[VALIDATION] Sensitivity: 0.4078, Specificity: 0.6536, Avg ICBHI Score: 0.5307\n",
            "##################################################\n"
          ]
        },
        {
          "name": "stderr",
          "output_type": "stream",
          "text": [
            "MLATT Trainig only: 100%|██████████| 32/32 [00:05<00:00,  5.59it/s]\n"
          ]
        },
        {
          "name": "stdout",
          "output_type": "stream",
          "text": [
            "[Epoch 93 | Train Loss: 0.0452, img_augonly: torch.Size([128, 1, 64, 256])\n",
            "4-Class Confusion Matrix:\n",
            " [[2004   30    9    1]\n",
            " [  30 1160    0    9]\n",
            " [  24    1  465    3]\n",
            " [   4   13    3  340]]\n",
            "Sensitivity: 0.9576, Specificity: 0.9804, ICBHI Score: 0.9690\n",
            "[Validation] Confusion Matrix:\n",
            " [[1164  185  201   29]\n",
            " [ 346  259   29   15]\n",
            " [ 147   41  141   56]\n",
            " [  43   14   60   26]]\n",
            "Test Loss: 1.3481\n",
            "[VALIDATION] Sensitivity: 0.3619, Specificity: 0.7372, Avg ICBHI Score: 0.5496\n",
            "##################################################\n"
          ]
        },
        {
          "name": "stderr",
          "output_type": "stream",
          "text": [
            "MLATT Trainig only: 100%|██████████| 32/32 [00:05<00:00,  5.56it/s]\n"
          ]
        },
        {
          "name": "stdout",
          "output_type": "stream",
          "text": [
            "[Epoch 94 | Train Loss: 0.0668, img_augonly: torch.Size([128, 1, 64, 256])\n",
            "4-Class Confusion Matrix:\n",
            " [[1997   38    8    1]\n",
            " [  43 1146    0   10]\n",
            " [  33    6  445    9]\n",
            " [   2   25   16  317]]\n",
            "Sensitivity: 0.9298, Specificity: 0.9770, ICBHI Score: 0.9534\n",
            "[Validation] Confusion Matrix:\n",
            " [[906 396 229  48]\n",
            " [213 387  23  26]\n",
            " [ 99  89 120  77]\n",
            " [ 36  31  32  44]]\n",
            "Test Loss: 1.4010\n",
            "[VALIDATION] Sensitivity: 0.4681, Specificity: 0.5738, Avg ICBHI Score: 0.5210\n",
            "##################################################\n"
          ]
        },
        {
          "name": "stderr",
          "output_type": "stream",
          "text": [
            "MLATT Trainig only: 100%|██████████| 32/32 [00:05<00:00,  5.61it/s]\n"
          ]
        },
        {
          "name": "stdout",
          "output_type": "stream",
          "text": [
            "[Epoch 95 | Train Loss: 0.0333, img_augonly: torch.Size([128, 1, 64, 256])\n",
            "4-Class Confusion Matrix:\n",
            " [[2026   16    2    0]\n",
            " [  24 1171    1    3]\n",
            " [   9    0  478    6]\n",
            " [   3   15    1  341]]\n",
            "Sensitivity: 0.9698, Specificity: 0.9912, ICBHI Score: 0.9805\n",
            "[Validation] Confusion Matrix:\n",
            " [[910 449 175  45]\n",
            " [214 395  18  22]\n",
            " [114  92  98  81]\n",
            " [ 36  27  27  53]]\n",
            "Test Loss: 1.3962\n",
            "[VALIDATION] Sensitivity: 0.4639, Specificity: 0.5763, Avg ICBHI Score: 0.5201\n",
            "##################################################\n"
          ]
        },
        {
          "name": "stderr",
          "output_type": "stream",
          "text": [
            "MLATT Trainig only: 100%|██████████| 32/32 [00:05<00:00,  5.56it/s]\n"
          ]
        },
        {
          "name": "stdout",
          "output_type": "stream",
          "text": [
            "[Epoch 96 | Train Loss: 0.0581, img_augonly: torch.Size([128, 1, 64, 256])\n",
            "4-Class Confusion Matrix:\n",
            " [[1999   28   16    1]\n",
            " [  42 1147    0   10]\n",
            " [  39    3  441   10]\n",
            " [   0   20    8  332]]\n",
            "Sensitivity: 0.9357, Specificity: 0.9780, ICBHI Score: 0.9568\n",
            "[Validation] Confusion Matrix:\n",
            " [[1021  319  222   17]\n",
            " [ 277  337   13   22]\n",
            " [ 133   62  129   61]\n",
            " [  42   23   44   34]]\n",
            "Test Loss: 1.3312\n",
            "[VALIDATION] Sensitivity: 0.4248, Specificity: 0.6466, Avg ICBHI Score: 0.5357\n",
            "##################################################\n"
          ]
        },
        {
          "name": "stderr",
          "output_type": "stream",
          "text": [
            "MLATT Trainig only: 100%|██████████| 32/32 [00:05<00:00,  5.68it/s]\n"
          ]
        },
        {
          "name": "stdout",
          "output_type": "stream",
          "text": [
            "[Epoch 97 | Train Loss: 0.0379, img_augonly: torch.Size([128, 1, 64, 256])\n",
            "4-Class Confusion Matrix:\n",
            " [[2014   20    7    3]\n",
            " [  21 1173    1    4]\n",
            " [  20    2  468    3]\n",
            " [   2    7    8  343]]\n",
            "Sensitivity: 0.9669, Specificity: 0.9853, ICBHI Score: 0.9761\n",
            "[Validation] Confusion Matrix:\n",
            " [[919 412 232  16]\n",
            " [231 384  18  16]\n",
            " [121  77 120  67]\n",
            " [ 39  27  34  43]]\n",
            "Test Loss: 1.4835\n",
            "[VALIDATION] Sensitivity: 0.4647, Specificity: 0.5820, Avg ICBHI Score: 0.5234\n",
            "##################################################\n"
          ]
        },
        {
          "name": "stderr",
          "output_type": "stream",
          "text": [
            "MLATT Trainig only: 100%|██████████| 32/32 [00:05<00:00,  5.59it/s]\n"
          ]
        },
        {
          "name": "stdout",
          "output_type": "stream",
          "text": [
            "[Epoch 98 | Train Loss: 0.0412, img_augonly: torch.Size([128, 1, 64, 256])\n",
            "4-Class Confusion Matrix:\n",
            " [[2014   26    4    0]\n",
            " [  27 1168    0    4]\n",
            " [  18    1  468    6]\n",
            " [   1   13   10  336]]\n",
            "Sensitivity: 0.9610, Specificity: 0.9853, ICBHI Score: 0.9732\n",
            "[Validation] Confusion Matrix:\n",
            " [[1181  261  127   10]\n",
            " [ 341  283   14   11]\n",
            " [ 183   60   98   44]\n",
            " [  56   22   44   21]]\n",
            "Test Loss: 1.3370\n",
            "[VALIDATION] Sensitivity: 0.3415, Specificity: 0.7479, Avg ICBHI Score: 0.5447\n",
            "##################################################\n"
          ]
        },
        {
          "name": "stderr",
          "output_type": "stream",
          "text": [
            "MLATT Trainig only: 100%|██████████| 32/32 [00:05<00:00,  5.71it/s]\n"
          ]
        },
        {
          "name": "stdout",
          "output_type": "stream",
          "text": [
            "[Epoch 99 | Train Loss: 0.0296, img_augonly: torch.Size([128, 1, 64, 256])\n",
            "4-Class Confusion Matrix:\n",
            " [[2023   16    5    0]\n",
            " [  21 1173    0    5]\n",
            " [   6    1  480    6]\n",
            " [   1   16    6  337]]\n",
            "Sensitivity: 0.9698, Specificity: 0.9897, ICBHI Score: 0.9798\n",
            "[Validation] Confusion Matrix:\n",
            " [[1033  264  258   24]\n",
            " [ 298  307   22   22]\n",
            " [ 119   61  144   61]\n",
            " [  40   22   48   33]]\n",
            "Test Loss: 1.3546\n",
            "[VALIDATION] Sensitivity: 0.4112, Specificity: 0.6542, Avg ICBHI Score: 0.5327\n",
            "##################################################\n",
            "💾 Saved checkpoint to /home/ressera3/BOAZ-Chungzins/notebook/0721note_ckp/Raw_MultilabelAtt_T_128bs_2507210335_099.pth.tar\n"
          ]
        },
        {
          "name": "stderr",
          "output_type": "stream",
          "text": [
            "MLATT Trainig only: 100%|██████████| 32/32 [00:05<00:00,  5.72it/s]\n"
          ]
        },
        {
          "name": "stdout",
          "output_type": "stream",
          "text": [
            "[Epoch 100 | Train Loss: 0.0531, img_augonly: torch.Size([128, 1, 64, 256])\n",
            "4-Class Confusion Matrix:\n",
            " [[2000   27   17    0]\n",
            " [  31 1158    6    4]\n",
            " [  31    4  451    7]\n",
            " [   5   16   10  329]]\n",
            "Sensitivity: 0.9444, Specificity: 0.9785, ICBHI Score: 0.9615\n",
            "[Validation] Confusion Matrix:\n",
            " [[1158  246  163   12]\n",
            " [ 328  290   21   10]\n",
            " [ 172   56  113   44]\n",
            " [  57   17   43   26]]\n",
            "Test Loss: 1.4692\n",
            "[VALIDATION] Sensitivity: 0.3645, Specificity: 0.7334, Avg ICBHI Score: 0.5489\n",
            "##################################################\n"
          ]
        },
        {
          "name": "stderr",
          "output_type": "stream",
          "text": [
            "MLATT Trainig only: 100%|██████████| 32/32 [00:05<00:00,  5.60it/s]\n"
          ]
        },
        {
          "name": "stdout",
          "output_type": "stream",
          "text": [
            "[Epoch 101 | Train Loss: 0.0396, img_augonly: torch.Size([128, 1, 64, 256])\n",
            "4-Class Confusion Matrix:\n",
            " [[2011   27    6    0]\n",
            " [  21 1174    1    3]\n",
            " [  19    3  465    6]\n",
            " [   1   15    3  341]]\n",
            "Sensitivity: 0.9649, Specificity: 0.9839, ICBHI Score: 0.9744\n",
            "[Validation] Confusion Matrix:\n",
            " [[1039  245  266   29]\n",
            " [ 310  286   30   23]\n",
            " [ 115   49  167   54]\n",
            " [  40   18   61   24]]\n",
            "Test Loss: 1.3425\n",
            "[VALIDATION] Sensitivity: 0.4053, Specificity: 0.6580, Avg ICBHI Score: 0.5316\n",
            "##################################################\n"
          ]
        },
        {
          "name": "stderr",
          "output_type": "stream",
          "text": [
            "MLATT Trainig only: 100%|██████████| 32/32 [00:05<00:00,  5.61it/s]\n"
          ]
        },
        {
          "name": "stdout",
          "output_type": "stream",
          "text": [
            "[Epoch 102 | Train Loss: 0.0372, img_augonly: torch.Size([128, 1, 64, 256])\n",
            "4-Class Confusion Matrix:\n",
            " [[2016   19    8    1]\n",
            " [  22 1174    1    2]\n",
            " [  10    0  480    3]\n",
            " [   1   11   10  338]]\n",
            "Sensitivity: 0.9708, Specificity: 0.9863, ICBHI Score: 0.9785\n",
            "[Validation] Confusion Matrix:\n",
            " [[885 527 145  22]\n",
            " [182 441   9  17]\n",
            " [120 115  82  68]\n",
            " [ 40  38  24  41]]\n",
            "Test Loss: 1.5328\n",
            "[VALIDATION] Sensitivity: 0.4792, Specificity: 0.5605, Avg ICBHI Score: 0.5198\n",
            "##################################################\n"
          ]
        },
        {
          "name": "stderr",
          "output_type": "stream",
          "text": [
            "MLATT Trainig only: 100%|██████████| 32/32 [00:05<00:00,  5.57it/s]\n"
          ]
        },
        {
          "name": "stdout",
          "output_type": "stream",
          "text": [
            "[Epoch 103 | Train Loss: 0.0315, img_augonly: torch.Size([128, 1, 64, 256])\n",
            "4-Class Confusion Matrix:\n",
            " [[2026   15    2    1]\n",
            " [  22 1173    1    3]\n",
            " [  17    0  470    6]\n",
            " [   0    6    9  345]]\n",
            "Sensitivity: 0.9688, Specificity: 0.9912, ICBHI Score: 0.9800\n",
            "[Validation] Confusion Matrix:\n",
            " [[1099  303  155   22]\n",
            " [ 309  315   11   14]\n",
            " [ 158   71   97   59]\n",
            " [  53   23   37   30]]\n",
            "Test Loss: 1.3188\n",
            "[VALIDATION] Sensitivity: 0.3755, Specificity: 0.6960, Avg ICBHI Score: 0.5358\n",
            "##################################################\n"
          ]
        },
        {
          "name": "stderr",
          "output_type": "stream",
          "text": [
            "MLATT Trainig only: 100%|██████████| 32/32 [00:05<00:00,  5.68it/s]\n"
          ]
        },
        {
          "name": "stdout",
          "output_type": "stream",
          "text": [
            "[Epoch 104 | Train Loss: 0.0361, img_augonly: torch.Size([128, 1, 64, 256])\n",
            "4-Class Confusion Matrix:\n",
            " [[2021   15    7    1]\n",
            " [  20 1175    2    2]\n",
            " [  25    1  462    5]\n",
            " [   1    9    4  346]]\n",
            "Sensitivity: 0.9664, Specificity: 0.9887, ICBHI Score: 0.9776\n",
            "[Validation] Confusion Matrix:\n",
            " [[970 321 235  53]\n",
            " [254 337  23  35]\n",
            " [113  58 133  81]\n",
            " [ 34  18  49  42]]\n",
            "Test Loss: 1.3306\n",
            "[VALIDATION] Sensitivity: 0.4350, Specificity: 0.6143, Avg ICBHI Score: 0.5247\n",
            "##################################################\n"
          ]
        },
        {
          "name": "stderr",
          "output_type": "stream",
          "text": [
            "MLATT Trainig only: 100%|██████████| 32/32 [00:05<00:00,  5.66it/s]\n"
          ]
        },
        {
          "name": "stdout",
          "output_type": "stream",
          "text": [
            "[Epoch 105 | Train Loss: 0.0615, img_augonly: torch.Size([128, 1, 64, 256])\n",
            "4-Class Confusion Matrix:\n",
            " [[1995   39    9    1]\n",
            " [  36 1148    2   13]\n",
            " [  31    3  451    8]\n",
            " [   5   18   15  322]]\n",
            "Sensitivity: 0.9362, Specificity: 0.9760, ICBHI Score: 0.9561\n",
            "[Validation] Confusion Matrix:\n",
            " [[1121  293  152   13]\n",
            " [ 304  312   17   16]\n",
            " [ 164   70   98   53]\n",
            " [  54   21   39   29]]\n",
            "Test Loss: 1.2645\n",
            "[VALIDATION] Sensitivity: 0.3730, Specificity: 0.7099, Avg ICBHI Score: 0.5415\n",
            "##################################################\n"
          ]
        },
        {
          "name": "stderr",
          "output_type": "stream",
          "text": [
            "MLATT Trainig only: 100%|██████████| 32/32 [00:05<00:00,  5.66it/s]\n"
          ]
        },
        {
          "name": "stdout",
          "output_type": "stream",
          "text": [
            "[Epoch 106 | Train Loss: 0.0427, img_augonly: torch.Size([128, 1, 64, 256])\n",
            "4-Class Confusion Matrix:\n",
            " [[2017   22    4    1]\n",
            " [  27 1165    2    5]\n",
            " [  17    3  464    9]\n",
            " [   1   16    8  335]]\n",
            "Sensitivity: 0.9571, Specificity: 0.9868, ICBHI Score: 0.9720\n",
            "[Validation] Confusion Matrix:\n",
            " [[1027  365  163   24]\n",
            " [ 258  352   17   22]\n",
            " [ 150   67  109   59]\n",
            " [  44   24   42   33]]\n",
            "Test Loss: 1.2439\n",
            "[VALIDATION] Sensitivity: 0.4197, Specificity: 0.6504, Avg ICBHI Score: 0.5351\n",
            "##################################################\n"
          ]
        },
        {
          "name": "stderr",
          "output_type": "stream",
          "text": [
            "MLATT Trainig only: 100%|██████████| 32/32 [00:05<00:00,  5.61it/s]\n"
          ]
        },
        {
          "name": "stdout",
          "output_type": "stream",
          "text": [
            "[Epoch 107 | Train Loss: 0.0444, img_augonly: torch.Size([128, 1, 64, 256])\n",
            "4-Class Confusion Matrix:\n",
            " [[2005   32    7    0]\n",
            " [  34 1161    0    4]\n",
            " [  21    3  465    4]\n",
            " [   2    7    6  345]]\n",
            "Sensitivity: 0.9605, Specificity: 0.9809, ICBHI Score: 0.9707\n",
            "[Validation] Confusion Matrix:\n",
            " [[894 550  82  53]\n",
            " [173 442  10  24]\n",
            " [121 107  68  89]\n",
            " [ 29  34  21  59]]\n",
            "Test Loss: 1.4322\n",
            "[VALIDATION] Sensitivity: 0.4834, Specificity: 0.5662, Avg ICBHI Score: 0.5248\n",
            "##################################################\n"
          ]
        },
        {
          "name": "stderr",
          "output_type": "stream",
          "text": [
            "MLATT Trainig only: 100%|██████████| 32/32 [00:05<00:00,  5.59it/s]\n"
          ]
        },
        {
          "name": "stdout",
          "output_type": "stream",
          "text": [
            "[Epoch 108 | Train Loss: 0.0752, img_augonly: torch.Size([128, 1, 64, 256])\n",
            "4-Class Confusion Matrix:\n",
            " [[1980   41   17    6]\n",
            " [  47 1146    0    6]\n",
            " [  42    4  442    5]\n",
            " [   5   23   12  320]]\n",
            "Sensitivity: 0.9298, Specificity: 0.9687, ICBHI Score: 0.9493\n",
            "[Validation] Confusion Matrix:\n",
            " [[1100  318  144   17]\n",
            " [ 276  348   12   13]\n",
            " [ 152   76  107   50]\n",
            " [  49   21   43   30]]\n",
            "Test Loss: 1.2795\n",
            "[VALIDATION] Sensitivity: 0.4121, Specificity: 0.6966, Avg ICBHI Score: 0.5544\n",
            "##################################################\n"
          ]
        },
        {
          "name": "stderr",
          "output_type": "stream",
          "text": [
            "MLATT Trainig only: 100%|██████████| 32/32 [00:05<00:00,  5.57it/s]\n"
          ]
        },
        {
          "name": "stdout",
          "output_type": "stream",
          "text": [
            "[Epoch 109 | Train Loss: 0.0284, img_augonly: torch.Size([128, 1, 64, 256])\n",
            "4-Class Confusion Matrix:\n",
            " [[2024   18    1    1]\n",
            " [  14 1180    0    5]\n",
            " [  10    1  480    2]\n",
            " [   0   14    2  344]]\n",
            "Sensitivity: 0.9766, Specificity: 0.9902, ICBHI Score: 0.9834\n",
            "[Validation] Confusion Matrix:\n",
            " [[1030  353  170   26]\n",
            " [ 265  353   10   21]\n",
            " [ 139   69  107   70]\n",
            " [  41   28   32   42]]\n",
            "Test Loss: 1.2546\n",
            "[VALIDATION] Sensitivity: 0.4265, Specificity: 0.6523, Avg ICBHI Score: 0.5394\n",
            "##################################################\n"
          ]
        },
        {
          "name": "stderr",
          "output_type": "stream",
          "text": [
            "MLATT Trainig only: 100%|██████████| 32/32 [00:05<00:00,  5.60it/s]\n"
          ]
        },
        {
          "name": "stdout",
          "output_type": "stream",
          "text": [
            "[Epoch 110 | Train Loss: 0.0261, img_augonly: torch.Size([128, 1, 64, 256])\n",
            "4-Class Confusion Matrix:\n",
            " [[2019   15    7    3]\n",
            " [  13 1186    0    0]\n",
            " [  11    2  479    1]\n",
            " [   1    7    5  347]]\n",
            "Sensitivity: 0.9805, Specificity: 0.9878, ICBHI Score: 0.9841\n",
            "[Validation] Confusion Matrix:\n",
            " [[1088  228  243   20]\n",
            " [ 344  268   19   18]\n",
            " [ 138   56  139   52]\n",
            " [  53   20   49   21]]\n",
            "Test Loss: 1.4668\n",
            "[VALIDATION] Sensitivity: 0.3636, Specificity: 0.6890, Avg ICBHI Score: 0.5263\n",
            "##################################################\n"
          ]
        },
        {
          "name": "stderr",
          "output_type": "stream",
          "text": [
            "MLATT Trainig only: 100%|██████████| 32/32 [00:05<00:00,  5.61it/s]\n"
          ]
        },
        {
          "name": "stdout",
          "output_type": "stream",
          "text": [
            "[Epoch 111 | Train Loss: 0.0289, img_augonly: torch.Size([128, 1, 64, 256])\n",
            "4-Class Confusion Matrix:\n",
            " [[2030    9    5    0]\n",
            " [  15 1181    0    3]\n",
            " [  25    2  463    3]\n",
            " [   1    5    6  348]]\n",
            "Sensitivity: 0.9708, Specificity: 0.9932, ICBHI Score: 0.9820\n",
            "[Validation] Confusion Matrix:\n",
            " [[1073  288  190   28]\n",
            " [ 292  315   19   23]\n",
            " [ 142   59  123   61]\n",
            " [  48   22   45   28]]\n",
            "Test Loss: 1.2927\n",
            "[VALIDATION] Sensitivity: 0.3959, Specificity: 0.6795, Avg ICBHI Score: 0.5377\n",
            "##################################################\n"
          ]
        },
        {
          "name": "stderr",
          "output_type": "stream",
          "text": [
            "MLATT Trainig only: 100%|██████████| 32/32 [00:05<00:00,  5.60it/s]\n"
          ]
        },
        {
          "name": "stdout",
          "output_type": "stream",
          "text": [
            "[Epoch 112 | Train Loss: 0.0390, img_augonly: torch.Size([128, 1, 64, 256])\n",
            "4-Class Confusion Matrix:\n",
            " [[2022   18    4    0]\n",
            " [  30 1161    1    7]\n",
            " [  23    1  461    8]\n",
            " [   3   11    5  341]]\n",
            "Sensitivity: 0.9566, Specificity: 0.9892, ICBHI Score: 0.9729\n",
            "[Validation] Confusion Matrix:\n",
            " [[1040  292  213   34]\n",
            " [ 292  317   17   23]\n",
            " [ 132   59  128   66]\n",
            " [  38   22   44   39]]\n",
            "Test Loss: 1.3713\n",
            "[VALIDATION] Sensitivity: 0.4112, Specificity: 0.6586, Avg ICBHI Score: 0.5349\n",
            "##################################################\n"
          ]
        },
        {
          "name": "stderr",
          "output_type": "stream",
          "text": [
            "MLATT Trainig only: 100%|██████████| 32/32 [00:05<00:00,  5.65it/s]\n"
          ]
        },
        {
          "name": "stdout",
          "output_type": "stream",
          "text": [
            "[Epoch 113 | Train Loss: 0.0309, img_augonly: torch.Size([128, 1, 64, 256])\n",
            "4-Class Confusion Matrix:\n",
            " [[2026   14    4    0]\n",
            " [  16 1179    0    4]\n",
            " [  14    0  471    8]\n",
            " [   0   13    5  342]]\n",
            "Sensitivity: 0.9708, Specificity: 0.9912, ICBHI Score: 0.9810\n",
            "[Validation] Confusion Matrix:\n",
            " [[1209  220  129   21]\n",
            " [ 373  243   17   16]\n",
            " [ 173   51  115   46]\n",
            " [  56   16   46   25]]\n",
            "Test Loss: 1.3486\n",
            "[VALIDATION] Sensitivity: 0.3254, Specificity: 0.7657, Avg ICBHI Score: 0.5455\n",
            "##################################################\n"
          ]
        },
        {
          "name": "stderr",
          "output_type": "stream",
          "text": [
            "MLATT Trainig only: 100%|██████████| 32/32 [00:05<00:00,  5.72it/s]\n"
          ]
        },
        {
          "name": "stdout",
          "output_type": "stream",
          "text": [
            "[Epoch 114 | Train Loss: 0.0220, img_augonly: torch.Size([128, 1, 64, 256])\n",
            "4-Class Confusion Matrix:\n",
            " [[2030   12    2    0]\n",
            " [   9 1190    0    0]\n",
            " [   9    0  482    2]\n",
            " [   1    4    3  352]]\n",
            "Sensitivity: 0.9864, Specificity: 0.9932, ICBHI Score: 0.9898\n",
            "[Validation] Confusion Matrix:\n",
            " [[1136  277  147   19]\n",
            " [ 330  284   16   19]\n",
            " [ 143   68  113   61]\n",
            " [  43   20   49   31]]\n",
            "Test Loss: 1.3191\n",
            "[VALIDATION] Sensitivity: 0.3636, Specificity: 0.7194, Avg ICBHI Score: 0.5415\n",
            "##################################################\n"
          ]
        },
        {
          "name": "stderr",
          "output_type": "stream",
          "text": [
            "MLATT Trainig only: 100%|██████████| 32/32 [00:05<00:00,  5.71it/s]\n"
          ]
        },
        {
          "name": "stdout",
          "output_type": "stream",
          "text": [
            "[Epoch 115 | Train Loss: 0.0310, img_augonly: torch.Size([128, 1, 64, 256])\n",
            "4-Class Confusion Matrix:\n",
            " [[2023   19    1    1]\n",
            " [  19 1177    0    3]\n",
            " [  15    1  472    5]\n",
            " [   1    8    4  347]]\n",
            "Sensitivity: 0.9727, Specificity: 0.9897, ICBHI Score: 0.9812\n",
            "[Validation] Confusion Matrix:\n",
            " [[1174  251  140   14]\n",
            " [ 334  282   16   17]\n",
            " [ 161   64  110   50]\n",
            " [  55   18   43   27]]\n",
            "Test Loss: 1.3034\n",
            "[VALIDATION] Sensitivity: 0.3560, Specificity: 0.7435, Avg ICBHI Score: 0.5497\n",
            "##################################################\n"
          ]
        },
        {
          "name": "stderr",
          "output_type": "stream",
          "text": [
            "MLATT Trainig only: 100%|██████████| 32/32 [00:05<00:00,  5.61it/s]\n"
          ]
        },
        {
          "name": "stdout",
          "output_type": "stream",
          "text": [
            "[Epoch 116 | Train Loss: 0.0252, img_augonly: torch.Size([128, 1, 64, 256])\n",
            "4-Class Confusion Matrix:\n",
            " [[2030    9    4    1]\n",
            " [  12 1184    0    3]\n",
            " [  20    0  469    4]\n",
            " [   2    6    5  347]]\n",
            "Sensitivity: 0.9747, Specificity: 0.9932, ICBHI Score: 0.9839\n",
            "[Validation] Confusion Matrix:\n",
            " [[1128  287  130   34]\n",
            " [ 325  290   12   22]\n",
            " [ 152   73  105   55]\n",
            " [  49   26   32   36]]\n",
            "Test Loss: 1.3335\n",
            "[VALIDATION] Sensitivity: 0.3662, Specificity: 0.7144, Avg ICBHI Score: 0.5403\n",
            "##################################################\n"
          ]
        },
        {
          "name": "stderr",
          "output_type": "stream",
          "text": [
            "MLATT Trainig only: 100%|██████████| 32/32 [00:05<00:00,  5.66it/s]\n"
          ]
        },
        {
          "name": "stdout",
          "output_type": "stream",
          "text": [
            "[Epoch 117 | Train Loss: 0.0296, img_augonly: torch.Size([128, 1, 64, 256])\n",
            "4-Class Confusion Matrix:\n",
            " [[2021   16    7    0]\n",
            " [  15 1178    0    6]\n",
            " [  12    1  476    4]\n",
            " [   1   13    4  342]]\n",
            "Sensitivity: 0.9727, Specificity: 0.9887, ICBHI Score: 0.9807\n",
            "[Validation] Confusion Matrix:\n",
            " [[1085  364  103   27]\n",
            " [ 265  351   13   20]\n",
            " [ 153   71   97   64]\n",
            " [  52   26   28   37]]\n",
            "Test Loss: 1.2333\n",
            "[VALIDATION] Sensitivity: 0.4121, Specificity: 0.6871, Avg ICBHI Score: 0.5496\n",
            "##################################################\n"
          ]
        },
        {
          "name": "stderr",
          "output_type": "stream",
          "text": [
            "MLATT Trainig only: 100%|██████████| 32/32 [00:05<00:00,  5.64it/s]\n"
          ]
        },
        {
          "name": "stdout",
          "output_type": "stream",
          "text": [
            "[Epoch 118 | Train Loss: 0.0454, img_augonly: torch.Size([128, 1, 64, 256])\n",
            "4-Class Confusion Matrix:\n",
            " [[2001   36    7    0]\n",
            " [  21 1171    1    6]\n",
            " [  23    2  461    7]\n",
            " [   1   13    7  339]]\n",
            "Sensitivity: 0.9605, Specificity: 0.9790, ICBHI Score: 0.9697\n",
            "[Validation] Confusion Matrix:\n",
            " [[1199  246  125    9]\n",
            " [ 338  281   15   15]\n",
            " [ 177   49  112   47]\n",
            " [  61   19   38   25]]\n",
            "Test Loss: 1.3330\n",
            "[VALIDATION] Sensitivity: 0.3551, Specificity: 0.7593, Avg ICBHI Score: 0.5572\n",
            "##################################################\n"
          ]
        },
        {
          "name": "stderr",
          "output_type": "stream",
          "text": [
            "MLATT Trainig only: 100%|██████████| 32/32 [00:05<00:00,  5.64it/s]\n"
          ]
        },
        {
          "name": "stdout",
          "output_type": "stream",
          "text": [
            "[Epoch 119 | Train Loss: 0.0330, img_augonly: torch.Size([128, 1, 64, 256])\n",
            "4-Class Confusion Matrix:\n",
            " [[2022   13    9    0]\n",
            " [  19 1177    0    3]\n",
            " [  20    2  466    5]\n",
            " [   2   16    5  337]]\n",
            "Sensitivity: 0.9649, Specificity: 0.9892, ICBHI Score: 0.9771\n",
            "[Validation] Confusion Matrix:\n",
            " [[1115  248  186   30]\n",
            " [ 322  279   22   26]\n",
            " [ 137   50  140   58]\n",
            " [  38   16   58   31]]\n",
            "Test Loss: 1.2447\n",
            "[VALIDATION] Sensitivity: 0.3823, Specificity: 0.7061, Avg ICBHI Score: 0.5442\n",
            "##################################################\n"
          ]
        },
        {
          "name": "stderr",
          "output_type": "stream",
          "text": [
            "MLATT Trainig only: 100%|██████████| 32/32 [00:05<00:00,  5.60it/s]\n"
          ]
        },
        {
          "name": "stdout",
          "output_type": "stream",
          "text": [
            "[Epoch 120 | Train Loss: 0.0244, img_augonly: torch.Size([128, 1, 64, 256])\n",
            "4-Class Confusion Matrix:\n",
            " [[2026   12    6    0]\n",
            " [  10 1185    0    4]\n",
            " [   9    1  482    1]\n",
            " [   0    4    6  350]]\n",
            "Sensitivity: 0.9829, Specificity: 0.9912, ICBHI Score: 0.9871\n",
            "[Validation] Confusion Matrix:\n",
            " [[1106  311  121   41]\n",
            " [ 286  325   11   27]\n",
            " [ 142   74   89   80]\n",
            " [  38   32   26   47]]\n",
            "Test Loss: 1.2636\n",
            "[VALIDATION] Sensitivity: 0.3917, Specificity: 0.7004, Avg ICBHI Score: 0.5461\n",
            "##################################################\n"
          ]
        },
        {
          "name": "stderr",
          "output_type": "stream",
          "text": [
            "MLATT Trainig only: 100%|██████████| 32/32 [00:05<00:00,  5.63it/s]\n"
          ]
        },
        {
          "name": "stdout",
          "output_type": "stream",
          "text": [
            "[Epoch 121 | Train Loss: 0.0328, img_augonly: torch.Size([128, 1, 64, 256])\n",
            "4-Class Confusion Matrix:\n",
            " [[2022   15    7    0]\n",
            " [  19 1174    0    6]\n",
            " [  19    0  472    2]\n",
            " [   3    8    4  345]]\n",
            "Sensitivity: 0.9703, Specificity: 0.9892, ICBHI Score: 0.9798\n",
            "[Validation] Confusion Matrix:\n",
            " [[1238  147  179   15]\n",
            " [ 403  206   22   18]\n",
            " [ 169   37  139   40]\n",
            " [  59   15   49   20]]\n",
            "Test Loss: 1.3495\n",
            "[VALIDATION] Sensitivity: 0.3101, Specificity: 0.7840, Avg ICBHI Score: 0.5471\n",
            "##################################################\n"
          ]
        },
        {
          "name": "stderr",
          "output_type": "stream",
          "text": [
            "MLATT Trainig only: 100%|██████████| 32/32 [00:05<00:00,  5.61it/s]\n"
          ]
        },
        {
          "name": "stdout",
          "output_type": "stream",
          "text": [
            "[Epoch 122 | Train Loss: 0.0186, img_augonly: torch.Size([128, 1, 64, 256])\n",
            "4-Class Confusion Matrix:\n",
            " [[2035    7    2    0]\n",
            " [  14 1183    0    2]\n",
            " [   9    0  484    0]\n",
            " [   0    5    1  354]]\n",
            "Sensitivity: 0.9849, Specificity: 0.9956, ICBHI Score: 0.9902\n",
            "[Validation] Confusion Matrix:\n",
            " [[1110  266  179   24]\n",
            " [ 287  327   13   22]\n",
            " [ 151   50  124   60]\n",
            " [  45   22   42   34]]\n",
            "Test Loss: 1.3021\n",
            "[VALIDATION] Sensitivity: 0.4121, Specificity: 0.7030, Avg ICBHI Score: 0.5575\n",
            "##################################################\n"
          ]
        },
        {
          "name": "stderr",
          "output_type": "stream",
          "text": [
            "MLATT Trainig only: 100%|██████████| 32/32 [00:05<00:00,  5.60it/s]\n"
          ]
        },
        {
          "name": "stdout",
          "output_type": "stream",
          "text": [
            "[Epoch 123 | Train Loss: 0.0219, img_augonly: torch.Size([128, 1, 64, 256])\n",
            "4-Class Confusion Matrix:\n",
            " [[2031    9    4    0]\n",
            " [  12 1182    0    5]\n",
            " [  10    1  478    4]\n",
            " [   0    9    3  348]]\n",
            "Sensitivity: 0.9786, Specificity: 0.9936, ICBHI Score: 0.9861\n",
            "[Validation] Confusion Matrix:\n",
            " [[999 299 254  27]\n",
            " [285 316  23  25]\n",
            " [118  55 138  74]\n",
            " [ 39  21  50  33]]\n",
            "Test Loss: 1.4462\n",
            "[VALIDATION] Sensitivity: 0.4138, Specificity: 0.6327, Avg ICBHI Score: 0.5232\n",
            "##################################################\n"
          ]
        },
        {
          "name": "stderr",
          "output_type": "stream",
          "text": [
            "MLATT Trainig only: 100%|██████████| 32/32 [00:05<00:00,  5.65it/s]\n"
          ]
        },
        {
          "name": "stdout",
          "output_type": "stream",
          "text": [
            "[Epoch 124 | Train Loss: 0.0399, img_augonly: torch.Size([128, 1, 64, 256])\n",
            "4-Class Confusion Matrix:\n",
            " [[2020   19    5    0]\n",
            " [  18 1168    1   12]\n",
            " [  31    1  460    1]\n",
            " [   2    9    8  341]]\n",
            "Sensitivity: 0.9596, Specificity: 0.9883, ICBHI Score: 0.9739\n",
            "[Validation] Confusion Matrix:\n",
            " [[1117  225  218   19]\n",
            " [ 350  262   21   16]\n",
            " [ 149   49  131   56]\n",
            " [  47   16   49   31]]\n",
            "Test Loss: 1.3817\n",
            "[VALIDATION] Sensitivity: 0.3602, Specificity: 0.7074, Avg ICBHI Score: 0.5338\n",
            "##################################################\n"
          ]
        },
        {
          "name": "stderr",
          "output_type": "stream",
          "text": [
            "MLATT Trainig only: 100%|██████████| 32/32 [00:05<00:00,  5.61it/s]\n"
          ]
        },
        {
          "name": "stdout",
          "output_type": "stream",
          "text": [
            "[Epoch 125 | Train Loss: 0.0288, img_augonly: torch.Size([128, 1, 64, 256])\n",
            "4-Class Confusion Matrix:\n",
            " [[2026   11    6    1]\n",
            " [  17 1173    0    9]\n",
            " [  21    2  467    3]\n",
            " [   1   13    4  342]]\n",
            "Sensitivity: 0.9659, Specificity: 0.9912, ICBHI Score: 0.9785\n",
            "[Validation] Confusion Matrix:\n",
            " [[1089  232  234   24]\n",
            " [ 351  257   22   19]\n",
            " [ 140   44  139   62]\n",
            " [  46   17   51   29]]\n",
            "Test Loss: 1.3993\n",
            "[VALIDATION] Sensitivity: 0.3611, Specificity: 0.6897, Avg ICBHI Score: 0.5254\n",
            "##################################################\n"
          ]
        },
        {
          "name": "stderr",
          "output_type": "stream",
          "text": [
            "MLATT Trainig only: 100%|██████████| 32/32 [00:05<00:00,  5.59it/s]\n"
          ]
        },
        {
          "name": "stdout",
          "output_type": "stream",
          "text": [
            "[Epoch 126 | Train Loss: 0.0165, img_augonly: torch.Size([128, 1, 64, 256])\n",
            "4-Class Confusion Matrix:\n",
            " [[2034    7    3    0]\n",
            " [   9 1189    0    1]\n",
            " [   9    0  483    1]\n",
            " [   0    6    0  354]]\n",
            "Sensitivity: 0.9873, Specificity: 0.9951, ICBHI Score: 0.9912\n",
            "[Validation] Confusion Matrix:\n",
            " [[1091  239  226   23]\n",
            " [ 326  282   17   24]\n",
            " [ 151   46  124   64]\n",
            " [  48   17   48   30]]\n",
            "Test Loss: 1.3706\n",
            "[VALIDATION] Sensitivity: 0.3704, Specificity: 0.6909, Avg ICBHI Score: 0.5307\n",
            "##################################################\n"
          ]
        },
        {
          "name": "stderr",
          "output_type": "stream",
          "text": [
            "MLATT Trainig only: 100%|██████████| 32/32 [00:05<00:00,  5.64it/s]\n"
          ]
        },
        {
          "name": "stdout",
          "output_type": "stream",
          "text": [
            "[Epoch 127 | Train Loss: 0.0232, img_augonly: torch.Size([128, 1, 64, 256])\n",
            "4-Class Confusion Matrix:\n",
            " [[2032   10    2    0]\n",
            " [   7 1186    1    5]\n",
            " [   8    1  483    1]\n",
            " [   2    4    3  351]]\n",
            "Sensitivity: 0.9844, Specificity: 0.9941, ICBHI Score: 0.9893\n",
            "[Validation] Confusion Matrix:\n",
            " [[1124  207  228   20]\n",
            " [ 364  245   22   18]\n",
            " [ 152   47  140   46]\n",
            " [  54   17   46   26]]\n",
            "Test Loss: 1.4728\n",
            "[VALIDATION] Sensitivity: 0.3492, Specificity: 0.7118, Avg ICBHI Score: 0.5305\n",
            "##################################################\n"
          ]
        },
        {
          "name": "stderr",
          "output_type": "stream",
          "text": [
            "MLATT Trainig only: 100%|██████████| 32/32 [00:05<00:00,  5.65it/s]\n"
          ]
        },
        {
          "name": "stdout",
          "output_type": "stream",
          "text": [
            "[Epoch 128 | Train Loss: 0.0300, img_augonly: torch.Size([128, 1, 64, 256])\n",
            "4-Class Confusion Matrix:\n",
            " [[2013   20   10    1]\n",
            " [  11 1185    0    3]\n",
            " [  17    2  474    0]\n",
            " [   2   11    0  347]]\n",
            "Sensitivity: 0.9776, Specificity: 0.9848, ICBHI Score: 0.9812\n",
            "[Validation] Confusion Matrix:\n",
            " [[1149  219  185   26]\n",
            " [ 356  252   20   21]\n",
            " [ 163   40  124   58]\n",
            " [  47   17   45   34]]\n",
            "Test Loss: 1.3261\n",
            "[VALIDATION] Sensitivity: 0.3483, Specificity: 0.7277, Avg ICBHI Score: 0.5380\n",
            "##################################################\n"
          ]
        },
        {
          "name": "stderr",
          "output_type": "stream",
          "text": [
            "MLATT Trainig only: 100%|██████████| 32/32 [00:05<00:00,  5.62it/s]\n"
          ]
        },
        {
          "name": "stdout",
          "output_type": "stream",
          "text": [
            "[Epoch 129 | Train Loss: 0.0183, img_augonly: torch.Size([128, 1, 64, 256])\n",
            "4-Class Confusion Matrix:\n",
            " [[2035    4    5    0]\n",
            " [  13 1186    0    0]\n",
            " [  15    0  477    1]\n",
            " [   0    3    4  353]]\n",
            "Sensitivity: 0.9825, Specificity: 0.9956, ICBHI Score: 0.9890\n",
            "[Validation] Confusion Matrix:\n",
            " [[1075  250  227   27]\n",
            " [ 335  280   16   18]\n",
            " [ 143   59  127   56]\n",
            " [  51   19   41   32]]\n",
            "Test Loss: 1.4704\n",
            "[VALIDATION] Sensitivity: 0.3730, Specificity: 0.6808, Avg ICBHI Score: 0.5269\n",
            "##################################################\n"
          ]
        },
        {
          "name": "stderr",
          "output_type": "stream",
          "text": [
            "MLATT Trainig only: 100%|██████████| 32/32 [00:05<00:00,  5.59it/s]\n"
          ]
        },
        {
          "name": "stdout",
          "output_type": "stream",
          "text": [
            "[Epoch 130 | Train Loss: 0.0261, img_augonly: torch.Size([128, 1, 64, 256])\n",
            "4-Class Confusion Matrix:\n",
            " [[2027    9    7    1]\n",
            " [  11 1186    0    2]\n",
            " [  16    0  474    3]\n",
            " [   0   10    2  348]]\n",
            "Sensitivity: 0.9786, Specificity: 0.9917, ICBHI Score: 0.9851\n",
            "[Validation] Confusion Matrix:\n",
            " [[1084  326  149   20]\n",
            " [ 289  327   18   15]\n",
            " [ 149   71  100   65]\n",
            " [  49   24   36   34]]\n",
            "Test Loss: 1.3991\n",
            "[VALIDATION] Sensitivity: 0.3917, Specificity: 0.6865, Avg ICBHI Score: 0.5391\n",
            "##################################################\n"
          ]
        },
        {
          "name": "stderr",
          "output_type": "stream",
          "text": [
            "MLATT Trainig only: 100%|██████████| 32/32 [00:05<00:00,  5.67it/s]\n"
          ]
        },
        {
          "name": "stdout",
          "output_type": "stream",
          "text": [
            "[Epoch 131 | Train Loss: 0.0318, img_augonly: torch.Size([128, 1, 64, 256])\n",
            "4-Class Confusion Matrix:\n",
            " [[2022   19    3    0]\n",
            " [  27 1167    0    5]\n",
            " [  17    0  470    6]\n",
            " [   1    5    6  348]]\n",
            "Sensitivity: 0.9673, Specificity: 0.9892, ICBHI Score: 0.9783\n",
            "[Validation] Confusion Matrix:\n",
            " [[1105  238  208   28]\n",
            " [ 338  265   20   26]\n",
            " [ 132   60  127   66]\n",
            " [  45   20   48   30]]\n",
            "Test Loss: 1.4487\n",
            "[VALIDATION] Sensitivity: 0.3585, Specificity: 0.6998, Avg ICBHI Score: 0.5292\n",
            "##################################################\n"
          ]
        },
        {
          "name": "stderr",
          "output_type": "stream",
          "text": [
            "MLATT Trainig only: 100%|██████████| 32/32 [00:05<00:00,  5.63it/s]\n"
          ]
        },
        {
          "name": "stdout",
          "output_type": "stream",
          "text": [
            "[Epoch 132 | Train Loss: 0.0234, img_augonly: torch.Size([128, 1, 64, 256])\n",
            "4-Class Confusion Matrix:\n",
            " [[2023   16    5    0]\n",
            " [   9 1189    0    1]\n",
            " [  14    1  474    4]\n",
            " [   0    3    4  353]]\n",
            "Sensitivity: 0.9825, Specificity: 0.9897, ICBHI Score: 0.9861\n",
            "[Validation] Confusion Matrix:\n",
            " [[1125  214  219   21]\n",
            " [ 348  257   23   21]\n",
            " [ 145   44  139   57]\n",
            " [  46   18   55   24]]\n",
            "Test Loss: 1.4344\n",
            "[VALIDATION] Sensitivity: 0.3568, Specificity: 0.7125, Avg ICBHI Score: 0.5347\n",
            "##################################################\n"
          ]
        },
        {
          "name": "stderr",
          "output_type": "stream",
          "text": [
            "MLATT Trainig only: 100%|██████████| 32/32 [00:05<00:00,  5.60it/s]\n"
          ]
        },
        {
          "name": "stdout",
          "output_type": "stream",
          "text": [
            "[Epoch 133 | Train Loss: 0.0257, img_augonly: torch.Size([128, 1, 64, 256])\n",
            "4-Class Confusion Matrix:\n",
            " [[2020   13   10    1]\n",
            " [  14 1181    1    3]\n",
            " [  11    0  481    1]\n",
            " [   0    3    6  351]]\n",
            "Sensitivity: 0.9810, Specificity: 0.9883, ICBHI Score: 0.9846\n",
            "[Validation] Confusion Matrix:\n",
            " [[1126  245  183   25]\n",
            " [ 353  260   18   18]\n",
            " [ 148   55  112   70]\n",
            " [  45   25   39   34]]\n",
            "Test Loss: 1.4492\n",
            "[VALIDATION] Sensitivity: 0.3449, Specificity: 0.7131, Avg ICBHI Score: 0.5290\n",
            "##################################################\n"
          ]
        },
        {
          "name": "stderr",
          "output_type": "stream",
          "text": [
            "MLATT Trainig only: 100%|██████████| 32/32 [00:05<00:00,  5.65it/s]\n"
          ]
        },
        {
          "name": "stdout",
          "output_type": "stream",
          "text": [
            "[Epoch 134 | Train Loss: 0.0319, img_augonly: torch.Size([128, 1, 64, 256])\n",
            "4-Class Confusion Matrix:\n",
            " [[2022   14    7    1]\n",
            " [  24 1172    0    3]\n",
            " [  13    2  471    7]\n",
            " [   4   10    4  342]]\n",
            "Sensitivity: 0.9673, Specificity: 0.9892, ICBHI Score: 0.9783\n",
            "[Validation] Confusion Matrix:\n",
            " [[1150  225  179   25]\n",
            " [ 368  243   20   18]\n",
            " [ 151   53  122   59]\n",
            " [  49   18   53   23]]\n",
            "Test Loss: 1.4147\n",
            "[VALIDATION] Sensitivity: 0.3297, Specificity: 0.7283, Avg ICBHI Score: 0.5290\n",
            "##################################################\n"
          ]
        },
        {
          "name": "stderr",
          "output_type": "stream",
          "text": [
            "MLATT Trainig only: 100%|██████████| 32/32 [00:05<00:00,  5.55it/s]\n"
          ]
        },
        {
          "name": "stdout",
          "output_type": "stream",
          "text": [
            "[Epoch 135 | Train Loss: 0.0288, img_augonly: torch.Size([128, 1, 64, 256])\n",
            "4-Class Confusion Matrix:\n",
            " [[2024   15    5    0]\n",
            " [  17 1178    0    4]\n",
            " [  16    0  474    3]\n",
            " [   2    5    2  351]]\n",
            "Sensitivity: 0.9761, Specificity: 0.9902, ICBHI Score: 0.9832\n",
            "[Validation] Confusion Matrix:\n",
            " [[1039  333  185   22]\n",
            " [ 274  340   15   20]\n",
            " [ 135   73  104   73]\n",
            " [  48   24   35   36]]\n",
            "Test Loss: 1.4117\n",
            "[VALIDATION] Sensitivity: 0.4078, Specificity: 0.6580, Avg ICBHI Score: 0.5329\n",
            "##################################################\n"
          ]
        },
        {
          "name": "stderr",
          "output_type": "stream",
          "text": [
            "MLATT Trainig only: 100%|██████████| 32/32 [00:05<00:00,  5.55it/s]\n"
          ]
        },
        {
          "name": "stdout",
          "output_type": "stream",
          "text": [
            "[Epoch 136 | Train Loss: 0.0309, img_augonly: torch.Size([128, 1, 64, 256])\n",
            "4-Class Confusion Matrix:\n",
            " [[2024   16    3    1]\n",
            " [  20 1175    1    3]\n",
            " [  20    4  463    6]\n",
            " [   0    7    2  351]]\n",
            "Sensitivity: 0.9693, Specificity: 0.9902, ICBHI Score: 0.9798\n",
            "[Validation] Confusion Matrix:\n",
            " [[1024  298  233   24]\n",
            " [ 303  297   23   26]\n",
            " [ 126   57  127   75]\n",
            " [  39   22   48   34]]\n",
            "Test Loss: 1.4171\n",
            "[VALIDATION] Sensitivity: 0.3891, Specificity: 0.6485, Avg ICBHI Score: 0.5188\n",
            "##################################################\n"
          ]
        },
        {
          "name": "stderr",
          "output_type": "stream",
          "text": [
            "MLATT Trainig only: 100%|██████████| 32/32 [00:05<00:00,  5.67it/s]\n"
          ]
        },
        {
          "name": "stdout",
          "output_type": "stream",
          "text": [
            "[Epoch 137 | Train Loss: 0.0131, img_augonly: torch.Size([128, 1, 64, 256])\n",
            "4-Class Confusion Matrix:\n",
            " [[2036    5    3    0]\n",
            " [   6 1191    0    2]\n",
            " [   3    0  488    2]\n",
            " [   0    2    1  357]]\n",
            "Sensitivity: 0.9922, Specificity: 0.9961, ICBHI Score: 0.9941\n",
            "[Validation] Confusion Matrix:\n",
            " [[1111  239  218   11]\n",
            " [ 343  273   19   14]\n",
            " [ 152   49  141   43]\n",
            " [  57   16   47   23]]\n",
            "Test Loss: 1.4390\n",
            "[VALIDATION] Sensitivity: 0.3713, Specificity: 0.7036, Avg ICBHI Score: 0.5374\n",
            "##################################################\n"
          ]
        },
        {
          "name": "stderr",
          "output_type": "stream",
          "text": [
            "MLATT Trainig only: 100%|██████████| 32/32 [00:05<00:00,  5.63it/s]\n"
          ]
        },
        {
          "name": "stdout",
          "output_type": "stream",
          "text": [
            "[Epoch 138 | Train Loss: 0.0288, img_augonly: torch.Size([128, 1, 64, 256])\n",
            "4-Class Confusion Matrix:\n",
            " [[2024   15    5    0]\n",
            " [  20 1175    0    4]\n",
            " [   8    1  483    1]\n",
            " [   2   14    5  339]]\n",
            "Sensitivity: 0.9732, Specificity: 0.9902, ICBHI Score: 0.9817\n",
            "[Validation] Confusion Matrix:\n",
            " [[1141  236  184   18]\n",
            " [ 367  242   20   20]\n",
            " [ 159   45  129   52]\n",
            " [  55   16   50   22]]\n",
            "Test Loss: 1.4515\n",
            "[VALIDATION] Sensitivity: 0.3339, Specificity: 0.7226, Avg ICBHI Score: 0.5283\n",
            "##################################################\n"
          ]
        },
        {
          "name": "stderr",
          "output_type": "stream",
          "text": [
            "MLATT Trainig only: 100%|██████████| 32/32 [00:05<00:00,  5.64it/s]\n"
          ]
        },
        {
          "name": "stdout",
          "output_type": "stream",
          "text": [
            "[Epoch 139 | Train Loss: 0.0153, img_augonly: torch.Size([128, 1, 64, 256])\n",
            "4-Class Confusion Matrix:\n",
            " [[2032   10    1    1]\n",
            " [   8 1188    0    3]\n",
            " [   8    0  480    5]\n",
            " [   0    4    1  355]]\n",
            "Sensitivity: 0.9859, Specificity: 0.9941, ICBHI Score: 0.9900\n",
            "[Validation] Confusion Matrix:\n",
            " [[1101  251  202   25]\n",
            " [ 335  275   21   18]\n",
            " [ 145   56  131   53]\n",
            " [  43   20   52   28]]\n",
            "Test Loss: 1.4069\n",
            "[VALIDATION] Sensitivity: 0.3687, Specificity: 0.6973, Avg ICBHI Score: 0.5330\n",
            "##################################################\n"
          ]
        },
        {
          "name": "stderr",
          "output_type": "stream",
          "text": [
            "MLATT Trainig only: 100%|██████████| 32/32 [00:05<00:00,  5.58it/s]\n"
          ]
        },
        {
          "name": "stdout",
          "output_type": "stream",
          "text": [
            "[Epoch 140 | Train Loss: 0.0322, img_augonly: torch.Size([128, 1, 64, 256])\n",
            "4-Class Confusion Matrix:\n",
            " [[2019   20    5    0]\n",
            " [  16 1173    0   10]\n",
            " [  13    3  474    3]\n",
            " [   1    7    2  350]]\n",
            "Sensitivity: 0.9732, Specificity: 0.9878, ICBHI Score: 0.9805\n",
            "[Validation] Confusion Matrix:\n",
            " [[1159  231  176   13]\n",
            " [ 366  248   18   17]\n",
            " [ 158   53  127   47]\n",
            " [  48   18   51   26]]\n",
            "Test Loss: 1.3604\n",
            "[VALIDATION] Sensitivity: 0.3407, Specificity: 0.7340, Avg ICBHI Score: 0.5374\n",
            "##################################################\n"
          ]
        },
        {
          "name": "stderr",
          "output_type": "stream",
          "text": [
            "MLATT Trainig only: 100%|██████████| 32/32 [00:05<00:00,  5.66it/s]\n"
          ]
        },
        {
          "name": "stdout",
          "output_type": "stream",
          "text": [
            "[Epoch 141 | Train Loss: 0.0222, img_augonly: torch.Size([128, 1, 64, 256])\n",
            "4-Class Confusion Matrix:\n",
            " [[2024   12    7    1]\n",
            " [  20 1177    0    2]\n",
            " [  15    0  477    1]\n",
            " [   3    2    2  353]]\n",
            "Sensitivity: 0.9781, Specificity: 0.9902, ICBHI Score: 0.9841\n",
            "[Validation] Confusion Matrix:\n",
            " [[1106  260  195   18]\n",
            " [ 325  287   17   20]\n",
            " [ 148   56  128   53]\n",
            " [  46   19   48   30]]\n",
            "Test Loss: 1.4111\n",
            "[VALIDATION] Sensitivity: 0.3781, Specificity: 0.7004, Avg ICBHI Score: 0.5393\n",
            "##################################################\n"
          ]
        },
        {
          "name": "stderr",
          "output_type": "stream",
          "text": [
            "MLATT Trainig only: 100%|██████████| 32/32 [00:05<00:00,  5.58it/s]\n"
          ]
        },
        {
          "name": "stdout",
          "output_type": "stream",
          "text": [
            "[Epoch 142 | Train Loss: 0.0263, img_augonly: torch.Size([128, 1, 64, 256])\n",
            "4-Class Confusion Matrix:\n",
            " [[2022   12   10    0]\n",
            " [  21 1176    0    2]\n",
            " [  10    1  479    3]\n",
            " [   1   11    4  344]]\n",
            "Sensitivity: 0.9742, Specificity: 0.9892, ICBHI Score: 0.9817\n",
            "[Validation] Confusion Matrix:\n",
            " [[1057  283  213   26]\n",
            " [ 296  312   19   22]\n",
            " [ 135   59  134   57]\n",
            " [  39   22   45   37]]\n",
            "Test Loss: 1.3828\n",
            "[VALIDATION] Sensitivity: 0.4104, Specificity: 0.6694, Avg ICBHI Score: 0.5399\n",
            "##################################################\n"
          ]
        },
        {
          "name": "stderr",
          "output_type": "stream",
          "text": [
            "MLATT Trainig only: 100%|██████████| 32/32 [00:05<00:00,  5.68it/s]\n"
          ]
        },
        {
          "name": "stdout",
          "output_type": "stream",
          "text": [
            "[Epoch 143 | Train Loss: 0.0239, img_augonly: torch.Size([128, 1, 64, 256])\n",
            "4-Class Confusion Matrix:\n",
            " [[2030    7    7    0]\n",
            " [  15 1181    0    3]\n",
            " [  16    1  473    3]\n",
            " [   0    6    2  352]]\n",
            "Sensitivity: 0.9776, Specificity: 0.9932, ICBHI Score: 0.9854\n",
            "[Validation] Confusion Matrix:\n",
            " [[1140  222  199   18]\n",
            " [ 347  261   21   20]\n",
            " [ 151   45  140   49]\n",
            " [  45   17   57   24]]\n",
            "Test Loss: 1.4076\n",
            "[VALIDATION] Sensitivity: 0.3611, Specificity: 0.7220, Avg ICBHI Score: 0.5415\n",
            "##################################################\n"
          ]
        },
        {
          "name": "stderr",
          "output_type": "stream",
          "text": [
            "MLATT Trainig only: 100%|██████████| 32/32 [00:05<00:00,  5.70it/s]\n"
          ]
        },
        {
          "name": "stdout",
          "output_type": "stream",
          "text": [
            "[Epoch 144 | Train Loss: 0.0222, img_augonly: torch.Size([128, 1, 64, 256])\n",
            "4-Class Confusion Matrix:\n",
            " [[2026   16    2    0]\n",
            " [  10 1186    0    3]\n",
            " [  12    1  477    3]\n",
            " [   2    8    4  346]]\n",
            "Sensitivity: 0.9790, Specificity: 0.9912, ICBHI Score: 0.9851\n",
            "[Validation] Confusion Matrix:\n",
            " [[1129  261  164   25]\n",
            " [ 341  269   20   19]\n",
            " [ 145   56  126   58]\n",
            " [  49   18   45   31]]\n",
            "Test Loss: 1.4470\n",
            "[VALIDATION] Sensitivity: 0.3619, Specificity: 0.7150, Avg ICBHI Score: 0.5385\n",
            "##################################################\n"
          ]
        },
        {
          "name": "stderr",
          "output_type": "stream",
          "text": [
            "MLATT Trainig only: 100%|██████████| 32/32 [00:05<00:00,  5.67it/s]\n"
          ]
        },
        {
          "name": "stdout",
          "output_type": "stream",
          "text": [
            "[Epoch 145 | Train Loss: 0.0139, img_augonly: torch.Size([128, 1, 64, 256])\n",
            "4-Class Confusion Matrix:\n",
            " [[2036    5    2    1]\n",
            " [   7 1192    0    0]\n",
            " [   9    0  479    5]\n",
            " [   0    3    3  354]]\n",
            "Sensitivity: 0.9868, Specificity: 0.9961, ICBHI Score: 0.9915\n",
            "[Validation] Confusion Matrix:\n",
            " [[1114  261  182   22]\n",
            " [ 326  289   13   21]\n",
            " [ 149   60  117   59]\n",
            " [  46   21   40   36]]\n",
            "Test Loss: 1.4203\n",
            "[VALIDATION] Sensitivity: 0.3755, Specificity: 0.7055, Avg ICBHI Score: 0.5405\n",
            "##################################################\n"
          ]
        },
        {
          "name": "stderr",
          "output_type": "stream",
          "text": [
            "MLATT Trainig only: 100%|██████████| 32/32 [00:05<00:00,  5.64it/s]\n"
          ]
        },
        {
          "name": "stdout",
          "output_type": "stream",
          "text": [
            "[Epoch 146 | Train Loss: 0.0199, img_augonly: torch.Size([128, 1, 64, 256])\n",
            "4-Class Confusion Matrix:\n",
            " [[2030   11    3    0]\n",
            " [  10 1187    0    2]\n",
            " [   9    1  480    3]\n",
            " [   1    6    1  352]]\n",
            "Sensitivity: 0.9839, Specificity: 0.9932, ICBHI Score: 0.9885\n",
            "[Validation] Confusion Matrix:\n",
            " [[1136  234  189   20]\n",
            " [ 340  275   14   20]\n",
            " [ 151   51  131   52]\n",
            " [  52   17   45   29]]\n",
            "Test Loss: 1.3841\n",
            "[VALIDATION] Sensitivity: 0.3696, Specificity: 0.7194, Avg ICBHI Score: 0.5445\n",
            "##################################################\n"
          ]
        },
        {
          "name": "stderr",
          "output_type": "stream",
          "text": [
            "MLATT Trainig only: 100%|██████████| 32/32 [00:05<00:00,  5.59it/s]\n"
          ]
        },
        {
          "name": "stdout",
          "output_type": "stream",
          "text": [
            "[Epoch 147 | Train Loss: 0.0170, img_augonly: torch.Size([128, 1, 64, 256])\n",
            "4-Class Confusion Matrix:\n",
            " [[2035    7    2    0]\n",
            " [  10 1188    0    1]\n",
            " [  10    0  479    4]\n",
            " [   0    3    5  352]]\n",
            "Sensitivity: 0.9839, Specificity: 0.9956, ICBHI Score: 0.9898\n",
            "[Validation] Confusion Matrix:\n",
            " [[1085  282  192   20]\n",
            " [ 312  296   17   24]\n",
            " [ 136   62  124   63]\n",
            " [  51   21   43   28]]\n",
            "Test Loss: 1.4031\n",
            "[VALIDATION] Sensitivity: 0.3806, Specificity: 0.6871, Avg ICBHI Score: 0.5339\n",
            "##################################################\n"
          ]
        },
        {
          "name": "stderr",
          "output_type": "stream",
          "text": [
            "MLATT Trainig only: 100%|██████████| 32/32 [00:05<00:00,  5.57it/s]\n"
          ]
        },
        {
          "name": "stdout",
          "output_type": "stream",
          "text": [
            "[Epoch 148 | Train Loss: 0.0203, img_augonly: torch.Size([128, 1, 64, 256])\n",
            "4-Class Confusion Matrix:\n",
            " [[2030    9    4    1]\n",
            " [  10 1186    0    3]\n",
            " [  10    1  477    5]\n",
            " [   0    5    2  353]]\n",
            "Sensitivity: 0.9825, Specificity: 0.9932, ICBHI Score: 0.9878\n",
            "[Validation] Confusion Matrix:\n",
            " [[1173  215  176   15]\n",
            " [ 351  266   18   14]\n",
            " [ 171   53  122   39]\n",
            " [  62   15   43   23]]\n",
            "Test Loss: 1.4587\n",
            "[VALIDATION] Sensitivity: 0.3492, Specificity: 0.7429, Avg ICBHI Score: 0.5460\n",
            "##################################################\n"
          ]
        },
        {
          "name": "stderr",
          "output_type": "stream",
          "text": [
            "MLATT Trainig only: 100%|██████████| 32/32 [00:05<00:00,  5.51it/s]\n"
          ]
        },
        {
          "name": "stdout",
          "output_type": "stream",
          "text": [
            "[Epoch 149 | Train Loss: 0.0183, img_augonly: torch.Size([128, 1, 64, 256])\n",
            "4-Class Confusion Matrix:\n",
            " [[2034    8    2    0]\n",
            " [  11 1188    0    0]\n",
            " [  12    1  478    2]\n",
            " [   0    6    2  352]]\n",
            "Sensitivity: 0.9834, Specificity: 0.9951, ICBHI Score: 0.9893\n",
            "[Validation] Confusion Matrix:\n",
            " [[1097  237  215   30]\n",
            " [ 329  283   17   20]\n",
            " [ 147   50  132   56]\n",
            " [  45   19   45   34]]\n",
            "Test Loss: 1.4244\n",
            "[VALIDATION] Sensitivity: 0.3815, Specificity: 0.6947, Avg ICBHI Score: 0.5381\n",
            "##################################################\n"
          ]
        },
        {
          "name": "stderr",
          "output_type": "stream",
          "text": [
            "MLATT Trainig only: 100%|██████████| 32/32 [00:05<00:00,  5.60it/s]\n"
          ]
        },
        {
          "name": "stdout",
          "output_type": "stream",
          "text": [
            "[Epoch 150 | Train Loss: 0.0140, img_augonly: torch.Size([128, 1, 64, 256])\n",
            "4-Class Confusion Matrix:\n",
            " [[2036    4    3    1]\n",
            " [   8 1188    0    3]\n",
            " [   6    0  486    1]\n",
            " [   0    2    2  356]]\n",
            "Sensitivity: 0.9893, Specificity: 0.9961, ICBHI Score: 0.9927\n",
            "[Validation] Confusion Matrix:\n",
            " [[1116  257  184   22]\n",
            " [ 311  303   14   21]\n",
            " [ 152   56  125   52]\n",
            " [  51   20   42   30]]\n",
            "Test Loss: 1.3843\n",
            "[VALIDATION] Sensitivity: 0.3891, Specificity: 0.7068, Avg ICBHI Score: 0.5480\n",
            "##################################################\n"
          ]
        },
        {
          "name": "stderr",
          "output_type": "stream",
          "text": [
            "MLATT Trainig only: 100%|██████████| 32/32 [00:05<00:00,  5.61it/s]\n"
          ]
        },
        {
          "name": "stdout",
          "output_type": "stream",
          "text": [
            "[Epoch 151 | Train Loss: 0.0298, img_augonly: torch.Size([128, 1, 64, 256])\n",
            "4-Class Confusion Matrix:\n",
            " [[2022   15    7    0]\n",
            " [  14 1184    0    1]\n",
            " [  18    0  468    7]\n",
            " [   2    8    5  345]]\n",
            "Sensitivity: 0.9732, Specificity: 0.9892, ICBHI Score: 0.9812\n",
            "[Validation] Confusion Matrix:\n",
            " [[1109  255  196   19]\n",
            " [ 307  303   20   19]\n",
            " [ 160   53  120   52]\n",
            " [  51   18   46   28]]\n",
            "Test Loss: 1.3967\n",
            "[VALIDATION] Sensitivity: 0.3832, Specificity: 0.7023, Avg ICBHI Score: 0.5428\n",
            "##################################################\n"
          ]
        },
        {
          "name": "stderr",
          "output_type": "stream",
          "text": [
            "MLATT Trainig only: 100%|██████████| 32/32 [00:05<00:00,  5.61it/s]\n"
          ]
        },
        {
          "name": "stdout",
          "output_type": "stream",
          "text": [
            "[Epoch 152 | Train Loss: 0.0202, img_augonly: torch.Size([128, 1, 64, 256])\n",
            "4-Class Confusion Matrix:\n",
            " [[2026   14    4    0]\n",
            " [  17 1182    0    0]\n",
            " [   5    1  487    0]\n",
            " [   1    9    3  347]]\n",
            "Sensitivity: 0.9825, Specificity: 0.9912, ICBHI Score: 0.9868\n",
            "[Validation] Confusion Matrix:\n",
            " [[1161  227  170   21]\n",
            " [ 360  253   17   19]\n",
            " [ 161   50  122   52]\n",
            " [  56   15   42   30]]\n",
            "Test Loss: 1.3778\n",
            "[VALIDATION] Sensitivity: 0.3441, Specificity: 0.7353, Avg ICBHI Score: 0.5397\n",
            "##################################################\n"
          ]
        },
        {
          "name": "stderr",
          "output_type": "stream",
          "text": [
            "MLATT Trainig only: 100%|██████████| 32/32 [00:05<00:00,  5.60it/s]\n"
          ]
        },
        {
          "name": "stdout",
          "output_type": "stream",
          "text": [
            "[Epoch 153 | Train Loss: 0.0214, img_augonly: torch.Size([128, 1, 64, 256])\n",
            "4-Class Confusion Matrix:\n",
            " [[2029   10    5    0]\n",
            " [  12 1187    0    0]\n",
            " [   9    1  482    1]\n",
            " [   0    5    4  351]]\n",
            "Sensitivity: 0.9844, Specificity: 0.9927, ICBHI Score: 0.9885\n",
            "[Validation] Confusion Matrix:\n",
            " [[1226  204  135   14]\n",
            " [ 371  248   15   15]\n",
            " [ 182   46  117   40]\n",
            " [  59   16   42   26]]\n",
            "Test Loss: 1.4208\n",
            "[VALIDATION] Sensitivity: 0.3322, Specificity: 0.7764, Avg ICBHI Score: 0.5543\n",
            "##################################################\n"
          ]
        },
        {
          "name": "stderr",
          "output_type": "stream",
          "text": [
            "MLATT Trainig only: 100%|██████████| 32/32 [00:05<00:00,  5.60it/s]\n"
          ]
        },
        {
          "name": "stdout",
          "output_type": "stream",
          "text": [
            "[Epoch 154 | Train Loss: 0.0226, img_augonly: torch.Size([128, 1, 64, 256])\n",
            "4-Class Confusion Matrix:\n",
            " [[2035    8    1    0]\n",
            " [  13 1184    0    2]\n",
            " [  10    2  474    7]\n",
            " [   0    5    4  351]]\n",
            "Sensitivity: 0.9790, Specificity: 0.9956, ICBHI Score: 0.9873\n",
            "[Validation] Confusion Matrix:\n",
            " [[1179  223  161   16]\n",
            " [ 357  260   18   14]\n",
            " [ 171   52  117   45]\n",
            " [  57   17   43   26]]\n",
            "Test Loss: 1.3954\n",
            "[VALIDATION] Sensitivity: 0.3424, Specificity: 0.7467, Avg ICBHI Score: 0.5445\n",
            "##################################################\n"
          ]
        },
        {
          "name": "stderr",
          "output_type": "stream",
          "text": [
            "MLATT Trainig only: 100%|██████████| 32/32 [00:05<00:00,  5.63it/s]\n"
          ]
        },
        {
          "name": "stdout",
          "output_type": "stream",
          "text": [
            "[Epoch 155 | Train Loss: 0.0215, img_augonly: torch.Size([128, 1, 64, 256])\n",
            "4-Class Confusion Matrix:\n",
            " [[2023   14    5    2]\n",
            " [  11 1185    0    3]\n",
            " [  10    0  481    2]\n",
            " [   0    6    2  352]]\n",
            "Sensitivity: 0.9834, Specificity: 0.9897, ICBHI Score: 0.9866\n",
            "[Validation] Confusion Matrix:\n",
            " [[1143  236  179   21]\n",
            " [ 350  263   17   19]\n",
            " [ 158   57  124   46]\n",
            " [  55   16   43   29]]\n",
            "Test Loss: 1.3956\n",
            "[VALIDATION] Sensitivity: 0.3534, Specificity: 0.7239, Avg ICBHI Score: 0.5387\n",
            "##################################################\n"
          ]
        },
        {
          "name": "stderr",
          "output_type": "stream",
          "text": [
            "MLATT Trainig only: 100%|██████████| 32/32 [00:05<00:00,  5.72it/s]\n"
          ]
        },
        {
          "name": "stdout",
          "output_type": "stream",
          "text": [
            "[Epoch 156 | Train Loss: 0.0184, img_augonly: torch.Size([128, 1, 64, 256])\n",
            "4-Class Confusion Matrix:\n",
            " [[2034    9    1    0]\n",
            " [  14 1182    0    3]\n",
            " [   6    2  484    1]\n",
            " [   0    7    5  348]]\n",
            "Sensitivity: 0.9815, Specificity: 0.9951, ICBHI Score: 0.9883\n",
            "[Validation] Confusion Matrix:\n",
            " [[1081  272  201   25]\n",
            " [ 328  281   20   20]\n",
            " [ 145   59  128   53]\n",
            " [  47   20   40   36]]\n",
            "Test Loss: 1.4329\n",
            "[VALIDATION] Sensitivity: 0.3781, Specificity: 0.6846, Avg ICBHI Score: 0.5313\n",
            "##################################################\n"
          ]
        },
        {
          "name": "stderr",
          "output_type": "stream",
          "text": [
            "MLATT Trainig only: 100%|██████████| 32/32 [00:05<00:00,  5.69it/s]\n"
          ]
        },
        {
          "name": "stdout",
          "output_type": "stream",
          "text": [
            "[Epoch 157 | Train Loss: 0.0203, img_augonly: torch.Size([128, 1, 64, 256])\n",
            "4-Class Confusion Matrix:\n",
            " [[2029    9    6    0]\n",
            " [  10 1186    0    3]\n",
            " [   9    1  481    2]\n",
            " [   0    3    2  355]]\n",
            "Sensitivity: 0.9854, Specificity: 0.9927, ICBHI Score: 0.9890\n",
            "[Validation] Confusion Matrix:\n",
            " [[1137  225  199   18]\n",
            " [ 359  244   23   23]\n",
            " [ 150   46  139   50]\n",
            " [  46   15   57   25]]\n",
            "Test Loss: 1.4098\n",
            "[VALIDATION] Sensitivity: 0.3466, Specificity: 0.7201, Avg ICBHI Score: 0.5334\n",
            "##################################################\n"
          ]
        },
        {
          "name": "stderr",
          "output_type": "stream",
          "text": [
            "MLATT Trainig only: 100%|██████████| 32/32 [00:05<00:00,  5.58it/s]\n"
          ]
        },
        {
          "name": "stdout",
          "output_type": "stream",
          "text": [
            "[Epoch 158 | Train Loss: 0.0323, img_augonly: torch.Size([128, 1, 64, 256])\n",
            "4-Class Confusion Matrix:\n",
            " [[2024   17    3    0]\n",
            " [  24 1169    0    6]\n",
            " [  15    1  471    6]\n",
            " [   1    9    6  344]]\n",
            "Sensitivity: 0.9669, Specificity: 0.9902, ICBHI Score: 0.9785\n",
            "[Validation] Confusion Matrix:\n",
            " [[1151  242  165   21]\n",
            " [ 350  258   21   20]\n",
            " [ 151   51  130   53]\n",
            " [  45   20   50   28]]\n",
            "Test Loss: 1.4109\n",
            "[VALIDATION] Sensitivity: 0.3534, Specificity: 0.7289, Avg ICBHI Score: 0.5412\n",
            "##################################################\n"
          ]
        },
        {
          "name": "stderr",
          "output_type": "stream",
          "text": [
            "MLATT Trainig only: 100%|██████████| 32/32 [00:05<00:00,  5.54it/s]\n"
          ]
        },
        {
          "name": "stdout",
          "output_type": "stream",
          "text": [
            "[Epoch 159 | Train Loss: 0.0186, img_augonly: torch.Size([128, 1, 64, 256])\n",
            "4-Class Confusion Matrix:\n",
            " [[2031   10    3    0]\n",
            " [   5 1191    0    3]\n",
            " [  10    0  480    3]\n",
            " [   0    4    3  353]]\n",
            "Sensitivity: 0.9864, Specificity: 0.9936, ICBHI Score: 0.9900\n",
            "[Validation] Confusion Matrix:\n",
            " [[1180  209  172   18]\n",
            " [ 380  230   20   19]\n",
            " [ 153   48  138   46]\n",
            " [  53   15   52   23]]\n",
            "Test Loss: 1.4363\n",
            "[VALIDATION] Sensitivity: 0.3322, Specificity: 0.7473, Avg ICBHI Score: 0.5398\n",
            "##################################################\n"
          ]
        },
        {
          "name": "stderr",
          "output_type": "stream",
          "text": [
            "MLATT Trainig only: 100%|██████████| 32/32 [00:05<00:00,  5.55it/s]\n"
          ]
        },
        {
          "name": "stdout",
          "output_type": "stream",
          "text": [
            "[Epoch 160 | Train Loss: 0.0156, img_augonly: torch.Size([128, 1, 64, 256])\n",
            "4-Class Confusion Matrix:\n",
            " [[2031   10    3    0]\n",
            " [   1 1195    0    3]\n",
            " [   4    1  485    3]\n",
            " [   1    5    2  352]]\n",
            "Sensitivity: 0.9903, Specificity: 0.9936, ICBHI Score: 0.9919\n",
            "[Validation] Confusion Matrix:\n",
            " [[1169  225  170   15]\n",
            " [ 367  246   18   18]\n",
            " [ 159   48  126   52]\n",
            " [  54   15   49   25]]\n",
            "Test Loss: 1.4793\n",
            "[VALIDATION] Sensitivity: 0.3373, Specificity: 0.7403, Avg ICBHI Score: 0.5388\n",
            "##################################################\n"
          ]
        },
        {
          "name": "stderr",
          "output_type": "stream",
          "text": [
            "MLATT Trainig only: 100%|██████████| 32/32 [00:05<00:00,  5.61it/s]\n"
          ]
        },
        {
          "name": "stdout",
          "output_type": "stream",
          "text": [
            "[Epoch 161 | Train Loss: 0.0294, img_augonly: torch.Size([128, 1, 64, 256])\n",
            "4-Class Confusion Matrix:\n",
            " [[2019   13   12    0]\n",
            " [  15 1181    1    2]\n",
            " [  13    1  475    4]\n",
            " [   3   12    6  339]]\n",
            "Sensitivity: 0.9722, Specificity: 0.9878, ICBHI Score: 0.9800\n",
            "[Validation] Confusion Matrix:\n",
            " [[1058  296  198   27]\n",
            " [ 299  305   19   26]\n",
            " [ 137   57  124   67]\n",
            " [  39   22   46   36]]\n",
            "Test Loss: 1.4177\n",
            "[VALIDATION] Sensitivity: 0.3951, Specificity: 0.6700, Avg ICBHI Score: 0.5326\n",
            "##################################################\n"
          ]
        },
        {
          "name": "stderr",
          "output_type": "stream",
          "text": [
            "MLATT Trainig only: 100%|██████████| 32/32 [00:05<00:00,  5.60it/s]\n"
          ]
        },
        {
          "name": "stdout",
          "output_type": "stream",
          "text": [
            "[Epoch 162 | Train Loss: 0.0170, img_augonly: torch.Size([128, 1, 64, 256])\n",
            "4-Class Confusion Matrix:\n",
            " [[2029   10    5    0]\n",
            " [   9 1185    1    4]\n",
            " [   4    0  485    4]\n",
            " [   0    5    0  355]]\n",
            "Sensitivity: 0.9868, Specificity: 0.9927, ICBHI Score: 0.9898\n",
            "[Validation] Confusion Matrix:\n",
            " [[1129  249  183   18]\n",
            " [ 339  273   18   19]\n",
            " [ 159   56  116   54]\n",
            " [  50   20   38   35]]\n",
            "Test Loss: 1.3829\n",
            "[VALIDATION] Sensitivity: 0.3602, Specificity: 0.7150, Avg ICBHI Score: 0.5376\n",
            "##################################################\n"
          ]
        },
        {
          "name": "stderr",
          "output_type": "stream",
          "text": [
            "MLATT Trainig only: 100%|██████████| 32/32 [00:05<00:00,  5.57it/s]\n"
          ]
        },
        {
          "name": "stdout",
          "output_type": "stream",
          "text": [
            "[Epoch 163 | Train Loss: 0.0172, img_augonly: torch.Size([128, 1, 64, 256])\n",
            "4-Class Confusion Matrix:\n",
            " [[2034    7    3    0]\n",
            " [   8 1190    0    1]\n",
            " [   9    0  482    2]\n",
            " [   1   12    2  345]]\n",
            "Sensitivity: 0.9829, Specificity: 0.9951, ICBHI Score: 0.9890\n",
            "[Validation] Confusion Matrix:\n",
            " [[1121  261  182   15]\n",
            " [ 339  272   17   21]\n",
            " [ 151   60  122   52]\n",
            " [  50   20   48   25]]\n",
            "Test Loss: 1.4587\n",
            "[VALIDATION] Sensitivity: 0.3560, Specificity: 0.7099, Avg ICBHI Score: 0.5330\n",
            "##################################################\n"
          ]
        },
        {
          "name": "stderr",
          "output_type": "stream",
          "text": [
            "MLATT Trainig only: 100%|██████████| 32/32 [00:05<00:00,  5.61it/s]\n"
          ]
        },
        {
          "name": "stdout",
          "output_type": "stream",
          "text": [
            "[Epoch 164 | Train Loss: 0.0184, img_augonly: torch.Size([128, 1, 64, 256])\n",
            "4-Class Confusion Matrix:\n",
            " [[2032   11    1    0]\n",
            " [  10 1186    0    3]\n",
            " [   8    1  484    0]\n",
            " [   1    5    6  348]]\n",
            "Sensitivity: 0.9834, Specificity: 0.9941, ICBHI Score: 0.9888\n",
            "[Validation] Confusion Matrix:\n",
            " [[1127  216  214   22]\n",
            " [ 364  243   21   21]\n",
            " [ 145   46  137   57]\n",
            " [  45   16   51   31]]\n",
            "Test Loss: 1.4377\n",
            "[VALIDATION] Sensitivity: 0.3492, Specificity: 0.7137, Avg ICBHI Score: 0.5315\n",
            "##################################################\n"
          ]
        },
        {
          "name": "stderr",
          "output_type": "stream",
          "text": [
            "MLATT Trainig only: 100%|██████████| 32/32 [00:05<00:00,  5.58it/s]\n"
          ]
        },
        {
          "name": "stdout",
          "output_type": "stream",
          "text": [
            "[Epoch 165 | Train Loss: 0.0180, img_augonly: torch.Size([128, 1, 64, 256])\n",
            "4-Class Confusion Matrix:\n",
            " [[2031    9    3    1]\n",
            " [   9 1184    1    5]\n",
            " [   6    0  484    3]\n",
            " [   0    3    2  355]]\n",
            "Sensitivity: 0.9859, Specificity: 0.9936, ICBHI Score: 0.9898\n",
            "[Validation] Confusion Matrix:\n",
            " [[1115  261  185   18]\n",
            " [ 340  268   18   23]\n",
            " [ 142   61  125   57]\n",
            " [  48   19   44   32]]\n",
            "Test Loss: 1.4069\n",
            "[VALIDATION] Sensitivity: 0.3611, Specificity: 0.7061, Avg ICBHI Score: 0.5336\n",
            "##################################################\n"
          ]
        },
        {
          "name": "stderr",
          "output_type": "stream",
          "text": [
            "MLATT Trainig only: 100%|██████████| 32/32 [00:05<00:00,  5.61it/s]\n"
          ]
        },
        {
          "name": "stdout",
          "output_type": "stream",
          "text": [
            "[Epoch 166 | Train Loss: 0.0268, img_augonly: torch.Size([128, 1, 64, 256])\n",
            "4-Class Confusion Matrix:\n",
            " [[2032    9    2    1]\n",
            " [  17 1178    1    3]\n",
            " [  18    1  471    3]\n",
            " [   1    8    5  346]]\n",
            "Sensitivity: 0.9722, Specificity: 0.9941, ICBHI Score: 0.9832\n",
            "[Validation] Confusion Matrix:\n",
            " [[1104  268  186   21]\n",
            " [ 328  282   16   23]\n",
            " [ 139   61  129   56]\n",
            " [  43   21   45   34]]\n",
            "Test Loss: 1.4164\n",
            "[VALIDATION] Sensitivity: 0.3781, Specificity: 0.6992, Avg ICBHI Score: 0.5386\n",
            "##################################################\n"
          ]
        },
        {
          "name": "stderr",
          "output_type": "stream",
          "text": [
            "MLATT Trainig only: 100%|██████████| 32/32 [00:05<00:00,  5.66it/s]\n"
          ]
        },
        {
          "name": "stdout",
          "output_type": "stream",
          "text": [
            "[Epoch 167 | Train Loss: 0.0154, img_augonly: torch.Size([128, 1, 64, 256])\n",
            "4-Class Confusion Matrix:\n",
            " [[2032    9    2    1]\n",
            " [   7 1189    0    3]\n",
            " [   6    0  484    3]\n",
            " [   1    3    2  354]]\n",
            "Sensitivity: 0.9878, Specificity: 0.9941, ICBHI Score: 0.9910\n",
            "[Validation] Confusion Matrix:\n",
            " [[1131  240  188   20]\n",
            " [ 344  267   17   21]\n",
            " [ 153   55  127   50]\n",
            " [  48   19   43   33]]\n",
            "Test Loss: 1.4406\n",
            "[VALIDATION] Sensitivity: 0.3628, Specificity: 0.7163, Avg ICBHI Score: 0.5395\n",
            "##################################################\n"
          ]
        },
        {
          "name": "stderr",
          "output_type": "stream",
          "text": [
            "MLATT Trainig only: 100%|██████████| 32/32 [00:05<00:00,  5.63it/s]\n"
          ]
        },
        {
          "name": "stdout",
          "output_type": "stream",
          "text": [
            "[Epoch 168 | Train Loss: 0.0181, img_augonly: torch.Size([128, 1, 64, 256])\n",
            "4-Class Confusion Matrix:\n",
            " [[2035    7    2    0]\n",
            " [   8 1186    0    5]\n",
            " [   9    1  478    5]\n",
            " [   0    7    2  351]]\n",
            "Sensitivity: 0.9820, Specificity: 0.9956, ICBHI Score: 0.9888\n",
            "[Validation] Confusion Matrix:\n",
            " [[1151  250  161   17]\n",
            " [ 332  280   16   21]\n",
            " [ 151   60  123   51]\n",
            " [  50   19   43   31]]\n",
            "Test Loss: 1.4541\n",
            "[VALIDATION] Sensitivity: 0.3687, Specificity: 0.7289, Avg ICBHI Score: 0.5488\n",
            "##################################################\n"
          ]
        },
        {
          "name": "stderr",
          "output_type": "stream",
          "text": [
            "MLATT Trainig only: 100%|██████████| 32/32 [00:05<00:00,  5.63it/s]\n"
          ]
        },
        {
          "name": "stdout",
          "output_type": "stream",
          "text": [
            "[Epoch 169 | Train Loss: 0.0191, img_augonly: torch.Size([128, 1, 64, 256])\n",
            "4-Class Confusion Matrix:\n",
            " [[2038    5    1    0]\n",
            " [   7 1190    0    2]\n",
            " [  13    1  478    1]\n",
            " [   1    6    6  347]]\n",
            "Sensitivity: 0.9820, Specificity: 0.9971, ICBHI Score: 0.9895\n",
            "[Validation] Confusion Matrix:\n",
            " [[1163  238  166   12]\n",
            " [ 346  273   15   15]\n",
            " [ 163   55  120   47]\n",
            " [  55   17   43   28]]\n",
            "Test Loss: 1.5197\n",
            "[VALIDATION] Sensitivity: 0.3577, Specificity: 0.7365, Avg ICBHI Score: 0.5471\n",
            "##################################################\n"
          ]
        },
        {
          "name": "stderr",
          "output_type": "stream",
          "text": [
            "MLATT Trainig only: 100%|██████████| 32/32 [00:05<00:00,  5.58it/s]\n"
          ]
        },
        {
          "name": "stdout",
          "output_type": "stream",
          "text": [
            "[Epoch 170 | Train Loss: 0.0144, img_augonly: torch.Size([128, 1, 64, 256])\n",
            "4-Class Confusion Matrix:\n",
            " [[2040    3    1    0]\n",
            " [   5 1194    0    0]\n",
            " [  13    0  480    0]\n",
            " [   0    4    2  354]]\n",
            "Sensitivity: 0.9883, Specificity: 0.9980, ICBHI Score: 0.9932\n",
            "[Validation] Confusion Matrix:\n",
            " [[1149  247  170   13]\n",
            " [ 341  274   17   17]\n",
            " [ 159   56  118   52]\n",
            " [  53   18   45   27]]\n",
            "Test Loss: 1.5180\n",
            "[VALIDATION] Sensitivity: 0.3560, Specificity: 0.7277, Avg ICBHI Score: 0.5418\n",
            "##################################################\n"
          ]
        },
        {
          "name": "stderr",
          "output_type": "stream",
          "text": [
            "MLATT Trainig only: 100%|██████████| 32/32 [00:05<00:00,  5.58it/s]\n"
          ]
        },
        {
          "name": "stdout",
          "output_type": "stream",
          "text": [
            "[Epoch 171 | Train Loss: 0.0248, img_augonly: torch.Size([128, 1, 64, 256])\n",
            "4-Class Confusion Matrix:\n",
            " [[2026   16    2    0]\n",
            " [  13 1183    1    2]\n",
            " [  19    4  464    6]\n",
            " [   0   11    2  347]]\n",
            "Sensitivity: 0.9717, Specificity: 0.9912, ICBHI Score: 0.9815\n",
            "[Validation] Confusion Matrix:\n",
            " [[1115  228  212   24]\n",
            " [ 329  276   19   25]\n",
            " [ 143   50  138   54]\n",
            " [  42   17   55   29]]\n",
            "Test Loss: 1.4599\n",
            "[VALIDATION] Sensitivity: 0.3764, Specificity: 0.7061, Avg ICBHI Score: 0.5413\n",
            "##################################################\n"
          ]
        },
        {
          "name": "stderr",
          "output_type": "stream",
          "text": [
            "MLATT Trainig only: 100%|██████████| 32/32 [00:05<00:00,  5.59it/s]\n"
          ]
        },
        {
          "name": "stdout",
          "output_type": "stream",
          "text": [
            "[Epoch 172 | Train Loss: 0.0148, img_augonly: torch.Size([128, 1, 64, 256])\n",
            "4-Class Confusion Matrix:\n",
            " [[2032    8    4    0]\n",
            " [   9 1188    0    2]\n",
            " [   8    0  484    1]\n",
            " [   2    4    0  354]]\n",
            "Sensitivity: 0.9873, Specificity: 0.9941, ICBHI Score: 0.9907\n",
            "[Validation] Confusion Matrix:\n",
            " [[1144  219  198   18]\n",
            " [ 349  259   18   23]\n",
            " [ 150   50  135   50]\n",
            " [  46   17   53   27]]\n",
            "Test Loss: 1.4547\n",
            "[VALIDATION] Sensitivity: 0.3577, Specificity: 0.7245, Avg ICBHI Score: 0.5411\n",
            "##################################################\n"
          ]
        },
        {
          "name": "stderr",
          "output_type": "stream",
          "text": [
            "MLATT Trainig only: 100%|██████████| 32/32 [00:05<00:00,  5.63it/s]\n"
          ]
        },
        {
          "name": "stdout",
          "output_type": "stream",
          "text": [
            "[Epoch 173 | Train Loss: 0.0231, img_augonly: torch.Size([128, 1, 64, 256])\n",
            "4-Class Confusion Matrix:\n",
            " [[2025    9    9    1]\n",
            " [  15 1179    0    5]\n",
            " [  12    0  477    4]\n",
            " [   0    3    1  356]]\n",
            "Sensitivity: 0.9805, Specificity: 0.9907, ICBHI Score: 0.9856\n",
            "[Validation] Confusion Matrix:\n",
            " [[1127  229  203   20]\n",
            " [ 348  261   19   21]\n",
            " [ 149   49  132   55]\n",
            " [  48   16   49   30]]\n",
            "Test Loss: 1.4642\n",
            "[VALIDATION] Sensitivity: 0.3594, Specificity: 0.7137, Avg ICBHI Score: 0.5366\n",
            "##################################################\n"
          ]
        },
        {
          "name": "stderr",
          "output_type": "stream",
          "text": [
            "MLATT Trainig only: 100%|██████████| 32/32 [00:05<00:00,  5.60it/s]\n"
          ]
        },
        {
          "name": "stdout",
          "output_type": "stream",
          "text": [
            "[Epoch 174 | Train Loss: 0.0116, img_augonly: torch.Size([128, 1, 64, 256])\n",
            "4-Class Confusion Matrix:\n",
            " [[2034    8    2    0]\n",
            " [   6 1193    0    0]\n",
            " [   2    1  489    1]\n",
            " [   0    1    1  358]]\n",
            "Sensitivity: 0.9942, Specificity: 0.9951, ICBHI Score: 0.9946\n",
            "[Validation] Confusion Matrix:\n",
            " [[1119  244  195   21]\n",
            " [ 331  283   16   19]\n",
            " [ 157   54  122   52]\n",
            " [  48   19   46   30]]\n",
            "Test Loss: 1.4185\n",
            "[VALIDATION] Sensitivity: 0.3696, Specificity: 0.7087, Avg ICBHI Score: 0.5391\n",
            "##################################################\n"
          ]
        },
        {
          "name": "stderr",
          "output_type": "stream",
          "text": [
            "MLATT Trainig only: 100%|██████████| 32/32 [00:05<00:00,  5.64it/s]\n"
          ]
        },
        {
          "name": "stdout",
          "output_type": "stream",
          "text": [
            "[Epoch 175 | Train Loss: 0.0137, img_augonly: torch.Size([128, 1, 64, 256])\n",
            "4-Class Confusion Matrix:\n",
            " [[2033    8    3    0]\n",
            " [   4 1194    0    1]\n",
            " [   7    0  486    0]\n",
            " [   0    1    3  356]]\n",
            "Sensitivity: 0.9922, Specificity: 0.9946, ICBHI Score: 0.9934\n",
            "[Validation] Confusion Matrix:\n",
            " [[1131  240  189   19]\n",
            " [ 344  268   18   19]\n",
            " [ 155   49  130   51]\n",
            " [  49   17   53   24]]\n",
            "Test Loss: 1.4645\n",
            "[VALIDATION] Sensitivity: 0.3585, Specificity: 0.7163, Avg ICBHI Score: 0.5374\n",
            "##################################################\n"
          ]
        },
        {
          "name": "stderr",
          "output_type": "stream",
          "text": [
            "MLATT Trainig only: 100%|██████████| 32/32 [00:05<00:00,  5.65it/s]\n"
          ]
        },
        {
          "name": "stdout",
          "output_type": "stream",
          "text": [
            "[Epoch 176 | Train Loss: 0.0079, img_augonly: torch.Size([128, 1, 64, 256])\n",
            "4-Class Confusion Matrix:\n",
            " [[2038    5    1    0]\n",
            " [   4 1194    0    1]\n",
            " [   0    0  491    2]\n",
            " [   0    1    2  357]]\n",
            "Sensitivity: 0.9951, Specificity: 0.9971, ICBHI Score: 0.9961\n",
            "[Validation] Confusion Matrix:\n",
            " [[1155  219  190   15]\n",
            " [ 361  251   18   19]\n",
            " [ 159   50  128   48]\n",
            " [  56   16   47   24]]\n",
            "Test Loss: 1.5191\n",
            "[VALIDATION] Sensitivity: 0.3424, Specificity: 0.7315, Avg ICBHI Score: 0.5369\n",
            "##################################################\n"
          ]
        },
        {
          "name": "stderr",
          "output_type": "stream",
          "text": [
            "MLATT Trainig only: 100%|██████████| 32/32 [00:05<00:00,  5.59it/s]\n"
          ]
        },
        {
          "name": "stdout",
          "output_type": "stream",
          "text": [
            "[Epoch 177 | Train Loss: 0.0172, img_augonly: torch.Size([128, 1, 64, 256])\n",
            "4-Class Confusion Matrix:\n",
            " [[2035    7    2    0]\n",
            " [  10 1188    0    1]\n",
            " [   8    0  480    5]\n",
            " [   0    4    3  353]]\n",
            "Sensitivity: 0.9849, Specificity: 0.9956, ICBHI Score: 0.9902\n",
            "[Validation] Confusion Matrix:\n",
            " [[1130  244  191   14]\n",
            " [ 347  265   18   19]\n",
            " [ 156   56  123   50]\n",
            " [  51   20   45   27]]\n",
            "Test Loss: 1.4578\n",
            "[VALIDATION] Sensitivity: 0.3526, Specificity: 0.7156, Avg ICBHI Score: 0.5341\n",
            "##################################################\n"
          ]
        },
        {
          "name": "stderr",
          "output_type": "stream",
          "text": [
            "MLATT Trainig only: 100%|██████████| 32/32 [00:05<00:00,  5.62it/s]\n"
          ]
        },
        {
          "name": "stdout",
          "output_type": "stream",
          "text": [
            "[Epoch 178 | Train Loss: 0.0149, img_augonly: torch.Size([128, 1, 64, 256])\n",
            "4-Class Confusion Matrix:\n",
            " [[2039    4    1    0]\n",
            " [  10 1188    1    0]\n",
            " [  13    0  476    4]\n",
            " [   0    4    0  356]]\n",
            "Sensitivity: 0.9844, Specificity: 0.9976, ICBHI Score: 0.9910\n",
            "[Validation] Confusion Matrix:\n",
            " [[1079  256  222   22]\n",
            " [ 320  290   16   23]\n",
            " [ 147   53  126   59]\n",
            " [  47   21   46   29]]\n",
            "Test Loss: 1.4646\n",
            "[VALIDATION] Sensitivity: 0.3781, Specificity: 0.6833, Avg ICBHI Score: 0.5307\n",
            "##################################################\n"
          ]
        },
        {
          "name": "stderr",
          "output_type": "stream",
          "text": [
            "MLATT Trainig only: 100%|██████████| 32/32 [00:05<00:00,  5.61it/s]\n"
          ]
        },
        {
          "name": "stdout",
          "output_type": "stream",
          "text": [
            "[Epoch 179 | Train Loss: 0.0202, img_augonly: torch.Size([128, 1, 64, 256])\n",
            "4-Class Confusion Matrix:\n",
            " [[2029   10    5    0]\n",
            " [  14 1184    0    1]\n",
            " [  14    0  478    1]\n",
            " [   1    7    4  348]]\n",
            "Sensitivity: 0.9795, Specificity: 0.9927, ICBHI Score: 0.9861\n",
            "[Validation] Confusion Matrix:\n",
            " [[1108  235  215   21]\n",
            " [ 338  275   18   18]\n",
            " [ 144   54  128   59]\n",
            " [  47   21   47   28]]\n",
            "Test Loss: 1.4682\n",
            "[VALIDATION] Sensitivity: 0.3662, Specificity: 0.7017, Avg ICBHI Score: 0.5339\n",
            "##################################################\n"
          ]
        },
        {
          "name": "stderr",
          "output_type": "stream",
          "text": [
            "MLATT Trainig only: 100%|██████████| 32/32 [00:05<00:00,  5.66it/s]\n"
          ]
        },
        {
          "name": "stdout",
          "output_type": "stream",
          "text": [
            "[Epoch 180 | Train Loss: 0.0129, img_augonly: torch.Size([128, 1, 64, 256])\n",
            "4-Class Confusion Matrix:\n",
            " [[2035    5    4    0]\n",
            " [   5 1191    0    3]\n",
            " [   2    0  488    3]\n",
            " [   0    3    5  352]]\n",
            "Sensitivity: 0.9898, Specificity: 0.9956, ICBHI Score: 0.9927\n",
            "[Validation] Confusion Matrix:\n",
            " [[1125  238  198   18]\n",
            " [ 353  263   17   16]\n",
            " [ 154   52  129   50]\n",
            " [  50   18   47   28]]\n",
            "Test Loss: 1.4700\n",
            "[VALIDATION] Sensitivity: 0.3568, Specificity: 0.7125, Avg ICBHI Score: 0.5347\n",
            "##################################################\n"
          ]
        },
        {
          "name": "stderr",
          "output_type": "stream",
          "text": [
            "MLATT Trainig only: 100%|██████████| 32/32 [00:05<00:00,  5.62it/s]\n"
          ]
        },
        {
          "name": "stdout",
          "output_type": "stream",
          "text": [
            "[Epoch 181 | Train Loss: 0.0106, img_augonly: torch.Size([128, 1, 64, 256])\n",
            "4-Class Confusion Matrix:\n",
            " [[2037    6    1    0]\n",
            " [   4 1194    0    1]\n",
            " [   7    0  485    1]\n",
            " [   0    4    0  356]]\n",
            "Sensitivity: 0.9917, Specificity: 0.9966, ICBHI Score: 0.9941\n",
            "[Validation] Confusion Matrix:\n",
            " [[1116  232  209   22]\n",
            " [ 357  253   19   20]\n",
            " [ 147   52  133   53]\n",
            " [  47   16   51   29]]\n",
            "Test Loss: 1.4929\n",
            "[VALIDATION] Sensitivity: 0.3526, Specificity: 0.7068, Avg ICBHI Score: 0.5297\n",
            "##################################################\n"
          ]
        },
        {
          "name": "stderr",
          "output_type": "stream",
          "text": [
            "MLATT Trainig only: 100%|██████████| 32/32 [00:05<00:00,  5.63it/s]\n"
          ]
        },
        {
          "name": "stdout",
          "output_type": "stream",
          "text": [
            "[Epoch 182 | Train Loss: 0.0210, img_augonly: torch.Size([128, 1, 64, 256])\n",
            "4-Class Confusion Matrix:\n",
            " [[2033    6    5    0]\n",
            " [   9 1187    1    2]\n",
            " [  13    1  477    2]\n",
            " [   1    7    4  348]]\n",
            "Sensitivity: 0.9805, Specificity: 0.9946, ICBHI Score: 0.9876\n",
            "[Validation] Confusion Matrix:\n",
            " [[1120  233  208   18]\n",
            " [ 338  273   18   20]\n",
            " [ 152   54  125   54]\n",
            " [  49   19   48   27]]\n",
            "Test Loss: 1.4883\n",
            "[VALIDATION] Sensitivity: 0.3611, Specificity: 0.7093, Avg ICBHI Score: 0.5352\n",
            "##################################################\n"
          ]
        },
        {
          "name": "stderr",
          "output_type": "stream",
          "text": [
            "MLATT Trainig only: 100%|██████████| 32/32 [00:05<00:00,  5.67it/s]\n"
          ]
        },
        {
          "name": "stdout",
          "output_type": "stream",
          "text": [
            "[Epoch 183 | Train Loss: 0.0190, img_augonly: torch.Size([128, 1, 64, 256])\n",
            "4-Class Confusion Matrix:\n",
            " [[2030   11    3    0]\n",
            " [  11 1185    0    3]\n",
            " [   9    1  482    1]\n",
            " [   0    9    5  346]]\n",
            "Sensitivity: 0.9810, Specificity: 0.9932, ICBHI Score: 0.9871\n",
            "[Validation] Confusion Matrix:\n",
            " [[1114  245  200   20]\n",
            " [ 336  276   17   20]\n",
            " [ 153   50  127   55]\n",
            " [  49   18   46   30]]\n",
            "Test Loss: 1.4647\n",
            "[VALIDATION] Sensitivity: 0.3679, Specificity: 0.7055, Avg ICBHI Score: 0.5367\n",
            "##################################################\n"
          ]
        },
        {
          "name": "stderr",
          "output_type": "stream",
          "text": [
            "MLATT Trainig only: 100%|██████████| 32/32 [00:05<00:00,  5.53it/s]\n"
          ]
        },
        {
          "name": "stdout",
          "output_type": "stream",
          "text": [
            "[Epoch 184 | Train Loss: 0.0152, img_augonly: torch.Size([128, 1, 64, 256])\n",
            "4-Class Confusion Matrix:\n",
            " [[2036    7    1    0]\n",
            " [   8 1190    0    1]\n",
            " [   7    0  484    2]\n",
            " [   0    2    3  355]]\n",
            "Sensitivity: 0.9888, Specificity: 0.9961, ICBHI Score: 0.9924\n",
            "[Validation] Confusion Matrix:\n",
            " [[1123  234  205   17]\n",
            " [ 334  279   19   17]\n",
            " [ 155   53  124   53]\n",
            " [  48   19   44   32]]\n",
            "Test Loss: 1.4504\n",
            "[VALIDATION] Sensitivity: 0.3696, Specificity: 0.7112, Avg ICBHI Score: 0.5404\n",
            "##################################################\n"
          ]
        },
        {
          "name": "stderr",
          "output_type": "stream",
          "text": [
            "MLATT Trainig only: 100%|██████████| 32/32 [00:05<00:00,  5.66it/s]\n"
          ]
        },
        {
          "name": "stdout",
          "output_type": "stream",
          "text": [
            "[Epoch 185 | Train Loss: 0.0147, img_augonly: torch.Size([128, 1, 64, 256])\n",
            "4-Class Confusion Matrix:\n",
            " [[2036    2    6    0]\n",
            " [  14 1183    0    2]\n",
            " [   7    0  482    4]\n",
            " [   0    3    3  354]]\n",
            "Sensitivity: 0.9839, Specificity: 0.9961, ICBHI Score: 0.9900\n",
            "[Validation] Confusion Matrix:\n",
            " [[1135  233  191   20]\n",
            " [ 350  262   18   19]\n",
            " [ 155   50  130   50]\n",
            " [  51   18   51   23]]\n",
            "Test Loss: 1.4706\n",
            "[VALIDATION] Sensitivity: 0.3526, Specificity: 0.7188, Avg ICBHI Score: 0.5357\n",
            "##################################################\n"
          ]
        },
        {
          "name": "stderr",
          "output_type": "stream",
          "text": [
            "MLATT Trainig only: 100%|██████████| 32/32 [00:05<00:00,  5.60it/s]\n"
          ]
        },
        {
          "name": "stdout",
          "output_type": "stream",
          "text": [
            "[Epoch 186 | Train Loss: 0.0172, img_augonly: torch.Size([128, 1, 64, 256])\n",
            "4-Class Confusion Matrix:\n",
            " [[2039    2    2    1]\n",
            " [   7 1190    0    2]\n",
            " [   7    0  481    5]\n",
            " [   0    3    6  351]]\n",
            "Sensitivity: 0.9854, Specificity: 0.9976, ICBHI Score: 0.9915\n",
            "[Validation] Confusion Matrix:\n",
            " [[1141  244  181   13]\n",
            " [ 344  272   16   17]\n",
            " [ 160   56  120   49]\n",
            " [  49   19   48   27]]\n",
            "Test Loss: 1.4766\n",
            "[VALIDATION] Sensitivity: 0.3560, Specificity: 0.7226, Avg ICBHI Score: 0.5393\n",
            "##################################################\n"
          ]
        },
        {
          "name": "stderr",
          "output_type": "stream",
          "text": [
            "MLATT Trainig only: 100%|██████████| 32/32 [00:05<00:00,  5.72it/s]\n"
          ]
        },
        {
          "name": "stdout",
          "output_type": "stream",
          "text": [
            "[Epoch 187 | Train Loss: 0.0152, img_augonly: torch.Size([128, 1, 64, 256])\n",
            "4-Class Confusion Matrix:\n",
            " [[2036    6    2    0]\n",
            " [   5 1190    0    4]\n",
            " [   7    0  483    3]\n",
            " [   0    3    5  352]]\n",
            "Sensitivity: 0.9868, Specificity: 0.9961, ICBHI Score: 0.9915\n",
            "[Validation] Confusion Matrix:\n",
            " [[1137  227  195   20]\n",
            " [ 348  261   20   20]\n",
            " [ 149   50  135   51]\n",
            " [  50   16   51   26]]\n",
            "Test Loss: 1.4677\n",
            "[VALIDATION] Sensitivity: 0.3585, Specificity: 0.7201, Avg ICBHI Score: 0.5393\n",
            "##################################################\n"
          ]
        },
        {
          "name": "stderr",
          "output_type": "stream",
          "text": [
            "MLATT Trainig only: 100%|██████████| 32/32 [00:05<00:00,  5.68it/s]\n"
          ]
        },
        {
          "name": "stdout",
          "output_type": "stream",
          "text": [
            "[Epoch 188 | Train Loss: 0.0147, img_augonly: torch.Size([128, 1, 64, 256])\n",
            "4-Class Confusion Matrix:\n",
            " [[2035    5    4    0]\n",
            " [   7 1191    0    1]\n",
            " [  11    0  481    1]\n",
            " [   0    5    4  351]]\n",
            "Sensitivity: 0.9859, Specificity: 0.9956, ICBHI Score: 0.9907\n",
            "[Validation] Confusion Matrix:\n",
            " [[1125  241  195   18]\n",
            " [ 339  277   17   16]\n",
            " [ 157   54  122   52]\n",
            " [  50   21   42   30]]\n",
            "Test Loss: 1.4458\n",
            "[VALIDATION] Sensitivity: 0.3645, Specificity: 0.7125, Avg ICBHI Score: 0.5385\n",
            "##################################################\n"
          ]
        },
        {
          "name": "stderr",
          "output_type": "stream",
          "text": [
            "MLATT Trainig only: 100%|██████████| 32/32 [00:05<00:00,  5.63it/s]\n"
          ]
        },
        {
          "name": "stdout",
          "output_type": "stream",
          "text": [
            "[Epoch 189 | Train Loss: 0.0122, img_augonly: torch.Size([128, 1, 64, 256])\n",
            "4-Class Confusion Matrix:\n",
            " [[2041    2    1    0]\n",
            " [   7 1189    0    3]\n",
            " [   4    0  489    0]\n",
            " [   0    3    2  355]]\n",
            "Sensitivity: 0.9907, Specificity: 0.9985, ICBHI Score: 0.9946\n",
            "[Validation] Confusion Matrix:\n",
            " [[1119  235  204   21]\n",
            " [ 342  267   20   20]\n",
            " [ 145   53  134   53]\n",
            " [  48   19   50   26]]\n",
            "Test Loss: 1.5011\n",
            "[VALIDATION] Sensitivity: 0.3628, Specificity: 0.7087, Avg ICBHI Score: 0.5357\n",
            "##################################################\n"
          ]
        },
        {
          "name": "stderr",
          "output_type": "stream",
          "text": [
            "MLATT Trainig only: 100%|██████████| 32/32 [00:05<00:00,  5.63it/s]\n"
          ]
        },
        {
          "name": "stdout",
          "output_type": "stream",
          "text": [
            "[Epoch 190 | Train Loss: 0.0213, img_augonly: torch.Size([128, 1, 64, 256])\n",
            "4-Class Confusion Matrix:\n",
            " [[2023   19    2    0]\n",
            " [   6 1190    0    3]\n",
            " [   9    0  482    2]\n",
            " [   0    5    4  351]]\n",
            "Sensitivity: 0.9859, Specificity: 0.9897, ICBHI Score: 0.9878\n",
            "[Validation] Confusion Matrix:\n",
            " [[1134  241  188   16]\n",
            " [ 341  275   16   17]\n",
            " [ 163   53  121   48]\n",
            " [  52   18   46   27]]\n",
            "Test Loss: 1.4836\n",
            "[VALIDATION] Sensitivity: 0.3594, Specificity: 0.7182, Avg ICBHI Score: 0.5388\n",
            "##################################################\n"
          ]
        },
        {
          "name": "stderr",
          "output_type": "stream",
          "text": [
            "MLATT Trainig only: 100%|██████████| 32/32 [00:05<00:00,  5.60it/s]\n"
          ]
        },
        {
          "name": "stdout",
          "output_type": "stream",
          "text": [
            "[Epoch 191 | Train Loss: 0.0086, img_augonly: torch.Size([128, 1, 64, 256])\n",
            "4-Class Confusion Matrix:\n",
            " [[2041    2    1    0]\n",
            " [   5 1192    0    2]\n",
            " [   4    0  489    0]\n",
            " [   0    1    1  358]]\n",
            "Sensitivity: 0.9937, Specificity: 0.9985, ICBHI Score: 0.9961\n",
            "[Validation] Confusion Matrix:\n",
            " [[1101  237  219   22]\n",
            " [ 338  274   19   18]\n",
            " [ 148   51  128   58]\n",
            " [  45   21   48   29]]\n",
            "Test Loss: 1.5041\n",
            "[VALIDATION] Sensitivity: 0.3662, Specificity: 0.6973, Avg ICBHI Score: 0.5317\n",
            "##################################################\n"
          ]
        },
        {
          "name": "stderr",
          "output_type": "stream",
          "text": [
            "MLATT Trainig only: 100%|██████████| 32/32 [00:05<00:00,  5.63it/s]\n"
          ]
        },
        {
          "name": "stdout",
          "output_type": "stream",
          "text": [
            "[Epoch 192 | Train Loss: 0.0163, img_augonly: torch.Size([128, 1, 64, 256])\n",
            "4-Class Confusion Matrix:\n",
            " [[2035    6    3    0]\n",
            " [   9 1189    0    1]\n",
            " [   6    0  485    2]\n",
            " [   0    4    4  352]]\n",
            "Sensitivity: 0.9873, Specificity: 0.9956, ICBHI Score: 0.9915\n",
            "[Validation] Confusion Matrix:\n",
            " [[1156  226  178   19]\n",
            " [ 361  251   19   18]\n",
            " [ 154   50  133   48]\n",
            " [  52   17   50   24]]\n",
            "Test Loss: 1.5485\n",
            "[VALIDATION] Sensitivity: 0.3466, Specificity: 0.7321, Avg ICBHI Score: 0.5394\n",
            "##################################################\n"
          ]
        },
        {
          "name": "stderr",
          "output_type": "stream",
          "text": [
            "MLATT Trainig only: 100%|██████████| 32/32 [00:05<00:00,  5.63it/s]\n"
          ]
        },
        {
          "name": "stdout",
          "output_type": "stream",
          "text": [
            "[Epoch 193 | Train Loss: 0.0186, img_augonly: torch.Size([128, 1, 64, 256])\n",
            "4-Class Confusion Matrix:\n",
            " [[2028   14    2    0]\n",
            " [  10 1188    0    1]\n",
            " [  10    2  478    3]\n",
            " [   1    4    3  352]]\n",
            "Sensitivity: 0.9834, Specificity: 0.9922, ICBHI Score: 0.9878\n",
            "[Validation] Confusion Matrix:\n",
            " [[1097  241  218   23]\n",
            " [ 341  272   18   18]\n",
            " [ 150   53  127   55]\n",
            " [  42   21   46   34]]\n",
            "Test Loss: 1.4602\n",
            "[VALIDATION] Sensitivity: 0.3679, Specificity: 0.6947, Avg ICBHI Score: 0.5313\n",
            "##################################################\n"
          ]
        },
        {
          "name": "stderr",
          "output_type": "stream",
          "text": [
            "MLATT Trainig only: 100%|██████████| 32/32 [00:05<00:00,  5.58it/s]\n"
          ]
        },
        {
          "name": "stdout",
          "output_type": "stream",
          "text": [
            "[Epoch 194 | Train Loss: 0.0150, img_augonly: torch.Size([128, 1, 64, 256])\n",
            "4-Class Confusion Matrix:\n",
            " [[2030   11    2    1]\n",
            " [   7 1189    0    3]\n",
            " [   5    0  485    3]\n",
            " [   0    5    0  355]]\n",
            "Sensitivity: 0.9888, Specificity: 0.9932, ICBHI Score: 0.9910\n",
            "[Validation] Confusion Matrix:\n",
            " [[1135  228  197   19]\n",
            " [ 349  262   19   19]\n",
            " [ 149   53  129   54]\n",
            " [  51   17   50   25]]\n",
            "Test Loss: 1.5077\n",
            "[VALIDATION] Sensitivity: 0.3534, Specificity: 0.7188, Avg ICBHI Score: 0.5361\n",
            "##################################################\n"
          ]
        },
        {
          "name": "stderr",
          "output_type": "stream",
          "text": [
            "MLATT Trainig only: 100%|██████████| 32/32 [00:05<00:00,  5.60it/s]\n"
          ]
        },
        {
          "name": "stdout",
          "output_type": "stream",
          "text": [
            "[Epoch 195 | Train Loss: 0.0195, img_augonly: torch.Size([128, 1, 64, 256])\n",
            "4-Class Confusion Matrix:\n",
            " [[2030   10    4    0]\n",
            " [  14 1180    0    5]\n",
            " [   5    0  486    2]\n",
            " [   0    6    2  352]]\n",
            "Sensitivity: 0.9834, Specificity: 0.9932, ICBHI Score: 0.9883\n",
            "[Validation] Confusion Matrix:\n",
            " [[1145  239  177   18]\n",
            " [ 355  258   17   19]\n",
            " [ 154   51  133   47]\n",
            " [  51   17   52   23]]\n",
            "Test Loss: 1.5072\n",
            "[VALIDATION] Sensitivity: 0.3517, Specificity: 0.7251, Avg ICBHI Score: 0.5384\n",
            "##################################################\n"
          ]
        },
        {
          "name": "stderr",
          "output_type": "stream",
          "text": [
            "MLATT Trainig only: 100%|██████████| 32/32 [00:05<00:00,  5.61it/s]\n"
          ]
        },
        {
          "name": "stdout",
          "output_type": "stream",
          "text": [
            "[Epoch 196 | Train Loss: 0.0207, img_augonly: torch.Size([128, 1, 64, 256])\n",
            "4-Class Confusion Matrix:\n",
            " [[2033    7    3    1]\n",
            " [  13 1184    0    2]\n",
            " [  10    1  480    2]\n",
            " [   1    9    2  348]]\n",
            "Sensitivity: 0.9805, Specificity: 0.9946, ICBHI Score: 0.9876\n",
            "[Validation] Confusion Matrix:\n",
            " [[1153  235  173   18]\n",
            " [ 357  258   18   16]\n",
            " [ 158   50  131   46]\n",
            " [  50   18   53   22]]\n",
            "Test Loss: 1.5130\n",
            "[VALIDATION] Sensitivity: 0.3492, Specificity: 0.7302, Avg ICBHI Score: 0.5397\n",
            "##################################################\n"
          ]
        },
        {
          "name": "stderr",
          "output_type": "stream",
          "text": [
            "MLATT Trainig only: 100%|██████████| 32/32 [00:05<00:00,  5.58it/s]\n"
          ]
        },
        {
          "name": "stdout",
          "output_type": "stream",
          "text": [
            "[Epoch 197 | Train Loss: 0.0135, img_augonly: torch.Size([128, 1, 64, 256])\n",
            "4-Class Confusion Matrix:\n",
            " [[2035    8    1    0]\n",
            " [   8 1190    0    1]\n",
            " [   7    0  485    1]\n",
            " [   0    6    1  353]]\n",
            "Sensitivity: 0.9883, Specificity: 0.9956, ICBHI Score: 0.9920\n",
            "[Validation] Confusion Matrix:\n",
            " [[1085  241  227   26]\n",
            " [ 332  280   18   19]\n",
            " [ 148   51  126   60]\n",
            " [  44   21   48   30]]\n",
            "Test Loss: 1.4709\n",
            "[VALIDATION] Sensitivity: 0.3704, Specificity: 0.6871, Avg ICBHI Score: 0.5288\n",
            "##################################################\n"
          ]
        },
        {
          "name": "stderr",
          "output_type": "stream",
          "text": [
            "MLATT Trainig only: 100%|██████████| 32/32 [00:05<00:00,  5.61it/s]\n"
          ]
        },
        {
          "name": "stdout",
          "output_type": "stream",
          "text": [
            "[Epoch 198 | Train Loss: 0.0181, img_augonly: torch.Size([128, 1, 64, 256])\n",
            "4-Class Confusion Matrix:\n",
            " [[2029   12    3    0]\n",
            " [   4 1190    1    4]\n",
            " [  10    0  482    1]\n",
            " [   2    6    3  349]]\n",
            "Sensitivity: 0.9849, Specificity: 0.9927, ICBHI Score: 0.9888\n",
            "[Validation] Confusion Matrix:\n",
            " [[1124  232  204   19]\n",
            " [ 342  269   19   19]\n",
            " [ 150   51  131   53]\n",
            " [  48   17   51   27]]\n",
            "Test Loss: 1.4999\n",
            "[VALIDATION] Sensitivity: 0.3628, Specificity: 0.7118, Avg ICBHI Score: 0.5373\n",
            "##################################################\n"
          ]
        },
        {
          "name": "stderr",
          "output_type": "stream",
          "text": [
            "MLATT Trainig only: 100%|██████████| 32/32 [00:05<00:00,  5.60it/s]\n"
          ]
        },
        {
          "name": "stdout",
          "output_type": "stream",
          "text": [
            "[Epoch 199 | Train Loss: 0.0183, img_augonly: torch.Size([128, 1, 64, 256])\n",
            "4-Class Confusion Matrix:\n",
            " [[2031    7    6    0]\n",
            " [  11 1185    1    2]\n",
            " [  16    0  476    1]\n",
            " [   0    6    7  347]]\n",
            "Sensitivity: 0.9786, Specificity: 0.9936, ICBHI Score: 0.9861\n",
            "[Validation] Confusion Matrix:\n",
            " [[1130  237  193   19]\n",
            " [ 351  262   19   17]\n",
            " [ 147   52  136   50]\n",
            " [  50   19   49   25]]\n",
            "Test Loss: 1.4992\n",
            "[VALIDATION] Sensitivity: 0.3594, Specificity: 0.7156, Avg ICBHI Score: 0.5375\n",
            "##################################################\n",
            "💾 Saved checkpoint to /home/ressera3/BOAZ-Chungzins/notebook/0721note_ckp/Raw_MultilabelAtt_T_128bs_2507210335_199.pth.tar\n"
          ]
        },
        {
          "data": {
            "text/html": [],
            "text/plain": [
              "<IPython.core.display.HTML object>"
            ]
          },
          "metadata": {},
          "output_type": "display_data"
        },
        {
          "data": {
            "text/html": [
              "<br>    <style><br>        .wandb-row {<br>            display: flex;<br>            flex-direction: row;<br>            flex-wrap: wrap;<br>            justify-content: flex-start;<br>            width: 100%;<br>        }<br>        .wandb-col {<br>            display: flex;<br>            flex-direction: column;<br>            flex-basis: 100%;<br>            flex: 1;<br>            padding: 10px;<br>        }<br>    </style><br><div class=\"wandb-row\"><div class=\"wandb-col\"><h3>Run history:</h3><br/><table class=\"wandb\"><tr><td>Test/icbhi_score</td><td>▄▁▆▆▅▇██▅▇▇▄▄▅▆▄▅▆▆▅▇▇▅▆▆▆▆▆▆▆▆▇▆▆▆▆▆▆▆▆</td></tr><tr><td>Test/loss</td><td>▁▂▁▃▂▂▂▃▃▃▄▅▅▄▆▆▇▆▅▇▆▇▇▆▇▇▇▇▇▇▇▇█▇▇██▇██</td></tr><tr><td>Test/sensitivity</td><td>▅▁▄▅▆█▄▂▅▄▆▄▃▇▄▄▅█▅▅▆▅▅▆▅▆▆▄▆▅▅▄▄▆▅▅▄▄▅▄</td></tr><tr><td>Test/specificity</td><td>▂▃▆██▅▆▁▃▆▇▅▆▂▄▇▂█▅▅▁▄▆▇▆▆▅▆▆▆▄▆▆▆▆▅▅▆▆▆</td></tr><tr><td>Training/epoch</td><td>▁▁▁▁▁▂▂▂▂▂▂▂▃▃▃▃▃▃▃▃▄▄▄▄▄▅▅▅▆▆▆▆▆▇▇▇████</td></tr><tr><td>Training/icbhi_score</td><td>▁▁▄▄▄▅▆▆▆▆▇▇▇▇▇▇▇▇▇▇▇▇██████████████████</td></tr><tr><td>Training/test_loss</td><td>▁▁▂▃▂▄▅▄▅▅▅▅▆▇▆▅▇▇▆▇▆▆▇▆█▇▆▇▇█▇▇████████</td></tr><tr><td>Training/train_loss</td><td>█▆▆▆▅▄▃▄▂▃▂▂▂▂▂▂▂▁▁▂▁▁▁▁▁▁▁▁▁▁▁▁▁▁▁▁▁▁▁▁</td></tr><tr><td>Training/train_sens</td><td>▁▂▄▄▄▅▅▅▅▆▆▆▅▆▇▇▇▇▇▇▇▇██▇█▇█████████████</td></tr><tr><td>Training/train_spec</td><td>▁▂▂▂▃▄▄▆▆▆▅▆▆▆▆▇▇▇▇▇▇▇▇█▇█▇█████████▇███</td></tr></table><br/></div><div class=\"wandb-col\"><h3>Run summary:</h3><br/><table class=\"wandb\"><tr><td>Test/icbhi_score</td><td>0.53752</td></tr><tr><td>Test/loss</td><td>1.4992</td></tr><tr><td>Test/sensitivity</td><td>0.35939</td></tr><tr><td>Test/specificity</td><td>0.71564</td></tr><tr><td>Training/epoch</td><td>199</td></tr><tr><td>Training/icbhi_score</td><td>0.9861</td></tr><tr><td>Training/test_loss</td><td>1.4992</td></tr><tr><td>Training/train_loss</td><td>0.01835</td></tr><tr><td>Training/train_sens</td><td>0.97856</td></tr><tr><td>Training/train_spec</td><td>0.99364</td></tr></table><br/></div></div>"
            ],
            "text/plain": [
              "<IPython.core.display.HTML object>"
            ]
          },
          "metadata": {},
          "output_type": "display_data"
        },
        {
          "data": {
            "text/html": [
              " View run <strong style=\"color:#cdcd00\">Raw_MultilabelAtt_T_128bs_2507210335</strong> at: <a href='https://wandb.ai/boaz_woony-boaz/0721_SBW_ICBHI_MLATT_all/runs/ggyq5bkv' target=\"_blank\">https://wandb.ai/boaz_woony-boaz/0721_SBW_ICBHI_MLATT_all/runs/ggyq5bkv</a><br> View project at: <a href='https://wandb.ai/boaz_woony-boaz/0721_SBW_ICBHI_MLATT_all' target=\"_blank\">https://wandb.ai/boaz_woony-boaz/0721_SBW_ICBHI_MLATT_all</a><br>Synced 5 W&B file(s), 804 media file(s), 0 artifact file(s) and 0 other file(s)"
            ],
            "text/plain": [
              "<IPython.core.display.HTML object>"
            ]
          },
          "metadata": {},
          "output_type": "display_data"
        },
        {
          "data": {
            "text/html": [
              "Find logs at: <code>./wandb/run-20250720_183546-ggyq5bkv/logs</code>"
            ],
            "text/plain": [
              "<IPython.core.display.HTML object>"
            ]
          },
          "metadata": {},
          "output_type": "display_data"
        }
      ],
      "source": [
        "import os\n",
        "from torch.utils.data import DataLoader\n",
        "import torch.optim as optim\n",
        "from sklearn.metrics import precision_score, recall_score, f1_score\n",
        "\n",
        "train_losses = []\n",
        "test_losses = []\n",
        "train_icbhi_scores = []\n",
        "test_icbhi_scores = []\n",
        "test_labels_all = []\n",
        "test_preds_all = []\n",
        "epochs = []\n",
        "\n",
        "# 모델 지정하기 전 seed 고정 필요\n",
        "seed_everything(args.seed) # Seed 고정\n",
        "\n",
        "# for gam in [2.0,2.3,2.7,3.0]:\n",
        "\n",
        "pretrain_project_name = f'Raw_MultilabelAtt_T_{args.batch_size}bs_{get_timestamp()}'\n",
        "\n",
        "# -------------------------------------------wan\n",
        "# wandb 초기화 (프로젝트명, 실험 이름 등 설정)\n",
        "wandb.init(\n",
        "    project=\"SHS_ATT\", # 프로젝트 이름\n",
        "    name=f\"{pretrain_project_name}\",  # 실험 이름\n",
        "    config={\n",
        "        \"epochs\": args.epochs,\n",
        "        \"batch_size\": args.batch_size,\n",
        "        \"lr\": args.lr,\n",
        "        \"momentum\": args.momentum,\n",
        "        \"weight_decay\": args.weight_decay\n",
        "    }\n",
        ")\n",
        "# -------------------------------------------wan\n",
        "\n",
        "\n",
        "# 1. MoCo 모델 생성\n",
        "model = MultilabelAttention(\n",
        "    backbone=backbone_cnn6, \n",
        "    num_classes=2, lambda_attn=0.5, \n",
        "    attention_heads=[1, float('inf')]\n",
        ").cuda()\n",
        "\n",
        "# model = MultilabelMoCo(\n",
        "#     base_encoder = backbone_mlattention,\n",
        "#     dim_enc = 512, # CNN6의 출력 feature dim (default=2048)\n",
        "#     dim_prj = args.dim_prj,\n",
        "#     K = args.K,\n",
        "#     m = args.momentum,\n",
        "#     T = args.T,\n",
        "#     top_k = args.top_k,\n",
        "#     lambda_bce = args.lambda_bce\n",
        "# ).cuda()\n",
        "\n",
        "# 2. Optimizer\n",
        "# optimizer = torch.optim.AdamW(model.parameters(), args.lr, weight_decay=args.weight_decay)\n",
        "optimizer = torch.optim.Adam(model.parameters(), args.lr) # weight_decay=args.weight_decay\n",
        "\n",
        "# 3. Cosine Scheduler\n",
        "scheduler = CosineAnnealingLR(optimizer, T_max=args.epochs, eta_min=1e-6)\n",
        "\n",
        "# 4. Loss Function\n",
        "criterion = nn.BCEWithLogitsLoss()\n",
        "\n",
        "# 5. Train\n",
        "# Best loss 초기화\n",
        "best_loss = float('inf')\n",
        "best_epoch = -1\n",
        "\n",
        "def multilabel_to_multiclass(y):\n",
        "    # Crackle → 1, Wheeze → 2, Both → 3, None → 0\n",
        "    y = np.array(y)\n",
        "    return y[:, 0] + y[:, 1] * 2\n",
        "\n",
        "for epoch in range(args.epochs):\n",
        "    # ===============================\n",
        "    # Training\n",
        "    # ===============================\n",
        "    model.train()\n",
        "    total_train_loss = 0.0\n",
        "    total_predictions = 0.0\n",
        "    correct_predictions = 0.0\n",
        "\n",
        "    all_preds = []\n",
        "    all_labels = []\n",
        "    all_outputs = []\n",
        "\n",
        "    pbar = tqdm(pretrain_loader, desc='MLATT Trainig only')\n",
        "    for i, (repeat_mel, label, _) in enumerate(pbar): # label 여기선 사용 X\n",
        "        img_augonly, _, _ = aug(repeat_mel)\n",
        "        # 디버깅: 데이터 자체 확인\n",
        "        img_augonly = img_augonly.cuda(device=args.gpu, non_blocking=True)\n",
        "        label = label.cuda(args.gpu)\n",
        "\n",
        "        # backpropagation\n",
        "        optimizer.zero_grad()\n",
        "        _ , output, _ = model(img_augonly)\n",
        "        loss = criterion(output, label)\n",
        "        loss.backward()\n",
        "        optimizer.step()\n",
        "\n",
        "        total_train_loss += loss.item()\n",
        "\n",
        "        # 예측값과 실제값 저장 ( Ablation(4-1) threshold ?? )\n",
        "        predicted = (torch.sigmoid(output) > 0.5).float()\n",
        "        all_preds.append(predicted.detach().cpu())\n",
        "        all_labels.append(label.detach().cpu())\n",
        "        all_outputs.append(output.detach().cpu())\n",
        "\n",
        "    # train loss\n",
        "    train_loss = total_train_loss / len(pretrain_loader)\n",
        "\n",
        "    # Concatenate\n",
        "    all_preds = torch.cat(all_preds, dim=0).numpy()    # shape: [N, 2]\n",
        "    all_labels = torch.cat(all_labels, dim=0).numpy()  # shape: [N, 2]\n",
        "    all_output = torch.cat(all_outputs, dim=0).numpy()\n",
        "\n",
        "    print(f\"[Epoch {epoch} | Train Loss: {train_loss:.4f}, img_augonly: {img_augonly.shape}\")\n",
        "\n",
        "\n",
        "    # =====================================\n",
        "    # 2-Edited. Multi-class 민감도/특이도 계산\n",
        "    # =====================================\n",
        "    import numpy as np\n",
        "    import matplotlib.pyplot as plt\n",
        "    import seaborn as sns\n",
        "    import wandb\n",
        "    from sklearn.metrics import confusion_matrix\n",
        "\n",
        "    def multilabel_to_multiclass(y):\n",
        "        # Crackle → 1, Wheeze → 2, Both → 3, None → 0\n",
        "        y = np.array(y)\n",
        "        return y[:, 0] + y[:, 1]*2\n",
        "\n",
        "    def evaluate_multiclass_confusion(y_true, y_pred, class_names=[\"Normal\", \"Wheeze\", \"Crackle\", \"Both\"]):\n",
        "        y_true_cls = multilabel_to_multiclass(y_true)\n",
        "        y_pred_cls = multilabel_to_multiclass(y_pred)\n",
        "\n",
        "        cm = confusion_matrix(y_true_cls, y_pred_cls, labels=[0, 1, 2, 3])\n",
        "\n",
        "        # N_n: 정상 → 정상\n",
        "        N_n = cm[0, 0]\n",
        "        N_total = cm[0].sum()\n",
        "\n",
        "        # 이상 클래스 정답 수: W, C, B\n",
        "        W_total = cm[1].sum()\n",
        "        C_total = cm[2].sum()\n",
        "        B_total = cm[3].sum()\n",
        "\n",
        "        # 각각의 정답 → 정확한 예측만 고려\n",
        "        W_w = cm[1, 1]\n",
        "        C_c = cm[2, 2]\n",
        "        B_b = cm[3, 3]\n",
        "\n",
        "        SP = N_n / (N_total + 1e-6) #spec\n",
        "        SE = (W_w + C_c + B_b) / (W_total + C_total + B_total + 1e-6) #sense\n",
        "\n",
        "        AS = (SP + SE) / 2\n",
        "        HS = 2 * SP * SE / (SP + SE + 1e-6)\n",
        "\n",
        "        return cm, SE, SP, y_true_cls, y_pred_cls\n",
        "\n",
        "    def log_multiclass_conf_matrix_wandb(cm, class_names, sens, spec, normalize, tag):\n",
        "        # Normalize (비율) 옵션\n",
        "        if normalize:\n",
        "            cm = cm.astype('float') / cm.sum(axis=1, keepdims=True)\n",
        "            fmt = '.2f'\n",
        "            title = \"Confusion Matrix (Normalized %)\"\n",
        "        else:\n",
        "            fmt = 'd'\n",
        "            title = \"Confusion Matrix (Raw Count)\"\n",
        "\n",
        "        fig, ax = plt.subplots(figsize=(7, 6))\n",
        "        sns.heatmap(cm, annot=True, fmt=fmt, cmap='Blues',\n",
        "                    xticklabels=class_names, yticklabels=class_names, ax=ax)\n",
        "\n",
        "        ax.set_xlabel('Predicted')\n",
        "        ax.set_ylabel('True')\n",
        "        ax.set_title(title)\n",
        "\n",
        "        icbhi_score = (sens + spec) / 2\n",
        "        # 우하단에 성능 출력\n",
        "        ax.text(\n",
        "            0.99, 0.15,\n",
        "            f\"Sensitivity: {sens*100:.2f}%\\nSpecificity: {spec*100:.2f}%\\nICBHI Score: {icbhi_score*100:.2f}%\",\n",
        "            ha='right', va='bottom',\n",
        "            transform=plt.gca().transAxes,\n",
        "            fontsize=10, bbox=dict(boxstyle=\"round,pad=0.3\", facecolor=\"white\", alpha=0.8)\n",
        "        )\n",
        "\n",
        "        plt.tight_layout()\n",
        "        # wandb.log({tag: wandb.Image(fig)})\n",
        "        # plt.close(fig)\n",
        "        return fig\n",
        "\n",
        "    # 1. 4-class Confusion Matrix 평가\n",
        "    class_names = [\"Normal\", \"Crackle\", \"Wheeze\", \"Both\"]\n",
        "    cm_4x4, train_sens, train_spec, y_true_cls, y_pred_cls = evaluate_multiclass_confusion(all_labels, all_preds, class_names)\n",
        "    icbhi_score = (train_sens + train_spec)/2\n",
        "\n",
        "    print(\"4-Class Confusion Matrix:\\n\", cm_4x4)\n",
        "    print(f\"Sensitivity: {train_sens:.4f}, Specificity: {train_spec:.4f}, ICBHI Score: {icbhi_score:.4f}\")\n",
        "\n",
        "\n",
        "    # ===============================\n",
        "    # 3. Validation\n",
        "    # ===============================\n",
        "    test_loss, test_labels, test_preds = validate(\n",
        "        model, test_loader, criterion, device\n",
        "    )\n",
        "\n",
        "    precision = precision_score(test_labels, test_preds, average='macro')\n",
        "    recall = recall_score(test_labels, test_preds, average='macro')\n",
        "    f1 = f1_score(test_labels, test_preds, average='macro')\n",
        "\n",
        "    test_cm_4x4, test_sens, test_spec, test_y_true_cls, test_y_pred_cls = evaluate_multiclass_confusion(test_labels, test_preds)\n",
        "    test_icbhi_score = (test_sens+test_spec)/2\n",
        "\n",
        "    print(\"[Validation] Confusion Matrix:\\n\", test_cm_4x4)\n",
        "    print(f\"Test Loss: {test_loss:.4f}\")\n",
        "    print(f\"[VALIDATION] Sensitivity: {test_sens:.4f}, Specificity: {test_spec:.4f}, Avg ICBHI Score: {(test_sens+test_spec)/2:.4f}\")\n",
        "    print(\"##################################################\")\n",
        "\n",
        "\n",
        "    # ===============================\n",
        "    # 4. Confusion Matrix\n",
        "    # ===============================\n",
        "\n",
        "    # 2. Finetune Count Confusion Matrix 시각화\n",
        "    fig_finetune_raw = log_multiclass_conf_matrix_wandb(cm_4x4, class_names, train_sens, train_spec, normalize=False, tag=\"Training_conf_matrix_raw\")\n",
        "    fig_finetune_norm = log_multiclass_conf_matrix_wandb(cm_4x4, class_names, train_sens, train_spec, normalize=True, tag=\"Training_conf_matrix_norm\")\n",
        "\n",
        "    # 3. Test Confusion Matrix 시각화\n",
        "    fig_test_raw = log_multiclass_conf_matrix_wandb(test_cm_4x4, class_names, test_sens, test_spec, normalize=False, tag=\"test_conf_matrix_raw\")\n",
        "    fig_test_norm = log_multiclass_conf_matrix_wandb(test_cm_4x4, class_names, test_sens, test_spec, normalize=True, tag=\"test_conf_matrix_norm\")\n",
        "\n",
        "    # 4. log dictionary 생성 -------------------------------------------wan\n",
        "    wandb_log_dict = {\n",
        "        \"finetune_conf_matrix_raw\": wandb.Image(fig_finetune_raw),\n",
        "        \"finetune_conf_matrix_norm\": wandb.Image(fig_finetune_norm),\n",
        "        \"test_conf_matrix_raw\": wandb.Image(fig_test_raw),\n",
        "        \"test_conf_matrix_norm\": wandb.Image(fig_test_norm)\n",
        "    }\n",
        "    # -------------------------------------------wan\n",
        "\n",
        "    # =====================================\n",
        "    # 5. Checkpoint (Every 100 epochs)\n",
        "    # =====================================\n",
        "    if (epoch + 1) % 100 == 0:\n",
        "        ckpt_path = CHECKPOINT_PATH + f\"{pretrain_project_name}_{epoch:03d}.pth.tar\"\n",
        "        torch.save({\n",
        "            'epoch': epoch + 1,\n",
        "            'state_dict': model.state_dict(),\n",
        "            'optimizer': optimizer.state_dict()\n",
        "        }, ckpt_path)\n",
        "        print(f\"💾 Saved checkpoint to {ckpt_path}\")\n",
        "\n",
        "    # ===============================\n",
        "    # 6. Save Best Checkpoint\n",
        "    # ===============================\n",
        "    if test_loss < best_loss:\n",
        "        best_loss = test_loss\n",
        "        best_epoch = epoch\n",
        "        best_ckpt_path = CHECKPOINT_PATH + f\"{pretrain_project_name}_best.pth.tar\"\n",
        "        torch.save({\n",
        "            'epoch': epoch + 1,\n",
        "            'state_dict': model.state_dict(),\n",
        "            'optimizer': optimizer.state_dict(),\n",
        "            'loss': best_loss\n",
        "        }, best_ckpt_path)\n",
        "        print(f\"=> Saved best checkpoint (epoch: {epoch}, loss: {best_loss:.4f})\")\n",
        "\n",
        "\n",
        "        # 🔹 Confusion Matrix Logging for Best\n",
        "        cm_best, sens_best, spec_best,_, _ = evaluate_multiclass_confusion(test_labels, test_preds, class_names)\n",
        "        fig_best_raw = log_multiclass_conf_matrix_wandb(cm_best, class_names, sens_best, spec_best, normalize=False, tag=\"best_test_conf_matrix_raw\")\n",
        "\n",
        "        fig_best_norm = log_multiclass_conf_matrix_wandb(cm_best, class_names, sens_best, spec_best, normalize=True, tag=\"best_test_conf_matrix_norm\")\n",
        "\n",
        "        # -------------------------------------------wan\n",
        "        wandb_log_dict.update({\n",
        "            \"best_test_conf_matrix_raw\": wandb.Image(fig_best_raw),\n",
        "            \"best_test_conf_matrix_norm\": wandb.Image(fig_best_norm)\n",
        "        })\n",
        "        # -------------------------------------------wan\n",
        "\n",
        "\n",
        "    if epoch == args.ft_epochs - 1:\n",
        "        # 🔸 Confusion Matrix Logging for Last Epoch\n",
        "        cm_last, sens_last, spec_last, _, _  = evaluate_multiclass_confusion(test_labels, test_preds, class_names)\n",
        "        fig_last_raw = log_multiclass_conf_matrix_wandb(cm_last, class_names, sens_last, spec_last, normalize=False, tag=\"last_test_conf_matrix_raw\")\n",
        "\n",
        "        fig_last_norm = log_multiclass_conf_matrix_wandb(cm_last, class_names, sens_last, spec_last, normalize=True, tag=\"last_test_conf_matrix_norm\")\n",
        "\n",
        "        # -------------------------------------------wan\n",
        "        wandb_log_dict.update({\n",
        "            \"last_test_conf_matrix_raw\": wandb.Image(fig_last_raw),\n",
        "            \"last_test_conf_matrix_norm\": wandb.Image(fig_last_norm)\n",
        "        })\n",
        "        # -------------------------------------------wan\n",
        "\n",
        "    # =====================================\n",
        "    # 7. Logging with wandb confusion matrix\n",
        "    # =====================================\n",
        "\n",
        "    # -------------------------------------------wan\n",
        "    # step 1. metrics\n",
        "    wandb.log({\n",
        "        # Train metrics\n",
        "        \"Training/epoch\": epoch,\n",
        "        \"Training/train_loss\": train_loss,\n",
        "        \"Training/test_loss\": test_loss,\n",
        "        \"Training/train_sens\": train_sens,\n",
        "        \"Training/train_spec\": train_spec,\n",
        "        \"Training/icbhi_score\": icbhi_score,\n",
        "\n",
        "        # Test metrics\n",
        "        \"Test/loss\": test_loss,\n",
        "        \"Test/sensitivity\": test_sens,\n",
        "        \"Test/specificity\": test_spec,\n",
        "        \"Test/icbhi_score\": test_icbhi_score\n",
        "    })\n",
        "\n",
        "    # step 2. Confusion matrix\n",
        "    wandb.log(wandb_log_dict)\n",
        "\n",
        "    # -------------------------------------------wan\n",
        "\n",
        "\n",
        "    plt.close(fig_finetune_raw)\n",
        "    plt.close(fig_finetune_norm)\n",
        "    plt.close(fig_test_raw)\n",
        "    plt.close(fig_test_norm)\n",
        "    if 'fig_best_raw' in locals(): plt.close(fig_best_raw)\n",
        "    if 'fig_best_norm' in locals(): plt.close(fig_best_norm)\n",
        "    if 'fig_last_raw' in locals(): plt.close(fig_last_raw)\n",
        "    if 'fig_last_norm' in locals(): plt.close(fig_last_norm)\n",
        "\n",
        "    # ===============================\n",
        "    # 8. Scheduler Step\n",
        "    # ===============================\n",
        "    scheduler.step()\n",
        "\n",
        "    # ===============================\n",
        "    # 9. Save Metrics\n",
        "    # ===============================\n",
        "    train_losses.append(train_loss)\n",
        "    test_losses.append(test_loss)\n",
        "    train_icbhi_scores.append(icbhi_score)\n",
        "    test_icbhi_scores.append(test_icbhi_score)\n",
        "    epochs.append(epoch)\n",
        "    # ================================\n",
        "\n",
        "    # ================================\n",
        "    # test_labels_all, test_preds_all에 저장\n",
        "    # ================================\n",
        "    test_labels_all.append(test_labels)\n",
        "    test_preds_all.append(test_preds)\n",
        "    # ================================\n",
        "\n",
        "\n",
        "# -------------------------------------------wan\n",
        "wandb.finish()\n",
        "# -------------------------------------------wan"
      ]
    },
    {
      "cell_type": "code",
      "execution_count": 36,
      "id": "478fbdfe",
      "metadata": {},
      "outputs": [
        {
          "data": {
            "image/png": "[encoded data removed]",
            "text/plain": [
              "<Figure size 1000x600 with 1 Axes>"
            ]
          },
          "metadata": {},
          "output_type": "display_data"
        },
        {
          "data": {
            "image/png": "[encoded data removed]",
            "text/plain": [
              "<Figure size 1000x600 with 1 Axes>"
            ]
          },
          "metadata": {},
          "output_type": "display_data"
        },
        {
          "name": "stdout",
          "output_type": "stream",
          "text": [
            "\n",
            "=== [최고 Test ICBHI Score 시점 정보] ===\n",
            "Best Test ICBHI Score: 0.5829 (Epoch 42)\n",
            "Test Loss at Best: 1.0154\n",
            "Confusion Matrix at Best ICBHI Score:\n",
            "[[1197  206  158   18]\n",
            " [ 296  322   16   15]\n",
            " [ 181   48  130   26]\n",
            " [  53   17   45   28]]\n",
            "Sensitivity: 0.4078, Specificity: 0.7581, ICBHI Score: 0.5829\n",
            "Best Epoch: 42\n"
          ]
        }
      ],
      "source": [
        "# --- 훈련 종료 후 그래프 ---\n",
        "import matplotlib.pyplot as plt\n",
        "\n",
        "plt.figure(figsize=(10,6))\n",
        "plt.plot(epochs, train_losses, label='Train Loss')\n",
        "plt.plot(epochs, test_losses, label='Test Loss')\n",
        "plt.xlabel('Epoch')\n",
        "plt.ylabel('Loss')\n",
        "plt.title('Train/Test Loss per Epoch')\n",
        "plt.legend()\n",
        "plt.grid(True)\n",
        "plt.show()\n",
        "\n",
        "plt.figure(figsize=(10,6))\n",
        "plt.plot(epochs, train_icbhi_scores, label='Train ICBHI Score')\n",
        "plt.plot(epochs, test_icbhi_scores, label='Test ICBHI Score')\n",
        "plt.xlabel('Epoch')\n",
        "plt.ylabel('ICBHI Score')\n",
        "plt.title('Train/Test ICBHI Score per Epoch')\n",
        "plt.legend()\n",
        "plt.grid(True)\n",
        "plt.show()\n",
        "\n",
        "best_epoch_idx = np.argmax(test_icbhi_scores)\n",
        "best_epoch = epochs[best_epoch_idx]\n",
        "best_icbhi_score = test_icbhi_scores[best_epoch_idx]\n",
        "best_test_loss = test_losses[best_epoch_idx]\n",
        "\n",
        "# 최고점 epoch에서의 labels, preds\n",
        "best_test_labels = test_labels_all[best_epoch_idx]\n",
        "best_test_preds = test_preds_all[best_epoch_idx]\n",
        "\n",
        "best_cm, best_sens, best_spec, best_y_true_cls, best_y_pred_cls = evaluate_multiclass_confusion(\n",
        "    best_test_labels, best_test_preds)\n",
        "\n",
        "print(\"\\n=== [최고 Test ICBHI Score 시점 정보] ===\")\n",
        "print(f\"Best Test ICBHI Score: {best_icbhi_score:.4f} (Epoch {best_epoch})\")\n",
        "print(f\"Test Loss at Best: {best_test_loss:.4f}\")\n",
        "print(\"Confusion Matrix at Best ICBHI Score:\")\n",
        "print(best_cm)\n",
        "print(f\"Sensitivity: {best_sens:.4f}, Specificity: {best_spec:.4f}, ICBHI Score: {(best_sens+best_spec)/2:.4f}\")\n",
        "print(f\"Best Epoch: {best_epoch}\")\n"
      ]
    }
  ],
  "metadata": {
    "accelerator": "GPU",
    "colab": {
      "gpuType": "T4",
      "provenance": []
    },
    "kernelspec": {
      "display_name": "boaz",
      "language": "python",
      "name": "python3"
    },
    "language_info": {
      "codemirror_mode": {
        "name": "ipython",
        "version": 3
      },
      "file_extension": ".py",
      "mimetype": "text/x-python",
      "name": "python",
      "nbconvert_exporter": "python",
      "pygments_lexer": "ipython3",
      "version": "3.10.0"
    }
  },
  "nbformat": 4,
  "nbformat_minor": 5
}
